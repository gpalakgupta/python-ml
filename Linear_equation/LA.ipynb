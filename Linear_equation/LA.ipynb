{
 "cells": [
  {
   "cell_type": "code",
   "execution_count": 1,
   "id": "7c7e5b03-a147-43f8-bf45-3c4a2a4c3fc5",
   "metadata": {},
   "outputs": [],
   "source": [
    "import numpy as np"
   ]
  },
  {
   "cell_type": "code",
   "execution_count": 27,
   "id": "5ad7790c-5d90-4426-944d-31585af636ac",
   "metadata": {},
   "outputs": [],
   "source": [
    "m1 = np.array([[1,2,3],[7,2,6],[1,2,2]])\n",
    "m2 = np.array([[1,2,1],[4,7,2],[7,3,4]])"
   ]
  },
  {
   "cell_type": "code",
   "execution_count": 28,
   "id": "fdf86e44-c035-4df2-884a-4aca28f99a17",
   "metadata": {},
   "outputs": [
    {
     "data": {
      "text/plain": [
       "array([[1, 2, 3],\n",
       "       [7, 2, 6],\n",
       "       [1, 2, 2]])"
      ]
     },
     "execution_count": 28,
     "metadata": {},
     "output_type": "execute_result"
    }
   ],
   "source": [
    "m1"
   ]
  },
  {
   "cell_type": "code",
   "execution_count": 29,
   "id": "b9b68364-503f-4023-bd4e-110bd3253a2c",
   "metadata": {},
   "outputs": [
    {
     "data": {
      "text/plain": [
       "array([[1, 2, 1],\n",
       "       [4, 7, 2],\n",
       "       [7, 3, 4]])"
      ]
     },
     "execution_count": 29,
     "metadata": {},
     "output_type": "execute_result"
    }
   ],
   "source": [
    "m2"
   ]
  },
  {
   "cell_type": "code",
   "execution_count": 30,
   "id": "b2dd282d-9e72-4608-b769-1111e6e5eb1f",
   "metadata": {},
   "outputs": [
    {
     "data": {
      "text/plain": [
       "array([[1, 7, 1],\n",
       "       [2, 2, 2],\n",
       "       [3, 6, 2]])"
      ]
     },
     "execution_count": 30,
     "metadata": {},
     "output_type": "execute_result"
    }
   ],
   "source": [
    "m1.T"
   ]
  },
  {
   "cell_type": "code",
   "execution_count": 31,
   "id": "80081eff-ec42-4c67-bd98-492a6b1074d9",
   "metadata": {},
   "outputs": [
    {
     "data": {
      "text/plain": [
       "array([[1, 7, 1],\n",
       "       [2, 2, 2],\n",
       "       [3, 6, 2]])"
      ]
     },
     "execution_count": 31,
     "metadata": {},
     "output_type": "execute_result"
    }
   ],
   "source": [
    "np.transpose(m1)"
   ]
  },
  {
   "cell_type": "code",
   "execution_count": 32,
   "id": "040065a1-72da-49a2-b39a-1519597ddeb2",
   "metadata": {},
   "outputs": [],
   "source": [
    "m3 = np.array([[[1,2],[3,4]],[[10,20],[30,40]]])"
   ]
  },
  {
   "cell_type": "code",
   "execution_count": 33,
   "id": "ef615951-0911-4227-8e48-c29c4c929cf6",
   "metadata": {},
   "outputs": [
    {
     "data": {
      "text/plain": [
       "array([[[ 1,  2],\n",
       "        [ 3,  4]],\n",
       "\n",
       "       [[10, 20],\n",
       "        [30, 40]]])"
      ]
     },
     "execution_count": 33,
     "metadata": {},
     "output_type": "execute_result"
    }
   ],
   "source": [
    "m3"
   ]
  },
  {
   "cell_type": "code",
   "execution_count": 34,
   "id": "93224557-85d4-47d3-b522-3b45c3128d56",
   "metadata": {},
   "outputs": [
    {
     "data": {
      "text/plain": [
       "(2, 2, 2)"
      ]
     },
     "execution_count": 34,
     "metadata": {},
     "output_type": "execute_result"
    }
   ],
   "source": [
    "m3.shape"
   ]
  },
  {
   "cell_type": "code",
   "execution_count": 35,
   "id": "15e46660-9fec-4450-b4ad-63c53095bd52",
   "metadata": {},
   "outputs": [
    {
     "data": {
      "text/plain": [
       "array([[[ 1, 10],\n",
       "        [ 3, 30]],\n",
       "\n",
       "       [[ 2, 20],\n",
       "        [ 4, 40]]])"
      ]
     },
     "execution_count": 35,
     "metadata": {},
     "output_type": "execute_result"
    }
   ],
   "source": [
    "m3.T"
   ]
  },
  {
   "cell_type": "code",
   "execution_count": 36,
   "id": "1b4d7585-9208-4da3-8496-85a614b5de75",
   "metadata": {},
   "outputs": [
    {
     "data": {
      "text/plain": [
       "array([[[ 1,  3],\n",
       "        [ 2,  4]],\n",
       "\n",
       "       [[10, 30],\n",
       "        [20, 40]]])"
      ]
     },
     "execution_count": 36,
     "metadata": {},
     "output_type": "execute_result"
    }
   ],
   "source": [
    "m3.transpose(0,2,1)"
   ]
  },
  {
   "cell_type": "code",
   "execution_count": 37,
   "id": "d43b5907-a89c-44bb-98d0-6d01a15b9737",
   "metadata": {},
   "outputs": [
    {
     "data": {
      "text/plain": [
       "array([[16,  8, 17],\n",
       "       [55, 26, 58],\n",
       "       [32, 28, 47]])"
      ]
     },
     "execution_count": 37,
     "metadata": {},
     "output_type": "execute_result"
    }
   ],
   "source": [
    "m2.dot(m1)"
   ]
  },
  {
   "cell_type": "code",
   "execution_count": 38,
   "id": "a87c2524-72a7-4bb2-b80f-9b71e1e1efed",
   "metadata": {},
   "outputs": [
    {
     "data": {
      "text/plain": [
       "array([[16,  8, 17],\n",
       "       [55, 26, 58],\n",
       "       [32, 28, 47]])"
      ]
     },
     "execution_count": 38,
     "metadata": {},
     "output_type": "execute_result"
    }
   ],
   "source": [
    "m2@m1"
   ]
  },
  {
   "cell_type": "code",
   "execution_count": 45,
   "id": "395ca5c8-a2aa-4ba4-afc1-ca4726fe83e5",
   "metadata": {},
   "outputs": [
    {
     "data": {
      "text/plain": [
       "np.float64(12.0)"
      ]
     },
     "execution_count": 45,
     "metadata": {},
     "output_type": "execute_result"
    }
   ],
   "source": [
    "np.linalg.det(m1)\n",
    "# determinent"
   ]
  },
  {
   "cell_type": "code",
   "execution_count": 46,
   "id": "94a90ade-a0e8-47c3-b966-bf88bcdb3a99",
   "metadata": {},
   "outputs": [
    {
     "data": {
      "text/plain": [
       "array([[ 2,  4,  4],\n",
       "       [11,  9,  8],\n",
       "       [ 8,  5,  6]])"
      ]
     },
     "execution_count": 46,
     "metadata": {},
     "output_type": "execute_result"
    }
   ],
   "source": [
    "m1+m2"
   ]
  },
  {
   "cell_type": "code",
   "execution_count": 47,
   "id": "cacad75b-312b-4bdb-980c-e8aaa31abd03",
   "metadata": {},
   "outputs": [
    {
     "data": {
      "text/plain": [
       "array([[ 0,  0,  2],\n",
       "       [ 3, -5,  4],\n",
       "       [-6, -1, -2]])"
      ]
     },
     "execution_count": 47,
     "metadata": {},
     "output_type": "execute_result"
    }
   ],
   "source": [
    "m1-m2"
   ]
  },
  {
   "cell_type": "code",
   "execution_count": 49,
   "id": "a069133a-e505-48f0-ad0d-0a5a8b5487d4",
   "metadata": {},
   "outputs": [
    {
     "data": {
      "text/plain": [
       "EigResult(eigenvalues=array([ 7.86431541, -0.7074537 , -2.15686171]), eigenvectors=array([[-0.40151636, -0.26224039,  0.2057726 ],\n",
       "       [-0.84373665, -0.72736743, -0.90026381],\n",
       "       [-0.35622055,  0.63416606,  0.38364399]]))"
      ]
     },
     "execution_count": 49,
     "metadata": {},
     "output_type": "execute_result"
    }
   ],
   "source": [
    "np.linalg.eig(m1)\n",
    "# yeh eigen value aur eigen vector dono de deta hai"
   ]
  },
  {
   "cell_type": "code",
   "execution_count": 52,
   "id": "e94efaec-3526-49a8-8d5c-74c775aec3b0",
   "metadata": {},
   "outputs": [],
   "source": [
    "eigv , eigvec = np.linalg.eig(m1)"
   ]
  },
  {
   "cell_type": "code",
   "execution_count": 53,
   "id": "131ecdb3-50ed-44fe-ba4d-af5230d62aa9",
   "metadata": {},
   "outputs": [
    {
     "data": {
      "text/plain": [
       "array([ 7.86431541, -0.7074537 , -2.15686171])"
      ]
     },
     "execution_count": 53,
     "metadata": {},
     "output_type": "execute_result"
    }
   ],
   "source": [
    "eigv"
   ]
  },
  {
   "cell_type": "code",
   "execution_count": 54,
   "id": "cbc54bfc-05cf-4d75-a82a-b4bdadf698be",
   "metadata": {},
   "outputs": [
    {
     "data": {
      "text/plain": [
       "array([[-0.40151636, -0.26224039,  0.2057726 ],\n",
       "       [-0.84373665, -0.72736743, -0.90026381],\n",
       "       [-0.35622055,  0.63416606,  0.38364399]])"
      ]
     },
     "execution_count": 54,
     "metadata": {},
     "output_type": "execute_result"
    }
   ],
   "source": [
    "eigvec"
   ]
  },
  {
   "cell_type": "code",
   "execution_count": 56,
   "id": "730d6ee8-4944-47a3-a00f-2f6d785c7164",
   "metadata": {},
   "outputs": [],
   "source": [
    "# inverse"
   ]
  },
  {
   "cell_type": "code",
   "execution_count": 57,
   "id": "5df2957e-6808-45d4-a3b0-d53dc9eccb5c",
   "metadata": {},
   "outputs": [
    {
     "data": {
      "text/plain": [
       "array([[-0.66666667,  0.16666667,  0.5       ],\n",
       "       [-0.66666667, -0.08333333,  1.25      ],\n",
       "       [ 1.        , -0.        , -1.        ]])"
      ]
     },
     "execution_count": 57,
     "metadata": {},
     "output_type": "execute_result"
    }
   ],
   "source": [
    "np.linalg.inv(m1)"
   ]
  },
  {
   "cell_type": "code",
   "execution_count": 58,
   "id": "1f190da9-3ef0-4e55-9ced-03a5868b4e98",
   "metadata": {},
   "outputs": [
    {
     "data": {
      "text/plain": [
       "np.float64(4.626065009182741)"
      ]
     },
     "execution_count": 58,
     "metadata": {},
     "output_type": "execute_result"
    }
   ],
   "source": [
    "np.linalg.norm(np.array([4,-2,3]),ord = 3)"
   ]
  },
  {
   "cell_type": "code",
   "execution_count": 59,
   "id": "fff3e4b5-101c-4baa-8398-62c744acc56b",
   "metadata": {},
   "outputs": [
    {
     "data": {
      "text/plain": [
       "np.float64(9.0)"
      ]
     },
     "execution_count": 59,
     "metadata": {},
     "output_type": "execute_result"
    }
   ],
   "source": [
    "np.linalg.norm(np.array([4,-2,3]),ord = 1)"
   ]
  },
  {
   "cell_type": "code",
   "execution_count": 60,
   "id": "2c387d9e-6bb6-4684-a256-084f12c43173",
   "metadata": {},
   "outputs": [
    {
     "data": {
      "text/plain": [
       "np.float64(5.385164807134504)"
      ]
     },
     "execution_count": 60,
     "metadata": {},
     "output_type": "execute_result"
    }
   ],
   "source": [
    "np.linalg.norm(np.array([4,-2,3]),ord = 2)"
   ]
  },
  {
   "cell_type": "code",
   "execution_count": null,
   "id": "d641e295-6d68-4499-ad37-10e0e0a894cb",
   "metadata": {},
   "outputs": [],
   "source": []
  },
  {
   "cell_type": "code",
   "execution_count": null,
   "id": "41e79324-0100-4169-91db-7713636e470b",
   "metadata": {},
   "outputs": [],
   "source": []
  },
  {
   "cell_type": "code",
   "execution_count": 67,
   "id": "d3a71df3-648f-4741-b5c4-17261c3cc103",
   "metadata": {},
   "outputs": [
    {
     "data": {
      "image/png": "[encoded data removed]",
      "text/plain": [
       "<Figure size 200x200 with 1 Axes>"
      ]
     },
     "metadata": {},
     "output_type": "display_data"
    }
   ],
   "source": [
    "import numpy as np\n",
    "import matplotlib.pyplot as plt\n",
    "\n",
    "plt.figure(figsize=(2,2))\n",
    "img = np.zeros((10,10,3),dtype = 'i2')\n",
    "img[:,:,:] = [255,0,0]\n",
    "\n",
    "plt.imshow(img)\n",
    "# /image ko plot krne ke liye imshow use krte hai\n",
    "plt.show()"
   ]
  },
  {
   "cell_type": "code",
   "execution_count": 68,
   "id": "d2fdfb61-9ba1-4fd3-869b-1a07762371bc",
   "metadata": {},
   "outputs": [
    {
     "data": {
      "image/png": "[encoded data removed]",
      "text/plain": [
       "<Figure size 200x200 with 1 Axes>"
      ]
     },
     "metadata": {},
     "output_type": "display_data"
    }
   ],
   "source": [
    "import numpy as np\n",
    "import matplotlib.pyplot as plt\n",
    "\n",
    "plt.figure(figsize=(2,2))\n",
    "img = np.zeros((10,10,3),dtype = 'i2')\n",
    "img[:,:,:] = [255,0,0]\n",
    "\n",
    "plt.imshow(img)\n",
    "# /image ko plot krne ke liye imshow use krte hai\n",
    "plt.axis('off')\n",
    "plt.show()"
   ]
  },
  {
   "cell_type": "code",
   "execution_count": null,
   "id": "0a7e0537-b16d-4be4-9c28-257d0df05fb0",
   "metadata": {},
   "outputs": [],
   "source": []
  },
  {
   "cell_type": "code",
   "execution_count": null,
   "id": "b2cabe4e-eb3a-484a-9e6b-f435946a01a4",
   "metadata": {},
   "outputs": [],
   "source": []
  },
  {
   "cell_type": "code",
   "execution_count": null,
   "id": "586a9111-de3f-4b37-b060-320353a7d706",
   "metadata": {},
   "outputs": [],
   "source": []
  }
 ],
 "metadata": {
  "kernelspec": {
   "display_name": "Python 3 (ipykernel)",
   "language": "python",
   "name": "python3"
  },
  "language_info": {
   "codemirror_mode": {
    "name": "ipython",
    "version": 3
   },
   "file_extension": ".py",
   "mimetype": "text/x-python",
   "name": "python",
   "nbconvert_exporter": "python",
   "pygments_lexer": "ipython3",
   "version": "3.13.4"
  }
 },
 "nbformat": 4,
 "nbformat_minor": 5
}
