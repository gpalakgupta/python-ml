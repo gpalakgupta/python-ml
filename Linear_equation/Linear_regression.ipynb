{
 "cells": [
  {
   "cell_type": "code",
   "execution_count": 50,
   "id": "1949b953-c123-46c5-ba6f-95ce49832e65",
   "metadata": {},
   "outputs": [],
   "source": [
    "import numpy as np\n",
    "import pandas as pd\n",
    "import matplotlib.pyplot as plt"
   ]
  },
  {
   "cell_type": "code",
   "execution_count": 51,
   "id": "8e208561-b025-43dc-aae2-2a72f39d46ea",
   "metadata": {},
   "outputs": [
    {
     "name": "stdout",
     "output_type": "stream",
     "text": [
      "(3750, 1) (3750,)\n"
     ]
    }
   ],
   "source": [
    "X = pd.read_csv('./Training Data/Linear_X_Train.csv').values\n",
    "Y = pd.read_csv('./Training Data/Linear_Y_Train.csv').values.reshape(-1)\n",
    "print(X.shape,Y.shape)\n"
   ]
  },
  {
   "cell_type": "code",
   "execution_count": 52,
   "id": "7bf9e858-f3a3-4a67-a28f-51954c170e1d",
   "metadata": {},
   "outputs": [
    {
     "data": {
      "image/png": "[encoded data removed]",
      "text/plain": [
       "<Figure size 640x480 with 1 Axes>"
      ]
     },
     "metadata": {},
     "output_type": "display_data"
    }
   ],
   "source": [
    "plt.scatter(X,Y)\n",
    "plt.show()"
   ]
  },
  {
   "cell_type": "code",
   "execution_count": 53,
   "id": "69f09cf5-ec47-4646-bd0a-850e91834dfe",
   "metadata": {},
   "outputs": [],
   "source": [
    "def hypothesis(x,w,w0):\n",
    "    ypred = []\n",
    "    for r  in range(x.shape[0]):\n",
    "        yp = w0\n",
    "        for f in range(x.shape[1]):\n",
    "            yp += w[f]*x[r,f]\n",
    "        ypred.append(yp)\n",
    "    return ypred"
   ]
  },
  {
   "cell_type": "code",
   "execution_count": 54,
   "id": "83d6a931-aedd-42c2-851d-36ab308d747a",
   "metadata": {},
   "outputs": [
    {
     "data": {
      "text/plain": [
       "[np.int64(4), np.int64(7), np.int64(10), np.int64(13)]"
      ]
     },
     "execution_count": 54,
     "metadata": {},
     "output_type": "execute_result"
    }
   ],
   "source": [
    "hypothesis(np.array([[1,2],[2,3],[3,4],[4,5]]),[2,1],0)"
   ]
  },
  {
   "cell_type": "code",
   "execution_count": 55,
   "id": "a33b6a52-cf07-44cc-95a0-a475e35f625c",
   "metadata": {},
   "outputs": [],
   "source": [
    "def hypothesis(x,w,w0):\n",
    "    ypred = []\n",
    "    for r  in range(x.shape[0]):\n",
    "        yp = w0+np.sum(w*x[r])\n",
    "        # for f in range(x.shape[1]):\n",
    "        #     yp += w[f]*x[r,f]\n",
    "        ypred.append(yp)\n",
    "    return ypred"
   ]
  },
  {
   "cell_type": "code",
   "execution_count": 56,
   "id": "4190ea0c-7f2a-4ffc-a6f2-9da7235ee42e",
   "metadata": {},
   "outputs": [
    {
     "data": {
      "text/plain": [
       "[np.int64(4), np.int64(7), np.int64(10), np.int64(13)]"
      ]
     },
     "execution_count": 56,
     "metadata": {},
     "output_type": "execute_result"
    }
   ],
   "source": [
    "hypothesis(np.array([[1,2],[2,3],[3,4],[4,5]]),[2,1],0)"
   ]
  },
  {
   "cell_type": "code",
   "execution_count": 57,
   "id": "d8cff509-26b2-4692-9f2a-d9b79218e429",
   "metadata": {},
   "outputs": [],
   "source": [
    "def hypothesis(x,w,w0):\n",
    "    # ypred = []\n",
    "    # for r  in range(x.shape[0]):\n",
    "    #     yp = w0+np.sum(w*x[r])\n",
    "        # for f in range(x.shape[1]):\n",
    "        #     yp += w[f]*x[r,f]\n",
    "        # ypred.append(yp)\n",
    "    # ypred = (np.sum(x*w,axis=1))+w0\n",
    "    # return ypred\n",
    "    return x@w+w0"
   ]
  },
  {
   "cell_type": "code",
   "execution_count": 58,
   "id": "d3336d17-9bee-4962-bb85-79e515c82040",
   "metadata": {},
   "outputs": [
    {
     "data": {
      "text/plain": [
       "array([ 4,  7, 10, 13])"
      ]
     },
     "execution_count": 58,
     "metadata": {},
     "output_type": "execute_result"
    }
   ],
   "source": [
    "hypothesis(np.array([[1,2],[2,3],[3,4],[4,5]]),[2,1],0)"
   ]
  },
  {
   "cell_type": "code",
   "execution_count": 59,
   "id": "4c9bdcbc-4144-4da3-aaf4-40abec5906be",
   "metadata": {},
   "outputs": [],
   "source": [
    "# loss hum mse use kr rhe hai\n",
    "w = [2]\n",
    "w0 = 1"
   ]
  },
  {
   "cell_type": "code",
   "execution_count": 60,
   "id": "eacda4dd-e2e8-4062-aad5-8d7d311c13eb",
   "metadata": {},
   "outputs": [],
   "source": [
    "def loss(x,w,w0,y):\n",
    "    ypred = hypothesis(x,w,w0)\n",
    "    return np.mean((ypred-y)**2)"
   ]
  },
  {
   "cell_type": "code",
   "execution_count": 61,
   "id": "d6e1c694-2a43-4bce-bebd-ab7c846fcc1c",
   "metadata": {},
   "outputs": [
    {
     "data": {
      "text/plain": [
       "np.float64(6262.785551671269)"
      ]
     },
     "execution_count": 61,
     "metadata": {},
     "output_type": "execute_result"
    }
   ],
   "source": [
    "loss(X,w,w0,Y)"
   ]
  },
  {
   "cell_type": "code",
   "execution_count": null,
   "id": "f5d9af01-5d09-4ac8-9abc-56236876e4bc",
   "metadata": {},
   "outputs": [],
   "source": []
  },
  {
   "cell_type": "code",
   "execution_count": 89,
   "id": "82c9a424-7a64-4d70-8a33-a3077b3a2566",
   "metadata": {},
   "outputs": [],
   "source": [
    "def gradientDescent(X,Y,lr = 0.01, epochs = 100):\n",
    "    w = np.random.random(size=(X.shape[1],))\n",
    "    w0 = 1\n",
    "    for k in range(epochs):\n",
    "        ypred = hypothesis(X,w,w0)\n",
    "        grads = []\n",
    "        for j in range(X.shape[1]):\n",
    "            g = 0\n",
    "            for i in range(X.shape[0]):\n",
    "                g+= ypred[i]-Y[i]*X[i,j]\n",
    "            g/=X.shape[0]\n",
    "\n",
    "            grads.append(g)\n",
    "        w = w-lr*np.array(grads)\n",
    "        w0 = w0-lr*np.mean(ypred-Y)\n",
    "    return w,w0\n",
    "    "
   ]
  },
  {
   "cell_type": "code",
   "execution_count": 90,
   "id": "1fd5246e-5391-4aee-8002-9b169b19bc7d",
   "metadata": {},
   "outputs": [],
   "source": [
    "w,w0 = gradientDescent(X,Y,lr = 0.05,epochs = 10000)"
   ]
  },
  {
   "cell_type": "code",
   "execution_count": 91,
   "id": "42dffa78-d090-42e8-bf1d-6c962f796f2e",
   "metadata": {},
   "outputs": [
    {
     "data": {
      "text/plain": [
       "array([40821.33663128])"
      ]
     },
     "execution_count": 91,
     "metadata": {},
     "output_type": "execute_result"
    }
   ],
   "source": [
    "w"
   ]
  },
  {
   "cell_type": "code",
   "execution_count": 92,
   "id": "46a04519-4dc6-4168-812d-55597032a891",
   "metadata": {},
   "outputs": [
    {
     "data": {
      "text/plain": [
       "np.float64(1540.4265770043353)"
      ]
     },
     "execution_count": 92,
     "metadata": {},
     "output_type": "execute_result"
    }
   ],
   "source": [
    "w0"
   ]
  },
  {
   "cell_type": "code",
   "execution_count": 93,
   "id": "c16ae228-1635-4028-8262-94f5a15b0282",
   "metadata": {},
   "outputs": [
    {
     "data": {
      "image/png": "[encoded data removed]",
      "text/plain": [
       "<Figure size 640x480 with 1 Axes>"
      ]
     },
     "metadata": {},
     "output_type": "display_data"
    }
   ],
   "source": [
    "x = np.linspace(-4,4,1000).reshape((-1,1))\n",
    "plt.scatter(X,Y)\n",
    "plt.plot(x,hypothesis(x,w,w0),c='r')\n",
    "plt.show()"
   ]
  },
  {
   "cell_type": "code",
   "execution_count": 94,
   "id": "7c657f90-dd14-402c-8922-ca249483bff1",
   "metadata": {},
   "outputs": [],
   "source": [
    "# optimization"
   ]
  },
  {
   "cell_type": "code",
   "execution_count": 95,
   "id": "a62f014b-0647-4b3c-a53c-757664ede8f4",
   "metadata": {},
   "outputs": [],
   "source": [
    "def gradientDescent(X,Y,lr = 0.01, epochs = 100):\n",
    "    w = np.random.random(size=(X.shape[1],))\n",
    "    w0 = 1\n",
    "    for k in range(epochs):\n",
    "        ypred = hypothesis(X,w,w0)\n",
    "        grads = []\n",
    "        for j in range(X.shape[1]):\n",
    "            # g = 0\n",
    "            # for i in range(X.shape[0]):\n",
    "            #     g+= ypred[i]-Y[i]*X[i,j]\n",
    "            # g/=X.shape[0]\n",
    "\n",
    "            g = np.mean((ypred-Y)*X[:,j])\n",
    "            grads.append(g)\n",
    "        w = w-lr*np.array(grads)\n",
    "        w0 = w0-lr*np.mean(ypred-Y)\n",
    "    return w,w0\n",
    "    "
   ]
  },
  {
   "cell_type": "code",
   "execution_count": 96,
   "id": "17adc50c-0491-41aa-878f-98fc06b6fda2",
   "metadata": {},
   "outputs": [],
   "source": [
    "w,w0 = gradientDescent(X,Y,lr = 0.05,epochs = 100)"
   ]
  },
  {
   "cell_type": "code",
   "execution_count": 97,
   "id": "f40940a7-0227-4774-ad54-03bb39941d23",
   "metadata": {},
   "outputs": [
    {
     "data": {
      "text/plain": [
       "array([80.01885384])"
      ]
     },
     "execution_count": 97,
     "metadata": {},
     "output_type": "execute_result"
    }
   ],
   "source": [
    "w"
   ]
  },
  {
   "cell_type": "code",
   "execution_count": 98,
   "id": "e1c30e5f-737f-48e0-9700-8472ad132f8f",
   "metadata": {},
   "outputs": [
    {
     "data": {
      "text/plain": [
       "np.float64(3.612895406553483)"
      ]
     },
     "execution_count": 98,
     "metadata": {},
     "output_type": "execute_result"
    }
   ],
   "source": [
    "w0"
   ]
  },
  {
   "cell_type": "code",
   "execution_count": 101,
   "id": "f224307f-b99c-4ab9-9291-f180e8e9dae5",
   "metadata": {},
   "outputs": [],
   "source": [
    "def gradientDescent(X,Y,lr = 0.01, epochs = 100):\n",
    "    w = np.random.random(size=(X.shape[1],))\n",
    "    w0 = 1\n",
    "    for k in range(epochs):\n",
    "        ypred = hypothesis(X,w,w0)\n",
    "        grads = []\n",
    "        # for j in range(X.shape[1]):\n",
    "        #     # g = 0\n",
    "        #     # for i in range(X.shape[0]):\n",
    "        #     #     g+= ypred[i]-Y[i]*X[i,j]\n",
    "        #     # g/=X.shape[0]\n",
    "\n",
    "        #     g = np.mean((ypred-Y)*X[:,j])\n",
    "        #     grads.append(g)\n",
    "        grads = (ypred-Y)@X/X.shape[0]\n",
    "        w = w-lr*np.array(grads)\n",
    "        w0 = w0-lr*np.mean(ypred-Y)\n",
    "    return w,w0\n",
    "    "
   ]
  },
  {
   "cell_type": "code",
   "execution_count": 102,
   "id": "c4c414e9-368f-4606-82a0-bbe584665e6d",
   "metadata": {},
   "outputs": [],
   "source": [
    "w,w0 = gradientDescent(X,Y,lr = 0.05,epochs = 100)"
   ]
  },
  {
   "cell_type": "code",
   "execution_count": 103,
   "id": "cf07ca11-bd02-4c9a-954c-b812231d7ec6",
   "metadata": {},
   "outputs": [
    {
     "data": {
      "text/plain": [
       "array([80.02177236])"
      ]
     },
     "execution_count": 103,
     "metadata": {},
     "output_type": "execute_result"
    }
   ],
   "source": [
    "w"
   ]
  },
  {
   "cell_type": "code",
   "execution_count": 104,
   "id": "956522d9-6414-41e0-8f1f-b4faa1b3771a",
   "metadata": {},
   "outputs": [
    {
     "data": {
      "text/plain": [
       "np.float64(3.6134473867958614)"
      ]
     },
     "execution_count": 104,
     "metadata": {},
     "output_type": "execute_result"
    }
   ],
   "source": [
    "w0"
   ]
  },
  {
   "cell_type": "code",
   "execution_count": 107,
   "id": "3b5db54f-e371-4a00-b89d-a1918f2cf59e",
   "metadata": {},
   "outputs": [
    {
     "data": {
      "image/png": "[encoded data removed]",
      "text/plain": [
       "<Figure size 640x480 with 1 Axes>"
      ]
     },
     "metadata": {},
     "output_type": "display_data"
    }
   ],
   "source": [
    "x = np.linspace(-4,4,1000).reshape((-1,1))\n",
    "plt.scatter(X,Y)\n",
    "plt.plot(x,hypothesis(x,w,w0),c='r')\n",
    "plt.show()"
   ]
  },
  {
   "cell_type": "code",
   "execution_count": null,
   "id": "0046e3b2-2a6c-49df-bb33-5af1175f9a46",
   "metadata": {},
   "outputs": [],
   "source": []
  },
  {
   "cell_type": "code",
   "execution_count": 113,
   "id": "266184c9-3852-4b61-b730-958efc840ba8",
   "metadata": {},
   "outputs": [],
   "source": [
    "class LinearRegression:\n",
    "    def __init__(self,lr = 0.01):\n",
    "        self.lr = lr\n",
    "    def fit(self,X,y,epochs = 100):\n",
    "        self.w, self.w0 = self.gradientDescent(X,y,self.lr,epochs)\n",
    "\n",
    "    def hypothesis(self,x,w,w0):\n",
    "        return w.dot(x.T) + w0\n",
    "\n",
    "    def loss(self,x,w,w0,y):\n",
    "        ypred = self.hypothesis(x,w,w0)\n",
    "        return np.mean((ypred-y)**2)\n",
    "\n",
    "    def predict(self,X):\n",
    "        return self.hypothesis(X,self.w,self.w0)\n",
    "\n",
    "    def gradientDescent(self,X,y,lr = 0.01,epochs = 100):\n",
    "        w = np.zeros(shape=(X.shape[1],))\n",
    "        w0 = 1\n",
    "        self.loss_e = [self.loss(X,w,w0,y)]\n",
    "        for e in range(epochs):\n",
    "            ypred = self.hypothesis(X,w,w0)\n",
    "            \n",
    "            # i = np.random.randint(X.shape[0])\n",
    "            # grads = (ypred[i]-y[i])*X[i]\n",
    "            \n",
    "            grads = grads = (ypred-y)@X/X.shape[0]\n",
    "            w = w - lr*grads\n",
    "            w0 = w0 - lr*np.mean(ypred-y)\n",
    "\n",
    "            self.loss_e.append(self.loss(X,w,w0,y))\n",
    "            \n",
    "        return w,w0"
   ]
  },
  {
   "cell_type": "code",
   "execution_count": 114,
   "id": "328f5bba-8823-485a-aeee-f9c0cc7911dd",
   "metadata": {},
   "outputs": [],
   "source": [
    "clf = LinearRegression()\n",
    "clf.fit(X,Y,epochs=500)\n"
   ]
  },
  {
   "cell_type": "code",
   "execution_count": 115,
   "id": "a1e4de1b-3452-41bd-8e5d-c47566a0b927",
   "metadata": {},
   "outputs": [
    {
     "data": {
      "text/plain": [
       "array([79.96095245])"
      ]
     },
     "execution_count": 115,
     "metadata": {},
     "output_type": "execute_result"
    }
   ],
   "source": [
    "clf.w\n"
   ]
  },
  {
   "cell_type": "code",
   "execution_count": 116,
   "id": "a7ea8bb4-a58c-46a5-8cf7-b4e424062df0",
   "metadata": {},
   "outputs": [
    {
     "data": {
      "image/png": "[encoded data removed]",
      "text/plain": [
       "<Figure size 640x480 with 1 Axes>"
      ]
     },
     "metadata": {},
     "output_type": "display_data"
    }
   ],
   "source": [
    "x = np.linspace(-4,4,1000).reshape((-1,1))\n",
    "plt.scatter(X,Y)\n",
    "plt.plot(x,hypothesis(x,w,w0),c='r')\n",
    "plt.show()"
   ]
  },
  {
   "cell_type": "code",
   "execution_count": 117,
   "id": "69dd500a-1ef9-4da5-91ad-793d4e13c951",
   "metadata": {},
   "outputs": [
    {
     "data": {
      "image/png": "[encoded data removed]",
      "text/plain": [
       "<Figure size 640x480 with 1 Axes>"
      ]
     },
     "metadata": {},
     "output_type": "display_data"
    }
   ],
   "source": [
    "plt.plot(clf.loss_e)\n",
    "plt.show()"
   ]
  },
  {
   "cell_type": "code",
   "execution_count": 118,
   "id": "73cc69ff-009d-4ea7-80bc-504e286853cf",
   "metadata": {},
   "outputs": [
    {
     "data": {
      "text/plain": [
       "[np.float64(6575.982314525905),\n",
       " np.float64(6450.878380324976),\n",
       " np.float64(6328.2291810676),\n",
       " np.float64(6207.9864807413105),\n",
       " np.float64(6090.102992576523),\n",
       " np.float64(5974.5323603385605),\n",
       " np.float64(5861.229139988935),\n",
       " np.float64(5750.148781708586),\n",
       " np.float64(5641.247612275908),\n",
       " np.float64(5534.482817792578),\n",
       " np.float64(5429.812426750271),\n",
       " np.float64(5327.195293431564),\n",
       " np.float64(5226.591081638406),\n",
       " np.float64(5127.960248741683),\n",
       " np.float64(5031.264030045517),\n",
       " np.float64(4936.46442346011),\n",
       " np.float64(4843.524174477021),\n",
       " np.float64(4752.406761440875),\n",
       " np.float64(4663.076381111694),\n",
       " np.float64(4575.497934512073),\n",
       " np.float64(4489.637013053571),\n",
       " np.float64(4405.4598849368285),\n",
       " np.float64(4322.933481819982),\n",
       " np.float64(4242.025385750064),\n",
       " np.float64(4162.703816352225),\n",
       " np.float64(4084.937618271652),\n",
       " np.float64(4008.6962488632216),\n",
       " np.float64(3933.949766123957),\n",
       " np.float64(3860.668816863527),\n",
       " np.float64(3788.8246251080673),\n",
       " np.float64(3718.3889807327137),\n",
       " np.float64(3649.3342283183415),\n",
       " np.float64(3581.6332562280677),\n",
       " np.float64(3515.2594858991865),\n",
       " np.float64(3450.186861346284),\n",
       " np.float64(3386.389838871342),\n",
       " np.float64(3323.8433769767767),\n",
       " np.float64(3262.522926477367),\n",
       " np.float64(3202.4044208071787),\n",
       " np.float64(3143.4642665176043),\n",
       " np.float64(3085.679333962769),\n",
       " np.float64(3029.026948168582),\n",
       " np.float64(2973.484879881826),\n",
       " np.float64(2919.0313367957165),\n",
       " np.float64(2865.6449549484482),\n",
       " np.float64(2813.3047902913177),\n",
       " np.float64(2761.9903104230766),\n",
       " np.float64(2711.68138648722),\n",
       " np.float64(2662.358285229008),\n",
       " np.float64(2614.0016612090603),\n",
       " np.float64(2566.5925491704315),\n",
       " np.float64(2520.1123565561425),\n",
       " np.float64(2474.5428561741887),\n",
       " np.float64(2429.8661790071287),\n",
       " np.float64(2386.0648071633823),\n",
       " np.float64(2343.121566967454),\n",
       " np.float64(2301.019622186335),\n",
       " np.float64(2259.7424673893915),\n",
       " np.float64(2219.2739214391167),\n",
       " np.float64(2179.598121110146),\n",
       " np.float64(2140.6995148340256),\n",
       " np.float64(2102.5628565672314),\n",
       " np.float64(2065.173199780021),\n",
       " np.float64(2028.5158915637319),\n",
       " np.float64(1992.5765668541744),\n",
       " np.float64(1957.3411427688552),\n",
       " np.float64(1922.7958130557581),\n",
       " np.float64(1888.9270426514988),\n",
       " np.float64(1855.7215623466866),\n",
       " np.float64(1823.1663635563827),\n",
       " np.float64(1791.2486931935791),\n",
       " np.float64(1759.9560486436656),\n",
       " np.float64(1729.2761728378941),\n",
       " np.float64(1699.1970494238847),\n",
       " np.float64(1669.706898031261),\n",
       " np.float64(1640.7941696305415),\n",
       " np.float64(1612.4475419834375),\n",
       " np.float64(1584.6559151827646),\n",
       " np.float64(1557.4084072801957),\n",
       " np.float64(1530.6943500001232),\n",
       " np.float64(1504.5032845379317),\n",
       " np.float64(1478.8249574410186),\n",
       " np.float64(1453.6493165709257),\n",
       " np.float64(1428.96650714499),\n",
       " np.float64(1404.7668678559344),\n",
       " np.float64(1381.0409270678747),\n",
       " np.float64(1357.779399087224),\n",
       " np.float64(1334.9731805070242),\n",
       " np.float64(1312.6133466232548),\n",
       " np.float64(1290.6911479216985),\n",
       " np.float64(1269.1980066339768),\n",
       " np.float64(1248.1255133613852),\n",
       " np.float64(1227.4654237651976),\n",
       " np.float64(1207.2096553221234),\n",
       " np.float64(1187.3502841436375),\n",
       " np.float64(1167.879541857926),\n",
       " np.float64(1148.7898125531992),\n",
       " np.float64(1130.0736297811854),\n",
       " np.float64(1111.723673619595),\n",
       " np.float64(1093.732767792411),\n",
       " np.float64(1076.0938768468543),\n",
       " np.float64(1058.8001033859127),\n",
       " np.float64(1041.8446853553362),\n",
       " np.float64(1025.2209933840256),\n",
       " np.float64(1008.9225281767636),\n",
       " np.float64(992.9429179582503),\n",
       " np.float64(977.2759159674431),\n",
       " np.float64(961.9153980011985),\n",
       " np.float64(946.8553600062501),\n",
       " np.float64(932.0899157185712),\n",
       " np.float64(917.6132943491839),\n",
       " np.float64(903.419838315502),\n",
       " np.float64(889.5040010173116),\n",
       " np.float64(875.8603446565055),\n",
       " np.float64(862.4835380997171),\n",
       " np.float64(849.3683547829982),\n",
       " np.float64(836.5096706577206),\n",
       " np.float64(823.9024621768874),\n",
       " np.float64(811.5418043210549),\n",
       " np.float64(799.4228686630865),\n",
       " np.float64(787.5409214709771),\n",
       " np.float64(775.8913218479911),\n",
       " np.float64(764.4695199093851),\n",
       " np.float64(753.2710549949907),\n",
       " np.float64(742.2915539169536),\n",
       " np.float64(731.5267292419356),\n",
       " np.float64(720.9723776070991),\n",
       " np.float64(710.6243780692118),\n",
       " np.float64(700.4786904862168),\n",
       " np.float64(690.5313539306297),\n",
       " np.float64(680.7784851341362),\n",
       " np.float64(671.2162769627738),\n",
       " np.float64(661.8409969220996),\n",
       " np.float64(652.6489856917476),\n",
       " np.float64(643.6366556888023),\n",
       " np.float64(634.8004896594184),\n",
       " np.float64(626.1370392981298),\n",
       " np.float64(617.642923894306),\n",
       " np.float64(609.3148290052178),\n",
       " np.float64(601.1495051551885),\n",
       " np.float64(593.1437665603216),\n",
       " np.float64(585.2944898782955),\n",
       " np.float64(577.598612982735),\n",
       " np.float64(570.0531337616753),\n",
       " np.float64(562.6551089396445),\n",
       " np.float64(555.4016529228979),\n",
       " np.float64(548.2899366673519),\n",
       " np.float64(541.3171865687646),\n",
       " np.float64(534.4806833747335),\n",
       " np.float64(527.7777611180737),\n",
       " np.float64(521.2058060711581),\n",
       " np.float64(514.7622557208092),\n",
       " np.float64(508.44459776333576),\n",
       " np.float64(502.25036911931613),\n",
       " np.float64(496.17715496774554),\n",
       " np.float64(490.22258779915904),\n",
       " np.float64(484.3843464873625),\n",
       " np.float64(478.6601553794019),\n",
       " np.float64(473.0477834034133),\n",
       " np.float64(467.54504319400303),\n",
       " np.float64(462.14979023480976),\n",
       " np.float64(456.8599220179133),\n",
       " np.float64(451.6733772197582),\n",
       " np.float64(446.5881348932664),\n",
       " np.float64(441.60221367581977),\n",
       " np.float64(436.71367101280265),\n",
       " np.float64(431.9206023963968),\n",
       " np.float64(427.2211406193282),\n",
       " np.float64(422.61345504327187),\n",
       " np.float64(418.0957508816288),\n",
       " np.float64(413.6662684963871),\n",
       " np.float64(409.32328270879674),\n",
       " np.float64(405.0651021235795),\n",
       " np.float64(400.89006846641394),\n",
       " np.float64(396.79655593443067),\n",
       " np.float64(392.782970559462),\n",
       " np.float64(388.84774958379717),\n",
       " np.float64(384.9893608481965),\n",
       " np.float64(381.2063021919221),\n",
       " np.float64(377.49710086454996),\n",
       " np.float64(373.86031294933133),\n",
       " np.float64(370.29452279787654),\n",
       " np.float64(366.7983424759397),\n",
       " np.float64(363.3704112200832),\n",
       " np.float64(360.00939490500997),\n",
       " np.float64(356.7139855213547),\n",
       " np.float64(353.4829006637258),\n",
       " np.float64(350.3148830287983),\n",
       " np.float64(347.2086999232604),\n",
       " np.float64(344.1631427814193),\n",
       " np.float64(341.17702669227424),\n",
       " np.float64(338.249189935876),\n",
       " np.float64(335.37849352878476),\n",
       " np.float64(332.56382077845075),\n",
       " np.float64(329.8040768463414),\n",
       " np.float64(327.09818831964236),\n",
       " np.float64(324.4451027913646),\n",
       " np.float64(321.84378844869383),\n",
       " np.float64(319.2932336694162),\n",
       " np.float64(316.7924466262662),\n",
       " np.float64(314.3404548990376),\n",
       " np.float64(311.9363050943064),\n",
       " np.float64(309.57906247261707),\n",
       " np.float64(307.26781058298235),\n",
       " np.float64(305.00165090455624),\n",
       " np.float64(302.7797024953375),\n",
       " np.float64(300.60110164776677),\n",
       " np.float64(298.46500155107816),\n",
       " np.float64(296.3705719602785),\n",
       " np.float64(294.3169988716199),\n",
       " np.float64(292.3034842044372),\n",
       " np.float64(290.3292454892304),\n",
       " np.float64(288.3935155618628),\n",
       " np.float64(286.4955422637607),\n",
       " np.float64(284.6345881479918),\n",
       " np.float64(282.8099301911107),\n",
       " np.float64(281.0208595106555),\n",
       " np.float64(279.2666810881862),\n",
       " np.float64(277.5467134977549),\n",
       " np.float64(275.8602886397024),\n",
       " np.float64(274.2067514796739),\n",
       " np.float64(272.5854597927563),\n",
       " np.float64(270.99578391263003),\n",
       " np.float64(269.43710648564223),\n",
       " np.float64(267.90882222970265),\n",
       " np.float64(266.4103376979069),\n",
       " np.float64(264.9410710467946),\n",
       " np.float64(263.50045180915265),\n",
       " np.float64(262.0879206712735),\n",
       " np.float64(260.7029292545791),\n",
       " np.float64(259.34493990152896),\n",
       " np.float64(258.0134254657244),\n",
       " np.float64(256.7078691061275),\n",
       " np.float64(255.42776408531586),\n",
       " np.float64(254.17261357169176),\n",
       " np.float64(252.9419304455688),\n",
       " np.float64(251.73523710906017),\n",
       " np.float64(250.5520652996932),\n",
       " np.float64(249.39195590767872),\n",
       " np.float64(248.25445879676104),\n",
       " np.float64(247.13913262857946),\n",
       " np.float64(246.0455446904742),\n",
       " np.float64(244.97327072666502),\n",
       " np.float64(243.92189477274002),\n",
       " np.float64(242.89100899338837),\n",
       " np.float64(241.8802135233131),\n",
       " np.float64(240.8891163112607),\n",
       " np.float64(239.91733296710882),\n",
       " np.float64(238.9644866119499),\n",
       " np.float64(238.03020773111206),\n",
       " np.float64(237.11413403006128),\n",
       " np.float64(236.21591029312634),\n",
       " np.float64(235.335188244992),\n",
       " np.float64(234.47162641490667),\n",
       " np.float64(233.6248900035505),\n",
       " np.float64(232.79465075251107),\n",
       " np.float64(231.98058681631784),\n",
       " np.float64(231.18238263698248),\n",
       " np.float64(230.39972882099755),\n",
       " np.float64(229.63232201874473),\n",
       " np.float64(228.87986480626606),\n",
       " np.float64(228.14206556934982),\n",
       " np.float64(227.41863838988866),\n",
       " np.float64(226.70930293446258),\n",
       " np.float64(226.0137843451051),\n",
       " np.float64(225.3318131322084),\n",
       " np.float64(224.66312506952684),\n",
       " np.float64(224.00746109123597),\n",
       " np.float64(223.36456719100855),\n",
       " np.float64(222.73419432306676),\n",
       " np.float64(222.11609830517267),\n",
       " np.float64(221.51003972351742),\n",
       " np.float64(220.91578383947493),\n",
       " np.float64(220.3331004981791),\n",
       " np.float64(219.76176403889383),\n",
       " np.float64(219.20155320713607),\n",
       " np.float64(218.65225106852105),\n",
       " np.float64(218.1136449242936),\n",
       " np.float64(217.58552622851374),\n",
       " np.float64(217.06769050686347),\n",
       " np.float64(216.55993727704367),\n",
       " np.float64(216.06206997072894),\n",
       " np.float64(215.57389585705087),\n",
       " np.float64(215.09522596757878),\n",
       " np.float64(214.62587502276975),\n",
       " np.float64(214.16566135985758),\n",
       " np.float64(213.71440686215453),\n",
       " np.float64(213.2719368897358),\n",
       " np.float64(212.8380802114815),\n",
       " np.float64(212.4126689384486),\n",
       " np.float64(211.99553845854706),\n",
       " np.float64(211.58652737249454),\n",
       " np.float64(211.1854774310248),\n",
       " np.float64(210.79223347332422),\n",
       " np.float64(210.40664336667442),\n",
       " np.float64(210.02855794727512),\n",
       " np.float64(209.6578309622255),\n",
       " np.float64(209.29431901264084),\n",
       " np.float64(208.9378814978825),\n",
       " np.float64(208.58838056087885),\n",
       " np.float64(208.24568103451642),\n",
       " np.float64(207.90965038908004),\n",
       " np.float64(207.58015868072118),\n",
       " np.float64(207.2570785009347),\n",
       " np.float64(206.94028492702432),\n",
       " np.float64(206.62965547353656),\n",
       " np.float64(206.32507004464577),\n",
       " np.float64(206.02641088746998),\n",
       " np.float64(205.7335625463001),\n",
       " np.float64(205.44641181772514),\n",
       " np.float64(205.16484770663422),\n",
       " np.float64(204.88876138308066),\n",
       " np.float64(204.6180461399883),\n",
       " np.float64(204.35259735168623),\n",
       " np.float64(204.09231243325414),\n",
       " np.float64(203.83709080066296),\n",
       " np.float64(203.58683383169503),\n",
       " np.float64(203.34144482762858),\n",
       " np.float64(203.10082897567167),\n",
       " np.float64(202.86489331213087),\n",
       " np.float64(202.6335466862999),\n",
       " np.float64(202.40669972505475),\n",
       " np.float64(202.18426479814164),\n",
       " np.float64(201.96615598414252),\n",
       " np.float64(201.75228903710712),\n",
       " np.float64(201.5425813538373),\n",
       " np.float64(201.33695194181084),\n",
       " np.float64(201.13532138773252),\n",
       " np.float64(200.93761182670025),\n",
       " np.float64(200.7437469119739),\n",
       " np.float64(200.55365178533503),\n",
       " np.float64(200.3672530480265),\n",
       " np.float64(200.18447873226006),\n",
       " np.float64(200.00525827328053),\n",
       " np.float64(199.8295224819768),\n",
       " np.float64(199.6572035180277),\n",
       " np.float64(199.48823486357313),\n",
       " np.float64(199.32255129739963),\n",
       " np.float64(199.16008886963073),\n",
       " np.float64(199.00078487691178),\n",
       " np.float64(198.84457783808014),\n",
       " np.float64(198.69140747031042),\n",
       " np.float64(198.54121466572636),\n",
       " np.float64(198.3939414684698),\n",
       " np.float64(198.2495310522176),\n",
       " np.float64(198.10792769813781),\n",
       " np.float64(197.96907677327724),\n",
       " np.float64(197.8329247093705),\n",
       " np.float64(197.69941898206423),\n",
       " np.float64(197.56850809054603),\n",
       " np.float64(197.44014153757263),\n",
       " np.float64(197.3142698098874),\n",
       " np.float64(197.19084435902113),\n",
       " np.float64(197.06981758246764),\n",
       " np.float64(196.95114280522697),\n",
       " np.float64(196.83477426170967),\n",
       " np.float64(196.72066707799442),\n",
       " np.float64(196.60877725443183),\n",
       " np.float64(196.49906164858893),\n",
       " np.float64(196.39147795852614),\n",
       " np.float64(196.28598470640114),\n",
       " np.float64(196.1825412223933),\n",
       " np.float64(196.08110762894154),\n",
       " np.float64(195.9816448252908),\n",
       " np.float64(195.8841144723396),\n",
       " np.float64(195.78847897778445),\n",
       " np.float64(195.69470148155327),\n",
       " np.float64(195.60274584152432),\n",
       " np.float64(195.51257661952363),\n",
       " np.float64(195.42415906759584),\n",
       " np.float64(195.3374591145434),\n",
       " np.float64(195.2524433527284),\n",
       " np.float64(195.1690790251321),\n",
       " np.float64(195.0873340126676),\n",
       " np.float64(195.00717682173982),\n",
       " np.float64(194.92857657204837),\n",
       " np.float64(194.851502984629),\n",
       " np.float64(194.7759263701282),\n",
       " np.float64(194.70181761730652),\n",
       " np.float64(194.62914818176728),\n",
       " np.float64(194.55789007490418),\n",
       " np.float64(194.4880158530655),\n",
       " np.float64(194.4194986069296),\n",
       " np.float64(194.35231195108767),\n",
       " np.float64(194.28643001383),\n",
       " np.float64(194.2218274271318),\n",
       " np.float64(194.15847931683422),\n",
       " np.float64(194.09636129301717),\n",
       " np.float64(194.03544944056003),\n",
       " np.float64(193.97572030988655),\n",
       " np.float64(193.91715090789071),\n",
       " np.float64(193.8597186890391),\n",
       " np.float64(193.80340154664768),\n",
       " np.float64(193.7481778043281),\n",
       " np.float64(193.6940262076014),\n",
       " np.float64(193.6409259156754),\n",
       " np.float64(193.5888564933822),\n",
       " np.float64(193.53779790327323),\n",
       " np.float64(193.4877304978688),\n",
       " np.float64(193.43863501205828),\n",
       " np.float64(193.39049255564953),\n",
       " np.float64(193.34328460606235),\n",
       " np.float64(193.296993001166),\n",
       " np.float64(193.2515999322553),\n",
       " np.float64(193.20708793716446),\n",
       " np.float64(193.16343989351498),\n",
       " np.float64(193.1206390120952),\n",
       " np.float64(193.07866883036934),\n",
       " np.float64(193.03751320611298),\n",
       " np.float64(192.99715631117246),\n",
       " np.float64(192.95758262534645),\n",
       " np.float64(192.91877693038685),\n",
       " np.float64(192.88072430411614),\n",
       " np.float64(192.84341011466037),\n",
       " np.float64(192.80682001479377),\n",
       " np.float64(192.77093993639426),\n",
       " np.float64(192.7357560850069),\n",
       " np.float64(192.70125493451332),\n",
       " np.float64(192.6674232219054),\n",
       " np.float64(192.6342479421603),\n",
       " np.float64(192.6017163432161),\n",
       " np.float64(192.56981592104495),\n",
       " np.float64(192.5385344148227),\n",
       " np.float64(192.50785980219229),\n",
       " np.float64(192.47778029461995),\n",
       " np.float64(192.44828433284133),\n",
       " np.float64(192.41936058239745),\n",
       " np.float64(192.3909979292564),\n",
       " np.float64(192.36318547552176),\n",
       " np.float64(192.33591253522343),\n",
       " np.float64(192.30916863019152),\n",
       " np.float64(192.28294348601014),\n",
       " np.float64(192.2572270280502),\n",
       " np.float64(192.23200937757971),\n",
       " np.float64(192.20728084794953),\n",
       " np.float64(192.18303194085416),\n",
       " np.float64(192.15925334266453),\n",
       " np.float64(192.13593592083302),\n",
       " np.float64(192.11307072036826),\n",
       " np.float64(192.09064896037853),\n",
       " np.float64(192.06866203068284),\n",
       " np.float64(192.0471014884879),\n",
       " np.float64(192.02595905512962),\n",
       " np.float64(192.00522661287866),\n",
       " np.float64(191.98489620180783),\n",
       " np.float64(191.96496001672048),\n",
       " np.float64(191.94541040413932),\n",
       " np.float64(191.92623985935325),\n",
       " np.float64(191.90744102352193),\n",
       " np.float64(191.8890066808372),\n",
       " np.float64(191.87092975573918),\n",
       " np.float64(191.85320331018724),\n",
       " np.float64(191.8358205409835),\n",
       " np.float64(191.8187747771489),\n",
       " np.float64(191.80205947735058),\n",
       " np.float64(191.78566822737878),\n",
       " np.float64(191.76959473767343),\n",
       " np.float64(191.7538328408987),\n",
       " np.float64(191.73837648956479),\n",
       " np.float64(191.7232197536962),\n",
       " np.float64(191.7083568185453),\n",
       " np.float64(191.69378198235037),\n",
       " np.float64(191.67948965413768),\n",
       " np.float64(191.66547435156593),\n",
       " np.float64(191.65173069881286),\n",
       " np.float64(191.63825342450315),\n",
       " np.float64(191.62503735967664),\n",
       " np.float64(191.61207743579578),\n",
       " np.float64(191.5993686827926),\n",
       " np.float64(191.58690622715292),\n",
       " np.float64(191.57468529003847),\n",
       " np.float64(191.56270118544523),\n",
       " np.float64(191.55094931839793),\n",
       " np.float64(191.53942518317936),\n",
       " np.float64(191.5281243615946),\n",
       " np.float64(191.5170425212685),\n",
       " np.float64(191.506175413977),\n",
       " np.float64(191.49551887401014),\n",
       " np.float64(191.48506881656786),\n",
       " np.float64(191.47482123618613),\n",
       " np.float64(191.46477220519446),\n",
       " np.float64(191.45491787220288),\n",
       " np.float64(191.44525446061883),\n",
       " np.float64(191.43577826719263),\n",
       " np.float64(191.42648566059148),\n",
       " np.float64(191.4173730800009),\n",
       " np.float64(191.40843703375384),\n",
       " np.float64(191.3996740979862),\n",
       " np.float64(191.39108091531844),\n",
       " np.float64(191.38265419356313),\n",
       " np.float64(191.37439070445745),\n",
       " np.float64(191.36628728242056),\n",
       " np.float64(191.35834082333477),\n",
       " np.float64(191.35054828335095),\n",
       " np.float64(191.34290667771683),\n",
       " np.float64(191.33541307962815),\n",
       " np.float64(191.32806461910255),\n",
       " np.float64(191.3208584818746),\n",
       " np.float64(191.31379190831305),\n",
       " np.float64(191.30686219235898),\n",
       " np.float64(191.30006668048438)]"
      ]
     },
     "execution_count": 118,
     "metadata": {},
     "output_type": "execute_result"
    }
   ],
   "source": [
    "clf.loss_e"
   ]
  },
  {
   "cell_type": "code",
   "execution_count": null,
   "id": "ce2fd879-eab8-4e69-a7e0-3b997a34169f",
   "metadata": {},
   "outputs": [],
   "source": []
  },
  {
   "cell_type": "code",
   "execution_count": 124,
   "id": "6fffd802-9fac-412e-a21e-6e524be52628",
   "metadata": {},
   "outputs": [
    {
     "data": {
      "text/plain": [
       "array([[-0.28930742,  1.        ],\n",
       "       [-0.58880963,  1.        ],\n",
       "       [ 1.02750749,  1.        ],\n",
       "       ...,\n",
       "       [-0.30516366,  1.        ],\n",
       "       [ 1.67583291,  1.        ],\n",
       "       [-0.49175724,  1.        ]], shape=(3750, 2))"
      ]
     },
     "execution_count": 124,
     "metadata": {},
     "output_type": "execute_result"
    }
   ],
   "source": [
    "Xnew = np.stack([X[:,0],np.ones(X.shape[0])],axis=1)\n",
    "Xnew"
   ]
  },
  {
   "cell_type": "code",
   "execution_count": 119,
   "id": "d85ef8a4-ab58-4ad0-a61f-346ea3ee9ded",
   "metadata": {},
   "outputs": [],
   "source": [
    "# ols\n"
   ]
  },
  {
   "cell_type": "code",
   "execution_count": 125,
   "id": "604f6e13-87b5-4836-a866-a54f692a1392",
   "metadata": {},
   "outputs": [],
   "source": [
    "w = np.linalg.inv(Xnew.T@Xnew)@Xnew.T@Y"
   ]
  },
  {
   "cell_type": "code",
   "execution_count": null,
   "id": "ef1f4792-6200-44d2-a4f8-601df59d4778",
   "metadata": {},
   "outputs": [],
   "source": []
  },
  {
   "cell_type": "code",
   "execution_count": 126,
   "id": "f261a505-615f-4d17-9503-3c4dce794cf6",
   "metadata": {},
   "outputs": [
    {
     "data": {
      "text/plain": [
       "array([80.54363185,  3.72798828])"
      ]
     },
     "execution_count": 126,
     "metadata": {},
     "output_type": "execute_result"
    }
   ],
   "source": [
    "w"
   ]
  },
  {
   "cell_type": "code",
   "execution_count": null,
   "id": "b1ca845f-5b6e-4da1-8369-236464546d7f",
   "metadata": {},
   "outputs": [],
   "source": []
  }
 ],
 "metadata": {
  "kernelspec": {
   "display_name": "Python 3 (ipykernel)",
   "language": "python",
   "name": "python3"
  },
  "language_info": {
   "codemirror_mode": {
    "name": "ipython",
    "version": 3
   },
   "file_extension": ".py",
   "mimetype": "text/x-python",
   "name": "python",
   "nbconvert_exporter": "python",
   "pygments_lexer": "ipython3",
   "version": "3.13.4"
  }
 },
 "nbformat": 4,
 "nbformat_minor": 5
}
