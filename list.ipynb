{
 "cells": [
  {
   "cell_type": "code",
   "execution_count": 1,
   "id": "2942c3e3-87dd-4f00-ac83-6fac99a79e9c",
   "metadata": {},
   "outputs": [
    {
     "name": "stdout",
     "output_type": "stream",
     "text": [
      "[10, 24.5, (1+2j), 'Hello']\n"
     ]
    }
   ],
   "source": [
    "l = [10,24.5,1+2j,\"Hello\"]\n",
    "print(l)"
   ]
  },
  {
   "cell_type": "code",
   "execution_count": 2,
   "id": "dea6f97e-c6d6-4d7c-bc7c-8215b0dd02e5",
   "metadata": {},
   "outputs": [
    {
     "name": "stdout",
     "output_type": "stream",
     "text": [
      "(1+2j)\n"
     ]
    }
   ],
   "source": [
    "print(l[2])"
   ]
  },
  {
   "cell_type": "code",
   "execution_count": 4,
   "id": "a669ac4e-33a0-410c-9e11-db173c9af322",
   "metadata": {},
   "outputs": [
    {
     "name": "stdout",
     "output_type": "stream",
     "text": [
      "50\n"
     ]
    }
   ],
   "source": [
    "l = [10,20,30,40,50]\n",
    "print(l[-1])"
   ]
  },
  {
   "cell_type": "code",
   "execution_count": 5,
   "id": "3b297d49-03e9-403d-9188-f23d19b221eb",
   "metadata": {},
   "outputs": [
    {
     "ename": "IndexError",
     "evalue": "list index out of range",
     "output_type": "error",
     "traceback": [
      "\u001b[31m---------------------------------------------------------------------------\u001b[39m",
      "\u001b[31mIndexError\u001b[39m                                Traceback (most recent call last)",
      "\u001b[36mCell\u001b[39m\u001b[36m \u001b[39m\u001b[32mIn[5]\u001b[39m\u001b[32m, line 1\u001b[39m\n\u001b[32m----> \u001b[39m\u001b[32m1\u001b[39m \u001b[38;5;28mprint\u001b[39m(\u001b[43ml\u001b[49m\u001b[43m[\u001b[49m\u001b[43m-\u001b[49m\u001b[32;43m6\u001b[39;49m\u001b[43m]\u001b[49m)\n",
      "\u001b[31mIndexError\u001b[39m: list index out of range"
     ]
    }
   ],
   "source": [
    "print(l[-6])"
   ]
  },
  {
   "cell_type": "code",
   "execution_count": 6,
   "id": "4548daf2-88f0-4a9e-a88b-a2caadccad53",
   "metadata": {},
   "outputs": [
    {
     "name": "stdout",
     "output_type": "stream",
     "text": [
      "False\n"
     ]
    }
   ],
   "source": [
    "l1 = [10,20,30,40]\n",
    "l2 = [10,20,30,40]\n",
    "l3 = l1.copy()\n",
    "print(l1 is l3)\n",
    "# in dono ki id differnet hai \n"
   ]
  },
  {
   "cell_type": "code",
   "execution_count": 7,
   "id": "8eafa66f-6fc9-46ef-8d26-2166c192bce2",
   "metadata": {},
   "outputs": [
    {
     "name": "stdout",
     "output_type": "stream",
     "text": [
      "10\n"
     ]
    }
   ],
   "source": [
    "l1[0] = 100\n",
    "print(l3[0])"
   ]
  },
  {
   "cell_type": "code",
   "execution_count": 8,
   "id": "28058b63-1749-44d1-9bd5-475e404cb2c5",
   "metadata": {},
   "outputs": [
    {
     "name": "stdout",
     "output_type": "stream",
     "text": [
      "100\n"
     ]
    }
   ],
   "source": [
    "print(l1[0])"
   ]
  },
  {
   "cell_type": "code",
   "execution_count": 9,
   "id": "08a830e5-ba02-438a-b4c9-f95cff4e49d6",
   "metadata": {},
   "outputs": [],
   "source": [
    "l1.append(200)"
   ]
  },
  {
   "cell_type": "code",
   "execution_count": 10,
   "id": "82c7b71f-90d9-4c22-a74a-8a2f11bae15c",
   "metadata": {},
   "outputs": [
    {
     "name": "stdout",
     "output_type": "stream",
     "text": [
      "[100, 20, 30, 40, 200]\n"
     ]
    }
   ],
   "source": [
    "print(l1)"
   ]
  },
  {
   "cell_type": "code",
   "execution_count": 12,
   "id": "464ee780-672f-4d5b-80d9-db788a49d963",
   "metadata": {},
   "outputs": [
    {
     "name": "stdout",
     "output_type": "stream",
     "text": [
      "0 100\n",
      "1 20\n",
      "2 30\n",
      "3 40\n",
      "4 200\n"
     ]
    }
   ],
   "source": [
    "i = 0\n",
    "while(i<len(l1)):\n",
    "    print(i,l1[i])\n",
    "    i+=1\n"
   ]
  },
  {
   "cell_type": "code",
   "execution_count": 13,
   "id": "6cbfa1b5-248a-45b8-93fe-0b8f6bdb6be4",
   "metadata": {},
   "outputs": [
    {
     "name": "stdout",
     "output_type": "stream",
     "text": [
      "-1 200\n",
      "-2 40\n",
      "-3 30\n",
      "-4 20\n",
      "-5 100\n"
     ]
    }
   ],
   "source": [
    "i = -1\n",
    "while(i>=-len(l1)):\n",
    "    print(i,l1[i])\n",
    "    i-=1"
   ]
  },
  {
   "cell_type": "code",
   "execution_count": 14,
   "id": "291166ff-d96c-488e-81d8-146ddcc2ce89",
   "metadata": {},
   "outputs": [
    {
     "data": {
      "text/plain": [
       "[10, 20, 30, 40, 50]"
      ]
     },
     "execution_count": 14,
     "metadata": {},
     "output_type": "execute_result"
    }
   ],
   "source": [
    "l"
   ]
  },
  {
   "cell_type": "code",
   "execution_count": 15,
   "id": "b9178cfd-ffd6-4947-8b2c-4a1cddc97cc4",
   "metadata": {},
   "outputs": [
    {
     "name": "stdout",
     "output_type": "stream",
     "text": [
      "10\n",
      "20\n",
      "30\n",
      "40\n",
      "50\n"
     ]
    }
   ],
   "source": [
    "for el in l :\n",
    "    print(el)"
   ]
  },
  {
   "cell_type": "code",
   "execution_count": 16,
   "id": "87d6d7ef-f104-4b2f-82e1-65cbc18bfef6",
   "metadata": {},
   "outputs": [
    {
     "name": "stdout",
     "output_type": "stream",
     "text": [
      "0 100\n",
      "1 20\n",
      "2 30\n",
      "3 40\n",
      "4 200\n"
     ]
    }
   ],
   "source": [
    "for i in range(len(l1)):\n",
    "    print(i,l1[i])"
   ]
  },
  {
   "cell_type": "code",
   "execution_count": 17,
   "id": "b2d1f1d5-734b-463d-a220-b657d1274ec4",
   "metadata": {},
   "outputs": [
    {
     "name": "stdout",
     "output_type": "stream",
     "text": [
      "4 50\n",
      "3 40\n",
      "2 30\n",
      "1 20\n",
      "0 10\n"
     ]
    }
   ],
   "source": [
    "for i in range(len(l)-1,-1,-1):\n",
    "    print(i,l[i])"
   ]
  },
  {
   "cell_type": "code",
   "execution_count": 18,
   "id": "793619ee-841c-4ddb-ad1a-e436f16229d2",
   "metadata": {},
   "outputs": [
    {
     "name": "stdout",
     "output_type": "stream",
     "text": [
      "-1 50\n",
      "-2 40\n",
      "-3 30\n",
      "-4 20\n",
      "-5 10\n"
     ]
    }
   ],
   "source": [
    "for i in range(-1,-len(l)-1,-1):\n",
    "    print(i,l[i])"
   ]
  },
  {
   "cell_type": "code",
   "execution_count": null,
   "id": "ff77ae99-ec94-4149-8f28-b4360456a6f2",
   "metadata": {},
   "outputs": [],
   "source": []
  },
  {
   "cell_type": "code",
   "execution_count": 19,
   "id": "40e2e178-334f-4cf8-82e8-5d3e17bda5c1",
   "metadata": {},
   "outputs": [
    {
     "data": {
      "text/plain": [
       "True"
      ]
     },
     "execution_count": 19,
     "metadata": {},
     "output_type": "execute_result"
    }
   ],
   "source": [
    "100 in l1"
   ]
  },
  {
   "cell_type": "code",
   "execution_count": 20,
   "id": "3e02e66e-a8f7-4530-ac8e-b203eef9afc9",
   "metadata": {},
   "outputs": [
    {
     "data": {
      "text/plain": [
       "1"
      ]
     },
     "execution_count": 20,
     "metadata": {},
     "output_type": "execute_result"
    }
   ],
   "source": [
    "l.count(10)"
   ]
  },
  {
   "cell_type": "code",
   "execution_count": 21,
   "id": "dbbf535c-b62f-40d5-8928-4750a64d60ab",
   "metadata": {},
   "outputs": [],
   "source": [
    "l1 = [1,2,3]\n",
    "l2 = [1,4,5,6]"
   ]
  },
  {
   "cell_type": "code",
   "execution_count": 23,
   "id": "bae81c67-2e48-4b4a-badd-488990d8bb48",
   "metadata": {},
   "outputs": [
    {
     "name": "stdout",
     "output_type": "stream",
     "text": [
      "[1, 2, 3, 1, 4, 5, 6]\n"
     ]
    }
   ],
   "source": [
    "l1.extend(l2)\n",
    "print(l1)"
   ]
  },
  {
   "cell_type": "code",
   "execution_count": 24,
   "id": "247f7e7a-accd-4186-8a06-d9f1cb61e5b4",
   "metadata": {},
   "outputs": [
    {
     "name": "stdout",
     "output_type": "stream",
     "text": [
      "[1, 2, 3, 1, 4, 5, 6, 1, 4, 5, 6]\n"
     ]
    }
   ],
   "source": [
    "l3 = l1+l2\n",
    "print(l3)"
   ]
  },
  {
   "cell_type": "code",
   "execution_count": 25,
   "id": "73146389-a809-4b23-a7dd-ca51d0d4aa48",
   "metadata": {},
   "outputs": [
    {
     "data": {
      "text/plain": [
       "[1, 2, 3, [1, 4, 5, 6]]"
      ]
     },
     "execution_count": 25,
     "metadata": {},
     "output_type": "execute_result"
    }
   ],
   "source": [
    "l1 = [1,2,3]\n",
    "l2 = [1,4,5,6]\n",
    "l1.append(l2)\n",
    "l1"
   ]
  },
  {
   "cell_type": "code",
   "execution_count": 26,
   "id": "92e38a82-17e8-441f-a0ed-9344e7b03280",
   "metadata": {},
   "outputs": [
    {
     "data": {
      "text/plain": [
       "'hello'"
      ]
     },
     "execution_count": 26,
     "metadata": {},
     "output_type": "execute_result"
    }
   ],
   "source": [
    "\"hello\""
   ]
  },
  {
   "cell_type": "code",
   "execution_count": 27,
   "id": "dc8bdaed-97fa-40be-b786-f20482801247",
   "metadata": {},
   "outputs": [],
   "source": [
    "l = [1,2,3,4]\n",
    "l.insert(2,100)"
   ]
  },
  {
   "cell_type": "code",
   "execution_count": 28,
   "id": "50c182e0-66b5-436e-a52a-731a82cc8919",
   "metadata": {},
   "outputs": [
    {
     "name": "stdout",
     "output_type": "stream",
     "text": [
      "[1, 2, 100, 3, 4]\n"
     ]
    }
   ],
   "source": [
    "print(l)"
   ]
  },
  {
   "cell_type": "code",
   "execution_count": 29,
   "id": "bd2ca5a0-08b6-4a78-96b0-a5a1f9c9124e",
   "metadata": {},
   "outputs": [
    {
     "data": {
      "text/plain": [
       "4"
      ]
     },
     "execution_count": 29,
     "metadata": {},
     "output_type": "execute_result"
    }
   ],
   "source": [
    "l.pop()"
   ]
  },
  {
   "cell_type": "code",
   "execution_count": 30,
   "id": "36023e84-1a2b-4a8e-83ca-253335948808",
   "metadata": {},
   "outputs": [
    {
     "data": {
      "text/plain": [
       "[1, 2, 100, 3]"
      ]
     },
     "execution_count": 30,
     "metadata": {},
     "output_type": "execute_result"
    }
   ],
   "source": [
    "l"
   ]
  },
  {
   "cell_type": "code",
   "execution_count": 31,
   "id": "9dd5d131-9d5e-403d-8ff4-fb86783dbae8",
   "metadata": {},
   "outputs": [
    {
     "data": {
      "text/plain": [
       "100"
      ]
     },
     "execution_count": 31,
     "metadata": {},
     "output_type": "execute_result"
    }
   ],
   "source": [
    "l.pop(2)"
   ]
  },
  {
   "cell_type": "code",
   "execution_count": 32,
   "id": "1ef16eb3-e8ae-4bd7-903d-c9cfd793c42d",
   "metadata": {},
   "outputs": [
    {
     "data": {
      "text/plain": [
       "[1, 2, 3]"
      ]
     },
     "execution_count": 32,
     "metadata": {},
     "output_type": "execute_result"
    }
   ],
   "source": [
    "l"
   ]
  },
  {
   "cell_type": "code",
   "execution_count": 33,
   "id": "ea190750-6534-4909-8612-4e25882b92e1",
   "metadata": {},
   "outputs": [
    {
     "data": {
      "text/plain": [
       "[1, 2, 3, 1, 4, 5, 6, 1, 4, 5, 6]"
      ]
     },
     "execution_count": 33,
     "metadata": {},
     "output_type": "execute_result"
    }
   ],
   "source": [
    "l3"
   ]
  },
  {
   "cell_type": "code",
   "execution_count": 35,
   "id": "54e492a9-8364-404e-8c99-6d8c4ee46cf3",
   "metadata": {},
   "outputs": [],
   "source": [
    "l3.sort()"
   ]
  },
  {
   "cell_type": "raw",
   "id": "f96c8160-e8fc-4ed0-b2bf-d70cb72b1f9d",
   "metadata": {},
   "source": [
    "l3"
   ]
  },
  {
   "cell_type": "code",
   "execution_count": 36,
   "id": "690527d7-27d6-4ea6-966b-be5bce1c3758",
   "metadata": {},
   "outputs": [
    {
     "name": "stdout",
     "output_type": "stream",
     "text": [
      "[1, 1, 1, 2, 3, 4, 4, 5, 5, 6, 6]\n"
     ]
    }
   ],
   "source": [
    "print(l3)"
   ]
  },
  {
   "cell_type": "code",
   "execution_count": 37,
   "id": "ed950626-8fd6-4638-8f93-83b2d85c8dd1",
   "metadata": {},
   "outputs": [
    {
     "data": {
      "text/plain": [
       "[1, 1, 1, 2, 3, 4, 4, 5, 5, 6, 6]"
      ]
     },
     "execution_count": 37,
     "metadata": {},
     "output_type": "execute_result"
    }
   ],
   "source": [
    "l3"
   ]
  },
  {
   "cell_type": "code",
   "execution_count": 38,
   "id": "28b4d313-e627-4764-b11c-3c8c69dfb74b",
   "metadata": {},
   "outputs": [
    {
     "data": {
      "text/plain": [
       "[3, 4, 1, 2, 5, 1, 6]"
      ]
     },
     "execution_count": 38,
     "metadata": {},
     "output_type": "execute_result"
    }
   ],
   "source": [
    "l = [1,3,4,1,2,5,1,6]\n",
    "l.remove(1)\n",
    "l"
   ]
  },
  {
   "cell_type": "code",
   "execution_count": 41,
   "id": "4b6eb409-ca12-41df-b5fd-7468434259b3",
   "metadata": {},
   "outputs": [],
   "source": [
    "l.remove(1)"
   ]
  },
  {
   "cell_type": "code",
   "execution_count": 42,
   "id": "e626378d-77a6-472a-9de8-4f8b0d6e570f",
   "metadata": {},
   "outputs": [
    {
     "data": {
      "text/plain": [
       "[3, 4, 2, 5, 6]"
      ]
     },
     "execution_count": 42,
     "metadata": {},
     "output_type": "execute_result"
    }
   ],
   "source": [
    "l"
   ]
  },
  {
   "cell_type": "code",
   "execution_count": 44,
   "id": "ac60e02b-3609-4f24-97d8-307bd09730d6",
   "metadata": {},
   "outputs": [
    {
     "name": "stdin",
     "output_type": "stream",
     "text": [
      " 1\n",
      " 2\n",
      " 3\n",
      " 4\n",
      " 5\n"
     ]
    }
   ],
   "source": [
    "i = 0\n",
    "n = 5\n",
    "l = []\n",
    "while(i<n):\n",
    "    l.append(int(input()))\n",
    "    i+=1"
   ]
  },
  {
   "cell_type": "code",
   "execution_count": 45,
   "id": "1a9bf20a-50fb-446e-9b2c-c14903f8314b",
   "metadata": {},
   "outputs": [
    {
     "data": {
      "text/plain": [
       "[1, 2, 3, 4, 5]"
      ]
     },
     "execution_count": 45,
     "metadata": {},
     "output_type": "execute_result"
    }
   ],
   "source": [
    "l"
   ]
  },
  {
   "cell_type": "code",
   "execution_count": 47,
   "id": "68d99cf1-610a-41fb-be7e-36f52c330474",
   "metadata": {},
   "outputs": [
    {
     "name": "stdin",
     "output_type": "stream",
     "text": [
      " 1\n",
      " 2\n",
      " 3\n",
      " 4\n",
      " 5\n"
     ]
    }
   ],
   "source": [
    "l = []\n",
    "n = 5\n",
    "for i in range(n):\n",
    "    l.append(int(input()))\n",
    "    "
   ]
  },
  {
   "cell_type": "code",
   "execution_count": 48,
   "id": "8cf1606f-400e-43fe-b7da-01fc1ba14d8c",
   "metadata": {},
   "outputs": [
    {
     "data": {
      "text/plain": [
       "[1, 2, 3, 4, 5]"
      ]
     },
     "execution_count": 48,
     "metadata": {},
     "output_type": "execute_result"
    }
   ],
   "source": [
    "l"
   ]
  },
  {
   "cell_type": "code",
   "execution_count": 49,
   "id": "f4cd3d2e-c8b5-4593-851d-360cb606fb5d",
   "metadata": {},
   "outputs": [],
   "source": [
    "l = []\n",
    "n = 5\n",
    "for i in range(n):\n",
    "    l.append(2*i+3)"
   ]
  },
  {
   "cell_type": "code",
   "execution_count": 50,
   "id": "963be523-9fbb-48b6-9059-8d5627ae06b1",
   "metadata": {},
   "outputs": [
    {
     "data": {
      "text/plain": [
       "[3, 5, 7, 9, 11]"
      ]
     },
     "execution_count": 50,
     "metadata": {},
     "output_type": "execute_result"
    }
   ],
   "source": [
    "l"
   ]
  },
  {
   "cell_type": "code",
   "execution_count": 51,
   "id": "7a54707e-f15f-4116-85f9-4d14962d7b03",
   "metadata": {},
   "outputs": [
    {
     "data": {
      "text/plain": [
       "([3, 5, 7, 9, 11], 5)"
      ]
     },
     "execution_count": 51,
     "metadata": {},
     "output_type": "execute_result"
    }
   ],
   "source": [
    "l,len(l)"
   ]
  },
  {
   "cell_type": "code",
   "execution_count": 52,
   "id": "f9de0268-6927-4871-a9dd-5ccc0cc5ce30",
   "metadata": {},
   "outputs": [
    {
     "data": {
      "text/plain": [
       "([0, 4, 16, 36, 64], 5)"
      ]
     },
     "execution_count": 52,
     "metadata": {},
     "output_type": "execute_result"
    }
   ],
   "source": [
    "l = [i**2 for i in range(10) if (i % 2 == 0)]\n",
    "l,len(l)"
   ]
  },
  {
   "cell_type": "code",
   "execution_count": 53,
   "id": "c17d25f0-dc3e-444d-979d-3ed43f8b1fda",
   "metadata": {},
   "outputs": [],
   "source": [
    "l = [0]*10"
   ]
  },
  {
   "cell_type": "code",
   "execution_count": 54,
   "id": "acfc5e5d-e82f-4953-b80d-a7f31181c08e",
   "metadata": {},
   "outputs": [
    {
     "data": {
      "text/plain": [
       "[0, 0, 0, 0, 0, 0, 0, 0, 0, 0]"
      ]
     },
     "execution_count": 54,
     "metadata": {},
     "output_type": "execute_result"
    }
   ],
   "source": [
    "l"
   ]
  },
  {
   "cell_type": "code",
   "execution_count": 55,
   "id": "16b5c361-2e3c-4ae7-ab2e-fc9bbd4430b9",
   "metadata": {},
   "outputs": [
    {
     "data": {
      "text/plain": [
       "10"
      ]
     },
     "execution_count": 55,
     "metadata": {},
     "output_type": "execute_result"
    }
   ],
   "source": [
    "len(l)"
   ]
  },
  {
   "cell_type": "code",
   "execution_count": 56,
   "id": "6dab69e7-6766-4702-a956-0e5278a93f76",
   "metadata": {},
   "outputs": [],
   "source": [
    "l = [i+1 for i in range(10)]"
   ]
  },
  {
   "cell_type": "code",
   "execution_count": 57,
   "id": "3666f138-67d2-44cb-9923-00e3fb29e68d",
   "metadata": {},
   "outputs": [
    {
     "data": {
      "text/plain": [
       "[1, 2, 3, 4, 5, 6, 7, 8, 9, 10]"
      ]
     },
     "execution_count": 57,
     "metadata": {},
     "output_type": "execute_result"
    }
   ],
   "source": [
    "l"
   ]
  },
  {
   "cell_type": "code",
   "execution_count": 58,
   "id": "c746fe23-f814-46bc-b137-60ec571f0c52",
   "metadata": {},
   "outputs": [
    {
     "data": {
      "text/plain": [
       "[4, 5, 6, 7]"
      ]
     },
     "execution_count": 58,
     "metadata": {},
     "output_type": "execute_result"
    }
   ],
   "source": [
    "l[3:7:1]"
   ]
  },
  {
   "cell_type": "code",
   "execution_count": 59,
   "id": "93271220-fa1c-4901-8f6b-e2da75c0a72e",
   "metadata": {},
   "outputs": [
    {
     "data": {
      "text/plain": [
       "[4, 5, 6, 7]"
      ]
     },
     "execution_count": 59,
     "metadata": {},
     "output_type": "execute_result"
    }
   ],
   "source": [
    "l[3:7]"
   ]
  },
  {
   "cell_type": "code",
   "execution_count": 60,
   "id": "6937e8fd-127a-47d6-99eb-e5272370d9ad",
   "metadata": {},
   "outputs": [
    {
     "data": {
      "text/plain": [
       "[1, 2, 3, 4, 5, 6, 7]"
      ]
     },
     "execution_count": 60,
     "metadata": {},
     "output_type": "execute_result"
    }
   ],
   "source": [
    "l[:7]"
   ]
  },
  {
   "cell_type": "code",
   "execution_count": 61,
   "id": "4823da28-a0d1-4b35-9742-9d43604b02b6",
   "metadata": {},
   "outputs": [
    {
     "data": {
      "text/plain": [
       "[10, 9, 8, 7, 6, 5, 4, 3, 2, 1]"
      ]
     },
     "execution_count": 61,
     "metadata": {},
     "output_type": "execute_result"
    }
   ],
   "source": [
    "l[::-1]"
   ]
  },
  {
   "cell_type": "code",
   "execution_count": 62,
   "id": "3450f7f9-ae6f-478c-9128-d94af643a970",
   "metadata": {},
   "outputs": [
    {
     "data": {
      "text/plain": [
       "[10]"
      ]
     },
     "execution_count": 62,
     "metadata": {},
     "output_type": "execute_result"
    }
   ],
   "source": [
    "l[9::2]"
   ]
  },
  {
   "cell_type": "code",
   "execution_count": null,
   "id": "cee1e198-29e6-4180-a738-88a02b983895",
   "metadata": {},
   "outputs": [],
   "source": []
  },
  {
   "cell_type": "code",
   "execution_count": 63,
   "id": "97c68ccf-1b2d-45a5-bf4e-fd29fd7f06bb",
   "metadata": {},
   "outputs": [
    {
     "data": {
      "text/plain": [
       "[[1, 2, 3], [4, 5, 6]]"
      ]
     },
     "execution_count": 63,
     "metadata": {},
     "output_type": "execute_result"
    }
   ],
   "source": [
    "l1 = [1,2,3]\n",
    "l2 = [4,5,6]\n",
    "l3 = [l1,l2]\n",
    "l3"
   ]
  },
  {
   "cell_type": "code",
   "execution_count": 64,
   "id": "0c8cd61e-a385-4d69-97b5-b73d9232e460",
   "metadata": {},
   "outputs": [
    {
     "data": {
      "text/plain": [
       "6"
      ]
     },
     "execution_count": 64,
     "metadata": {},
     "output_type": "execute_result"
    }
   ],
   "source": [
    "l3[1][2]"
   ]
  },
  {
   "cell_type": "code",
   "execution_count": 69,
   "id": "5a33f8e6-82b2-42eb-b9df-5007f8620718",
   "metadata": {},
   "outputs": [
    {
     "data": {
      "text/plain": [
       "[[[0, 1, 2], [0, 1, 2], [0, 1, 2], [0, 1, 2], [0, 1, 2]],\n",
       " [[0, 1, 2], [0, 1, 2], [0, 1, 2], [0, 1, 2], [0, 1, 2]]]"
      ]
     },
     "execution_count": 69,
     "metadata": {},
     "output_type": "execute_result"
    }
   ],
   "source": [
    "m = 5\n",
    "n = 3\n",
    "l = [[[i for i in range(n)] for j in range(m)] for k in range(2)]\n",
    "l"
   ]
  },
  {
   "cell_type": "code",
   "execution_count": null,
   "id": "d42220a1-b69a-498f-bd49-bb1a94280e77",
   "metadata": {},
   "outputs": [],
   "source": []
  },
  {
   "cell_type": "code",
   "execution_count": null,
   "id": "a6e7cd39-c410-4d65-aaf9-e8ba42417b92",
   "metadata": {},
   "outputs": [],
   "source": []
  },
  {
   "cell_type": "code",
   "execution_count": 70,
   "id": "4ccac5ff-67b9-4cda-9a7e-06532905145a",
   "metadata": {},
   "outputs": [],
   "source": [
    "# tuple"
   ]
  },
  {
   "cell_type": "code",
   "execution_count": 71,
   "id": "c22a8dae-9279-4f18-893d-c9f01476ecf7",
   "metadata": {},
   "outputs": [],
   "source": [
    "t = (1,2,3,4)"
   ]
  },
  {
   "cell_type": "code",
   "execution_count": 72,
   "id": "e0467c3b-6d2a-4a54-b68d-843fabf154f5",
   "metadata": {},
   "outputs": [
    {
     "data": {
      "text/plain": [
       "(1, 2, 3, 4)"
      ]
     },
     "execution_count": 72,
     "metadata": {},
     "output_type": "execute_result"
    }
   ],
   "source": [
    "t"
   ]
  },
  {
   "cell_type": "code",
   "execution_count": 73,
   "id": "97db27fd-9230-4c4d-bd66-ec3360ab63bb",
   "metadata": {},
   "outputs": [
    {
     "data": {
      "text/plain": [
       "tuple"
      ]
     },
     "execution_count": 73,
     "metadata": {},
     "output_type": "execute_result"
    }
   ],
   "source": [
    "type(t)"
   ]
  },
  {
   "cell_type": "code",
   "execution_count": 74,
   "id": "a52702f6-98c9-442b-b833-06aea8053b23",
   "metadata": {},
   "outputs": [
    {
     "data": {
      "text/plain": [
       "4"
      ]
     },
     "execution_count": 74,
     "metadata": {},
     "output_type": "execute_result"
    }
   ],
   "source": [
    "t[-1]"
   ]
  },
  {
   "cell_type": "code",
   "execution_count": 75,
   "id": "d401c2b5-b6fe-4b06-b434-ec113c62465f",
   "metadata": {},
   "outputs": [
    {
     "ename": "TypeError",
     "evalue": "'tuple' object does not support item assignment",
     "output_type": "error",
     "traceback": [
      "\u001b[31m---------------------------------------------------------------------------\u001b[39m",
      "\u001b[31mTypeError\u001b[39m                                 Traceback (most recent call last)",
      "\u001b[36mCell\u001b[39m\u001b[36m \u001b[39m\u001b[32mIn[75]\u001b[39m\u001b[32m, line 1\u001b[39m\n\u001b[32m----> \u001b[39m\u001b[32m1\u001b[39m \u001b[43mt\u001b[49m\u001b[43m[\u001b[49m\u001b[32;43m1\u001b[39;49m\u001b[43m]\u001b[49m = \u001b[32m100\u001b[39m\n",
      "\u001b[31mTypeError\u001b[39m: 'tuple' object does not support item assignment"
     ]
    }
   ],
   "source": [
    "t[1] = 100"
   ]
  },
  {
   "cell_type": "code",
   "execution_count": 77,
   "id": "c7c98822-b533-4bff-82c4-63c741fdc7f9",
   "metadata": {},
   "outputs": [
    {
     "data": {
      "text/plain": [
       "(1, 100, 3, 4)"
      ]
     },
     "execution_count": 77,
     "metadata": {},
     "output_type": "execute_result"
    }
   ],
   "source": [
    "l = list(t)\n",
    "l[1] = 100\n",
    "t = tuple(l)\n",
    "t"
   ]
  },
  {
   "cell_type": "code",
   "execution_count": null,
   "id": "cce48c00-4639-4bc9-b56f-7e46efdeb6cf",
   "metadata": {},
   "outputs": [],
   "source": []
  },
  {
   "cell_type": "code",
   "execution_count": 78,
   "id": "000b4eed-66c9-4803-b965-d66e21489aca",
   "metadata": {},
   "outputs": [
    {
     "data": {
      "text/plain": [
       "(1,)"
      ]
     },
     "execution_count": 78,
     "metadata": {},
     "output_type": "execute_result"
    }
   ],
   "source": [
    "# single tuple ke liye\n",
    "t = (1,)\n",
    "t"
   ]
  },
  {
   "cell_type": "code",
   "execution_count": 79,
   "id": "9c5e5d76-2dc1-4984-89e6-9b6be78be74b",
   "metadata": {},
   "outputs": [
    {
     "data": {
      "text/plain": [
       "tuple"
      ]
     },
     "execution_count": 79,
     "metadata": {},
     "output_type": "execute_result"
    }
   ],
   "source": [
    "type(t)"
   ]
  },
  {
   "cell_type": "code",
   "execution_count": 80,
   "id": "475cf28f-5455-4813-bb12-addbc5cc2de7",
   "metadata": {},
   "outputs": [],
   "source": [
    "t = (1)\n"
   ]
  },
  {
   "cell_type": "code",
   "execution_count": 81,
   "id": "9c3f9298-70b3-4482-a0cd-87a7212111f1",
   "metadata": {},
   "outputs": [
    {
     "data": {
      "text/plain": [
       "int"
      ]
     },
     "execution_count": 81,
     "metadata": {},
     "output_type": "execute_result"
    }
   ],
   "source": [
    "type(t)"
   ]
  },
  {
   "cell_type": "code",
   "execution_count": 82,
   "id": "8588e12f-ecd5-4cb1-b430-2387eb68ca0e",
   "metadata": {},
   "outputs": [],
   "source": [
    "t = 1,2,3,4"
   ]
  },
  {
   "cell_type": "code",
   "execution_count": 83,
   "id": "f555d05d-91a3-4f4a-9d56-1161e62134f1",
   "metadata": {},
   "outputs": [
    {
     "data": {
      "text/plain": [
       "((1, 2, 3, 4), tuple)"
      ]
     },
     "execution_count": 83,
     "metadata": {},
     "output_type": "execute_result"
    }
   ],
   "source": [
    "t,type(t)"
   ]
  },
  {
   "cell_type": "code",
   "execution_count": 84,
   "id": "cb68ce8c-022d-4df2-95c2-81e853135d27",
   "metadata": {},
   "outputs": [
    {
     "data": {
      "text/plain": [
       "(1, 2, 3, 4)"
      ]
     },
     "execution_count": 84,
     "metadata": {},
     "output_type": "execute_result"
    }
   ],
   "source": [
    "t"
   ]
  },
  {
   "cell_type": "code",
   "execution_count": 87,
   "id": "8336d181-84c0-4fed-b1a5-31742f9fd740",
   "metadata": {},
   "outputs": [
    {
     "name": "stdout",
     "output_type": "stream",
     "text": [
      "1 2 3 4\n"
     ]
    }
   ],
   "source": [
    "a,b,c,d = t\n",
    "print(a,b,c,d)\n"
   ]
  },
  {
   "cell_type": "code",
   "execution_count": null,
   "id": "eb4d6988-9e05-43f7-8caa-b29cac5a85fd",
   "metadata": {},
   "outputs": [],
   "source": [
    " "
   ]
  },
  {
   "cell_type": "code",
   "execution_count": 92,
   "id": "cf1d9b16-ed54-431b-a08c-61bc118e4032",
   "metadata": {},
   "outputs": [
    {
     "name": "stdout",
     "output_type": "stream",
     "text": [
      "1 2 3 4\n"
     ]
    }
   ],
   "source": [
    "l = [1,2,3,4]\n",
    "a,b,c,d = l \n",
    "print(a,b,c,d)"
   ]
  },
  {
   "cell_type": "code",
   "execution_count": 93,
   "id": "22ed9f7e-3148-4232-bf24-20701600a37d",
   "metadata": {},
   "outputs": [
    {
     "data": {
      "text/plain": [
       "(1, 2, 3, 4)"
      ]
     },
     "execution_count": 93,
     "metadata": {},
     "output_type": "execute_result"
    }
   ],
   "source": [
    "a,b,c,d\n"
   ]
  },
  {
   "cell_type": "code",
   "execution_count": null,
   "id": "561231f5-5924-414b-89a3-3604c26a839e",
   "metadata": {},
   "outputs": [],
   "source": []
  },
  {
   "cell_type": "code",
   "execution_count": 96,
   "id": "0e3b15c9-337c-42a3-9887-ac417ebb97c4",
   "metadata": {},
   "outputs": [],
   "source": [
    "t = (1,2,3,4,5)\n",
    "a,b,*c = t"
   ]
  },
  {
   "cell_type": "code",
   "execution_count": 97,
   "id": "996239dc-bc52-4b03-bb7b-bd5ee47507e2",
   "metadata": {},
   "outputs": [
    {
     "name": "stdout",
     "output_type": "stream",
     "text": [
      "1 2 [3, 4, 5]\n"
     ]
    }
   ],
   "source": [
    "print(a,b,c)"
   ]
  },
  {
   "cell_type": "code",
   "execution_count": null,
   "id": "933b6c0b-3566-4c60-bc28-b82a44985247",
   "metadata": {},
   "outputs": [],
   "source": []
  },
  {
   "cell_type": "code",
   "execution_count": 100,
   "id": "633ea6be-abea-40e2-9ad5-807858dd00b3",
   "metadata": {},
   "outputs": [
    {
     "name": "stdout",
     "output_type": "stream",
     "text": [
      "1 5 [2, 3, 4]\n"
     ]
    }
   ],
   "source": [
    "a,*c, b = t\n",
    "print(a,b,c)"
   ]
  },
  {
   "cell_type": "code",
   "execution_count": null,
   "id": "3359b285-1fba-4191-8eb6-e0df89743f27",
   "metadata": {},
   "outputs": [],
   "source": []
  },
  {
   "cell_type": "code",
   "execution_count": 101,
   "id": "e6c05c0f-771f-4cea-b107-125881a81cb8",
   "metadata": {},
   "outputs": [],
   "source": [
    "# 2d list\n",
    "\n",
    "\n"
   ]
  },
  {
   "cell_type": "raw",
   "id": "8bfc8e2f-6deb-462e-a12e-5dd843f9edf9",
   "metadata": {},
   "source": []
  },
  {
   "cell_type": "code",
   "execution_count": 102,
   "id": "67a12535-bc4c-4363-a843-a271968be178",
   "metadata": {},
   "outputs": [
    {
     "data": {
      "text/plain": [
       "[[1, 2, 3, 4], [3, 4, 5, 6], [4, 5, 6, 7]]"
      ]
     },
     "execution_count": 102,
     "metadata": {},
     "output_type": "execute_result"
    }
   ],
   "source": [
    "l1 = [1,2,3,4]\n",
    "l2 = [3,4,5,6]\n",
    "l3 = [4,5,6,7]\n",
    "L = [l1,l2,l3]\n",
    "L"
   ]
  },
  {
   "cell_type": "code",
   "execution_count": 104,
   "id": "817963e1-e845-4553-8489-3c13dc7ceacf",
   "metadata": {},
   "outputs": [
    {
     "name": "stdout",
     "output_type": "stream",
     "text": [
      "[[1, 2, 3, 4], [3, 4, 5, 6], [4, 5, 6, 7]]\n",
      "[3, 4, 5, 6]\n",
      "5\n"
     ]
    }
   ],
   "source": [
    "print(L)\n",
    "print(L[1])\n",
    "print(L[1][2])"
   ]
  },
  {
   "cell_type": "code",
   "execution_count": 106,
   "id": "ad597284-6bb2-4463-960e-b11831b4ba87",
   "metadata": {},
   "outputs": [
    {
     "name": "stdin",
     "output_type": "stream",
     "text": [
      " 1\n",
      " 2\n",
      " 3\n",
      " 4\n",
      " 5\n",
      " 6\n",
      " 7\n",
      " 8\n",
      " 9\n",
      " 10\n",
      " 1\n",
      " 2\n"
     ]
    },
    {
     "data": {
      "text/plain": [
       "[[1, 2, 3, 4], [5, 6, 7, 8], [9, 10, 1, 2]]"
      ]
     },
     "execution_count": 106,
     "metadata": {},
     "output_type": "execute_result"
    }
   ],
   "source": [
    "rows = 3\n",
    "cols = 4\n",
    "l = []\n",
    "for i in range(rows):\n",
    "    l1 = []\n",
    "    for j in range(cols):\n",
    "        l1.append(int(input()))\n",
    "    l.append(l1)\n",
    "l"
   ]
  },
  {
   "cell_type": "code",
   "execution_count": 134,
   "id": "9f466bfc-34e6-48da-8c1b-8087329f6348",
   "metadata": {},
   "outputs": [
    {
     "name": "stdin",
     "output_type": "stream",
     "text": [
      " 1\n",
      " 2\n",
      " 3\n",
      " 4\n",
      " 5\n",
      " 6\n",
      " 7\n",
      " 8\n",
      " 9\n",
      " 1\n",
      " 2\n",
      " 3\n"
     ]
    }
   ],
   "source": [
    "l = [[int(input()) for j in range(cols) for i in range(rows)]]"
   ]
  },
  {
   "cell_type": "code",
   "execution_count": 135,
   "id": "e9c8bf98-892b-4ade-b9cd-c9598a9c00f9",
   "metadata": {},
   "outputs": [
    {
     "data": {
      "text/plain": [
       "[[1, 2, 3, 4, 5, 6, 7, 8, 9, 1, 2, 3]]"
      ]
     },
     "execution_count": 135,
     "metadata": {},
     "output_type": "execute_result"
    }
   ],
   "source": [
    "l"
   ]
  },
  {
   "cell_type": "code",
   "execution_count": 136,
   "id": "549e23cd-551e-4303-a21d-e122b8aac42a",
   "metadata": {},
   "outputs": [],
   "source": [
    "l = [[0]*cols]*rows"
   ]
  },
  {
   "cell_type": "code",
   "execution_count": 127,
   "id": "5b9b3bbb-4572-4e3c-9c68-4c05e10304f4",
   "metadata": {},
   "outputs": [
    {
     "data": {
      "text/plain": [
       "[[0, 0, 0, 0], [0, 0, 0, 0], [0, 0, 0, 0]]"
      ]
     },
     "execution_count": 127,
     "metadata": {},
     "output_type": "execute_result"
    }
   ],
   "source": [
    "l"
   ]
  },
  {
   "cell_type": "code",
   "execution_count": 137,
   "id": "ddd26f7f-45ff-4fbe-b501-d4b7d30aa357",
   "metadata": {},
   "outputs": [],
   "source": [
    "l[0][0] = 100\n"
   ]
  },
  {
   "cell_type": "code",
   "execution_count": 138,
   "id": "b680989e-a6ee-4f2e-8c42-d37daac5b461",
   "metadata": {},
   "outputs": [
    {
     "data": {
      "text/plain": [
       "[[100, 0, 0, 0], [100, 0, 0, 0], [100, 0, 0, 0]]"
      ]
     },
     "execution_count": 138,
     "metadata": {},
     "output_type": "execute_result"
    }
   ],
   "source": [
    "l"
   ]
  },
  {
   "cell_type": "code",
   "execution_count": null,
   "id": "fa6314db-10c3-416a-8f77-feacca6307c1",
   "metadata": {},
   "outputs": [],
   "source": []
  },
  {
   "cell_type": "code",
   "execution_count": null,
   "id": "6e5553bc-1c9d-43ae-a9f4-28cabd00db92",
   "metadata": {},
   "outputs": [],
   "source": []
  }
 ],
 "metadata": {
  "kernelspec": {
   "display_name": "Python 3 (ipykernel)",
   "language": "python",
   "name": "python3"
  },
  "language_info": {
   "codemirror_mode": {
    "name": "ipython",
    "version": 3
   },
   "file_extension": ".py",
   "mimetype": "text/x-python",
   "name": "python",
   "nbconvert_exporter": "python",
   "pygments_lexer": "ipython3",
   "version": "3.13.4"
  }
 },
 "nbformat": 4,
 "nbformat_minor": 5
}
