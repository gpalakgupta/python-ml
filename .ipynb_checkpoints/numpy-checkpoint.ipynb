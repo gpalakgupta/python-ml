{
 "cells": [
  {
   "cell_type": "code",
   "execution_count": 1,
   "id": "6f50897a-aebb-4ee1-a2fe-bcd4b3f13519",
   "metadata": {},
   "outputs": [
    {
     "name": "stdout",
     "output_type": "stream",
     "text": [
      "2.3.1\n"
     ]
    }
   ],
   "source": [
    "import numpy as np\n",
    "print(np.__version__)"
   ]
  },
  {
   "cell_type": "code",
   "execution_count": 2,
   "id": "472b085f-e444-48e4-9b42-c454f62a62c4",
   "metadata": {},
   "outputs": [],
   "source": [
    "l1 = [1,2,3,4,5]\n",
    "l2 = [[1,2,3],[4,5,6]]\n",
    "l3 = [[[1,2,3],[4,5,6]],[[10,20,30],[40,50,60]],[[100,200,300],[400,500,600]]]"
   ]
  },
  {
   "cell_type": "code",
   "execution_count": 3,
   "id": "a16377e4-95aa-42d7-8c42-5bace315cee8",
   "metadata": {},
   "outputs": [
    {
     "data": {
      "text/plain": [
       "[[[1, 2, 3], [4, 5, 6]],\n",
       " [[10, 20, 30], [40, 50, 60]],\n",
       " [[100, 200, 300], [400, 500, 600]]]"
      ]
     },
     "execution_count": 3,
     "metadata": {},
     "output_type": "execute_result"
    }
   ],
   "source": [
    "l3"
   ]
  },
  {
   "cell_type": "code",
   "execution_count": 11,
   "id": "545a45a1-1ad6-4853-a00e-4976367ddb5a",
   "metadata": {},
   "outputs": [],
   "source": [
    "n1 = np.array(l1)\n",
    "n2 = np.array(l2)\n",
    "n3 = np.array(l3)"
   ]
  },
  {
   "cell_type": "code",
   "execution_count": 12,
   "id": "1f734f65-87b0-497b-99df-81eb2caccb26",
   "metadata": {},
   "outputs": [
    {
     "name": "stdout",
     "output_type": "stream",
     "text": [
      "[1 2 3 4 5] <class 'numpy.ndarray'>\n"
     ]
    }
   ],
   "source": [
    "print(n1,type(n1))"
   ]
  },
  {
   "cell_type": "code",
   "execution_count": 13,
   "id": "c91a46d4-c4a1-41fd-a00b-0c3232f746e6",
   "metadata": {},
   "outputs": [],
   "source": [
    "# numpy mei hum number of elements change nhi kr skte hai bss yhi diff hai\n",
    "# numpy aur list mei  aur numpy fast hoti hai list ke comparision mei"
   ]
  },
  {
   "cell_type": "code",
   "execution_count": 14,
   "id": "b286de5a-060a-4387-a19a-c8f6103b2e14",
   "metadata": {},
   "outputs": [
    {
     "data": {
      "text/plain": [
       "6"
      ]
     },
     "execution_count": 14,
     "metadata": {},
     "output_type": "execute_result"
    }
   ],
   "source": [
    "l3[0][1][2]"
   ]
  },
  {
   "cell_type": "code",
   "execution_count": 15,
   "id": "5ac02f6f-dc9c-43f1-abd2-61a14d96967d",
   "metadata": {},
   "outputs": [
    {
     "data": {
      "text/plain": [
       "np.int64(6)"
      ]
     },
     "execution_count": 15,
     "metadata": {},
     "output_type": "execute_result"
    }
   ],
   "source": [
    "n3[0][1][2]"
   ]
  },
  {
   "cell_type": "code",
   "execution_count": 16,
   "id": "9495db77-dec3-42da-b75d-562a6f0b03ce",
   "metadata": {},
   "outputs": [
    {
     "data": {
      "text/plain": [
       "np.int64(6)"
      ]
     },
     "execution_count": 16,
     "metadata": {},
     "output_type": "execute_result"
    }
   ],
   "source": [
    "n3[0,1,2]"
   ]
  },
  {
   "cell_type": "code",
   "execution_count": 10,
   "id": "b0bcd585-8c83-400b-80ff-2e393fb2e486",
   "metadata": {},
   "outputs": [
    {
     "data": {
      "text/plain": [
       "(5,)"
      ]
     },
     "execution_count": 10,
     "metadata": {},
     "output_type": "execute_result"
    }
   ],
   "source": [
    "n1.shape"
   ]
  },
  {
   "cell_type": "code",
   "execution_count": 18,
   "id": "40adf3bf-968e-4978-82b8-2513af7d7c6b",
   "metadata": {},
   "outputs": [
    {
     "data": {
      "text/plain": [
       "(2, 3)"
      ]
     },
     "execution_count": 18,
     "metadata": {},
     "output_type": "execute_result"
    }
   ],
   "source": [
    "n2.shape"
   ]
  },
  {
   "cell_type": "code",
   "execution_count": 19,
   "id": "9c0e5f61-150f-4ed8-ac45-b05be473c64e",
   "metadata": {},
   "outputs": [
    {
     "data": {
      "text/plain": [
       "(3, 2, 3)"
      ]
     },
     "execution_count": 19,
     "metadata": {},
     "output_type": "execute_result"
    }
   ],
   "source": [
    "n3.shape"
   ]
  },
  {
   "cell_type": "code",
   "execution_count": 20,
   "id": "bf5fc826-7ff6-449a-891d-ab0132569bb4",
   "metadata": {},
   "outputs": [],
   "source": [
    "# shape basically hame dimension batata hai \n",
    "# ndim , it basically tells num of dimensions i have"
   ]
  },
  {
   "cell_type": "code",
   "execution_count": 21,
   "id": "1b9ff94e-ac5d-40ef-83b3-2d624db43d12",
   "metadata": {},
   "outputs": [
    {
     "data": {
      "text/plain": [
       "3"
      ]
     },
     "execution_count": 21,
     "metadata": {},
     "output_type": "execute_result"
    }
   ],
   "source": [
    "n3.ndim"
   ]
  },
  {
   "cell_type": "code",
   "execution_count": 22,
   "id": "01bfb149-4b99-44bd-8f11-44115247c64a",
   "metadata": {},
   "outputs": [
    {
     "data": {
      "text/plain": [
       "np.int64(600)"
      ]
     },
     "execution_count": 22,
     "metadata": {},
     "output_type": "execute_result"
    }
   ],
   "source": [
    "# negative indexing is also allowed\n",
    "n3[-1,1,-1]"
   ]
  },
  {
   "cell_type": "code",
   "execution_count": 23,
   "id": "fe2d2c60-d9f3-4a79-9706-2276d62a58bd",
   "metadata": {},
   "outputs": [
    {
     "data": {
      "text/plain": [
       "dtype('int64')"
      ]
     },
     "execution_count": 23,
     "metadata": {},
     "output_type": "execute_result"
    }
   ],
   "source": [
    "# dtype means numpy ka datatype\n",
    "n3.dtype"
   ]
  },
  {
   "cell_type": "code",
   "execution_count": 24,
   "id": "960c33be-853f-487f-aeda-d9ebe14b9fd4",
   "metadata": {},
   "outputs": [],
   "source": [
    "n3 = np.array(l3,dtype='float32')"
   ]
  },
  {
   "cell_type": "code",
   "execution_count": 25,
   "id": "ce8160c9-f347-4788-af5a-6b1ce0df514a",
   "metadata": {},
   "outputs": [
    {
     "data": {
      "text/plain": [
       "array([[[  1.,   2.,   3.],\n",
       "        [  4.,   5.,   6.]],\n",
       "\n",
       "       [[ 10.,  20.,  30.],\n",
       "        [ 40.,  50.,  60.]],\n",
       "\n",
       "       [[100., 200., 300.],\n",
       "        [400., 500., 600.]]], dtype=float32)"
      ]
     },
     "execution_count": 25,
     "metadata": {},
     "output_type": "execute_result"
    }
   ],
   "source": [
    "n3"
   ]
  },
  {
   "cell_type": "code",
   "execution_count": 30,
   "id": "35002459-af46-47c2-a394-46644ecc013c",
   "metadata": {},
   "outputs": [
    {
     "data": {
      "text/plain": [
       "(array([[[  1.,   2.,   3.],\n",
       "         [  4.,   5.,   6.]],\n",
       " \n",
       "        [[ 10.,  20.,  30.],\n",
       "         [ 40.,  50.,  60.]],\n",
       " \n",
       "        [[100., 200., 300.],\n",
       "         [400., 500., 600.]]]),\n",
       " dtype('float64'))"
      ]
     },
     "execution_count": 30,
     "metadata": {},
     "output_type": "execute_result"
    }
   ],
   "source": [
    "n3 = np.array(l3,dtype='f8')\n",
    "n3,n3.dtype"
   ]
  },
  {
   "cell_type": "code",
   "execution_count": 29,
   "id": "9fbbb7fb-d75f-4af2-8de7-361682b53489",
   "metadata": {},
   "outputs": [
    {
     "data": {
      "text/plain": [
       "np.float64(6.0)"
      ]
     },
     "execution_count": 29,
     "metadata": {},
     "output_type": "execute_result"
    }
   ],
   "source": [
    "n3[0,1,2]"
   ]
  },
  {
   "cell_type": "code",
   "execution_count": 32,
   "id": "9f2081ed-8ef6-41b6-92c7-ad67da0bf3bb",
   "metadata": {},
   "outputs": [
    {
     "name": "stdout",
     "output_type": "stream",
     "text": [
      "[[1. 2. 3.]\n",
      " [4. 5. 6.]] <class 'numpy.float64'>\n"
     ]
    }
   ],
   "source": [
    "print(n3[0],type(n3[0,0,0]))"
   ]
  },
  {
   "cell_type": "code",
   "execution_count": 35,
   "id": "48856721-4cd8-499e-8cfd-132ca3ccde6b",
   "metadata": {},
   "outputs": [
    {
     "ename": "ValueError",
     "evalue": "setting an array element with a sequence. The requested array has an inhomogeneous shape after 1 dimensions. The detected shape was (2,) + inhomogeneous part.",
     "output_type": "error",
     "traceback": [
      "\u001b[31m---------------------------------------------------------------------------\u001b[39m",
      "\u001b[31mValueError\u001b[39m                                Traceback (most recent call last)",
      "\u001b[36mCell\u001b[39m\u001b[36m \u001b[39m\u001b[32mIn[35]\u001b[39m\u001b[32m, line 2\u001b[39m\n\u001b[32m      1\u001b[39m l = [[\u001b[32m1\u001b[39m,\u001b[32m2\u001b[39m,\u001b[32m3\u001b[39m],[\u001b[32m4\u001b[39m,\u001b[32m5\u001b[39m]]\n\u001b[32m----> \u001b[39m\u001b[32m2\u001b[39m a = \u001b[43mnp\u001b[49m\u001b[43m.\u001b[49m\u001b[43marray\u001b[49m\u001b[43m(\u001b[49m\u001b[43ml\u001b[49m\u001b[43m)\u001b[49m\n\u001b[32m      3\u001b[39m a\n",
      "\u001b[31mValueError\u001b[39m: setting an array element with a sequence. The requested array has an inhomogeneous shape after 1 dimensions. The detected shape was (2,) + inhomogeneous part."
     ]
    }
   ],
   "source": [
    "l = [[1,2,3],[4,5]]\n",
    "a = np.array(l)\n",
    "a"
   ]
  },
  {
   "cell_type": "code",
   "execution_count": 36,
   "id": "e970e7f4-0058-4807-87ca-9a5aefc9fd27",
   "metadata": {},
   "outputs": [
    {
     "data": {
      "text/plain": [
       "array([[1, 2, 3],\n",
       "       [4, 5, 6]])"
      ]
     },
     "execution_count": 36,
     "metadata": {},
     "output_type": "execute_result"
    }
   ],
   "source": [
    "l = [[1,2,3],[4,5,6]]\n",
    "a = np.array(l)\n",
    "a"
   ]
  },
  {
   "cell_type": "code",
   "execution_count": 37,
   "id": "212ebf98-0a01-4629-8fe5-4f73617c1046",
   "metadata": {},
   "outputs": [],
   "source": [
    "# numpy mei homogenous values jati hai aur zig zag nhi ho skti\n"
   ]
  },
  {
   "cell_type": "code",
   "execution_count": 38,
   "id": "58d11a29-e5fb-4af4-807e-75d9144d5429",
   "metadata": {},
   "outputs": [
    {
     "data": {
      "text/plain": [
       "array([list([1, 2, 3]), list([4, 5])], dtype=object)"
      ]
     },
     "execution_count": 38,
     "metadata": {},
     "output_type": "execute_result"
    }
   ],
   "source": [
    "l = [[1,2,3],[4,5]]\n",
    "a = np.array(l,dtype='O')\n",
    "a"
   ]
  },
  {
   "cell_type": "code",
   "execution_count": 39,
   "id": "320fd6f1-6bd0-4ca8-b71b-35256dfc3af4",
   "metadata": {},
   "outputs": [],
   "source": [
    "# more creation methods: arange, linspace, ones, zeros, eye, diag"
   ]
  },
  {
   "cell_type": "code",
   "execution_count": 48,
   "id": "db5c7c80-8886-4aa3-8e48-52e93afb605a",
   "metadata": {},
   "outputs": [],
   "source": [
    "n1 = np.arange(1,101,4,dtype='f4')\n",
    "# start stop and step"
   ]
  },
  {
   "cell_type": "code",
   "execution_count": 49,
   "id": "66d4a97b-2c59-40cc-bd39-de715c34d262",
   "metadata": {},
   "outputs": [
    {
     "data": {
      "text/plain": [
       "array([ 1.,  5.,  9., 13., 17., 21., 25., 29., 33., 37., 41., 45., 49.,\n",
       "       53., 57., 61., 65., 69., 73., 77., 81., 85., 89., 93., 97.],\n",
       "      dtype=float32)"
      ]
     },
     "execution_count": 49,
     "metadata": {},
     "output_type": "execute_result"
    }
   ],
   "source": [
    "n1"
   ]
  },
  {
   "cell_type": "code",
   "execution_count": 50,
   "id": "d6232b73-98d0-4cac-a1d1-f1e041f5f10d",
   "metadata": {},
   "outputs": [],
   "source": [
    "# linspace \n",
    "# starting value stop thrid one is no. of argument"
   ]
  },
  {
   "cell_type": "code",
   "execution_count": 53,
   "id": "c750734e-17e9-4d5e-97b0-fd01643777b2",
   "metadata": {},
   "outputs": [
    {
     "data": {
      "text/plain": [
       "array([1.  , 1.25, 1.5 , 1.75, 2.  ])"
      ]
     },
     "execution_count": 53,
     "metadata": {},
     "output_type": "execute_result"
    }
   ],
   "source": [
    "np.linspace(1,2,5)"
   ]
  },
  {
   "cell_type": "code",
   "execution_count": 55,
   "id": "6aba6fa3-4b6c-49e7-aa83-4cf53124e54c",
   "metadata": {},
   "outputs": [
    {
     "data": {
      "text/plain": [
       "array([[[1., 1., 1.],\n",
       "        [1., 1., 1.],\n",
       "        [1., 1., 1.]],\n",
       "\n",
       "       [[1., 1., 1.],\n",
       "        [1., 1., 1.],\n",
       "        [1., 1., 1.]]])"
      ]
     },
     "execution_count": 55,
     "metadata": {},
     "output_type": "execute_result"
    }
   ],
   "source": [
    "# ones\n",
    "shape = [2,3,3]\n",
    "np.ones(shape)"
   ]
  },
  {
   "cell_type": "code",
   "execution_count": 56,
   "id": "509831b8-4820-4687-bd8f-18762c916091",
   "metadata": {},
   "outputs": [
    {
     "data": {
      "text/plain": [
       "array([[1., 1., 1.],\n",
       "       [1., 1., 1.]])"
      ]
     },
     "execution_count": 56,
     "metadata": {},
     "output_type": "execute_result"
    }
   ],
   "source": [
    "shape = [2,3]\n",
    "np.ones(shape)"
   ]
  },
  {
   "cell_type": "code",
   "execution_count": 57,
   "id": "bd7fb1e6-f3ba-47a0-96ce-cae2ab3b72dc",
   "metadata": {},
   "outputs": [
    {
     "data": {
      "text/plain": [
       "array([[[0., 0., 0.],\n",
       "        [0., 0., 0.],\n",
       "        [0., 0., 0.]],\n",
       "\n",
       "       [[0., 0., 0.],\n",
       "        [0., 0., 0.],\n",
       "        [0., 0., 0.]]])"
      ]
     },
     "execution_count": 57,
     "metadata": {},
     "output_type": "execute_result"
    }
   ],
   "source": [
    "# zeros\n",
    "shape = [2,3,3]\n",
    "np.zeros(shape)"
   ]
  },
  {
   "cell_type": "code",
   "execution_count": 58,
   "id": "bb59c6fe-5296-4554-b38a-ff5fab9bf5d8",
   "metadata": {},
   "outputs": [],
   "source": [
    "# eye\n",
    "# it basically gives an identity matrix"
   ]
  },
  {
   "cell_type": "code",
   "execution_count": 59,
   "id": "58145079-207f-4e35-936f-a2e674cfdb4b",
   "metadata": {},
   "outputs": [
    {
     "data": {
      "text/plain": [
       "array([[1., 0., 0., 0.],\n",
       "       [0., 1., 0., 0.],\n",
       "       [0., 0., 1., 0.],\n",
       "       [0., 0., 0., 1.]])"
      ]
     },
     "execution_count": 59,
     "metadata": {},
     "output_type": "execute_result"
    }
   ],
   "source": [
    "np.eye(4)"
   ]
  },
  {
   "cell_type": "code",
   "execution_count": 60,
   "id": "7ebf7bac-8bd9-42e6-bb17-7ae8fe4551c5",
   "metadata": {},
   "outputs": [
    {
     "data": {
      "text/plain": [
       "array([[1., 0., 0.],\n",
       "       [0., 1., 0.],\n",
       "       [0., 0., 1.],\n",
       "       [0., 0., 0.],\n",
       "       [0., 0., 0.]])"
      ]
     },
     "execution_count": 60,
     "metadata": {},
     "output_type": "execute_result"
    }
   ],
   "source": [
    "np.eye(5,3)"
   ]
  },
  {
   "cell_type": "code",
   "execution_count": 63,
   "id": "84d17a46-f30d-4512-bef4-5658dc9663e3",
   "metadata": {},
   "outputs": [
    {
     "data": {
      "text/plain": [
       "array([[1, 0, 0, 0],\n",
       "       [0, 2, 0, 0],\n",
       "       [0, 0, 3, 0],\n",
       "       [0, 0, 0, 4]])"
      ]
     },
     "execution_count": 63,
     "metadata": {},
     "output_type": "execute_result"
    }
   ],
   "source": [
    "# diag\n",
    "np.diag([1,2,3,4])"
   ]
  },
  {
   "cell_type": "code",
   "execution_count": null,
   "id": "7b10f2c3-c0aa-4592-98e5-0c4628432c1a",
   "metadata": {},
   "outputs": [],
   "source": []
  },
  {
   "cell_type": "code",
   "execution_count": null,
   "id": "7dd04d65-4e6e-402d-bbe6-1083e2592b3e",
   "metadata": {},
   "outputs": [],
   "source": []
  },
  {
   "cell_type": "code",
   "execution_count": 65,
   "id": "c8036333-b5c8-49a0-afb7-f26d17abce64",
   "metadata": {},
   "outputs": [
    {
     "data": {
      "text/plain": [
       "array([[0.31369612, 0.034076  , 0.77501426],\n",
       "       [0.97615035, 0.6756106 , 0.67999341]])"
      ]
     },
     "execution_count": 65,
     "metadata": {},
     "output_type": "execute_result"
    }
   ],
   "source": [
    "# numpy random module\n",
    "np.random.rand(2,3)"
   ]
  },
  {
   "cell_type": "code",
   "execution_count": 67,
   "id": "68e397db-1b30-4e7e-b935-1191bbae1154",
   "metadata": {},
   "outputs": [
    {
     "data": {
      "text/plain": [
       "array([[0.92207883, 0.49237005, 0.38585596],\n",
       "       [0.70433116, 0.17868389, 0.18532896]])"
      ]
     },
     "execution_count": 67,
     "metadata": {},
     "output_type": "execute_result"
    }
   ],
   "source": [
    "np.random.random(size=(2,3))\n",
    "# both are same bss syntax mei diff hai bss"
   ]
  },
  {
   "cell_type": "code",
   "execution_count": 74,
   "id": "ed165962-7203-4ac2-9493-6079a81698ed",
   "metadata": {},
   "outputs": [
    {
     "data": {
      "text/plain": [
       "array([[ 1.03336113, -0.3695513 ,  1.7168424 ],\n",
       "       [ 1.04890372, -0.18090016,  0.56949941]])"
      ]
     },
     "execution_count": 74,
     "metadata": {},
     "output_type": "execute_result"
    }
   ],
   "source": [
    "np.random.randn(2,3)\n",
    "# iski range -infinity to + infinity"
   ]
  },
  {
   "cell_type": "code",
   "execution_count": 75,
   "id": "252e5d3b-b0bf-49fa-923b-4393e918ab90",
   "metadata": {},
   "outputs": [
    {
     "data": {
      "text/plain": [
       "array([[11, 13, 10],\n",
       "       [18, 10, 12]], dtype=int32)"
      ]
     },
     "execution_count": 75,
     "metadata": {},
     "output_type": "execute_result"
    }
   ],
   "source": [
    "np.random.randint(10,20,size=(2,3))"
   ]
  },
  {
   "cell_type": "code",
   "execution_count": null,
   "id": "5c5bb8e1-759d-4ef6-af26-b5531bda7af2",
   "metadata": {},
   "outputs": [],
   "source": []
  }
 ],
 "metadata": {
  "kernelspec": {
   "display_name": "Python 3 (ipykernel)",
   "language": "python",
   "name": "python3"
  },
  "language_info": {
   "codemirror_mode": {
    "name": "ipython",
    "version": 3
   },
   "file_extension": ".py",
   "mimetype": "text/x-python",
   "name": "python",
   "nbconvert_exporter": "python",
   "pygments_lexer": "ipython3",
   "version": "3.13.4"
  }
 },
 "nbformat": 4,
 "nbformat_minor": 5
}
