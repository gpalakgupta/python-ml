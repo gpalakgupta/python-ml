{
 "cells": [
  {
   "cell_type": "code",
   "execution_count": 1,
   "id": "c3a495a8-c08e-412f-b589-351c23e75532",
   "metadata": {},
   "outputs": [
    {
     "name": "stdout",
     "output_type": "stream",
     "text": [
      "Hello\n"
     ]
    }
   ],
   "source": [
    "print(\"Hello\")"
   ]
  },
  {
   "cell_type": "code",
   "execution_count": 3,
   "id": "301392c8-0fd3-4068-9b64-ba1941a62de7",
   "metadata": {},
   "outputs": [
    {
     "name": "stdout",
     "output_type": "stream",
     "text": [
      "10 hello -20\n"
     ]
    }
   ],
   "source": [
    "a = 10\n",
    "b10 = 'hello'\n",
    "_a = -20\n",
    "print(a,b10,_a)"
   ]
  },
  {
   "cell_type": "code",
   "execution_count": 5,
   "id": "feb11571-8dcd-4583-83e5-b5c2ab42b6d0",
   "metadata": {},
   "outputs": [
    {
     "name": "stdout",
     "output_type": "stream",
     "text": [
      "['False', 'None', 'True', 'and', 'as', 'assert', 'async', 'await', 'break', 'class', 'continue', 'def', 'del', 'elif', 'else', 'except', 'finally', 'for', 'from', 'global', 'if', 'import', 'in', 'is', 'lambda', 'nonlocal', 'not', 'or', 'pass', 'raise', 'return', 'try', 'while', 'with', 'yield'] 35\n"
     ]
    }
   ],
   "source": [
    "import keyword\n",
    "print(keyword.kwlist,len(keyword.kwlist))"
   ]
  },
  {
   "cell_type": "code",
   "execution_count": 6,
   "id": "ddbd7ce0-bc2c-4f99-84a3-9300990f1993",
   "metadata": {},
   "outputs": [
    {
     "name": "stdout",
     "output_type": "stream",
     "text": [
      "Hey\n"
     ]
    }
   ],
   "source": [
    "# my first comment\n",
    "\"\"\" this is \n",
    "multi line\n",
    "comment\n",
    "\"\"\"\n",
    "print(\"Hey\")"
   ]
  },
  {
   "cell_type": "code",
   "execution_count": 10,
   "id": "6b4a4d46-8538-4bbe-b629-ae7daea8571d",
   "metadata": {},
   "outputs": [],
   "source": [
    "a = 10\n",
    "b = 20\n",
    "a,b = 10,40"
   ]
  },
  {
   "cell_type": "code",
   "execution_count": 13,
   "id": "3018b24f-63cf-4b41-b4b9-e2bc979bf8f8",
   "metadata": {
    "scrolled": true
   },
   "outputs": [
    {
     "name": "stdout",
     "output_type": "stream",
     "text": [
      "10 40\n"
     ]
    }
   ],
   "source": [
    "print(a,b)"
   ]
  },
  {
   "cell_type": "code",
   "execution_count": 14,
   "id": "4b6afbb9-ed53-4a02-9a86-f23bb6ada7b3",
   "metadata": {},
   "outputs": [],
   "source": [
    "a = 10+20+\\\n",
    "30+40+\\\n",
    "50"
   ]
  },
  {
   "cell_type": "code",
   "execution_count": 15,
   "id": "6ed85113-8daf-4c5e-9ce5-1b74fc523599",
   "metadata": {},
   "outputs": [
    {
     "name": "stdout",
     "output_type": "stream",
     "text": [
      "150\n"
     ]
    }
   ],
   "source": [
    "print(a)"
   ]
  },
  {
   "cell_type": "code",
   "execution_count": 17,
   "id": "28a62604-e47a-471a-8f68-92e7894d4926",
   "metadata": {},
   "outputs": [
    {
     "name": "stdout",
     "output_type": "stream",
     "text": [
      "<class 'int'>\n"
     ]
    }
   ],
   "source": [
    "print(type(a))"
   ]
  },
  {
   "cell_type": "code",
   "execution_count": 18,
   "id": "02195526-e9d0-4358-aefc-b60340766baf",
   "metadata": {},
   "outputs": [
    {
     "name": "stdout",
     "output_type": "stream",
     "text": [
      "<class 'str'>\n"
     ]
    }
   ],
   "source": [
    "b = 'hello'\n",
    "print(type(b))"
   ]
  },
  {
   "cell_type": "code",
   "execution_count": 19,
   "id": "2e7b601c-e696-490d-b229-29bcbcb300a7",
   "metadata": {},
   "outputs": [
    {
     "data": {
      "text/plain": [
       "140729438393928"
      ]
     },
     "execution_count": 19,
     "metadata": {},
     "output_type": "execute_result"
    }
   ],
   "source": [
    "id(a)"
   ]
  },
  {
   "cell_type": "code",
   "execution_count": 20,
   "id": "b5618e0c-be26-4afb-a962-4447fceb8e32",
   "metadata": {},
   "outputs": [
    {
     "data": {
      "text/plain": [
       "1932373277744"
      ]
     },
     "execution_count": 20,
     "metadata": {},
     "output_type": "execute_result"
    }
   ],
   "source": [
    "id(b)"
   ]
  },
  {
   "cell_type": "code",
   "execution_count": 24,
   "id": "070bd51d-81bc-4b89-8027-572d9aa84156",
   "metadata": {},
   "outputs": [
    {
     "name": "stdout",
     "output_type": "stream",
     "text": [
      "1000000000000000000000000000000000000000000000000000000000 <class 'int'>\n",
      "10.33 <class 'float'>\n",
      "(2+5j) <class 'complex'>\n"
     ]
    }
   ],
   "source": [
    "a = 1000000000000000000000000000000000000000000000000000000000\n",
    "b = 10.33\n",
    "c = 2+5j\n",
    "print(a,type(a))\n",
    "print(b,type(b))\n",
    "print(c,type(c))"
   ]
  },
  {
   "cell_type": "code",
   "execution_count": 25,
   "id": "b253d7a7-0851-41b8-81a3-4b6d731084f3",
   "metadata": {},
   "outputs": [
    {
     "name": "stdout",
     "output_type": "stream",
     "text": [
      "True\n"
     ]
    }
   ],
   "source": [
    "a = 10\n",
    "b = 20\n",
    "c = a<=b\n",
    "print(c)"
   ]
  },
  {
   "cell_type": "code",
   "execution_count": 26,
   "id": "f58ce582-d905-4e20-a1fc-b2103e97e3f4",
   "metadata": {},
   "outputs": [
    {
     "name": "stdout",
     "output_type": "stream",
     "text": [
      "False\n"
     ]
    }
   ],
   "source": [
    "print(a>=b)"
   ]
  },
  {
   "cell_type": "code",
   "execution_count": 27,
   "id": "f205d672-d15b-4409-8244-188c4b49d354",
   "metadata": {},
   "outputs": [
    {
     "name": "stdout",
     "output_type": "stream",
     "text": [
      "False\n",
      "True\n"
     ]
    }
   ],
   "source": [
    "x = 1\n",
    "y = 10\n",
    "a = x<y\n",
    "b = False\n",
    "print(a and b)\n",
    "print(a or b)"
   ]
  },
  {
   "cell_type": "code",
   "execution_count": 28,
   "id": "1cee81a2-f2fa-4bcb-b032-f0b555a7a881",
   "metadata": {},
   "outputs": [
    {
     "data": {
      "text/plain": [
       "True"
      ]
     },
     "execution_count": 28,
     "metadata": {},
     "output_type": "execute_result"
    }
   ],
   "source": [
    "x<y or x == y"
   ]
  },
  {
   "cell_type": "code",
   "execution_count": 29,
   "id": "32f2b59c-c30e-4f2e-8e50-c19ae8ea2d30",
   "metadata": {},
   "outputs": [],
   "source": [
    "a = 10"
   ]
  },
  {
   "cell_type": "code",
   "execution_count": 30,
   "id": "4a47a884-8ba8-431c-8ce8-7b8df734ccf5",
   "metadata": {},
   "outputs": [],
   "source": [
    "a-=10"
   ]
  },
  {
   "cell_type": "code",
   "execution_count": 31,
   "id": "7d4c5f6f-a718-4d5c-8ba6-b027306e2223",
   "metadata": {},
   "outputs": [
    {
     "data": {
      "text/plain": [
       "0"
      ]
     },
     "execution_count": 31,
     "metadata": {},
     "output_type": "execute_result"
    }
   ],
   "source": [
    "a"
   ]
  },
  {
   "cell_type": "code",
   "execution_count": 32,
   "id": "fa00bea8-7c35-4dc0-bc5e-e22c9dede0cb",
   "metadata": {},
   "outputs": [
    {
     "name": "stdout",
     "output_type": "stream",
     "text": [
      "True\n"
     ]
    }
   ],
   "source": [
    "a=1000\n",
    "b  = a\n",
    "print(id(a) == id(b))"
   ]
  },
  {
   "cell_type": "code",
   "execution_count": 33,
   "id": "192d70cf-8c2a-49d2-aa5d-162ee4d50e54",
   "metadata": {},
   "outputs": [
    {
     "name": "stdout",
     "output_type": "stream",
     "text": [
      "10.0\n"
     ]
    }
   ],
   "source": [
    "a = 10\n",
    "print(float(a))"
   ]
  },
  {
   "cell_type": "code",
   "execution_count": 34,
   "id": "3568048a-8223-460f-947d-1708bf551530",
   "metadata": {},
   "outputs": [
    {
     "name": "stdin",
     "output_type": "stream",
     "text": [
      "Enter principal:  10000\n"
     ]
    }
   ],
   "source": [
    "p = input(\"Enter principal: \")\n",
    "p = int(p)"
   ]
  },
  {
   "cell_type": "code",
   "execution_count": 35,
   "id": "42a9b642-e625-4780-9249-ba7e17c0300e",
   "metadata": {},
   "outputs": [
    {
     "name": "stdout",
     "output_type": "stream",
     "text": [
      "10000 <class 'int'>\n"
     ]
    }
   ],
   "source": [
    "print(p,type(p))"
   ]
  },
  {
   "cell_type": "code",
   "execution_count": 36,
   "id": "5000f034-c17f-4cdc-b02d-f76deca5998f",
   "metadata": {},
   "outputs": [
    {
     "name": "stdin",
     "output_type": "stream",
     "text": [
      "Enter Principal:  1000\n",
      "Enter Rate:  2.5\n",
      "Enter Year:  5\n"
     ]
    },
    {
     "name": "stdout",
     "output_type": "stream",
     "text": [
      "125.0\n"
     ]
    }
   ],
   "source": [
    "p = int(input(\"Enter Principal: \"))\n",
    "r = float(input(\"Enter Rate: \"))\n",
    "y = int(input(\"Enter Year: \"))\n",
    "si = (p*r*y)/100\n",
    "print(si)"
   ]
  },
  {
   "cell_type": "code",
   "execution_count": null,
   "id": "ae6fad19-e3c2-414c-9fcc-8f3c5c493d4d",
   "metadata": {},
   "outputs": [],
   "source": []
  },
  {
   "cell_type": "code",
   "execution_count": null,
   "id": "dfa9fdee-0c9a-4174-8820-28396669a6d2",
   "metadata": {},
   "outputs": [],
   "source": []
  },
  {
   "cell_type": "code",
   "execution_count": 38,
   "id": "251aa527-273d-4cf2-9345-ebe015cdef12",
   "metadata": {},
   "outputs": [
    {
     "name": "stdout",
     "output_type": "stream",
     "text": [
      "hi\n",
      "Number is odd\n",
      "Bye\n"
     ]
    }
   ],
   "source": [
    "a = 21\n",
    "print('hi')\n",
    "if(a%2 == 0):\n",
    "    print(\"Number is even\")\n",
    "else:\n",
    "    print(\"Number is odd\")\n",
    "print(\"Bye\")"
   ]
  },
  {
   "cell_type": "code",
   "execution_count": 39,
   "id": "d29432d3-d02f-4eef-a70f-463c4061e38d",
   "metadata": {},
   "outputs": [
    {
     "name": "stdout",
     "output_type": "stream",
     "text": [
      "Child\n"
     ]
    }
   ],
   "source": [
    "age = 15\n",
    "if(age < 18):\n",
    "    print(\"Child\")\n",
    "else:\n",
    "    if(age < 60):\n",
    "        print(\"Adult\")\n",
    "    else:\n",
    "        print(\"Senior citizen\")"
   ]
  },
  {
   "cell_type": "code",
   "execution_count": 41,
   "id": "f0beeaa4-1d50-41e7-9412-693b3478ad27",
   "metadata": {},
   "outputs": [
    {
     "name": "stdout",
     "output_type": "stream",
     "text": [
      "Senior citizen\n"
     ]
    }
   ],
   "source": [
    "age = 99\n",
    "if(age < 18):\n",
    "    print(\"Child\")\n",
    "else:\n",
    "    if(age < 60):\n",
    "        print(\"Adult\")\n",
    "    else:\n",
    "        print(\"Senior citizen\")"
   ]
  },
  {
   "cell_type": "code",
   "execution_count": 42,
   "id": "d8d968cd-15e9-428a-8ff6-ea753eb6bad0",
   "metadata": {},
   "outputs": [
    {
     "name": "stdout",
     "output_type": "stream",
     "text": [
      "A\n"
     ]
    }
   ],
   "source": [
    "marks = 100\n",
    "if(marks >= 80 and marks <= 100):\n",
    "    print(\"A\")\n",
    "elif(marks >= 60 and marks < 80):\n",
    "    print(\"B\")\n",
    "elif(marks >= 40 and marks < 60):\n",
    "    print(\"C\")\n",
    "elif(marks >= 0 and marks < 40):\n",
    "    print(\"F\")\n",
    "else:\n",
    "    print(\"Invalid\")"
   ]
  },
  {
   "cell_type": "code",
   "execution_count": 44,
   "id": "76c9c87e-fab5-482a-ad57-98c5c6d71ff7",
   "metadata": {},
   "outputs": [
    {
     "name": "stdout",
     "output_type": "stream",
     "text": [
      "Adult\n"
     ]
    }
   ],
   "source": [
    "# ternary operator\n",
    "age = 20\n",
    "c = \"Adult\" if age >= 18 else \"Child\"\n",
    "print(c)"
   ]
  },
  {
   "cell_type": "code",
   "execution_count": null,
   "id": "4395e527-645a-46e1-9ddc-224b829314ef",
   "metadata": {},
   "outputs": [],
   "source": []
  },
  {
   "cell_type": "code",
   "execution_count": 45,
   "id": "7d453cbc-3903-4d22-b79c-07bc315e9efe",
   "metadata": {},
   "outputs": [
    {
     "name": "stdout",
     "output_type": "stream",
     "text": [
      "Hello\n",
      "Hello\n",
      "Hello\n",
      "Hello\n",
      "Hello\n"
     ]
    }
   ],
   "source": [
    "i = 0\n",
    "while(i<5):\n",
    "    print(\"Hello\")\n",
    "    i+=1"
   ]
  },
  {
   "cell_type": "code",
   "execution_count": 46,
   "id": "ec4b7da0-eab5-4185-b6d3-14aac5832227",
   "metadata": {},
   "outputs": [
    {
     "name": "stdout",
     "output_type": "stream",
     "text": [
      "15\n"
     ]
    }
   ],
   "source": [
    "i = 1\n",
    "sum = 0\n",
    "while(i<=5):\n",
    "    sum+=i\n",
    "    i+=1\n",
    "print(sum)"
   ]
  },
  {
   "cell_type": "code",
   "execution_count": 47,
   "id": "31caa4fc-0b9e-4db9-b856-b29b8bdf28a6",
   "metadata": {},
   "outputs": [
    {
     "name": "stdout",
     "output_type": "stream",
     "text": [
      "1\n",
      "2\n",
      "3\n",
      "5\n",
      "6\n",
      "10\n",
      "15\n",
      "30\n"
     ]
    }
   ],
   "source": [
    "n = 30\n",
    "i = 1\n",
    "while(i<=n):\n",
    "    if(n % i == 0):\n",
    "        print(i)\n",
    "    i+=1"
   ]
  },
  {
   "cell_type": "code",
   "execution_count": 50,
   "id": "a11e4058-afdd-4b4a-b08e-b6c103caa504",
   "metadata": {},
   "outputs": [
    {
     "name": "stdout",
     "output_type": "stream",
     "text": [
      "1\n",
      "2\n",
      "3\n",
      "5\n",
      "6\n",
      "10\n",
      "15\n",
      "30\n",
      "8\n"
     ]
    }
   ],
   "source": [
    "n = 30\n",
    "c = 0\n",
    "i = 1\n",
    "while(i<=n):\n",
    "    if(n % i == 0):\n",
    "        print(i)\n",
    "        c+=1\n",
    "    i+=1\n",
    "print(c)"
   ]
  },
  {
   "cell_type": "code",
   "execution_count": 53,
   "id": "18a3c07d-32a7-4525-a1f6-204a9c762d57",
   "metadata": {},
   "outputs": [
    {
     "name": "stdout",
     "output_type": "stream",
     "text": [
      "Not prime\n"
     ]
    }
   ],
   "source": [
    "n = 30\n",
    "i = 2\n",
    "c = 0\n",
    "while(i<n):\n",
    "    if(n % i == 0):\n",
    "        c+=1\n",
    "        break\n",
    "    i+=1\n",
    "if(c == 0):\n",
    "    print(\"Prime\")\n",
    "else:\n",
    "    print(\"Not prime\")"
   ]
  },
  {
   "cell_type": "code",
   "execution_count": 54,
   "id": "b3ce287c-1948-4730-8e7f-ae4c1580fcb7",
   "metadata": {},
   "outputs": [
    {
     "name": "stdout",
     "output_type": "stream",
     "text": [
      "2\n",
      "3\n",
      "5\n",
      "7\n",
      "11\n",
      "13\n",
      "17\n",
      "19\n",
      "23\n",
      "29\n",
      "31\n",
      "37\n",
      "41\n",
      "43\n",
      "47\n",
      "53\n",
      "59\n",
      "61\n",
      "67\n",
      "71\n",
      "73\n",
      "79\n",
      "83\n",
      "89\n",
      "97\n"
     ]
    }
   ],
   "source": [
    "n = 2\n",
    "while(n<=100):\n",
    "    c = 0\n",
    "    i = 2\n",
    "    while(i<n):\n",
    "        if(n % i == 0):\n",
    "            c+=1\n",
    "            break\n",
    "        i+=1\n",
    "    if(c == 0):\n",
    "        print(n)\n",
    "    n+=1"
   ]
  },
  {
   "cell_type": "code",
   "execution_count": null,
   "id": "5898fc44-9dae-4c83-a0e6-c417025ae9f5",
   "metadata": {},
   "outputs": [],
   "source": []
  }
 ],
 "metadata": {
  "kernelspec": {
   "display_name": "Python 3 (ipykernel)",
   "language": "python",
   "name": "python3"
  },
  "language_info": {
   "codemirror_mode": {
    "name": "ipython",
    "version": 3
   },
   "file_extension": ".py",
   "mimetype": "text/x-python",
   "name": "python",
   "nbconvert_exporter": "python",
   "pygments_lexer": "ipython3",
   "version": "3.13.4"
  }
 },
 "nbformat": 4,
 "nbformat_minor": 5
}
