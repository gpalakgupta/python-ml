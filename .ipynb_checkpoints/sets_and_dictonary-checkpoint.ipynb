{
 "cells": [
  {
   "cell_type": "code",
   "execution_count": 1,
   "id": "1aa2f852-3b1a-4f1a-91ec-9caaa40d28b2",
   "metadata": {},
   "outputs": [
    {
     "data": {
      "text/plain": [
       "{1, 10, 2, 3, 4, 5, 'Hello', 'Shubham', 'hello'}"
      ]
     },
     "execution_count": 1,
     "metadata": {},
     "output_type": "execute_result"
    }
   ],
   "source": [
    "s = {1,2,3,4,\"Hello\",1,5,\"Shubham\",\"hello\",\"Hello\",10}\n",
    "s"
   ]
  },
  {
   "cell_type": "code",
   "execution_count": 2,
   "id": "263a2d23-8b85-489e-b8b5-f18345631227",
   "metadata": {},
   "outputs": [
    {
     "name": "stdout",
     "output_type": "stream",
     "text": [
      "{'hello', 1, 2, 3, 4, 5, 10, 'Hello', 'Shubham'} <class 'set'>\n"
     ]
    }
   ],
   "source": [
    "print(s,type(s))"
   ]
  },
  {
   "cell_type": "code",
   "execution_count": 3,
   "id": "c609ab2d-54e1-48ab-a629-1745a524dc2d",
   "metadata": {},
   "outputs": [
    {
     "data": {
      "text/plain": [
       "True"
      ]
     },
     "execution_count": 3,
     "metadata": {},
     "output_type": "execute_result"
    }
   ],
   "source": [
    "3 in s"
   ]
  },
  {
   "cell_type": "code",
   "execution_count": 4,
   "id": "be3edf9b-1246-439b-89e1-2b8f9fc869bb",
   "metadata": {},
   "outputs": [
    {
     "data": {
      "text/plain": [
       "False"
      ]
     },
     "execution_count": 4,
     "metadata": {},
     "output_type": "execute_result"
    }
   ],
   "source": [
    "30 in s"
   ]
  },
  {
   "cell_type": "code",
   "execution_count": 5,
   "id": "6027bd5c-c90f-4dc7-af46-b52bd2ec096d",
   "metadata": {},
   "outputs": [],
   "source": [
    "l = [1,2,3,4,5,2,3,2,1,6,3,4,2,7,6]\n",
    "s = set(l)"
   ]
  },
  {
   "cell_type": "code",
   "execution_count": 6,
   "id": "ec2b3329-d70f-4020-8bcd-94f2c9910f7f",
   "metadata": {},
   "outputs": [
    {
     "data": {
      "text/plain": [
       "{1, 2, 3, 4, 5, 6, 7}"
      ]
     },
     "execution_count": 6,
     "metadata": {},
     "output_type": "execute_result"
    }
   ],
   "source": [
    "s"
   ]
  },
  {
   "cell_type": "code",
   "execution_count": 7,
   "id": "c70fca22-a28f-4916-b990-d4a8e40ecb4e",
   "metadata": {},
   "outputs": [],
   "source": [
    "s1 = {1,2,3,4}\n",
    "s2 = {3,4,5,6}"
   ]
  },
  {
   "cell_type": "code",
   "execution_count": 8,
   "id": "4b47ff5e-08a6-423f-92d4-cbd990716f5a",
   "metadata": {},
   "outputs": [
    {
     "data": {
      "text/plain": [
       "{1, 2, 3, 4, 10}"
      ]
     },
     "execution_count": 8,
     "metadata": {},
     "output_type": "execute_result"
    }
   ],
   "source": [
    "s1.add(10)\n",
    "s1"
   ]
  },
  {
   "cell_type": "code",
   "execution_count": 9,
   "id": "eccb87fa-10d6-4367-b9be-71ce7202116c",
   "metadata": {},
   "outputs": [],
   "source": [
    "l = []\n",
    "s = set()"
   ]
  },
  {
   "cell_type": "code",
   "execution_count": 10,
   "id": "0f89e8d4-73ba-45da-ba5d-04c9853f83d3",
   "metadata": {},
   "outputs": [
    {
     "data": {
      "text/plain": [
       "{1, 2, 3, 4, 5, 6, 10}"
      ]
     },
     "execution_count": 10,
     "metadata": {},
     "output_type": "execute_result"
    }
   ],
   "source": [
    "s1.union(s2)"
   ]
  },
  {
   "cell_type": "code",
   "execution_count": 11,
   "id": "012e75d1-343a-49f0-be61-1046aa261603",
   "metadata": {},
   "outputs": [
    {
     "data": {
      "text/plain": [
       "{3, 4}"
      ]
     },
     "execution_count": 11,
     "metadata": {},
     "output_type": "execute_result"
    }
   ],
   "source": [
    "s1.intersection(s2)"
   ]
  },
  {
   "cell_type": "code",
   "execution_count": 12,
   "id": "16196be9-d14f-46c6-9f71-92a84da363f0",
   "metadata": {},
   "outputs": [
    {
     "data": {
      "text/plain": [
       "1"
      ]
     },
     "execution_count": 12,
     "metadata": {},
     "output_type": "execute_result"
    }
   ],
   "source": [
    "s1.pop()"
   ]
  },
  {
   "cell_type": "code",
   "execution_count": 13,
   "id": "8d00cab7-56e4-4295-8150-ddb07c44ef27",
   "metadata": {},
   "outputs": [
    {
     "data": {
      "text/plain": [
       "{2, 3, 4, 10}"
      ]
     },
     "execution_count": 13,
     "metadata": {},
     "output_type": "execute_result"
    }
   ],
   "source": [
    "s1"
   ]
  },
  {
   "cell_type": "code",
   "execution_count": 14,
   "id": "19c8afc3-a0db-4dd5-97ef-26501f9cc589",
   "metadata": {},
   "outputs": [],
   "source": [
    "s1.remove(10)"
   ]
  },
  {
   "cell_type": "code",
   "execution_count": 15,
   "id": "43b4ad27-00da-4bdb-b8b4-e8d06a7ae8d4",
   "metadata": {},
   "outputs": [
    {
     "data": {
      "text/plain": [
       "{2, 3, 4}"
      ]
     },
     "execution_count": 15,
     "metadata": {},
     "output_type": "execute_result"
    }
   ],
   "source": [
    "s1"
   ]
  },
  {
   "cell_type": "code",
   "execution_count": 16,
   "id": "fffcdb8e-8ad5-4e97-b7a8-ab83600c37b3",
   "metadata": {},
   "outputs": [],
   "source": [
    "s1.discard(10)"
   ]
  },
  {
   "cell_type": "code",
   "execution_count": 17,
   "id": "e7c65a32-9238-4f70-9f74-209e5b4a610f",
   "metadata": {},
   "outputs": [
    {
     "data": {
      "text/plain": [
       "{2, 3, 4}"
      ]
     },
     "execution_count": 17,
     "metadata": {},
     "output_type": "execute_result"
    }
   ],
   "source": [
    "s1"
   ]
  },
  {
   "cell_type": "code",
   "execution_count": 18,
   "id": "570e7d87-a2fb-4689-84d0-b23a1434722d",
   "metadata": {},
   "outputs": [],
   "source": [
    "s1.discard(4)"
   ]
  },
  {
   "cell_type": "code",
   "execution_count": 19,
   "id": "6a3345e7-defa-4cbc-a35b-7cbea8f59dd5",
   "metadata": {},
   "outputs": [
    {
     "data": {
      "text/plain": [
       "{2, 3}"
      ]
     },
     "execution_count": 19,
     "metadata": {},
     "output_type": "execute_result"
    }
   ],
   "source": [
    "s1"
   ]
  },
  {
   "cell_type": "code",
   "execution_count": 20,
   "id": "8f350535-eca9-458d-8f9c-94f3cfdd581d",
   "metadata": {},
   "outputs": [
    {
     "data": {
      "text/plain": [
       "{3, 4, 5, 6}"
      ]
     },
     "execution_count": 20,
     "metadata": {},
     "output_type": "execute_result"
    }
   ],
   "source": [
    "s2"
   ]
  },
  {
   "cell_type": "code",
   "execution_count": 21,
   "id": "8e769fdc-e4da-4fb6-98ef-bb66e2c5ce4e",
   "metadata": {},
   "outputs": [
    {
     "data": {
      "text/plain": [
       "{4, 5, 6}"
      ]
     },
     "execution_count": 21,
     "metadata": {},
     "output_type": "execute_result"
    }
   ],
   "source": [
    "s2.difference(s1)"
   ]
  },
  {
   "cell_type": "code",
   "execution_count": 22,
   "id": "4d5bcdfc-8f81-4618-a968-998807e59824",
   "metadata": {},
   "outputs": [
    {
     "data": {
      "text/plain": [
       "{2, 4, 5, 6}"
      ]
     },
     "execution_count": 22,
     "metadata": {},
     "output_type": "execute_result"
    }
   ],
   "source": [
    "s2.symmetric_difference(s1)"
   ]
  },
  {
   "cell_type": "code",
   "execution_count": 23,
   "id": "d30a1bee-c57b-479d-9f4e-5f260c2e294c",
   "metadata": {},
   "outputs": [
    {
     "data": {
      "text/plain": [
       "{2, 3}"
      ]
     },
     "execution_count": 23,
     "metadata": {},
     "output_type": "execute_result"
    }
   ],
   "source": [
    "s1"
   ]
  },
  {
   "cell_type": "code",
   "execution_count": 24,
   "id": "e24835b5-cc11-4eb0-823f-32aa20d9a67b",
   "metadata": {},
   "outputs": [
    {
     "data": {
      "text/plain": [
       "{3, 4, 5, 6}"
      ]
     },
     "execution_count": 24,
     "metadata": {},
     "output_type": "execute_result"
    }
   ],
   "source": [
    "s2"
   ]
  },
  {
   "cell_type": "code",
   "execution_count": 25,
   "id": "9dbd09d2-7c57-4aca-bd32-d5d986c0a37a",
   "metadata": {},
   "outputs": [],
   "source": [
    "s1 = {1,2,3,4}\n",
    "s2 = {3,4,5,6}"
   ]
  },
  {
   "cell_type": "code",
   "execution_count": 26,
   "id": "c9c60840-c0a0-467e-87b3-937dc79bffef",
   "metadata": {},
   "outputs": [
    {
     "data": {
      "text/plain": [
       "False"
      ]
     },
     "execution_count": 26,
     "metadata": {},
     "output_type": "execute_result"
    }
   ],
   "source": [
    "s1.issubset(s2)"
   ]
  },
  {
   "cell_type": "code",
   "execution_count": 27,
   "id": "5e588ff1-d28e-484c-bf55-c7ba204f182b",
   "metadata": {},
   "outputs": [],
   "source": [
    "s1 = {3,4}"
   ]
  },
  {
   "cell_type": "code",
   "execution_count": 28,
   "id": "3c690da1-a861-47a2-8144-bc27013acc7b",
   "metadata": {},
   "outputs": [
    {
     "data": {
      "text/plain": [
       "True"
      ]
     },
     "execution_count": 28,
     "metadata": {},
     "output_type": "execute_result"
    }
   ],
   "source": [
    "s1.issubset(s2)"
   ]
  },
  {
   "cell_type": "code",
   "execution_count": 29,
   "id": "e68d8a96-fbaf-401b-b4af-88e1d96ddf08",
   "metadata": {},
   "outputs": [
    {
     "data": {
      "text/plain": [
       "True"
      ]
     },
     "execution_count": 29,
     "metadata": {},
     "output_type": "execute_result"
    }
   ],
   "source": [
    "s2.issuperset(s1)"
   ]
  },
  {
   "cell_type": "code",
   "execution_count": 30,
   "id": "7295253c-00fb-4d06-a74f-a9370d5f0bd8",
   "metadata": {},
   "outputs": [
    {
     "data": {
      "text/plain": [
       "{3, 4}"
      ]
     },
     "execution_count": 30,
     "metadata": {},
     "output_type": "execute_result"
    }
   ],
   "source": [
    "s1"
   ]
  },
  {
   "cell_type": "code",
   "execution_count": 31,
   "id": "402f709f-9ee5-4f6e-ad0f-92e8228420ec",
   "metadata": {},
   "outputs": [
    {
     "data": {
      "text/plain": [
       "{3, 4, 5, 6}"
      ]
     },
     "execution_count": 31,
     "metadata": {},
     "output_type": "execute_result"
    }
   ],
   "source": [
    "s2"
   ]
  },
  {
   "cell_type": "code",
   "execution_count": 32,
   "id": "5f5a9ae9-add5-4305-ac01-1ae8d153f104",
   "metadata": {},
   "outputs": [
    {
     "data": {
      "text/plain": [
       "False"
      ]
     },
     "execution_count": 32,
     "metadata": {},
     "output_type": "execute_result"
    }
   ],
   "source": [
    "s1.isdisjoint(s2)"
   ]
  },
  {
   "cell_type": "code",
   "execution_count": 33,
   "id": "dc62ad96-78f0-4eef-adbe-eece1150cbc8",
   "metadata": {},
   "outputs": [],
   "source": [
    "s1 = {1,2,3,4}\n",
    "s2 = {5,6,7,8}"
   ]
  },
  {
   "cell_type": "code",
   "execution_count": 35,
   "id": "a3734695-843d-4d34-879e-4be9b0709ee8",
   "metadata": {},
   "outputs": [
    {
     "data": {
      "text/plain": [
       "True"
      ]
     },
     "execution_count": 35,
     "metadata": {},
     "output_type": "execute_result"
    }
   ],
   "source": [
    "s1.isdisjoint(s2)\n",
    "# disjoint mtlb set mei koi element same nhi hoga"
   ]
  },
  {
   "cell_type": "code",
   "execution_count": null,
   "id": "835e5442-bc8e-4101-94a8-4f021f3ccc34",
   "metadata": {},
   "outputs": [],
   "source": []
  },
  {
   "cell_type": "code",
   "execution_count": 36,
   "id": "e385af1b-efcf-4b02-9520-7f11fe69b138",
   "metadata": {},
   "outputs": [
    {
     "data": {
      "text/plain": [
       "4"
      ]
     },
     "execution_count": 36,
     "metadata": {},
     "output_type": "execute_result"
    }
   ],
   "source": [
    "len(s2)"
   ]
  },
  {
   "cell_type": "code",
   "execution_count": 37,
   "id": "2d0e128c-b079-4645-899d-2883ac207aef",
   "metadata": {},
   "outputs": [
    {
     "name": "stdout",
     "output_type": "stream",
     "text": [
      "1\n",
      "2\n",
      "3\n",
      "4\n"
     ]
    }
   ],
   "source": [
    "for ele in s1:\n",
    "    print(ele)"
   ]
  },
  {
   "cell_type": "code",
   "execution_count": 38,
   "id": "663572a7-20b1-4a0f-bd1b-5f99ee2f722a",
   "metadata": {},
   "outputs": [
    {
     "ename": "_IncompleteInputError",
     "evalue": "incomplete input (1985249980.py, line 1)",
     "output_type": "error",
     "traceback": [
      "  \u001b[36mCell\u001b[39m\u001b[36m \u001b[39m\u001b[32mIn[38]\u001b[39m\u001b[32m, line 1\u001b[39m\n\u001b[31m    \u001b[39m\u001b[31ms[0[\u001b[39m\n        ^\n\u001b[31m_IncompleteInputError\u001b[39m\u001b[31m:\u001b[39m incomplete input\n"
     ]
    }
   ],
   "source": [
    "s[0["
   ]
  },
  {
   "cell_type": "code",
   "execution_count": null,
   "id": "7dbb6ba5-577f-4f49-8b02-8addbfe87f9e",
   "metadata": {},
   "outputs": [],
   "source": []
  },
  {
   "cell_type": "code",
   "execution_count": null,
   "id": "0ce871e4-c4be-4a8e-83aa-518da7cbf237",
   "metadata": {},
   "outputs": [],
   "source": []
  },
  {
   "cell_type": "code",
   "execution_count": 39,
   "id": "87ea1a12-3adc-464b-9692-55fbaa90bb13",
   "metadata": {},
   "outputs": [],
   "source": [
    "# dictionary"
   ]
  },
  {
   "cell_type": "code",
   "execution_count": 42,
   "id": "a7c19c46-9acf-442f-9a97-f6df58c5c79b",
   "metadata": {},
   "outputs": [],
   "source": [
    "d = {\n",
    "    \"India\":1000,\n",
    "    \"USSR\":150,\n",
    "    \"USA\":100,\n",
    "    1.1:\"one\",\n",
    "    2:[1,2],\n",
    "    \"India\":10000,\n",
    "    (1,2,3):\"Tuple\",\n",
    "    # [1,2,3]:\"List\"/\n",
    "    # List is not hashable:\n",
    "# List mutable hoti hai (change ho sakti hai), isliye Python uska hash nahi bana sakta\n",
    "}"
   ]
  },
  {
   "cell_type": "code",
   "execution_count": 43,
   "id": "6b4454c5-4ab8-4b53-82c0-17b5288b48ff",
   "metadata": {},
   "outputs": [
    {
     "data": {
      "text/plain": [
       "{'India': 10000,\n",
       " 'USSR': 150,\n",
       " 'USA': 100,\n",
       " 1.1: 'one',\n",
       " 2: [1, 2],\n",
       " (1, 2, 3): 'Tuple'}"
      ]
     },
     "execution_count": 43,
     "metadata": {},
     "output_type": "execute_result"
    }
   ],
   "source": [
    "d"
   ]
  },
  {
   "cell_type": "code",
   "execution_count": 44,
   "id": "8aae2bf8-9a59-497a-9dcb-eeae72db40c9",
   "metadata": {},
   "outputs": [
    {
     "name": "stdout",
     "output_type": "stream",
     "text": [
      "{'India': 10000, 'USSR': 150, 'USA': 100, 1.1: 'one', 2: [1, 2], (1, 2, 3): 'Tuple'} <class 'dict'>\n"
     ]
    }
   ],
   "source": [
    "print(d,type(d))"
   ]
  },
  {
   "cell_type": "code",
   "execution_count": 45,
   "id": "24eb6fa9-f8d9-4f68-a08c-71db96a9ff6e",
   "metadata": {},
   "outputs": [
    {
     "data": {
      "text/plain": [
       "{'India': 10000,\n",
       " 'USSR': 150,\n",
       " 'USA': 100,\n",
       " 1.1: 'one',\n",
       " 2: [1, 2],\n",
       " (1, 2, 3): 'Tuple',\n",
       " 'China': 100}"
      ]
     },
     "execution_count": 45,
     "metadata": {},
     "output_type": "execute_result"
    }
   ],
   "source": [
    "d[\"China\"] = 100 #new key value pair\n",
    "d"
   ]
  },
  {
   "cell_type": "code",
   "execution_count": 47,
   "id": "7d02ad9b-2804-4f13-8e23-fb266f30fc4d",
   "metadata": {},
   "outputs": [
    {
     "data": {
      "text/plain": [
       "100"
      ]
     },
     "execution_count": 47,
     "metadata": {},
     "output_type": "execute_result"
    }
   ],
   "source": [
    "d[\"China\"]"
   ]
  },
  {
   "cell_type": "code",
   "execution_count": 48,
   "id": "269af1da-956a-4ce3-91cd-e9e434435cc2",
   "metadata": {},
   "outputs": [
    {
     "ename": "KeyError",
     "evalue": "3",
     "output_type": "error",
     "traceback": [
      "\u001b[31m---------------------------------------------------------------------------\u001b[39m",
      "\u001b[31mKeyError\u001b[39m                                  Traceback (most recent call last)",
      "\u001b[36mCell\u001b[39m\u001b[36m \u001b[39m\u001b[32mIn[48]\u001b[39m\u001b[32m, line 1\u001b[39m\n\u001b[32m----> \u001b[39m\u001b[32m1\u001b[39m \u001b[43md\u001b[49m\u001b[43m[\u001b[49m\u001b[32;43m3\u001b[39;49m\u001b[43m]\u001b[49m\n",
      "\u001b[31mKeyError\u001b[39m: 3"
     ]
    }
   ],
   "source": [
    "d[3]"
   ]
  },
  {
   "cell_type": "code",
   "execution_count": 51,
   "id": "2a42958b-d73d-4717-8bd3-61f54f53b51d",
   "metadata": {},
   "outputs": [
    {
     "name": "stdout",
     "output_type": "stream",
     "text": [
      "100\n"
     ]
    }
   ],
   "source": [
    "print(d.get(\"China\",0))\n",
    "# dict.get(key, default)"
   ]
  },
  {
   "cell_type": "code",
   "execution_count": 52,
   "id": "91c606ce-ace8-40d5-ae59-3a851e2251bb",
   "metadata": {},
   "outputs": [
    {
     "data": {
      "text/plain": [
       "100"
      ]
     },
     "execution_count": 52,
     "metadata": {},
     "output_type": "execute_result"
    }
   ],
   "source": [
    "d.pop(\"China\",0)"
   ]
  },
  {
   "cell_type": "code",
   "execution_count": 53,
   "id": "1518a1ca-0562-49b6-be4c-425293a5f9e3",
   "metadata": {},
   "outputs": [
    {
     "data": {
      "text/plain": [
       "{'India': 10000,\n",
       " 'USSR': 150,\n",
       " 'USA': 100,\n",
       " 1.1: 'one',\n",
       " 2: [1, 2],\n",
       " (1, 2, 3): 'Tuple'}"
      ]
     },
     "execution_count": 53,
     "metadata": {},
     "output_type": "execute_result"
    }
   ],
   "source": [
    "d"
   ]
  },
  {
   "cell_type": "code",
   "execution_count": 54,
   "id": "c476bd5b-29f9-4161-b4fe-6a6a73f049a0",
   "metadata": {},
   "outputs": [
    {
     "data": {
      "text/plain": [
       "((1, 2, 3), 'Tuple')"
      ]
     },
     "execution_count": 54,
     "metadata": {},
     "output_type": "execute_result"
    }
   ],
   "source": [
    "d.popitem()"
   ]
  },
  {
   "cell_type": "code",
   "execution_count": 55,
   "id": "c9b6de8d-f917-4e56-9759-d81dc10d59ab",
   "metadata": {},
   "outputs": [
    {
     "data": {
      "text/plain": [
       "{'India': 10000, 'USSR': 150, 'USA': 100, 1.1: 'one', 2: [1, 2]}"
      ]
     },
     "execution_count": 55,
     "metadata": {},
     "output_type": "execute_result"
    }
   ],
   "source": [
    "d"
   ]
  },
  {
   "cell_type": "code",
   "execution_count": 56,
   "id": "6ad22d0e-b021-4fcb-a40f-f664cbede864",
   "metadata": {},
   "outputs": [
    {
     "data": {
      "text/plain": [
       "(2, [1, 2])"
      ]
     },
     "execution_count": 56,
     "metadata": {},
     "output_type": "execute_result"
    }
   ],
   "source": [
    "d.popitem()"
   ]
  },
  {
   "cell_type": "code",
   "execution_count": 57,
   "id": "b1dbe7fd-937e-4f10-a8e3-173e3be98cdc",
   "metadata": {},
   "outputs": [
    {
     "data": {
      "text/plain": [
       "{'India': 10000, 'USSR': 150, 'USA': 100, 1.1: 'one'}"
      ]
     },
     "execution_count": 57,
     "metadata": {},
     "output_type": "execute_result"
    }
   ],
   "source": [
    "d"
   ]
  },
  {
   "cell_type": "code",
   "execution_count": 58,
   "id": "f975ef8e-4a02-471f-8413-44870e2c9ce4",
   "metadata": {},
   "outputs": [],
   "source": [
    "del d['USA']"
   ]
  },
  {
   "cell_type": "code",
   "execution_count": 59,
   "id": "c9f97ebb-2a50-45ed-b116-12b544d9789c",
   "metadata": {},
   "outputs": [
    {
     "data": {
      "text/plain": [
       "{'India': 10000, 'USSR': 150, 1.1: 'one'}"
      ]
     },
     "execution_count": 59,
     "metadata": {},
     "output_type": "execute_result"
    }
   ],
   "source": [
    "d"
   ]
  },
  {
   "cell_type": "code",
   "execution_count": 60,
   "id": "d6110fb2-bb55-44f8-b404-8c037d50cf0b",
   "metadata": {},
   "outputs": [
    {
     "data": {
      "text/plain": [
       "dict_keys(['India', 'USSR', 1.1])"
      ]
     },
     "execution_count": 60,
     "metadata": {},
     "output_type": "execute_result"
    }
   ],
   "source": [
    "d.keys()"
   ]
  },
  {
   "cell_type": "code",
   "execution_count": 61,
   "id": "ddd5c2cb-f447-456d-8f53-4989ba27202c",
   "metadata": {},
   "outputs": [
    {
     "data": {
      "text/plain": [
       "dict_values([10000, 150, 'one'])"
      ]
     },
     "execution_count": 61,
     "metadata": {},
     "output_type": "execute_result"
    }
   ],
   "source": [
    "d.values()"
   ]
  },
  {
   "cell_type": "code",
   "execution_count": 62,
   "id": "0a3f910d-9c96-4ffc-bfdd-2089763dffd7",
   "metadata": {},
   "outputs": [
    {
     "data": {
      "text/plain": [
       "dict_items([('India', 10000), ('USSR', 150), (1.1, 'one')])"
      ]
     },
     "execution_count": 62,
     "metadata": {},
     "output_type": "execute_result"
    }
   ],
   "source": [
    "d.items()"
   ]
  },
  {
   "cell_type": "code",
   "execution_count": 65,
   "id": "38828396-aeb3-48a5-947e-c8e55d51bf51",
   "metadata": {},
   "outputs": [],
   "source": [
    "d1 = d.fromkeys([1,2,3,4],\"Number\")"
   ]
  },
  {
   "cell_type": "code",
   "execution_count": 66,
   "id": "fa1a1d0b-acd5-4aed-90fd-7f383cccead5",
   "metadata": {},
   "outputs": [
    {
     "data": {
      "text/plain": [
       "{1: 'Number', 2: 'Number', 3: 'Number', 4: 'Number'}"
      ]
     },
     "execution_count": 66,
     "metadata": {},
     "output_type": "execute_result"
    }
   ],
   "source": [
    "d1"
   ]
  },
  {
   "cell_type": "code",
   "execution_count": 67,
   "id": "2e1bc4a7-9fac-49dc-8353-0417407aea1d",
   "metadata": {},
   "outputs": [],
   "source": [
    "d.update(d1)"
   ]
  },
  {
   "cell_type": "code",
   "execution_count": 68,
   "id": "140f5bc1-0c13-47eb-92ab-a9eb62bf8743",
   "metadata": {},
   "outputs": [
    {
     "data": {
      "text/plain": [
       "{'India': 10000,\n",
       " 'USSR': 150,\n",
       " 1.1: 'one',\n",
       " 1: 'Number',\n",
       " 2: 'Number',\n",
       " 3: 'Number',\n",
       " 4: 'Number'}"
      ]
     },
     "execution_count": 68,
     "metadata": {},
     "output_type": "execute_result"
    }
   ],
   "source": [
    "d"
   ]
  },
  {
   "cell_type": "code",
   "execution_count": 69,
   "id": "0c3dbb02-6800-4152-8f36-26ba86c5c4c2",
   "metadata": {},
   "outputs": [
    {
     "data": {
      "text/plain": [
       "False"
      ]
     },
     "execution_count": 69,
     "metadata": {},
     "output_type": "execute_result"
    }
   ],
   "source": [
    "150 in d"
   ]
  },
  {
   "cell_type": "code",
   "execution_count": 70,
   "id": "8a286f50-21e1-4005-b684-1d063f15c260",
   "metadata": {},
   "outputs": [
    {
     "data": {
      "text/plain": [
       "True"
      ]
     },
     "execution_count": 70,
     "metadata": {},
     "output_type": "execute_result"
    }
   ],
   "source": [
    "1 in d"
   ]
  },
  {
   "cell_type": "code",
   "execution_count": 71,
   "id": "bc5a3767-0bdf-4bad-a5cd-2dbf23ec91be",
   "metadata": {},
   "outputs": [
    {
     "name": "stdout",
     "output_type": "stream",
     "text": [
      "India 10000\n",
      "USSR 150\n",
      "1.1 one\n",
      "1 Number\n",
      "2 Number\n",
      "3 Number\n",
      "4 Number\n"
     ]
    }
   ],
   "source": [
    "for k in d:\n",
    "    print(k,d[k])"
   ]
  },
  {
   "cell_type": "code",
   "execution_count": 72,
   "id": "de3abbb9-62d0-4b1f-b9ef-f7fb08694866",
   "metadata": {},
   "outputs": [
    {
     "name": "stdout",
     "output_type": "stream",
     "text": [
      "India 10000\n",
      "USSR 150\n",
      "1.1 one\n",
      "1 Number\n",
      "2 Number\n",
      "3 Number\n",
      "4 Number\n"
     ]
    }
   ],
   "source": [
    "for k,v in d.items():\n",
    "    print(k,v)"
   ]
  },
  {
   "cell_type": "code",
   "execution_count": 73,
   "id": "f9a37bf9-fe3e-4767-b7ad-e19ba3ca56c4",
   "metadata": {},
   "outputs": [
    {
     "data": {
      "text/plain": [
       "dict_items([('India', 10000), ('USSR', 150), (1.1, 'one'), (1, 'Number'), (2, 'Number'), (3, 'Number'), (4, 'Number')])"
      ]
     },
     "execution_count": 73,
     "metadata": {},
     "output_type": "execute_result"
    }
   ],
   "source": [
    "d.items()"
   ]
  },
  {
   "cell_type": "code",
   "execution_count": 74,
   "id": "02c4b2df-6b46-418b-8863-da378ba944a1",
   "metadata": {},
   "outputs": [],
   "source": [
    "s = set()"
   ]
  },
  {
   "cell_type": "code",
   "execution_count": 75,
   "id": "0db722fe-51e6-40d9-a23b-6cb7358054a1",
   "metadata": {},
   "outputs": [],
   "source": [
    "for i in range(10):\n",
    "    s.add(i)"
   ]
  },
  {
   "cell_type": "code",
   "execution_count": 76,
   "id": "1dd9949d-9604-48a3-8663-9d9cdfc9c3e6",
   "metadata": {},
   "outputs": [
    {
     "data": {
      "text/plain": [
       "{0, 1, 2, 3, 4, 5, 6, 7, 8, 9}"
      ]
     },
     "execution_count": 76,
     "metadata": {},
     "output_type": "execute_result"
    }
   ],
   "source": [
    "s"
   ]
  },
  {
   "cell_type": "code",
   "execution_count": 77,
   "id": "64fd0da5-7e18-46e9-a0bd-1d20eddc6039",
   "metadata": {},
   "outputs": [],
   "source": [
    "s = {i for i in range(10)}"
   ]
  },
  {
   "cell_type": "code",
   "execution_count": 78,
   "id": "ac41da4b-53a6-4fda-a41f-d1511ba3730e",
   "metadata": {},
   "outputs": [
    {
     "data": {
      "text/plain": [
       "{0, 1, 2, 3, 4, 5, 6, 7, 8, 9}"
      ]
     },
     "execution_count": 78,
     "metadata": {},
     "output_type": "execute_result"
    }
   ],
   "source": [
    "s"
   ]
  },
  {
   "cell_type": "code",
   "execution_count": 79,
   "id": "0a1bbf26-2ece-4e11-8327-c4dc7de7783d",
   "metadata": {},
   "outputs": [],
   "source": [
    "d = {}\n",
    "for i in range(10):\n",
    "    d[i] = i**2"
   ]
  },
  {
   "cell_type": "code",
   "execution_count": 80,
   "id": "3fc2f009-657c-4fbf-9a42-b0bad1f04a90",
   "metadata": {},
   "outputs": [
    {
     "data": {
      "text/plain": [
       "{0: 0, 1: 1, 2: 4, 3: 9, 4: 16, 5: 25, 6: 36, 7: 49, 8: 64, 9: 81}"
      ]
     },
     "execution_count": 80,
     "metadata": {},
     "output_type": "execute_result"
    }
   ],
   "source": [
    "d"
   ]
  },
  {
   "cell_type": "code",
   "execution_count": null,
   "id": "fbb9cbf8-7472-4c85-97be-6cd48a26ceda",
   "metadata": {},
   "outputs": [],
   "source": [
    " "
   ]
  },
  {
   "cell_type": "code",
   "execution_count": 81,
   "id": "95f162b8-72ae-474d-96ef-a5d01c98f81f",
   "metadata": {},
   "outputs": [],
   "source": [
    "d = {i : i**2 for i in range(10)}"
   ]
  },
  {
   "cell_type": "code",
   "execution_count": 82,
   "id": "21057d11-0f9d-47d5-b92a-b8bc13210d1b",
   "metadata": {},
   "outputs": [
    {
     "data": {
      "text/plain": [
       "{0: 0, 1: 1, 2: 4, 3: 9, 4: 16, 5: 25, 6: 36, 7: 49, 8: 64, 9: 81}"
      ]
     },
     "execution_count": 82,
     "metadata": {},
     "output_type": "execute_result"
    }
   ],
   "source": [
    "d"
   ]
  },
  {
   "cell_type": "code",
   "execution_count": 88,
   "id": "e900fdbb-8090-4f41-b11f-52ad5738c671",
   "metadata": {},
   "outputs": [
    {
     "name": "stdout",
     "output_type": "stream",
     "text": [
      "Counter({2: 5, 1: 4, 3: 3, 5: 3, 4: 2, 8: 2, 9: 2, 7: 1, 6: 1})\n"
     ]
    }
   ],
   "source": [
    "from collections import Counter\n",
    "l = [1,2,3,4,5,2,2,1,4,5,3,2,1,7,8,9,8,9,6,5,3,1,2]\n",
    "d = Counter(l)\n",
    "print(d)\n"
   ]
  },
  {
   "cell_type": "raw",
   "id": "751f3bc2-390b-4ab4-9f0a-df58409262fe",
   "metadata": {},
   "source": []
  },
  {
   "cell_type": "raw",
   "id": "684e4942-5de6-4754-bc83-46eb1b49650d",
   "metadata": {},
   "source": []
  },
  {
   "cell_type": "code",
   "execution_count": 89,
   "id": "32d18c2b-71f3-4cbe-a4b3-be5269388703",
   "metadata": {},
   "outputs": [
    {
     "name": "stdout",
     "output_type": "stream",
     "text": [
      "{1: 4, 2: 5, 3: 3, 4: 2, 5: 3, 7: 1, 8: 2, 9: 2, 6: 1}\n"
     ]
    }
   ],
   "source": [
    "d = {}\n",
    "for ele in l:\n",
    "    d[ele] = d.get(ele,0)+1\n",
    "print(d)\n",
    "    "
   ]
  },
  {
   "cell_type": "code",
   "execution_count": null,
   "id": "84584ad9-e96f-4b49-9325-8bb4437a9ed5",
   "metadata": {},
   "outputs": [],
   "source": []
  }
 ],
 "metadata": {
  "kernelspec": {
   "display_name": "Python 3 (ipykernel)",
   "language": "python",
   "name": "python3"
  },
  "language_info": {
   "codemirror_mode": {
    "name": "ipython",
    "version": 3
   },
   "file_extension": ".py",
   "mimetype": "text/x-python",
   "name": "python",
   "nbconvert_exporter": "python",
   "pygments_lexer": "ipython3",
   "version": "3.13.4"
  }
 },
 "nbformat": 4,
 "nbformat_minor": 5
}
