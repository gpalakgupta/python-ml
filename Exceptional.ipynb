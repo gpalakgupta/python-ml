{
 "cells": [
  {
   "cell_type": "code",
   "execution_count": null,
   "id": "c7207f2e-4698-4b55-9d46-9db8eb9bc7ff",
   "metadata": {},
   "outputs": [],
   "source": [
    "i = 1\n",
    "while(i<=4):\n",
    "    try:\n",
    "        a = int(input(\"a: \"))\n",
    "        b = int(input(\"b: \"))\n",
    "        print(a/b)\n",
    "    except ZeroDivisionError:\n",
    "        print(\"wrong b value\")\n",
    "    except  ValueError:\n",
    "        print(\"wrong input\")\n",
    "    except Exception:\n",
    "        print(\"Error\")\n",
    "    i+=1"
   ]
  },
  {
   "cell_type": "code",
   "execution_count": null,
   "id": "0db6c911-1f58-4df7-b434-e5d5712ce115",
   "metadata": {},
   "outputs": [],
   "source": []
  },
  {
   "cell_type": "code",
   "execution_count": 13,
   "id": "40dec27d-576c-4e0f-b32f-3595effa95f0",
   "metadata": {},
   "outputs": [],
   "source": [
    "def fn(a,b):\n",
    "    print(\"In fn\")\n",
    "    if(b != 0):\n",
    "        return a/b\n",
    "    else:\n",
    "        raise Exception('b should be non-zero')\n",
    "    print(\"out fn\")"
   ]
  },
  {
   "cell_type": "code",
   "execution_count": 14,
   "id": "5a9bdadc-8c55-40eb-9c2c-97581357a13a",
   "metadata": {},
   "outputs": [
    {
     "name": "stdout",
     "output_type": "stream",
     "text": [
      "In fn\n"
     ]
    },
    {
     "ename": "Exception",
     "evalue": "b should be non-zero",
     "output_type": "error",
     "traceback": [
      "\u001b[31m---------------------------------------------------------------------------\u001b[39m",
      "\u001b[31mException\u001b[39m                                 Traceback (most recent call last)",
      "\u001b[36mCell\u001b[39m\u001b[36m \u001b[39m\u001b[32mIn[14]\u001b[39m\u001b[32m, line 1\u001b[39m\n\u001b[32m----> \u001b[39m\u001b[32m1\u001b[39m \u001b[43mfn\u001b[49m\u001b[43m(\u001b[49m\u001b[32;43m10\u001b[39;49m\u001b[43m,\u001b[49m\u001b[32;43m0\u001b[39;49m\u001b[43m)\u001b[49m\n",
      "\u001b[36mCell\u001b[39m\u001b[36m \u001b[39m\u001b[32mIn[13]\u001b[39m\u001b[32m, line 6\u001b[39m, in \u001b[36mfn\u001b[39m\u001b[34m(a, b)\u001b[39m\n\u001b[32m      4\u001b[39m     \u001b[38;5;28;01mreturn\u001b[39;00m a/b\n\u001b[32m      5\u001b[39m \u001b[38;5;28;01melse\u001b[39;00m:\n\u001b[32m----> \u001b[39m\u001b[32m6\u001b[39m     \u001b[38;5;28;01mraise\u001b[39;00m \u001b[38;5;167;01mException\u001b[39;00m(\u001b[33m'\u001b[39m\u001b[33mb should be non-zero\u001b[39m\u001b[33m'\u001b[39m)\n\u001b[32m      7\u001b[39m \u001b[38;5;28mprint\u001b[39m(\u001b[33m\"\u001b[39m\u001b[33mout fn\u001b[39m\u001b[33m\"\u001b[39m)\n",
      "\u001b[31mException\u001b[39m: b should be non-zero"
     ]
    }
   ],
   "source": [
    "fn(10,0)"
   ]
  },
  {
   "cell_type": "code",
   "execution_count": 15,
   "id": "907b2a05-cebe-4775-b827-46ea12fc7b03",
   "metadata": {},
   "outputs": [
    {
     "name": "stdout",
     "output_type": "stream",
     "text": [
      "In fn\n"
     ]
    },
    {
     "data": {
      "text/plain": [
       "0.5"
      ]
     },
     "execution_count": 15,
     "metadata": {},
     "output_type": "execute_result"
    }
   ],
   "source": [
    "fn(10,20)"
   ]
  },
  {
   "cell_type": "code",
   "execution_count": 16,
   "id": "ed90b46b-293b-4e1f-aa9f-48583bf80d5a",
   "metadata": {},
   "outputs": [
    {
     "name": "stdout",
     "output_type": "stream",
     "text": [
      "In fn\n"
     ]
    },
    {
     "data": {
      "text/plain": [
       "0.5"
      ]
     },
     "execution_count": 16,
     "metadata": {},
     "output_type": "execute_result"
    }
   ],
   "source": [
    "fn(10,20)"
   ]
  },
  {
   "cell_type": "code",
   "execution_count": 17,
   "id": "6df4d993-c0a1-4f20-b30d-f1124a32a976",
   "metadata": {},
   "outputs": [
    {
     "name": "stdout",
     "output_type": "stream",
     "text": [
      "Hi main\n",
      "In fn\n",
      "b should be non-zero\n"
     ]
    }
   ],
   "source": [
    "print(\"Hi main\")\n",
    "try:\n",
    "    fn(10,0)\n",
    "except Exception as e:\n",
    "    print(e)"
   ]
  },
  {
   "cell_type": "code",
   "execution_count": 18,
   "id": "206d0986-0b84-4448-95fd-80284fa00b57",
   "metadata": {},
   "outputs": [],
   "source": [
    "def fn(a,b):\n",
    "    print(\"In fn\")\n",
    "    try:\n",
    "        if(b != 0):\n",
    "            return a/b\n",
    "        else:\n",
    "            raise Exception('b should be non-zero')\n",
    "    except:\n",
    "        print('b should be non zero')\n",
    "    finally :\n",
    "        print(\"in finally\")\n",
    "        return 0\n",
    "    print(\"out fn\")"
   ]
  },
  {
   "cell_type": "code",
   "execution_count": 19,
   "id": "fd81c5c2-9774-466a-9e63-75a45eec78a6",
   "metadata": {},
   "outputs": [
    {
     "name": "stdout",
     "output_type": "stream",
     "text": [
      "Hi main\n",
      "In fn\n",
      "b should be non zero\n",
      "in finally\n",
      "0\n",
      "By main\n"
     ]
    }
   ],
   "source": [
    "print(\"Hi main\")\n",
    "try:\n",
    "    a = fn(10,0)\n",
    "    print(a)\n",
    "except Exception as e:\n",
    "    print(e)\n",
    "print(\"By main\")"
   ]
  },
  {
   "cell_type": "code",
   "execution_count": 20,
   "id": "c5b4d90d-6755-48f2-9d8b-0878dfc4d1d1",
   "metadata": {},
   "outputs": [],
   "source": [
    "def fn(a,b):\n",
    "    print(\"In fn\")\n",
    "    if(b != 0):\n",
    "        return a/b\n",
    "    else:\n",
    "        raise Exception('b should be non-zero')\n",
    "    # except:\n",
    "        # print('b should be non zero')\n",
    "    print(\"out fn\")"
   ]
  },
  {
   "cell_type": "code",
   "execution_count": 21,
   "id": "be3ff7e3-d66f-4d3c-9045-56f02432c13c",
   "metadata": {},
   "outputs": [
    {
     "name": "stdout",
     "output_type": "stream",
     "text": [
      "Hi\n",
      "In fn\n",
      "b should be non-zero\n",
      "Traceback (most recent call last):\n",
      "  File \"C:\\Users\\Asus\\AppData\\Local\\Temp\\ipykernel_19412\\132026757.py\", line 4, in <module>\n",
      "    fn(-10,0)\n",
      "    ~~^^^^^^^\n",
      "  File \"C:\\Users\\Asus\\AppData\\Local\\Temp\\ipykernel_19412\\3138749882.py\", line 6, in fn\n",
      "    raise Exception('b should be non-zero')\n",
      "Exception: b should be non-zero\n",
      "\n"
     ]
    }
   ],
   "source": [
    "import traceback\n",
    "try:\n",
    "    print(\"Hi\")\n",
    "    fn(-10,0)\n",
    "    print(\"Bye\")\n",
    "except Exception as e:\n",
    "    print(e.args[0])\n",
    "    print(traceback.format_exc())"
   ]
  },
  {
   "cell_type": "code",
   "execution_count": null,
   "id": "5bb004ad-94cf-4e2b-883d-31e689b946d2",
   "metadata": {},
   "outputs": [],
   "source": []
  },
  {
   "cell_type": "code",
   "execution_count": null,
   "id": "a57723ba-dd04-472c-a9e8-3d66edb3d557",
   "metadata": {},
   "outputs": [],
   "source": []
  },
  {
   "cell_type": "code",
   "execution_count": null,
   "id": "9ffb60ef-c539-4063-8b6d-450364724b8a",
   "metadata": {},
   "outputs": [],
   "source": []
  }
 ],
 "metadata": {
  "kernelspec": {
   "display_name": "Python 3 (ipykernel)",
   "language": "python",
   "name": "python3"
  },
  "language_info": {
   "codemirror_mode": {
    "name": "ipython",
    "version": 3
   },
   "file_extension": ".py",
   "mimetype": "text/x-python",
   "name": "python",
   "nbconvert_exporter": "python",
   "pygments_lexer": "ipython3",
   "version": "3.13.4"
  }
 },
 "nbformat": 4,
 "nbformat_minor": 5
}
