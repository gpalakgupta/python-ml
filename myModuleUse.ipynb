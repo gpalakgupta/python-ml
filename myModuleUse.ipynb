{
 "cells": [
  {
   "cell_type": "code",
   "execution_count": 1,
   "id": "22ef9144-da03-480a-9fdf-356e6a5eb40b",
   "metadata": {},
   "outputs": [],
   "source": [
    "import math"
   ]
  },
  {
   "cell_type": "code",
   "execution_count": 2,
   "id": "ba7822f1-18e7-4ed2-9b42-db581c33b9c3",
   "metadata": {},
   "outputs": [
    {
     "name": "stdout",
     "output_type": "stream",
     "text": [
      "Hello !! Welcome to my module\n",
      "myModule\n"
     ]
    }
   ],
   "source": [
    "import myModule as mm\n",
    "# from myModule import A,fn,a\n",
    "from myModule import *"
   ]
  },
  {
   "cell_type": "code",
   "execution_count": 3,
   "id": "9e378896-6b0f-421f-9020-fa404fb7d66a",
   "metadata": {},
   "outputs": [
    {
     "data": {
      "text/plain": [
       "10"
      ]
     },
     "execution_count": 3,
     "metadata": {},
     "output_type": "execute_result"
    }
   ],
   "source": [
    "mm.a"
   ]
  },
  {
   "cell_type": "code",
   "execution_count": 4,
   "id": "64e2e872-624c-4669-9ec5-95682bc389a0",
   "metadata": {},
   "outputs": [
    {
     "data": {
      "text/plain": [
       "'Hello'"
      ]
     },
     "execution_count": 4,
     "metadata": {},
     "output_type": "execute_result"
    }
   ],
   "source": [
    "mm.b"
   ]
  },
  {
   "cell_type": "code",
   "execution_count": 5,
   "id": "12d5daae-7796-492c-9588-ddcd64719cc3",
   "metadata": {},
   "outputs": [
    {
     "data": {
      "text/plain": [
       "30"
      ]
     },
     "execution_count": 5,
     "metadata": {},
     "output_type": "execute_result"
    }
   ],
   "source": [
    "mm.fn()"
   ]
  },
  {
   "cell_type": "code",
   "execution_count": 6,
   "id": "f40397ff-9ef3-4d61-ae39-94a08df30e21",
   "metadata": {},
   "outputs": [
    {
     "data": {
      "text/plain": [
       "<myModule.A at 0x11f0375d2b0>"
      ]
     },
     "execution_count": 6,
     "metadata": {},
     "output_type": "execute_result"
    }
   ],
   "source": [
    "mm.A()"
   ]
  },
  {
   "cell_type": "code",
   "execution_count": 7,
   "id": "df7cc85a-e62e-4835-a8bc-aa23d35e571c",
   "metadata": {},
   "outputs": [
    {
     "data": {
      "text/plain": [
       "30"
      ]
     },
     "execution_count": 7,
     "metadata": {},
     "output_type": "execute_result"
    }
   ],
   "source": [
    "fn()"
   ]
  },
  {
   "cell_type": "code",
   "execution_count": 8,
   "id": "59372d68-9197-4ad1-9d0e-a898e0f88364",
   "metadata": {},
   "outputs": [
    {
     "data": {
      "text/plain": [
       "<myModule.A at 0x11f03556ad0>"
      ]
     },
     "execution_count": 8,
     "metadata": {},
     "output_type": "execute_result"
    }
   ],
   "source": [
    "A()"
   ]
  },
  {
   "cell_type": "code",
   "execution_count": 9,
   "id": "eee4169d-9156-45d3-955c-94360e57a4cb",
   "metadata": {},
   "outputs": [
    {
     "data": {
      "text/plain": [
       "10"
      ]
     },
     "execution_count": 9,
     "metadata": {},
     "output_type": "execute_result"
    }
   ],
   "source": [
    "a"
   ]
  },
  {
   "cell_type": "code",
   "execution_count": null,
   "id": "3f99655b-c8d1-479e-ae67-d022187a1397",
   "metadata": {},
   "outputs": [],
   "source": []
  },
  {
   "cell_type": "code",
   "execution_count": 10,
   "id": "ea6baef5-d399-40eb-b00e-d982ca3de231",
   "metadata": {},
   "outputs": [
    {
     "data": {
      "text/plain": [
       "'Hello'"
      ]
     },
     "execution_count": 10,
     "metadata": {},
     "output_type": "execute_result"
    }
   ],
   "source": [
    "b"
   ]
  },
  {
   "cell_type": "code",
   "execution_count": null,
   "id": "d1693102-94a8-42d5-b506-3f638bae6f8f",
   "metadata": {},
   "outputs": [],
   "source": []
  },
  {
   "cell_type": "code",
   "execution_count": 11,
   "id": "751a1d9c-9ac2-4cee-b6cd-57708e589a7c",
   "metadata": {},
   "outputs": [
    {
     "data": {
      "text/plain": [
       "'myModule'"
      ]
     },
     "execution_count": 11,
     "metadata": {},
     "output_type": "execute_result"
    }
   ],
   "source": [
    "mm.__name__"
   ]
  },
  {
   "cell_type": "code",
   "execution_count": null,
   "id": "b54ce2d9-1d28-4fdb-9e8f-2902f1653528",
   "metadata": {},
   "outputs": [],
   "source": []
  },
  {
   "cell_type": "code",
   "execution_count": null,
   "id": "72e217c9-64b3-4161-935d-eab4acb0f133",
   "metadata": {},
   "outputs": [],
   "source": []
  }
 ],
 "metadata": {
  "kernelspec": {
   "display_name": "Python 3 (ipykernel)",
   "language": "python",
   "name": "python3"
  },
  "language_info": {
   "codemirror_mode": {
    "name": "ipython",
    "version": 3
   },
   "file_extension": ".py",
   "mimetype": "text/x-python",
   "name": "python",
   "nbconvert_exporter": "python",
   "pygments_lexer": "ipython3",
   "version": "3.13.4"
  }
 },
 "nbformat": 4,
 "nbformat_minor": 5
}
