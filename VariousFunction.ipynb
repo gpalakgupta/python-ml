{
 "cells": [
  {
   "cell_type": "code",
   "execution_count": null,
   "id": "794ba2e5-1cdc-461d-b91d-8a663f4cbc63",
   "metadata": {},
   "outputs": [],
   "source": []
  },
  {
   "cell_type": "code",
   "execution_count": 1,
   "id": "3395f3a3-6981-4bc0-b8f7-eb22ad531a1f",
   "metadata": {},
   "outputs": [
    {
     "data": {
      "text/plain": [
       "1.2"
      ]
     },
     "execution_count": 1,
     "metadata": {},
     "output_type": "execute_result"
    }
   ],
   "source": [
    "abs(-1.2)"
   ]
  },
  {
   "cell_type": "code",
   "execution_count": 2,
   "id": "3c13871b-c579-4e8a-b53d-5262384cb88d",
   "metadata": {},
   "outputs": [
    {
     "data": {
      "text/plain": [
       "1.2"
      ]
     },
     "execution_count": 2,
     "metadata": {},
     "output_type": "execute_result"
    }
   ],
   "source": [
    "abs(1.2)"
   ]
  },
  {
   "cell_type": "code",
   "execution_count": 3,
   "id": "ee38586a-9280-43cf-90f2-aff5c42e09b0",
   "metadata": {},
   "outputs": [
    {
     "data": {
      "text/plain": [
       "True"
      ]
     },
     "execution_count": 3,
     "metadata": {},
     "output_type": "execute_result"
    }
   ],
   "source": [
    "# all\n",
    "# return true if all true else return false\n",
    "all([1,2,3,45,5])"
   ]
  },
  {
   "cell_type": "code",
   "execution_count": 4,
   "id": "eff5e0d3-8f5a-4987-aaf0-47acd32a6f36",
   "metadata": {},
   "outputs": [
    {
     "data": {
      "text/plain": [
       "False"
      ]
     },
     "execution_count": 4,
     "metadata": {},
     "output_type": "execute_result"
    }
   ],
   "source": [
    "all([1,2,4,5,0])"
   ]
  },
  {
   "cell_type": "code",
   "execution_count": 6,
   "id": "ca048cfe-8630-46cb-b1d5-7bdc829e52a5",
   "metadata": {},
   "outputs": [
    {
     "data": {
      "text/plain": [
       "True"
      ]
     },
     "execution_count": 6,
     "metadata": {},
     "output_type": "execute_result"
    }
   ],
   "source": [
    "# any \n",
    "# one elment is true\n",
    "any([1,2,3,4,0])"
   ]
  },
  {
   "cell_type": "code",
   "execution_count": 7,
   "id": "57f7f41b-e933-4b26-a0d0-8e646f79d1f6",
   "metadata": {},
   "outputs": [
    {
     "data": {
      "text/plain": [
       "False"
      ]
     },
     "execution_count": 7,
     "metadata": {},
     "output_type": "execute_result"
    }
   ],
   "source": [
    "any([0,0,0,0])"
   ]
  },
  {
   "cell_type": "code",
   "execution_count": null,
   "id": "e88b3b82-4942-49d4-b732-27e69b483f1b",
   "metadata": {},
   "outputs": [],
   "source": []
  },
  {
   "cell_type": "code",
   "execution_count": 9,
   "id": "1f292139-a51b-457c-8cde-f22acb005fe3",
   "metadata": {},
   "outputs": [
    {
     "data": {
      "text/plain": [
       "['__abs__',\n",
       " '__add__',\n",
       " '__and__',\n",
       " '__bool__',\n",
       " '__ceil__',\n",
       " '__class__',\n",
       " '__delattr__',\n",
       " '__dir__',\n",
       " '__divmod__',\n",
       " '__doc__',\n",
       " '__eq__',\n",
       " '__float__',\n",
       " '__floor__',\n",
       " '__floordiv__',\n",
       " '__format__',\n",
       " '__ge__',\n",
       " '__getattribute__',\n",
       " '__getnewargs__',\n",
       " '__getstate__',\n",
       " '__gt__',\n",
       " '__hash__',\n",
       " '__index__',\n",
       " '__init__',\n",
       " '__init_subclass__',\n",
       " '__int__',\n",
       " '__invert__',\n",
       " '__le__',\n",
       " '__lshift__',\n",
       " '__lt__',\n",
       " '__mod__',\n",
       " '__mul__',\n",
       " '__ne__',\n",
       " '__neg__',\n",
       " '__new__',\n",
       " '__or__',\n",
       " '__pos__',\n",
       " '__pow__',\n",
       " '__radd__',\n",
       " '__rand__',\n",
       " '__rdivmod__',\n",
       " '__reduce__',\n",
       " '__reduce_ex__',\n",
       " '__repr__',\n",
       " '__rfloordiv__',\n",
       " '__rlshift__',\n",
       " '__rmod__',\n",
       " '__rmul__',\n",
       " '__ror__',\n",
       " '__round__',\n",
       " '__rpow__',\n",
       " '__rrshift__',\n",
       " '__rshift__',\n",
       " '__rsub__',\n",
       " '__rtruediv__',\n",
       " '__rxor__',\n",
       " '__setattr__',\n",
       " '__sizeof__',\n",
       " '__str__',\n",
       " '__sub__',\n",
       " '__subclasshook__',\n",
       " '__truediv__',\n",
       " '__trunc__',\n",
       " '__xor__',\n",
       " 'as_integer_ratio',\n",
       " 'bit_count',\n",
       " 'bit_length',\n",
       " 'conjugate',\n",
       " 'denominator',\n",
       " 'from_bytes',\n",
       " 'imag',\n",
       " 'is_integer',\n",
       " 'numerator',\n",
       " 'real',\n",
       " 'to_bytes']"
      ]
     },
     "execution_count": 9,
     "metadata": {},
     "output_type": "execute_result"
    }
   ],
   "source": [
    "dir(int)"
   ]
  },
  {
   "cell_type": "code",
   "execution_count": null,
   "id": "f81ccd37-75b6-4ec9-81c2-203bdc9cb972",
   "metadata": {},
   "outputs": [],
   "source": []
  },
  {
   "cell_type": "code",
   "execution_count": 12,
   "id": "0a7fd13d-5b65-4389-9860-7db77065446b",
   "metadata": {},
   "outputs": [
    {
     "data": {
      "text/plain": [
       "(6, 2)"
      ]
     },
     "execution_count": 12,
     "metadata": {},
     "output_type": "execute_result"
    }
   ],
   "source": [
    "divmod(20,3)\n",
    "# it gives quotient and reminder"
   ]
  },
  {
   "cell_type": "code",
   "execution_count": null,
   "id": "89bbc2a2-de4e-4904-9acf-db0683179e8b",
   "metadata": {},
   "outputs": [],
   "source": []
  },
  {
   "cell_type": "code",
   "execution_count": 13,
   "id": "078cfe3a-527b-4f62-83f8-dcbf91e25844",
   "metadata": {},
   "outputs": [
    {
     "name": "stdout",
     "output_type": "stream",
     "text": [
      "(0, 10)\n",
      "(1, 20)\n",
      "(2, 30)\n",
      "(3, 40)\n",
      "(4, 50)\n"
     ]
    }
   ],
   "source": [
    "l = [10,20,30,40,50]\n",
    "for t in enumerate(l):\n",
    "    print(t)"
   ]
  },
  {
   "cell_type": "code",
   "execution_count": 17,
   "id": "ef115541-9d77-4cad-9be7-11affdce4550",
   "metadata": {},
   "outputs": [
    {
     "name": "stdout",
     "output_type": "stream",
     "text": [
      "(9, 10)\n",
      "(10, 20)\n",
      "(11, 30)\n",
      "(12, 40)\n",
      "(13, 50)\n"
     ]
    }
   ],
   "source": [
    "l = [10,20,30,40,50]\n",
    "for t in enumerate(l, start = 9):\n",
    "    print(t)"
   ]
  },
  {
   "cell_type": "code",
   "execution_count": 18,
   "id": "2b8ac8b2-c019-4050-b7ce-4e2016147721",
   "metadata": {},
   "outputs": [
    {
     "data": {
      "text/plain": [
       "\u001b[31mInit signature:\u001b[39m enumerate(iterable, start=\u001b[32m0\u001b[39m)\n",
       "\u001b[31mDocstring:\u001b[39m     \n",
       "Return an enumerate object.\n",
       "\n",
       "  iterable\n",
       "    an object supporting iteration\n",
       "\n",
       "The enumerate object yields pairs containing a count (from start, which\n",
       "defaults to zero) and a value yielded by the iterable argument.\n",
       "\n",
       "enumerate is useful for obtaining an indexed list:\n",
       "    (0, seq[0]), (1, seq[1]), (2, seq[2]), ...\n",
       "\u001b[31mType:\u001b[39m           type\n",
       "\u001b[31mSubclasses:\u001b[39m     "
      ]
     },
     "metadata": {},
     "output_type": "display_data"
    }
   ],
   "source": [
    "enumerate?"
   ]
  },
  {
   "cell_type": "code",
   "execution_count": 19,
   "id": "c6ecbcb6-7ed2-4661-ba6c-99977a2da37d",
   "metadata": {},
   "outputs": [],
   "source": [
    "# filter\n",
    "l = [i for i in range(1,100)]"
   ]
  },
  {
   "cell_type": "code",
   "execution_count": null,
   "id": "9915ba09-9b62-474e-80ee-b2868bcb49ce",
   "metadata": {},
   "outputs": [],
   "source": []
  },
  {
   "cell_type": "code",
   "execution_count": 21,
   "id": "541148d4-0c15-45c4-90c5-75ce9bde0598",
   "metadata": {},
   "outputs": [],
   "source": [
    "def fn(x):\n",
    "    return x%2 == 0"
   ]
  },
  {
   "cell_type": "code",
   "execution_count": 22,
   "id": "485bae7e-e7c9-40e8-848f-080a9d9bdac7",
   "metadata": {},
   "outputs": [
    {
     "name": "stdout",
     "output_type": "stream",
     "text": [
      "2\n",
      "4\n",
      "6\n",
      "8\n",
      "10\n",
      "12\n",
      "14\n",
      "16\n",
      "18\n",
      "20\n",
      "22\n",
      "24\n",
      "26\n",
      "28\n",
      "30\n",
      "32\n",
      "34\n",
      "36\n",
      "38\n",
      "40\n",
      "42\n",
      "44\n",
      "46\n",
      "48\n",
      "50\n",
      "52\n",
      "54\n",
      "56\n",
      "58\n",
      "60\n",
      "62\n",
      "64\n",
      "66\n",
      "68\n",
      "70\n",
      "72\n",
      "74\n",
      "76\n",
      "78\n",
      "80\n",
      "82\n",
      "84\n",
      "86\n",
      "88\n",
      "90\n",
      "92\n",
      "94\n",
      "96\n",
      "98\n"
     ]
    }
   ],
   "source": [
    "for ele in filter(fn,l):\n",
    "    print(ele)"
   ]
  },
  {
   "cell_type": "code",
   "execution_count": 28,
   "id": "4b5c9df1-f943-49f7-80f2-2a3f8b75de40",
   "metadata": {},
   "outputs": [
    {
     "name": "stdout",
     "output_type": "stream",
     "text": [
      "1\n",
      "3\n",
      "5\n",
      "7\n",
      "9\n",
      "11\n",
      "13\n",
      "15\n",
      "17\n",
      "19\n",
      "21\n",
      "23\n",
      "25\n",
      "27\n",
      "29\n",
      "31\n",
      "33\n",
      "35\n",
      "37\n",
      "39\n",
      "41\n",
      "43\n",
      "45\n",
      "47\n",
      "49\n",
      "51\n",
      "53\n",
      "55\n",
      "57\n",
      "59\n",
      "61\n",
      "63\n",
      "65\n",
      "67\n",
      "69\n",
      "71\n",
      "73\n",
      "75\n",
      "77\n",
      "79\n",
      "81\n",
      "83\n",
      "85\n",
      "87\n",
      "89\n",
      "91\n",
      "93\n",
      "95\n",
      "97\n",
      "99\n"
     ]
    }
   ],
   "source": [
    "for ele in filter(lambda x : x%2 != 0,l):\n",
    "    print(ele)"
   ]
  },
  {
   "cell_type": "code",
   "execution_count": 29,
   "id": "ffd3d24d-6a30-4d77-8239-0bf055873705",
   "metadata": {},
   "outputs": [
    {
     "name": "stdout",
     "output_type": "stream",
     "text": [
      "1\n",
      "4\n",
      "9\n",
      "16\n",
      "25\n",
      "36\n",
      "49\n",
      "64\n",
      "81\n"
     ]
    }
   ],
   "source": [
    "for ele in filter(lambda x:int(x**0.5) == x**0.5,l):\n",
    "    print(ele)"
   ]
  },
  {
   "cell_type": "code",
   "execution_count": 30,
   "id": "d733a29c-8c23-4477-8f9d-80ea9143fa74",
   "metadata": {},
   "outputs": [
    {
     "name": "stdout",
     "output_type": "stream",
     "text": [
      "1\n",
      "4\n",
      "9\n",
      "16\n",
      "25\n",
      "36\n",
      "49\n",
      "64\n",
      "81\n",
      "100\n",
      "121\n",
      "144\n",
      "169\n",
      "196\n",
      "225\n",
      "256\n",
      "289\n",
      "324\n",
      "361\n",
      "400\n",
      "441\n",
      "484\n",
      "529\n",
      "576\n",
      "625\n",
      "676\n",
      "729\n",
      "784\n",
      "841\n",
      "900\n",
      "961\n",
      "1024\n",
      "1089\n",
      "1156\n",
      "1225\n",
      "1296\n",
      "1369\n",
      "1444\n",
      "1521\n",
      "1600\n",
      "1681\n",
      "1764\n",
      "1849\n",
      "1936\n",
      "2025\n",
      "2116\n",
      "2209\n",
      "2304\n",
      "2401\n",
      "2500\n",
      "2601\n",
      "2704\n",
      "2809\n",
      "2916\n",
      "3025\n",
      "3136\n",
      "3249\n",
      "3364\n",
      "3481\n",
      "3600\n",
      "3721\n",
      "3844\n",
      "3969\n",
      "4096\n",
      "4225\n",
      "4356\n",
      "4489\n",
      "4624\n",
      "4761\n",
      "4900\n",
      "5041\n",
      "5184\n",
      "5329\n",
      "5476\n",
      "5625\n",
      "5776\n",
      "5929\n",
      "6084\n",
      "6241\n",
      "6400\n",
      "6561\n",
      "6724\n",
      "6889\n",
      "7056\n",
      "7225\n",
      "7396\n",
      "7569\n",
      "7744\n",
      "7921\n",
      "8100\n",
      "8281\n",
      "8464\n",
      "8649\n",
      "8836\n",
      "9025\n",
      "9216\n",
      "9409\n",
      "9604\n",
      "9801\n"
     ]
    }
   ],
   "source": [
    "# map\n",
    "for ele in map(lambda x:x**2,l):\n",
    "    print(ele)"
   ]
  },
  {
   "cell_type": "code",
   "execution_count": null,
   "id": "4f5056e5-97ea-4dde-a097-f9e32f6ebe10",
   "metadata": {},
   "outputs": [],
   "source": []
  },
  {
   "cell_type": "code",
   "execution_count": 31,
   "id": "94f2a3b6-3b3d-428e-a90a-4ab4e5845ae6",
   "metadata": {},
   "outputs": [],
   "source": [
    "# reduce\n",
    "from functools import reduce"
   ]
  },
  {
   "cell_type": "code",
   "execution_count": 32,
   "id": "52ca31a7-d74a-4894-8349-6baf8371f63b",
   "metadata": {},
   "outputs": [],
   "source": [
    "# eg:- list ko reduce krna in a single value"
   ]
  },
  {
   "cell_type": "code",
   "execution_count": 33,
   "id": "14b8e93f-c324-4fd1-a8dc-18c8389a0c42",
   "metadata": {},
   "outputs": [
    {
     "data": {
      "text/plain": [
       "\u001b[31mDocstring:\u001b[39m\n",
       "reduce(function, iterable[, initial], /) -> value\n",
       "\n",
       "Apply a function of two arguments cumulatively to the items of an iterable, from left to right.\n",
       "\n",
       "This effectively reduces the iterable to a single value.  If initial is present,\n",
       "it is placed before the items of the iterable in the calculation, and serves as\n",
       "a default when the iterable is empty.\n",
       "\n",
       "For example, reduce(lambda x, y: x+y, [1, 2, 3, 4, 5])\n",
       "calculates ((((1 + 2) + 3) + 4) + 5).\n",
       "\u001b[31mType:\u001b[39m      builtin_function_or_method"
      ]
     },
     "metadata": {},
     "output_type": "display_data"
    }
   ],
   "source": [
    "reduce?"
   ]
  },
  {
   "cell_type": "code",
   "execution_count": 34,
   "id": "a922b4bb-4783-4574-a4c0-3a12ef4f3981",
   "metadata": {},
   "outputs": [
    {
     "data": {
      "text/plain": [
       "15"
      ]
     },
     "execution_count": 34,
     "metadata": {},
     "output_type": "execute_result"
    }
   ],
   "source": [
    "reduce(lambda a,b:a+b,l[:5])"
   ]
  },
  {
   "cell_type": "code",
   "execution_count": 35,
   "id": "883a669e-3b2f-4bfd-8bc6-769da4db4c98",
   "metadata": {},
   "outputs": [
    {
     "data": {
      "text/plain": [
       "5"
      ]
     },
     "execution_count": 35,
     "metadata": {},
     "output_type": "execute_result"
    }
   ],
   "source": [
    "reduce(lambda a,b:max(a,b),l[:5])"
   ]
  },
  {
   "cell_type": "code",
   "execution_count": 40,
   "id": "8e41ca74-10bf-4042-acb9-2898bda654f0",
   "metadata": {},
   "outputs": [],
   "source": [
    "import random\n",
    "random.shuffle(l)"
   ]
  },
  {
   "cell_type": "code",
   "execution_count": 41,
   "id": "6f23e69f-dcc7-4932-b085-0c325a1d9d6b",
   "metadata": {},
   "outputs": [
    {
     "data": {
      "text/plain": [
       "[47,\n",
       " 29,\n",
       " 17,\n",
       " 98,\n",
       " 1,\n",
       " 38,\n",
       " 52,\n",
       " 67,\n",
       " 74,\n",
       " 22,\n",
       " 6,\n",
       " 11,\n",
       " 41,\n",
       " 72,\n",
       " 56,\n",
       " 10,\n",
       " 35,\n",
       " 33,\n",
       " 80,\n",
       " 70,\n",
       " 83,\n",
       " 65,\n",
       " 51,\n",
       " 53,\n",
       " 79,\n",
       " 82,\n",
       " 99,\n",
       " 5,\n",
       " 43,\n",
       " 76,\n",
       " 40,\n",
       " 21,\n",
       " 71,\n",
       " 55,\n",
       " 39,\n",
       " 2,\n",
       " 92,\n",
       " 4,\n",
       " 26,\n",
       " 16,\n",
       " 58,\n",
       " 81,\n",
       " 73,\n",
       " 14,\n",
       " 42,\n",
       " 44,\n",
       " 50,\n",
       " 8,\n",
       " 27,\n",
       " 97,\n",
       " 63,\n",
       " 25,\n",
       " 77,\n",
       " 78,\n",
       " 61,\n",
       " 31,\n",
       " 86,\n",
       " 88,\n",
       " 64,\n",
       " 48,\n",
       " 57,\n",
       " 62,\n",
       " 87,\n",
       " 93,\n",
       " 36,\n",
       " 68,\n",
       " 85,\n",
       " 96,\n",
       " 15,\n",
       " 18,\n",
       " 59,\n",
       " 9,\n",
       " 49,\n",
       " 7,\n",
       " 46,\n",
       " 54,\n",
       " 89,\n",
       " 28,\n",
       " 13,\n",
       " 90,\n",
       " 94,\n",
       " 12,\n",
       " 3,\n",
       " 20,\n",
       " 34,\n",
       " 60,\n",
       " 23,\n",
       " 95,\n",
       " 30,\n",
       " 84,\n",
       " 19,\n",
       " 37,\n",
       " 75,\n",
       " 32,\n",
       " 69,\n",
       " 45,\n",
       " 66,\n",
       " 91,\n",
       " 24]"
      ]
     },
     "execution_count": 41,
     "metadata": {},
     "output_type": "execute_result"
    }
   ],
   "source": [
    "l"
   ]
  },
  {
   "cell_type": "code",
   "execution_count": null,
   "id": "36d4be95-4e91-4897-ba79-cfaffb089e9d",
   "metadata": {},
   "outputs": [],
   "source": [
    " # shuffle original ,ist mei changes krta hai but sorted ek new list return krta hai"
   ]
  },
  {
   "cell_type": "code",
   "execution_count": 42,
   "id": "212bcae2-7143-4439-82de-1ed6d82d622f",
   "metadata": {},
   "outputs": [
    {
     "name": "stdout",
     "output_type": "stream",
     "text": [
      "[1, 2, 3, 4, 5, 6, 7, 8, 9, 10, 11, 12, 13, 14, 15, 16, 17, 18, 19, 20, 21, 22, 23, 24, 25, 26, 27, 28, 29, 30, 31, 32, 33, 34, 35, 36, 37, 38, 39, 40, 41, 42, 43, 44, 45, 46, 47, 48, 49, 50, 51, 52, 53, 54, 55, 56, 57, 58, 59, 60, 61, 62, 63, 64, 65, 66, 67, 68, 69, 70, 71, 72, 73, 74, 75, 76, 77, 78, 79, 80, 81, 82, 83, 84, 85, 86, 87, 88, 89, 90, 91, 92, 93, 94, 95, 96, 97, 98, 99]\n"
     ]
    }
   ],
   "source": [
    "l1 = sorted(l)\n",
    "print(l1)"
   ]
  },
  {
   "cell_type": "code",
   "execution_count": 43,
   "id": "6f18ea47-187a-46f4-b5f3-b5b7aa01c628",
   "metadata": {},
   "outputs": [
    {
     "name": "stdout",
     "output_type": "stream",
     "text": [
      "[47, 29, 17, 98, 1, 38, 52, 67, 74, 22, 6, 11, 41, 72, 56, 10, 35, 33, 80, 70, 83, 65, 51, 53, 79, 82, 99, 5, 43, 76, 40, 21, 71, 55, 39, 2, 92, 4, 26, 16, 58, 81, 73, 14, 42, 44, 50, 8, 27, 97, 63, 25, 77, 78, 61, 31, 86, 88, 64, 48, 57, 62, 87, 93, 36, 68, 85, 96, 15, 18, 59, 9, 49, 7, 46, 54, 89, 28, 13, 90, 94, 12, 3, 20, 34, 60, 23, 95, 30, 84, 19, 37, 75, 32, 69, 45, 66, 91, 24]\n"
     ]
    }
   ],
   "source": [
    "print(l)"
   ]
  },
  {
   "cell_type": "code",
   "execution_count": null,
   "id": "a486dba5-9049-426a-8dc8-ee7bbb12a7f5",
   "metadata": {},
   "outputs": [],
   "source": []
  },
  {
   "cell_type": "code",
   "execution_count": 44,
   "id": "3135f48a-2385-4471-8b62-6d4fbd3ae810",
   "metadata": {},
   "outputs": [],
   "source": [
    "l = [(10,20),(20,10),(25,30),(30,25),(10,15)]"
   ]
  },
  {
   "cell_type": "code",
   "execution_count": 48,
   "id": "94c6425b-aba8-47a8-bd5e-5f6cdcd99ad3",
   "metadata": {},
   "outputs": [
    {
     "data": {
      "text/plain": [
       "[(20, 10), (10, 15), (10, 20), (30, 25), (25, 30)]"
      ]
     },
     "execution_count": 48,
     "metadata": {},
     "output_type": "execute_result"
    }
   ],
   "source": [
    "sorted(l,key=lambda x:x[1])"
   ]
  },
  {
   "cell_type": "code",
   "execution_count": 49,
   "id": "b7008fdb-3078-4121-b89d-7227468cac18",
   "metadata": {},
   "outputs": [
    {
     "data": {
      "text/plain": [
       "[(25, 30), (30, 25), (10, 20), (10, 15), (20, 10)]"
      ]
     },
     "execution_count": 49,
     "metadata": {},
     "output_type": "execute_result"
    }
   ],
   "source": [
    "sorted(l,key=lambda x:-x[1])"
   ]
  },
  {
   "cell_type": "code",
   "execution_count": 50,
   "id": "29d32569-52ed-493c-8feb-5e2d30cbe680",
   "metadata": {},
   "outputs": [],
   "source": [
    "class Car:\n",
    "    def __init__(self,model,speed,milage):\n",
    "        self.model = model\n",
    "        self.speed = speed\n",
    "        self.milage = milage"
   ]
  },
  {
   "cell_type": "code",
   "execution_count": 58,
   "id": "f0a71fc0-9b8b-44b1-a6df-a46ffc038c85",
   "metadata": {},
   "outputs": [],
   "source": [
    "car1 = Car(\"Toyato\",100,10000)\n",
    "car2 = Car(\"Honda\",120,15000)\n",
    "car3 = Car(\"Ford\",130,1000)\n",
    "cars = [car1,car2,car3]"
   ]
  },
  {
   "cell_type": "code",
   "execution_count": null,
   "id": "5670d4ff-bea1-48b9-a928-3e15a8bd6abb",
   "metadata": {},
   "outputs": [],
   "source": [
    " "
   ]
  },
  {
   "cell_type": "code",
   "execution_count": 59,
   "id": "17f3f701-5fd9-4abb-a4f4-a6844f137ef4",
   "metadata": {},
   "outputs": [
    {
     "name": "stdout",
     "output_type": "stream",
     "text": [
      "Ford\n",
      "Honda\n",
      "Toyato\n"
     ]
    }
   ],
   "source": [
    "for car in sorted(cars, key = lambda car : -car.speed):\n",
    "    print(car.model)"
   ]
  },
  {
   "cell_type": "code",
   "execution_count": null,
   "id": "3bf1b9b4-c9d9-41da-b4ba-53821b0cf03b",
   "metadata": {},
   "outputs": [],
   "source": []
  }
 ],
 "metadata": {
  "kernelspec": {
   "display_name": "Python 3 (ipykernel)",
   "language": "python",
   "name": "python3"
  },
  "language_info": {
   "codemirror_mode": {
    "name": "ipython",
    "version": 3
   },
   "file_extension": ".py",
   "mimetype": "text/x-python",
   "name": "python",
   "nbconvert_exporter": "python",
   "pygments_lexer": "ipython3",
   "version": "3.13.4"
  }
 },
 "nbformat": 4,
 "nbformat_minor": 5
}
