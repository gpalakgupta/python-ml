{
 "cells": [
  {
   "cell_type": "code",
   "execution_count": 6,
   "id": "19daaa50-6a4e-4768-9baa-718b7c8b6b2e",
   "metadata": {},
   "outputs": [],
   "source": [
    "def add():\n",
    "    a = 10\n",
    "    b = 20\n",
    "    c = a+b\n",
    "    print(c)"
   ]
  },
  {
   "cell_type": "code",
   "execution_count": 7,
   "id": "caef5f4b-ff42-4067-a547-3043e6e29fed",
   "metadata": {},
   "outputs": [
    {
     "name": "stdout",
     "output_type": "stream",
     "text": [
      "30\n"
     ]
    }
   ],
   "source": [
    "add()"
   ]
  },
  {
   "cell_type": "code",
   "execution_count": 8,
   "id": "08cab66e-d987-4636-98b6-4ecd65ca9aaf",
   "metadata": {},
   "outputs": [
    {
     "name": "stdout",
     "output_type": "stream",
     "text": [
      "<function add at 0x000001A20BFB34C0> <class 'function'>\n"
     ]
    }
   ],
   "source": [
    "print(add,type(add))"
   ]
  },
  {
   "cell_type": "code",
   "execution_count": 9,
   "id": "3cee6acc-3bfb-4fc3-92ba-3a77b8003eae",
   "metadata": {},
   "outputs": [],
   "source": [
    "add = 10"
   ]
  },
  {
   "cell_type": "code",
   "execution_count": 10,
   "id": "d154817c-d02e-44f6-bf37-ff48fd065aed",
   "metadata": {},
   "outputs": [
    {
     "ename": "TypeError",
     "evalue": "'int' object is not callable",
     "output_type": "error",
     "traceback": [
      "\u001b[31m---------------------------------------------------------------------------\u001b[39m",
      "\u001b[31mTypeError\u001b[39m                                 Traceback (most recent call last)",
      "\u001b[36mCell\u001b[39m\u001b[36m \u001b[39m\u001b[32mIn[10]\u001b[39m\u001b[32m, line 1\u001b[39m\n\u001b[32m----> \u001b[39m\u001b[32m1\u001b[39m \u001b[43madd\u001b[49m\u001b[43m(\u001b[49m\u001b[43m)\u001b[49m\n",
      "\u001b[31mTypeError\u001b[39m: 'int' object is not callable"
     ]
    }
   ],
   "source": [
    "add()"
   ]
  },
  {
   "cell_type": "code",
   "execution_count": null,
   "id": "014f79af-47ef-408d-aa6e-cbfcdd5cb6e1",
   "metadata": {},
   "outputs": [],
   "source": []
  },
  {
   "cell_type": "code",
   "execution_count": 11,
   "id": "e18f336b-fef9-4e12-9fab-399a8c3a7abc",
   "metadata": {},
   "outputs": [],
   "source": [
    "def add(a,b):\n",
    "    c = a+b\n",
    "    print(c)"
   ]
  },
  {
   "cell_type": "code",
   "execution_count": 12,
   "id": "04e1e312-1401-4786-9aa6-57cd28359546",
   "metadata": {},
   "outputs": [
    {
     "name": "stdout",
     "output_type": "stream",
     "text": [
      "300\n"
     ]
    }
   ],
   "source": [
    "add(100,200)"
   ]
  },
  {
   "cell_type": "code",
   "execution_count": 13,
   "id": "151c4665-74b7-4b66-98a3-401c4db60137",
   "metadata": {},
   "outputs": [],
   "source": [
    "def add(a,b):\n",
    "    c = a+b\n",
    "    return c"
   ]
  },
  {
   "cell_type": "code",
   "execution_count": 15,
   "id": "0214d802-002a-4dd0-ae38-b07a1653a821",
   "metadata": {},
   "outputs": [],
   "source": [
    "c = add(100,200)"
   ]
  },
  {
   "cell_type": "raw",
   "id": "6e9f8bcf-8d0c-401d-8676-fc676ccd34ff",
   "metadata": {},
   "source": []
  },
  {
   "cell_type": "code",
   "execution_count": 16,
   "id": "14603206-4c77-401f-8401-3a97019e7a75",
   "metadata": {},
   "outputs": [
    {
     "name": "stdout",
     "output_type": "stream",
     "text": [
      "300\n"
     ]
    }
   ],
   "source": [
    "print(c)"
   ]
  },
  {
   "cell_type": "code",
   "execution_count": 17,
   "id": "eca70208-280c-470c-b565-8b4e092cbc1e",
   "metadata": {},
   "outputs": [
    {
     "name": "stdout",
     "output_type": "stream",
     "text": [
      "10 20\n",
      "10 20\n"
     ]
    }
   ],
   "source": [
    "# swap\n",
    "def swap(a,b):\n",
    "    t = a\n",
    "    a = b\n",
    "    b = t\n",
    "a = 10\n",
    "b = 20\n",
    "print(a,b)\n",
    "swap(a,b)\n",
    "print(a,b)"
   ]
  },
  {
   "cell_type": "code",
   "execution_count": 20,
   "id": "af096632-5038-4520-9859-f5692c8fe535",
   "metadata": {},
   "outputs": [
    {
     "name": "stdout",
     "output_type": "stream",
     "text": [
      "[10, 20] [20, 10]\n",
      "[20, 20] [10, 10]\n"
     ]
    }
   ],
   "source": [
    "# swap\n",
    "def swap(a,b):\n",
    "   a[0],b[0] = b[0],a[0]\n",
    "a = [10,20]\n",
    "b = [20,10]\n",
    "print(a,b)\n",
    "swap(a,b)\n",
    "print(a,b)"
   ]
  },
  {
   "cell_type": "code",
   "execution_count": 21,
   "id": "a45458c7-589c-43ad-8e65-55e285b021b3",
   "metadata": {},
   "outputs": [
    {
     "name": "stdout",
     "output_type": "stream",
     "text": [
      "10\n"
     ]
    }
   ],
   "source": [
    "def add(a,b):\n",
    "    c = a+b\n",
    "    return c\n",
    "def sub(a,b):\n",
    "    c = add(a,b)-b\n",
    "    return c\n",
    "\n",
    "print(sub(10,20))"
   ]
  },
  {
   "cell_type": "code",
   "execution_count": 22,
   "id": "78316f62-e8f4-46ff-a964-a4b01a20dfa7",
   "metadata": {},
   "outputs": [
    {
     "ename": "RecursionError",
     "evalue": "maximum recursion depth exceeded",
     "output_type": "error",
     "traceback": [
      "\u001b[31m---------------------------------------------------------------------------\u001b[39m",
      "\u001b[31mRecursionError\u001b[39m                            Traceback (most recent call last)",
      "\u001b[36mCell\u001b[39m\u001b[36m \u001b[39m\u001b[32mIn[22]\u001b[39m\u001b[32m, line 8\u001b[39m\n\u001b[32m      5\u001b[39m     c = add(a,b)-b\n\u001b[32m      6\u001b[39m     \u001b[38;5;28;01mreturn\u001b[39;00m c\n\u001b[32m----> \u001b[39m\u001b[32m8\u001b[39m \u001b[38;5;28mprint\u001b[39m(\u001b[43msub\u001b[49m\u001b[43m(\u001b[49m\u001b[32;43m10\u001b[39;49m\u001b[43m,\u001b[49m\u001b[32;43m20\u001b[39;49m\u001b[43m)\u001b[49m)\n",
      "\u001b[36mCell\u001b[39m\u001b[36m \u001b[39m\u001b[32mIn[22]\u001b[39m\u001b[32m, line 5\u001b[39m, in \u001b[36msub\u001b[39m\u001b[34m(a, b)\u001b[39m\n\u001b[32m      4\u001b[39m \u001b[38;5;28;01mdef\u001b[39;00m\u001b[38;5;250m \u001b[39m\u001b[34msub\u001b[39m(a,b):\n\u001b[32m----> \u001b[39m\u001b[32m5\u001b[39m     c = \u001b[43madd\u001b[49m\u001b[43m(\u001b[49m\u001b[43ma\u001b[49m\u001b[43m,\u001b[49m\u001b[43mb\u001b[49m\u001b[43m)\u001b[49m-b\n\u001b[32m      6\u001b[39m     \u001b[38;5;28;01mreturn\u001b[39;00m c\n",
      "\u001b[36mCell\u001b[39m\u001b[36m \u001b[39m\u001b[32mIn[22]\u001b[39m\u001b[32m, line 2\u001b[39m, in \u001b[36madd\u001b[39m\u001b[34m(a, b)\u001b[39m\n\u001b[32m      1\u001b[39m \u001b[38;5;28;01mdef\u001b[39;00m\u001b[38;5;250m \u001b[39m\u001b[34madd\u001b[39m(a,b):\n\u001b[32m----> \u001b[39m\u001b[32m2\u001b[39m     c = a+\u001b[43msub\u001b[49m\u001b[43m(\u001b[49m\u001b[43ma\u001b[49m\u001b[43m,\u001b[49m\u001b[43mb\u001b[49m\u001b[43m)\u001b[49m\n\u001b[32m      3\u001b[39m     \u001b[38;5;28;01mreturn\u001b[39;00m c\n",
      "\u001b[36mCell\u001b[39m\u001b[36m \u001b[39m\u001b[32mIn[22]\u001b[39m\u001b[32m, line 5\u001b[39m, in \u001b[36msub\u001b[39m\u001b[34m(a, b)\u001b[39m\n\u001b[32m      4\u001b[39m \u001b[38;5;28;01mdef\u001b[39;00m\u001b[38;5;250m \u001b[39m\u001b[34msub\u001b[39m(a,b):\n\u001b[32m----> \u001b[39m\u001b[32m5\u001b[39m     c = \u001b[43madd\u001b[49m\u001b[43m(\u001b[49m\u001b[43ma\u001b[49m\u001b[43m,\u001b[49m\u001b[43mb\u001b[49m\u001b[43m)\u001b[49m-b\n\u001b[32m      6\u001b[39m     \u001b[38;5;28;01mreturn\u001b[39;00m c\n",
      "\u001b[36mCell\u001b[39m\u001b[36m \u001b[39m\u001b[32mIn[22]\u001b[39m\u001b[32m, line 2\u001b[39m, in \u001b[36madd\u001b[39m\u001b[34m(a, b)\u001b[39m\n\u001b[32m      1\u001b[39m \u001b[38;5;28;01mdef\u001b[39;00m\u001b[38;5;250m \u001b[39m\u001b[34madd\u001b[39m(a,b):\n\u001b[32m----> \u001b[39m\u001b[32m2\u001b[39m     c = a+\u001b[43msub\u001b[49m\u001b[43m(\u001b[49m\u001b[43ma\u001b[49m\u001b[43m,\u001b[49m\u001b[43mb\u001b[49m\u001b[43m)\u001b[49m\n\u001b[32m      3\u001b[39m     \u001b[38;5;28;01mreturn\u001b[39;00m c\n",
      "    \u001b[31m[... skipping similar frames: sub at line 5 (1486 times), add at line 2 (1485 times)]\u001b[39m\n",
      "\u001b[36mCell\u001b[39m\u001b[36m \u001b[39m\u001b[32mIn[22]\u001b[39m\u001b[32m, line 2\u001b[39m, in \u001b[36madd\u001b[39m\u001b[34m(a, b)\u001b[39m\n\u001b[32m      1\u001b[39m \u001b[38;5;28;01mdef\u001b[39;00m\u001b[38;5;250m \u001b[39m\u001b[34madd\u001b[39m(a,b):\n\u001b[32m----> \u001b[39m\u001b[32m2\u001b[39m     c = a+\u001b[43msub\u001b[49m\u001b[43m(\u001b[49m\u001b[43ma\u001b[49m\u001b[43m,\u001b[49m\u001b[43mb\u001b[49m\u001b[43m)\u001b[49m\n\u001b[32m      3\u001b[39m     \u001b[38;5;28;01mreturn\u001b[39;00m c\n",
      "\u001b[36mCell\u001b[39m\u001b[36m \u001b[39m\u001b[32mIn[22]\u001b[39m\u001b[32m, line 5\u001b[39m, in \u001b[36msub\u001b[39m\u001b[34m(a, b)\u001b[39m\n\u001b[32m      4\u001b[39m \u001b[38;5;28;01mdef\u001b[39;00m\u001b[38;5;250m \u001b[39m\u001b[34msub\u001b[39m(a,b):\n\u001b[32m----> \u001b[39m\u001b[32m5\u001b[39m     c = \u001b[43madd\u001b[49m\u001b[43m(\u001b[49m\u001b[43ma\u001b[49m\u001b[43m,\u001b[49m\u001b[43mb\u001b[49m\u001b[43m)\u001b[49m-b\n\u001b[32m      6\u001b[39m     \u001b[38;5;28;01mreturn\u001b[39;00m c\n",
      "\u001b[31mRecursionError\u001b[39m: maximum recursion depth exceeded"
     ]
    }
   ],
   "source": [
    "def add(a,b):\n",
    "    c = a+sub(a,b)\n",
    "    return c\n",
    "def sub(a,b):\n",
    "    c = add(a,b)-b\n",
    "    return c\n",
    "\n",
    "print(sub(10,20))"
   ]
  },
  {
   "cell_type": "code",
   "execution_count": 26,
   "id": "8e4008e1-e44a-46cc-84fd-2a78d84272f0",
   "metadata": {},
   "outputs": [
    {
     "name": "stdout",
     "output_type": "stream",
     "text": [
      "30 <class 'int'>\n",
      "(30, -10) <class 'tuple'>\n"
     ]
    }
   ],
   "source": [
    "def add(a,b):\n",
    "    c = a+b\n",
    "    return c\n",
    "def sub(a,b):\n",
    "    c = add(a,b)-b\n",
    "    return c\n",
    "\n",
    "def add_sub(a,b,p,q):\n",
    "    c = a+b\n",
    "    d = p-q\n",
    "    return c,d\n",
    "\n",
    "\n",
    "a = add(10,20)\n",
    "print(a,type(a))\n",
    "\n",
    "t = add_sub(10,20,30,40)\n",
    "print(t,type(t))"
   ]
  },
  {
   "cell_type": "code",
   "execution_count": 24,
   "id": "fcaa16f7-9a05-4fbd-914f-1cebe0fbb660",
   "metadata": {},
   "outputs": [
    {
     "name": "stdout",
     "output_type": "stream",
     "text": [
      "3000\n"
     ]
    }
   ],
   "source": [
    "import sys\n",
    "print(sys.getrecursionlimit())\n"
   ]
  },
  {
   "cell_type": "code",
   "execution_count": 28,
   "id": "c9c85d6a-f310-4600-a482-4506e0f11dbc",
   "metadata": {},
   "outputs": [
    {
     "ename": "SyntaxError",
     "evalue": "parameter without a default follows parameter with a default (412509285.py, line 8)",
     "output_type": "error",
     "traceback": [
      "  \u001b[36mCell\u001b[39m\u001b[36m \u001b[39m\u001b[32mIn[28]\u001b[39m\u001b[32m, line 8\u001b[39m\n\u001b[31m    \u001b[39m\u001b[31mdef add_sub(a,b,p=40,q):\u001b[39m\n                         ^\n\u001b[31mSyntaxError\u001b[39m\u001b[31m:\u001b[39m parameter without a default follows parameter with a default\n"
     ]
    }
   ],
   "source": [
    "def add(a,b):\n",
    "    c = a+b\n",
    "    return c\n",
    "def sub(a,b):\n",
    "    c = add(a,b)-b\n",
    "    return c\n",
    "\n",
    "def add_sub(a,b,p=40,q):\n",
    "    c = a+b\n",
    "    d = p-q\n",
    "    return c,d\n",
    "\n",
    "\n",
    "a = add(10,20)\n",
    "print(a,type(a))\n",
    "\n",
    "t = add_sub(10,20,30,40)\n",
    "print(t,type(t))"
   ]
  },
  {
   "cell_type": "code",
   "execution_count": 29,
   "id": "155d9a96-b497-4172-8634-2aa578d32940",
   "metadata": {},
   "outputs": [
    {
     "name": "stdout",
     "output_type": "stream",
     "text": [
      "30 <class 'int'>\n",
      "(30, -10) <class 'tuple'>\n"
     ]
    }
   ],
   "source": [
    "def add(a,b):\n",
    "    c = a+b\n",
    "    return c\n",
    "def sub(a,b):\n",
    "    c = add(a,b)-b\n",
    "    return c\n",
    "\n",
    "def add_sub(a,b,p,q=40):\n",
    "    c = a+b\n",
    "    d = p-q\n",
    "    return c,d\n",
    "\n",
    "\n",
    "a = add(10,20)\n",
    "print(a,type(a))\n",
    "\n",
    "t = add_sub(10,20,q = 40,p = 30)\n",
    "print(t,type(t))"
   ]
  },
  {
   "cell_type": "code",
   "execution_count": 30,
   "id": "627fff35-d345-4a87-b319-0d424faf7415",
   "metadata": {},
   "outputs": [
    {
     "name": "stdout",
     "output_type": "stream",
     "text": [
      "30 <class 'int'>\n",
      "(30, 10) <class 'tuple'>\n"
     ]
    }
   ],
   "source": [
    "def add(a,b):\n",
    "    c = a+b\n",
    "    return c\n",
    "def sub(a,b):\n",
    "    c = add(a,b)-b\n",
    "    return c\n",
    "\n",
    "# def add_sub(a,b,/,p,q=30): # / ke piche sabhi argu postion hoge\n",
    "def add_sub(a,b,*,p,q=30): #* ke aage sabhi agru keyword hoge\n",
    "    c = a+b\n",
    "    d = p-q\n",
    "    return c,d\n",
    "\n",
    "\n",
    "a = add(10,20)\n",
    "print(a,type(a))\n",
    "\n",
    "t = add_sub(10,20,q =30,p = 40)\n",
    "print(t,type(t))"
   ]
  },
  {
   "cell_type": "code",
   "execution_count": null,
   "id": "c51f1ee4-d18d-4127-a960-6f70cc4a2e37",
   "metadata": {},
   "outputs": [],
   "source": []
  },
  {
   "cell_type": "code",
   "execution_count": 31,
   "id": "be21664e-e79f-4ca8-9a69-f17f0de50baf",
   "metadata": {},
   "outputs": [],
   "source": [
    "def add(a:int,b:int)-> int:\n",
    "    return a+b\n"
   ]
  },
  {
   "cell_type": "code",
   "execution_count": 32,
   "id": "616a3f95-732f-4308-b69f-f1010c27d1ce",
   "metadata": {},
   "outputs": [],
   "source": [
    "c = add(10,20)"
   ]
  },
  {
   "cell_type": "code",
   "execution_count": 33,
   "id": "92aaa1cb-2900-4a61-83f6-f23280b271ef",
   "metadata": {},
   "outputs": [
    {
     "name": "stdout",
     "output_type": "stream",
     "text": [
      "30\n"
     ]
    }
   ],
   "source": [
    "print(c)\n"
   ]
  },
  {
   "cell_type": "code",
   "execution_count": 34,
   "id": "919a6651-3aee-4ca7-a960-06da9cae45d8",
   "metadata": {},
   "outputs": [],
   "source": [
    "import math\n"
   ]
  },
  {
   "cell_type": "code",
   "execution_count": 35,
   "id": "2caf80c5-dd19-4353-983f-2a7b64c0baa5",
   "metadata": {},
   "outputs": [
    {
     "data": {
      "text/plain": [
       "-11"
      ]
     },
     "execution_count": 35,
     "metadata": {},
     "output_type": "execute_result"
    }
   ],
   "source": [
    "math.floor(-10.6)"
   ]
  },
  {
   "cell_type": "code",
   "execution_count": 36,
   "id": "7177538e-12e9-4abb-b678-634d5d7c63fa",
   "metadata": {},
   "outputs": [
    {
     "data": {
      "text/plain": [
       "10"
      ]
     },
     "execution_count": 36,
     "metadata": {},
     "output_type": "execute_result"
    }
   ],
   "source": [
    "math.floor(10.6)"
   ]
  },
  {
   "cell_type": "code",
   "execution_count": 37,
   "id": "b9c6af54-569e-4c0b-9430-b6cb3db29a64",
   "metadata": {},
   "outputs": [
    {
     "data": {
      "text/plain": [
       "\u001b[31mSignature:\u001b[39m math.floor(x, /)\n",
       "\u001b[31mDocstring:\u001b[39m\n",
       "Return the floor of x as an Integral.\n",
       "\n",
       "This is the largest integer <= x.\n",
       "\u001b[31mType:\u001b[39m      builtin_function_or_method"
      ]
     },
     "metadata": {},
     "output_type": "display_data"
    }
   ],
   "source": [
    "math.floor?"
   ]
  },
  {
   "cell_type": "code",
   "execution_count": 38,
   "id": "fc428a5b-a03f-4e46-8a8c-9d253e7aa029",
   "metadata": {},
   "outputs": [],
   "source": [
    "# function mei jo first line string ki likhate hai vhi doc string hoti hai"
   ]
  },
  {
   "cell_type": "code",
   "execution_count": 39,
   "id": "5985c60e-9bdb-434f-aa9e-04419cbb5758",
   "metadata": {},
   "outputs": [],
   "source": [
    "def fn():\n",
    "    \"This is a demo function fro DocString\""
   ]
  },
  {
   "cell_type": "code",
   "execution_count": 40,
   "id": "2a1f45ea-e124-4e9e-84b2-f79aa2cbae70",
   "metadata": {},
   "outputs": [],
   "source": [
    "fn()"
   ]
  },
  {
   "cell_type": "code",
   "execution_count": 41,
   "id": "47557d01-888d-4bca-a18f-70d3a206f610",
   "metadata": {},
   "outputs": [
    {
     "data": {
      "text/plain": [
       "'This is a demo function fro DocString'"
      ]
     },
     "execution_count": 41,
     "metadata": {},
     "output_type": "execute_result"
    }
   ],
   "source": [
    "fn.__doc__"
   ]
  },
  {
   "cell_type": "code",
   "execution_count": 42,
   "id": "f325cbe1-1a72-488e-8630-958b7866c262",
   "metadata": {},
   "outputs": [
    {
     "data": {
      "text/plain": [
       "\u001b[31mSignature:\u001b[39m fn()\n",
       "\u001b[31mDocstring:\u001b[39m This is a demo function fro DocString\n",
       "\u001b[31mFile:\u001b[39m      c:\\users\\asus\\appdata\\local\\temp\\ipykernel_10648\\3221801004.py\n",
       "\u001b[31mType:\u001b[39m      function"
      ]
     },
     "metadata": {},
     "output_type": "display_data"
    }
   ],
   "source": [
    "fn?"
   ]
  },
  {
   "cell_type": "code",
   "execution_count": 43,
   "id": "e80343c1-54a1-4f4e-9152-1d19db89aa78",
   "metadata": {},
   "outputs": [
    {
     "data": {
      "text/plain": [
       "\u001b[31mSignature:\u001b[39m add(a: int, b: int) -> int\n",
       "\u001b[31mDocstring:\u001b[39m <no docstring>\n",
       "\u001b[31mFile:\u001b[39m      c:\\users\\asus\\appdata\\local\\temp\\ipykernel_10648\\4142839663.py\n",
       "\u001b[31mType:\u001b[39m      function"
      ]
     },
     "metadata": {},
     "output_type": "display_data"
    }
   ],
   "source": [
    "add?"
   ]
  },
  {
   "cell_type": "code",
   "execution_count": null,
   "id": "f371c923-b857-4277-96ff-793038b6658b",
   "metadata": {},
   "outputs": [],
   "source": []
  },
  {
   "cell_type": "code",
   "execution_count": null,
   "id": "38919349-448c-417a-82de-34dbcff4732e",
   "metadata": {},
   "outputs": [],
   "source": []
  },
  {
   "cell_type": "code",
   "execution_count": 44,
   "id": "b930d43b-01b5-40e4-98ac-b924379ee9a4",
   "metadata": {},
   "outputs": [],
   "source": [
    "def cal(fn,a=10,b=20):\n",
    "    val = fn(a,b)\n",
    "    return val"
   ]
  },
  {
   "cell_type": "code",
   "execution_count": 45,
   "id": "638add44-7a78-4726-ac4d-125712b155d6",
   "metadata": {},
   "outputs": [
    {
     "data": {
      "text/plain": [
       "300"
      ]
     },
     "execution_count": 45,
     "metadata": {},
     "output_type": "execute_result"
    }
   ],
   "source": [
    "cal(add,100,200)"
   ]
  },
  {
   "cell_type": "code",
   "execution_count": 46,
   "id": "c62dca7e-2336-4e12-bbbb-d01e02794efb",
   "metadata": {},
   "outputs": [
    {
     "data": {
      "text/plain": [
       "20000"
      ]
     },
     "execution_count": 46,
     "metadata": {},
     "output_type": "execute_result"
    }
   ],
   "source": [
    "# anonymous it is also called lambda function\n",
    "# single line function\n",
    "\n",
    "cal(lambda a,b:a*b,100,200)"
   ]
  },
  {
   "cell_type": "code",
   "execution_count": 47,
   "id": "11943dfe-fb49-42d2-a93f-b1069f785310",
   "metadata": {},
   "outputs": [],
   "source": [
    "sub = lambda a,b,c:a-b+c\n",
    "# it is just a temporary storage"
   ]
  },
  {
   "cell_type": "code",
   "execution_count": 48,
   "id": "fe1289cc-a460-44af-973f-4a8f60517216",
   "metadata": {},
   "outputs": [
    {
     "data": {
      "text/plain": [
       "20"
      ]
     },
     "execution_count": 48,
     "metadata": {},
     "output_type": "execute_result"
    }
   ],
   "source": [
    "sub(10,20,30)"
   ]
  },
  {
   "cell_type": "markdown",
   "id": "dfa1ba89-0fdf-4222-9177-55b522e016f6",
   "metadata": {},
   "source": [
    "<!--  -->"
   ]
  },
  {
   "cell_type": "code",
   "execution_count": 50,
   "id": "3f488363-acc8-4f75-999a-4c607c33ea34",
   "metadata": {},
   "outputs": [],
   "source": [
    "def sub(a,b,c):\n",
    "    return a-b"
   ]
  },
  {
   "cell_type": "code",
   "execution_count": 51,
   "id": "f973a842-736b-40d4-a433-739c414f5389",
   "metadata": {},
   "outputs": [],
   "source": [
    "def cal(fn,a = 10,b = 20):\n",
    "    val = fn(a,b)\n",
    "    return val"
   ]
  },
  {
   "cell_type": "code",
   "execution_count": 53,
   "id": "b6b6f429-6ae4-4d69-b84a-d1f4697c0ad1",
   "metadata": {},
   "outputs": [
    {
     "ename": "TypeError",
     "evalue": "sub() missing 1 required positional argument: 'c'",
     "output_type": "error",
     "traceback": [
      "\u001b[31m---------------------------------------------------------------------------\u001b[39m",
      "\u001b[31mTypeError\u001b[39m                                 Traceback (most recent call last)",
      "\u001b[36mCell\u001b[39m\u001b[36m \u001b[39m\u001b[32mIn[53]\u001b[39m\u001b[32m, line 1\u001b[39m\n\u001b[32m----> \u001b[39m\u001b[32m1\u001b[39m \u001b[43mcal\u001b[49m\u001b[43m(\u001b[49m\u001b[43msub\u001b[49m\u001b[43m,\u001b[49m\u001b[32;43m100\u001b[39;49m\u001b[43m,\u001b[49m\u001b[32;43m200\u001b[39;49m\u001b[43m)\u001b[49m\n",
      "\u001b[36mCell\u001b[39m\u001b[36m \u001b[39m\u001b[32mIn[51]\u001b[39m\u001b[32m, line 2\u001b[39m, in \u001b[36mcal\u001b[39m\u001b[34m(fn, a, b)\u001b[39m\n\u001b[32m      1\u001b[39m \u001b[38;5;28;01mdef\u001b[39;00m\u001b[38;5;250m \u001b[39m\u001b[34mcal\u001b[39m(fn,a = \u001b[32m10\u001b[39m,b = \u001b[32m20\u001b[39m):\n\u001b[32m----> \u001b[39m\u001b[32m2\u001b[39m     val = \u001b[43mfn\u001b[49m\u001b[43m(\u001b[49m\u001b[43ma\u001b[49m\u001b[43m,\u001b[49m\u001b[43mb\u001b[49m\u001b[43m)\u001b[49m\n\u001b[32m      3\u001b[39m     \u001b[38;5;28;01mreturn\u001b[39;00m val\n",
      "\u001b[31mTypeError\u001b[39m: sub() missing 1 required positional argument: 'c'"
     ]
    }
   ],
   "source": [
    "cal(sub,100,200)"
   ]
  },
  {
   "cell_type": "code",
   "execution_count": null,
   "id": "8b07fcf7-a385-48d9-92e9-4f2c969192eb",
   "metadata": {},
   "outputs": [],
   "source": []
  },
  {
   "cell_type": "code",
   "execution_count": 54,
   "id": "4678b2bb-b983-48f1-bc8d-e799e2812197",
   "metadata": {},
   "outputs": [],
   "source": [
    "n = 10000"
   ]
  },
  {
   "cell_type": "code",
   "execution_count": 55,
   "id": "b83a04a6-f62c-4254-b84f-e9c8c4a12d33",
   "metadata": {},
   "outputs": [
    {
     "ename": "TypeError",
     "evalue": "unsupported operand type(s) for +: 'int' and 'str'",
     "output_type": "error",
     "traceback": [
      "\u001b[31m---------------------------------------------------------------------------\u001b[39m",
      "\u001b[31mTypeError\u001b[39m                                 Traceback (most recent call last)",
      "\u001b[36mCell\u001b[39m\u001b[36m \u001b[39m\u001b[32mIn[55]\u001b[39m\u001b[32m, line 3\u001b[39m\n\u001b[32m      1\u001b[39m a = \u001b[32m10\u001b[39m\n\u001b[32m      2\u001b[39m b = \u001b[33m'\u001b[39m\u001b[33mHello\u001b[39m\u001b[33m'\u001b[39m\n\u001b[32m----> \u001b[39m\u001b[32m3\u001b[39m \u001b[43ma\u001b[49m\u001b[43m+\u001b[49m\u001b[43mb\u001b[49m\n",
      "\u001b[31mTypeError\u001b[39m: unsupported operand type(s) for +: 'int' and 'str'"
     ]
    }
   ],
   "source": [
    "a = 10\n",
    "b = 'Hello'\n",
    "a+b"
   ]
  },
  {
   "cell_type": "code",
   "execution_count": 56,
   "id": "3c0d4964-9ce6-49e1-8f28-196949ff637f",
   "metadata": {},
   "outputs": [],
   "source": [
    "def fn():\n",
    "    print(n)"
   ]
  },
  {
   "cell_type": "code",
   "execution_count": 57,
   "id": "28c7ee8e-0e79-4c06-be6e-b1f093686457",
   "metadata": {},
   "outputs": [
    {
     "name": "stdout",
     "output_type": "stream",
     "text": [
      "10000\n"
     ]
    }
   ],
   "source": [
    "fn()"
   ]
  },
  {
   "cell_type": "code",
   "execution_count": 59,
   "id": "2f58678b-d545-4ddb-844f-01d78fbcdfb0",
   "metadata": {},
   "outputs": [],
   "source": [
    "# scope of variables\n",
    "# here scope of n is global\n",
    "def fn():\n",
    "    print(n)\n",
    "    n = 100\n",
    "    print(n)\n"
   ]
  },
  {
   "cell_type": "code",
   "execution_count": 60,
   "id": "ad5a6912-58e6-42ed-97d1-93772a0b6b16",
   "metadata": {},
   "outputs": [
    {
     "ename": "UnboundLocalError",
     "evalue": "cannot access local variable 'n' where it is not associated with a value",
     "output_type": "error",
     "traceback": [
      "\u001b[31m---------------------------------------------------------------------------\u001b[39m",
      "\u001b[31mUnboundLocalError\u001b[39m                         Traceback (most recent call last)",
      "\u001b[36mCell\u001b[39m\u001b[36m \u001b[39m\u001b[32mIn[60]\u001b[39m\u001b[32m, line 1\u001b[39m\n\u001b[32m----> \u001b[39m\u001b[32m1\u001b[39m \u001b[43mfn\u001b[49m\u001b[43m(\u001b[49m\u001b[43m)\u001b[49m\n",
      "\u001b[36mCell\u001b[39m\u001b[36m \u001b[39m\u001b[32mIn[59]\u001b[39m\u001b[32m, line 4\u001b[39m, in \u001b[36mfn\u001b[39m\u001b[34m()\u001b[39m\n\u001b[32m      3\u001b[39m \u001b[38;5;28;01mdef\u001b[39;00m\u001b[38;5;250m \u001b[39m\u001b[34mfn\u001b[39m():\n\u001b[32m----> \u001b[39m\u001b[32m4\u001b[39m     \u001b[38;5;28mprint\u001b[39m(\u001b[43mn\u001b[49m)\n\u001b[32m      5\u001b[39m     n = \u001b[32m100\u001b[39m\n\u001b[32m      6\u001b[39m     \u001b[38;5;28mprint\u001b[39m(n)\n",
      "\u001b[31mUnboundLocalError\u001b[39m: cannot access local variable 'n' where it is not associated with a value"
     ]
    }
   ],
   "source": [
    "fn()"
   ]
  },
  {
   "cell_type": "code",
   "execution_count": 61,
   "id": "e4d66344-5500-4116-a6df-b648e8d9bc3c",
   "metadata": {},
   "outputs": [],
   "source": [
    "def fn():\n",
    "    global n\n",
    "    n = 100\n",
    "    print(n)"
   ]
  },
  {
   "cell_type": "code",
   "execution_count": 62,
   "id": "356c1834-ac07-43aa-9123-4b03f7ae387b",
   "metadata": {},
   "outputs": [
    {
     "name": "stdout",
     "output_type": "stream",
     "text": [
      "100\n",
      "100\n"
     ]
    }
   ],
   "source": [
    "fn()\n",
    "print(n)"
   ]
  },
  {
   "cell_type": "code",
   "execution_count": 65,
   "id": "9729bafd-3ae3-4223-8714-84cb3c6d3d94",
   "metadata": {},
   "outputs": [],
   "source": [
    "def fn():\n",
    "    # print(n)\n",
    "    n = 100\n",
    "    print(n)\n",
    "    "
   ]
  },
  {
   "cell_type": "code",
   "execution_count": 67,
   "id": "07e46692-6cb0-4922-aa90-8943d12767d2",
   "metadata": {},
   "outputs": [
    {
     "name": "stdout",
     "output_type": "stream",
     "text": [
      "100\n",
      "100\n"
     ]
    }
   ],
   "source": [
    "fn()\n",
    "print(n)"
   ]
  },
  {
   "cell_type": "code",
   "execution_count": 80,
   "id": "23b3c372-e1fb-4435-a0e0-8b317346f34c",
   "metadata": {},
   "outputs": [
    {
     "name": "stdout",
     "output_type": "stream",
     "text": [
      "1 100 200 300\n",
      "10 100 200\n",
      "100 1000 200\n",
      "300\n"
     ]
    }
   ],
   "source": [
    "# local and Global\n",
    "x = 100\n",
    "y = 1000\n",
    "z = 200\n",
    "def fn1():\n",
    "    x = 10\n",
    "    y = 100\n",
    "    def fn2():\n",
    "        global ax\n",
    "        nonlocal y\n",
    "        x = 1\n",
    "        ax = 300\n",
    "        print(x,y,z,ax)\n",
    "    fn2()\n",
    "    print(x,y,z)\n",
    "fn1()\n",
    "print(x,y,z)\n",
    "print(ax)"
   ]
  },
  {
   "cell_type": "code",
   "execution_count": null,
   "id": "b6ff6c8e-3ab9-4929-83df-9b385017c746",
   "metadata": {},
   "outputs": [],
   "source": []
  },
  {
   "cell_type": "code",
   "execution_count": null,
   "id": "d4be84d8-c719-4c37-a0d5-c9f253cd049c",
   "metadata": {},
   "outputs": [],
   "source": []
  },
  {
   "cell_type": "code",
   "execution_count": null,
   "id": "0a85d9b0-e408-4325-97eb-ff1dfeab6ac8",
   "metadata": {},
   "outputs": [],
   "source": []
  },
  {
   "cell_type": "code",
   "execution_count": null,
   "id": "5891de80-f335-43ab-8aea-c3e48cf41dc4",
   "metadata": {},
   "outputs": [],
   "source": []
  },
  {
   "cell_type": "code",
   "execution_count": 81,
   "id": "e5a1072d-63a2-4cc5-bb17-16fd34c8802a",
   "metadata": {},
   "outputs": [],
   "source": [
    "def fn(a,b,*args,c):\n",
    "    print(args,type(args))"
   ]
  },
  {
   "cell_type": "code",
   "execution_count": 82,
   "id": "fe1d97dd-34d8-4404-ab5e-99d6173bfb98",
   "metadata": {},
   "outputs": [
    {
     "name": "stdout",
     "output_type": "stream",
     "text": [
      "('hello',) <class 'tuple'>\n"
     ]
    }
   ],
   "source": [
    "fn(10,20,'hello',c = 10)"
   ]
  },
  {
   "cell_type": "code",
   "execution_count": 85,
   "id": "980536de-dbfa-420b-8472-ef21e0ac5343",
   "metadata": {},
   "outputs": [],
   "source": [
    "def fn(ax,bx,*args,**kwargs):\n",
    "    print(ax)\n",
    "    print(args)\n",
    "    print(kwargs,type(kwargs))"
   ]
  },
  {
   "cell_type": "code",
   "execution_count": 86,
   "id": "d25f03c9-f8d7-4457-bbc0-f4967f090e5c",
   "metadata": {},
   "outputs": [
    {
     "name": "stdout",
     "output_type": "stream",
     "text": [
      "10\n",
      "()\n",
      "{'a': 10, 'b': 30, 'd': 50, 'c': 100} <class 'dict'>\n"
     ]
    }
   ],
   "source": [
    "fn(10,20,a = 10,b = 30, d = 50, c = 100)"
   ]
  },
  {
   "cell_type": "code",
   "execution_count": null,
   "id": "f57dc3b7-9ef3-4a48-a0ef-6ad0ad639e43",
   "metadata": {},
   "outputs": [],
   "source": []
  },
  {
   "cell_type": "code",
   "execution_count": 103,
   "id": "69817dcb-a54d-4a2e-9373-3b29413ca779",
   "metadata": {},
   "outputs": [],
   "source": [
    "rtr = iter(range(10))"
   ]
  },
  {
   "cell_type": "code",
   "execution_count": 88,
   "id": "a4542e62-a714-4f65-a4cd-5fcbacc9c407",
   "metadata": {},
   "outputs": [
    {
     "name": "stdout",
     "output_type": "stream",
     "text": [
      "0\n",
      "1\n",
      "2\n",
      "3\n",
      "4\n",
      "5\n",
      "6\n",
      "7\n",
      "8\n",
      "9\n"
     ]
    }
   ],
   "source": [
    "for i in rtr:\n",
    "    print(i)"
   ]
  },
  {
   "cell_type": "code",
   "execution_count": 104,
   "id": "6f207afd-3012-4435-8a24-5568f8ada966",
   "metadata": {},
   "outputs": [
    {
     "data": {
      "text/plain": [
       "0"
      ]
     },
     "execution_count": 104,
     "metadata": {},
     "output_type": "execute_result"
    }
   ],
   "source": [
    "next(rtr)"
   ]
  },
  {
   "cell_type": "code",
   "execution_count": null,
   "id": "54f9449e-0efa-4eb5-a093-74c84192c3fb",
   "metadata": {},
   "outputs": [],
   "source": []
  },
  {
   "cell_type": "code",
   "execution_count": 105,
   "id": "28b1a743-5392-4f9e-af02-815b1c8a8976",
   "metadata": {},
   "outputs": [],
   "source": [
    "def myRange(start,stop,step):\n",
    "    i = start\n",
    "    while(i<stop):\n",
    "        print(i)\n",
    "        i+=step"
   ]
  },
  {
   "cell_type": "markdown",
   "id": "3aff4251-e2db-4479-8c74-e754625070af",
   "metadata": {},
   "source": [
    " "
   ]
  },
  {
   "cell_type": "raw",
   "id": "2034fda7-9831-47d9-8f3c-8fe28e120b5e",
   "metadata": {},
   "source": []
  },
  {
   "cell_type": "code",
   "execution_count": 106,
   "id": "dc523aff-abea-4332-a7bc-354d9ea0ee34",
   "metadata": {},
   "outputs": [
    {
     "name": "stdout",
     "output_type": "stream",
     "text": [
      "1\n",
      "2\n",
      "3\n",
      "4\n",
      "5\n",
      "6\n",
      "7\n",
      "8\n",
      "9\n",
      "10\n"
     ]
    }
   ],
   "source": [
    "myRange(1,11,1)"
   ]
  },
  {
   "cell_type": "code",
   "execution_count": 107,
   "id": "23fb051d-de4b-453b-a4c6-da449d966cfb",
   "metadata": {},
   "outputs": [],
   "source": [
    "def myRange(start,stop,step):\n",
    "    i = start\n",
    "    while(i<stop):\n",
    "        yield i\n",
    "        i+=step"
   ]
  },
  {
   "cell_type": "code",
   "execution_count": 108,
   "id": "b7fd2cfc-2ef7-4d75-a5b2-cc01b1489e89",
   "metadata": {},
   "outputs": [],
   "source": [
    "myrtr = myRange(1,11,1)"
   ]
  },
  {
   "cell_type": "code",
   "execution_count": 111,
   "id": "cd57eab1-15cf-4ed3-aec3-7980fe1d280e",
   "metadata": {},
   "outputs": [
    {
     "data": {
      "text/plain": [
       "3"
      ]
     },
     "execution_count": 111,
     "metadata": {},
     "output_type": "execute_result"
    }
   ],
   "source": [
    "next(myrtr)"
   ]
  },
  {
   "cell_type": "code",
   "execution_count": 112,
   "id": "048e2d62-63a5-4852-b063-741cc5c55557",
   "metadata": {},
   "outputs": [],
   "source": [
    "def fact(n):\n",
    "    if(n == 1):\n",
    "        return n\n",
    "    else:\n",
    "        return n*fact(n-1)"
   ]
  },
  {
   "cell_type": "code",
   "execution_count": 113,
   "id": "1283eb00-6a50-4562-a712-6706f1064801",
   "metadata": {},
   "outputs": [
    {
     "data": {
      "text/plain": [
       "3628800"
      ]
     },
     "execution_count": 113,
     "metadata": {},
     "output_type": "execute_result"
    }
   ],
   "source": [
    "fact(10)"
   ]
  },
  {
   "cell_type": "code",
   "execution_count": null,
   "id": "1c6dfe77-452a-40ee-8c65-4831384c8288",
   "metadata": {},
   "outputs": [],
   "source": []
  }
 ],
 "metadata": {
  "kernelspec": {
   "display_name": "Python 3 (ipykernel)",
   "language": "python",
   "name": "python3"
  },
  "language_info": {
   "codemirror_mode": {
    "name": "ipython",
    "version": 3
   },
   "file_extension": ".py",
   "mimetype": "text/x-python",
   "name": "python",
   "nbconvert_exporter": "python",
   "pygments_lexer": "ipython3",
   "version": "3.13.4"
  }
 },
 "nbformat": 4,
 "nbformat_minor": 5
}
