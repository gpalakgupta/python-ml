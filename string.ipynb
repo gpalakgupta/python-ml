{
 "cells": [
  {
   "cell_type": "code",
   "execution_count": 1,
   "id": "3e3655b3-7efd-472f-b12e-62f1d10584dd",
   "metadata": {},
   "outputs": [
    {
     "data": {
      "text/plain": [
       "'Hello'"
      ]
     },
     "execution_count": 1,
     "metadata": {},
     "output_type": "execute_result"
    }
   ],
   "source": [
    "st = \"Hello\"\n",
    "st"
   ]
  },
  {
   "cell_type": "code",
   "execution_count": 2,
   "id": "a04df4cb-d777-4425-b1c1-9df06f249aed",
   "metadata": {},
   "outputs": [
    {
     "data": {
      "text/plain": [
       "['H', 'e', 'l', 'l', 'o']"
      ]
     },
     "execution_count": 2,
     "metadata": {},
     "output_type": "execute_result"
    }
   ],
   "source": [
    "l = list(st)\n",
    "l"
   ]
  },
  {
   "cell_type": "code",
   "execution_count": 3,
   "id": "90da7191-d2ad-44b2-9c86-c0881e5fea49",
   "metadata": {},
   "outputs": [
    {
     "data": {
      "text/plain": [
       "('H', 'o')"
      ]
     },
     "execution_count": 3,
     "metadata": {},
     "output_type": "execute_result"
    }
   ],
   "source": [
    "st[0], st[-1]"
   ]
  },
  {
   "cell_type": "code",
   "execution_count": 4,
   "id": "a856cff5-8d03-4def-91ed-5a33b20bbb00",
   "metadata": {},
   "outputs": [
    {
     "name": "stdout",
     "output_type": "stream",
     "text": [
      "H\n",
      "e\n",
      "l\n",
      "l\n",
      "o\n"
     ]
    }
   ],
   "source": [
    "for ch in st:\n",
    "    print(ch)"
   ]
  },
  {
   "cell_type": "code",
   "execution_count": 5,
   "id": "f3e21c59-f13c-46a8-b2ee-6fdc7fcbce04",
   "metadata": {},
   "outputs": [
    {
     "data": {
      "text/plain": [
       "'el'"
      ]
     },
     "execution_count": 5,
     "metadata": {},
     "output_type": "execute_result"
    }
   ],
   "source": [
    "st[1:3]"
   ]
  },
  {
   "cell_type": "code",
   "execution_count": 6,
   "id": "2b46c822-910d-40d2-aa1b-c15815c01db9",
   "metadata": {},
   "outputs": [
    {
     "data": {
      "text/plain": [
       "True"
      ]
     },
     "execution_count": 6,
     "metadata": {},
     "output_type": "execute_result"
    }
   ],
   "source": [
    "s1 = \"hello\"\n",
    "s2 = 'hello'\n",
    "s1 is s2"
   ]
  },
  {
   "cell_type": "code",
   "execution_count": 7,
   "id": "341229f1-f0fe-472d-866d-1284b5845a01",
   "metadata": {},
   "outputs": [
    {
     "name": "stdout",
     "output_type": "stream",
     "text": [
      " this is \n",
      "a multi\n",
      "Line string\n",
      "\n"
     ]
    }
   ],
   "source": [
    "s1 = \"\"\" this is \n",
    "a multi\n",
    "Line string\n",
    "\"\"\"\n",
    "print(s1)"
   ]
  },
  {
   "cell_type": "code",
   "execution_count": 8,
   "id": "e0acdd0a-34ab-442a-941a-b5214fd464c5",
   "metadata": {},
   "outputs": [
    {
     "data": {
      "text/plain": [
       "' this is \\na multi\\nLine string\\n'"
      ]
     },
     "execution_count": 8,
     "metadata": {},
     "output_type": "execute_result"
    }
   ],
   "source": [
    "s1"
   ]
  },
  {
   "cell_type": "code",
   "execution_count": 9,
   "id": "edbe9e80-c19b-4c00-ba14-08df7eb28f8b",
   "metadata": {},
   "outputs": [
    {
     "data": {
      "text/plain": [
       "'Hello'"
      ]
     },
     "execution_count": 9,
     "metadata": {},
     "output_type": "execute_result"
    }
   ],
   "source": [
    "st"
   ]
  },
  {
   "cell_type": "code",
   "execution_count": 13,
   "id": "82570342-af12-4625-929d-479d45b82c01",
   "metadata": {},
   "outputs": [
    {
     "name": "stdout",
     "output_type": "stream",
     "text": [
      "H\n",
      "He\n",
      "Hel\n",
      "Hell\n",
      "Hello\n",
      "e\n",
      "el\n",
      "ell\n",
      "ello\n",
      "l\n",
      "ll\n",
      "llo\n",
      "l\n",
      "lo\n",
      "o\n"
     ]
    }
   ],
   "source": [
    "for i in range(0,len(st)):\n",
    "    for j in range(i,len(st)):\n",
    "        print(st[i:j+1])"
   ]
  },
  {
   "cell_type": "code",
   "execution_count": 14,
   "id": "931acd88-44e7-4063-a14f-17313db3e66e",
   "metadata": {},
   "outputs": [
    {
     "data": {
      "text/plain": [
       "'abcdef'"
      ]
     },
     "execution_count": 14,
     "metadata": {},
     "output_type": "execute_result"
    }
   ],
   "source": [
    "a = 'abc' + 'def'\n",
    "a"
   ]
  },
  {
   "cell_type": "code",
   "execution_count": 15,
   "id": "970cf173-6234-45f2-84e8-64fba5f36ed4",
   "metadata": {},
   "outputs": [
    {
     "name": "stdout",
     "output_type": "stream",
     "text": [
      "abcdef\n"
     ]
    }
   ],
   "source": [
    "print(a)"
   ]
  },
  {
   "cell_type": "code",
   "execution_count": 25,
   "id": "973a0d7b-c86d-4c1d-8d71-9a13748336e5",
   "metadata": {},
   "outputs": [
    {
     "name": "stdout",
     "output_type": "stream",
     "text": [
      "My name is: Shubham. My age is: 27\n",
      "My name is: Shubham. My age is: 27\n",
      "My name is: Shubham. My age is: 27\n",
      "My name is: Shubham. My age is: 27\n"
     ]
    }
   ],
   "source": [
    "name = \"Shubham\"\n",
    "age = 27\n",
    "print(\"My name is: \" + name + \". My age is: \" + str(age))\n",
    "print(\"My name is: %s. My age is: %d\"%(name,age))\n",
    "print(\"My name is: {}. My age is: {}\" .format(name,age)) \n",
    "print(f\"My name is: {name}. My age is: {age}\")"
   ]
  },
  {
   "cell_type": "code",
   "execution_count": 26,
   "id": "e4a54376-3448-4e49-b741-440a66b87b84",
   "metadata": {},
   "outputs": [
    {
     "name": "stdout",
     "output_type": "stream",
     "text": [
      "My name is 27. my age is Shubham\n"
     ]
    }
   ],
   "source": [
    "print(\"My name is {1}. my age is {0}\".format(name,age))"
   ]
  },
  {
   "cell_type": "code",
   "execution_count": 27,
   "id": "67ca0a08-ea7a-4772-9f8f-f6fa1ff3ff51",
   "metadata": {},
   "outputs": [
    {
     "ename": "ValueError",
     "evalue": "cannot switch from manual field specification to automatic field numbering",
     "output_type": "error",
     "traceback": [
      "\u001b[31m---------------------------------------------------------------------------\u001b[39m",
      "\u001b[31mValueError\u001b[39m                                Traceback (most recent call last)",
      "\u001b[36mCell\u001b[39m\u001b[36m \u001b[39m\u001b[32mIn[27]\u001b[39m\u001b[32m, line 1\u001b[39m\n\u001b[32m----> \u001b[39m\u001b[32m1\u001b[39m \u001b[38;5;28mprint\u001b[39m(\u001b[33;43m\"\u001b[39;49m\u001b[33;43mMy name is \u001b[39;49m\u001b[38;5;132;43;01m{1}\u001b[39;49;00m\u001b[33;43m. my age is \u001b[39;49m\u001b[38;5;132;43;01m{}\u001b[39;49;00m\u001b[33;43m\"\u001b[39;49m\u001b[43m.\u001b[49m\u001b[43mformat\u001b[49m\u001b[43m(\u001b[49m\u001b[43mname\u001b[49m\u001b[43m,\u001b[49m\u001b[43mage\u001b[49m\u001b[43m)\u001b[49m)\n",
      "\u001b[31mValueError\u001b[39m: cannot switch from manual field specification to automatic field numbering"
     ]
    }
   ],
   "source": [
    "print(\"My name is {1}. my age is {}\".format(name,age))"
   ]
  },
  {
   "cell_type": "code",
   "execution_count": 28,
   "id": "06822ea1-d460-48cf-8361-677ec8350f22",
   "metadata": {},
   "outputs": [
    {
     "name": "stdout",
     "output_type": "stream",
     "text": [
      "My name is:Shubham. My age is:27\n"
     ]
    }
   ],
   "source": [
    "print(\"My name is:{n}. My age is:{a}\".format(n = name,a = age))"
   ]
  },
  {
   "cell_type": "code",
   "execution_count": 29,
   "id": "6f13c9c2-6ae3-4fbd-a3f2-721089e18e1f",
   "metadata": {},
   "outputs": [
    {
     "name": "stdout",
     "output_type": "stream",
     "text": [
      "The sky is Blue\n",
      "The sky is Blue   \n",
      "   The sky is Blue\n"
     ]
    }
   ],
   "source": [
    "s = \"   The sky is Blue   \"\n",
    "print(s.strip())\n",
    "print(s.lstrip())\n",
    "print(s.rstrip())"
   ]
  },
  {
   "cell_type": "code",
   "execution_count": 30,
   "id": "153ab5f5-c4fc-4089-bc4c-c09df72529bc",
   "metadata": {},
   "outputs": [
    {
     "data": {
      "text/plain": [
       "'Hello'"
      ]
     },
     "execution_count": 30,
     "metadata": {},
     "output_type": "execute_result"
    }
   ],
   "source": [
    "s = \"hello\"\n",
    "s.capitalize()"
   ]
  },
  {
   "cell_type": "code",
   "execution_count": 32,
   "id": "02c97628-af1c-4fde-97ea-93f04620876a",
   "metadata": {},
   "outputs": [
    {
     "data": {
      "text/plain": [
       "'hello'"
      ]
     },
     "execution_count": 32,
     "metadata": {},
     "output_type": "execute_result"
    }
   ],
   "source": [
    "s.casefold()\n",
    "# Python me s.casefold() ka matlab hota hai string s ko lowercase (chhoti letters)\n",
    "# me convert karna, lekin ye lower() se bhi zyada powerful hota hai.\n",
    "# yeh unicode character par bhi km krta hai \n"
   ]
  },
  {
   "cell_type": "code",
   "execution_count": null,
   "id": "358951d9-cf53-4532-9629-3dfcd3f12e22",
   "metadata": {},
   "outputs": [],
   "source": []
  },
  {
   "cell_type": "code",
   "execution_count": 34,
   "id": "7a5b0f3a-4f95-477a-8cb7-1d2f6f6b373e",
   "metadata": {},
   "outputs": [
    {
     "name": "stdout",
     "output_type": "stream",
     "text": [
      "2\n"
     ]
    }
   ],
   "source": [
    "s = \"Helllolll\"\n",
    "print(s.count('ll'))\n",
    "# as a substring"
   ]
  },
  {
   "cell_type": "code",
   "execution_count": 35,
   "id": "93e711d7-3ddd-47fa-a6c9-193f5cfb7745",
   "metadata": {},
   "outputs": [
    {
     "data": {
      "text/plain": [
       "2"
      ]
     },
     "execution_count": 35,
     "metadata": {},
     "output_type": "execute_result"
    }
   ],
   "source": [
    "s = \"Hellllo\"\n",
    "s.count('ll')"
   ]
  },
  {
   "cell_type": "code",
   "execution_count": 36,
   "id": "aa651861-9328-42d7-b09e-bb686b4c066a",
   "metadata": {},
   "outputs": [
    {
     "ename": "TypeError",
     "evalue": "'str' object does not support item assignment",
     "output_type": "error",
     "traceback": [
      "\u001b[31m---------------------------------------------------------------------------\u001b[39m",
      "\u001b[31mTypeError\u001b[39m                                 Traceback (most recent call last)",
      "\u001b[36mCell\u001b[39m\u001b[36m \u001b[39m\u001b[32mIn[36]\u001b[39m\u001b[32m, line 1\u001b[39m\n\u001b[32m----> \u001b[39m\u001b[32m1\u001b[39m \u001b[43ms\u001b[49m\u001b[43m[\u001b[49m\u001b[32;43m0\u001b[39;49m\u001b[43m]\u001b[49m = \u001b[33m'\u001b[39m\u001b[33mA\u001b[39m\u001b[33m'\u001b[39m\n",
      "\u001b[31mTypeError\u001b[39m: 'str' object does not support item assignment"
     ]
    }
   ],
   "source": [
    "s[0] = 'A'"
   ]
  },
  {
   "cell_type": "code",
   "execution_count": 37,
   "id": "44e9fe0a-3f0f-4d16-a55e-c587fdf8ce0b",
   "metadata": {},
   "outputs": [
    {
     "data": {
      "text/plain": [
       "-1"
      ]
     },
     "execution_count": 37,
     "metadata": {},
     "output_type": "execute_result"
    }
   ],
   "source": [
    "s.find('ll0l')"
   ]
  },
  {
   "cell_type": "code",
   "execution_count": 39,
   "id": "94ea2e00-8aaa-437e-a584-05196e326d5f",
   "metadata": {},
   "outputs": [
    {
     "data": {
      "text/plain": [
       "2"
      ]
     },
     "execution_count": 39,
     "metadata": {},
     "output_type": "execute_result"
    }
   ],
   "source": [
    "s.index('ll')"
   ]
  },
  {
   "cell_type": "code",
   "execution_count": 41,
   "id": "c3f1a02b-583f-4519-9142-bd2dc7dd73f5",
   "metadata": {},
   "outputs": [],
   "source": [
    "s = \"The sky is Blue\""
   ]
  },
  {
   "cell_type": "code",
   "execution_count": 42,
   "id": "ae5ee6ce-bc9f-474d-9b8a-75b04c8cbd77",
   "metadata": {},
   "outputs": [
    {
     "data": {
      "text/plain": [
       "['The', 'sky', 'is', 'Blue']"
      ]
     },
     "execution_count": 42,
     "metadata": {},
     "output_type": "execute_result"
    }
   ],
   "source": [
    "l = s.split()\n",
    "l"
   ]
  },
  {
   "cell_type": "code",
   "execution_count": 43,
   "id": "8b5bd669-c23e-4a3a-aeac-e83f7ee37040",
   "metadata": {},
   "outputs": [
    {
     "data": {
      "text/plain": [
       "['Blue', 'is', 'sky', 'The']"
      ]
     },
     "execution_count": 43,
     "metadata": {},
     "output_type": "execute_result"
    }
   ],
   "source": [
    "l[::-1]"
   ]
  },
  {
   "cell_type": "code",
   "execution_count": 44,
   "id": "011d5036-45a2-43ba-ae08-0688c29625f0",
   "metadata": {},
   "outputs": [],
   "source": [
    "l = [str(i) for i in range(10)]"
   ]
  },
  {
   "cell_type": "code",
   "execution_count": 45,
   "id": "559cbc33-5045-4db7-9103-685b3ddbfa7b",
   "metadata": {},
   "outputs": [
    {
     "data": {
      "text/plain": [
       "['0', '1', '2', '3', '4', '5', '6', '7', '8', '9']"
      ]
     },
     "execution_count": 45,
     "metadata": {},
     "output_type": "execute_result"
    }
   ],
   "source": [
    "l"
   ]
  },
  {
   "cell_type": "code",
   "execution_count": 48,
   "id": "e0c9bc82-c54a-4ba2-ab36-6c840b06aabd",
   "metadata": {},
   "outputs": [
    {
     "name": "stdout",
     "output_type": "stream",
     "text": [
      "0hello\n",
      "1hello\n",
      "2hello\n",
      "3hello\n",
      "4hello\n",
      "5hello\n",
      "6hello\n",
      "7hello\n",
      "8hello\n",
      "9\n"
     ]
    }
   ],
   "source": [
    "print('hello\\n'.join(l))\n",
    "# '9' ke baad 'hello' nahi laga, kyonki wo last element hai, \n",
    "# aur join() kabhi last ke baad kuch add nahi karta."
   ]
  },
  {
   "cell_type": "code",
   "execution_count": null,
   "id": "f7893d2c-f0e1-4a26-9393-1fb6c9f1fd6e",
   "metadata": {},
   "outputs": [],
   "source": []
  },
  {
   "cell_type": "code",
   "execution_count": 49,
   "id": "68bdced2-5c74-4196-95ec-5eaafb802aa6",
   "metadata": {},
   "outputs": [
    {
     "data": {
      "text/plain": [
       "'The sky is Blue'"
      ]
     },
     "execution_count": 49,
     "metadata": {},
     "output_type": "execute_result"
    }
   ],
   "source": [
    "s"
   ]
  },
  {
   "cell_type": "code",
   "execution_count": 50,
   "id": "c86591cf-12ca-486b-a6ce-f1d69543a4de",
   "metadata": {},
   "outputs": [
    {
     "data": {
      "text/plain": [
       "'Blue is sky The'"
      ]
     },
     "execution_count": 50,
     "metadata": {},
     "output_type": "execute_result"
    }
   ],
   "source": [
    "' '.join(s.split()[::-1])"
   ]
  },
  {
   "cell_type": "code",
   "execution_count": null,
   "id": "637a3f56-3c60-4eda-ab89-188778fe4ae8",
   "metadata": {},
   "outputs": [],
   "source": []
  }
 ],
 "metadata": {
  "kernelspec": {
   "display_name": "Python 3 (ipykernel)",
   "language": "python",
   "name": "python3"
  },
  "language_info": {
   "codemirror_mode": {
    "name": "ipython",
    "version": 3
   },
   "file_extension": ".py",
   "mimetype": "text/x-python",
   "name": "python",
   "nbconvert_exporter": "python",
   "pygments_lexer": "ipython3",
   "version": "3.13.4"
  }
 },
 "nbformat": 4,
 "nbformat_minor": 5
}
