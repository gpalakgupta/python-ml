{
 "cells": [
  {
   "cell_type": "code",
   "execution_count": 2,
   "id": "10446479-9581-43cd-86aa-7f9aac9cc7d9",
   "metadata": {},
   "outputs": [],
   "source": [
    "file = open('text.txt')"
   ]
  },
  {
   "cell_type": "code",
   "execution_count": 3,
   "id": "32a94f34-fa5a-4376-9a0e-56ec91a3e54c",
   "metadata": {},
   "outputs": [
    {
     "name": "stdout",
     "output_type": "stream",
     "text": [
      "<_io.TextIOWrapper name='text.txt' mode='r' encoding='cp1252'>\n"
     ]
    }
   ],
   "source": [
    "print(file)"
   ]
  },
  {
   "cell_type": "code",
   "execution_count": 4,
   "id": "52e2207c-0830-4403-81d7-647ffd019059",
   "metadata": {},
   "outputs": [
    {
     "name": "stdout",
     "output_type": "stream",
     "text": [
      "<class '_io.TextIOWrapper'>\n"
     ]
    }
   ],
   "source": [
    "print(type(file))"
   ]
  },
  {
   "cell_type": "code",
   "execution_count": 5,
   "id": "fde1ee98-4af8-40d6-9c75-e05fd5609e5b",
   "metadata": {},
   "outputs": [
    {
     "name": "stdout",
     "output_type": "stream",
     "text": [
      "Hello\n",
      "This is a dummy file\n"
     ]
    }
   ],
   "source": [
    "print(file.read())"
   ]
  },
  {
   "cell_type": "code",
   "execution_count": 6,
   "id": "772183a3-457b-4a92-8b27-cb1c27910de0",
   "metadata": {},
   "outputs": [
    {
     "name": "stdout",
     "output_type": "stream",
     "text": [
      "\n"
     ]
    }
   ],
   "source": [
    "print(file.read())"
   ]
  },
  {
   "cell_type": "code",
   "execution_count": 7,
   "id": "5f7b5b91-4af4-43bf-ba5d-2b29a02d4b16",
   "metadata": {},
   "outputs": [
    {
     "data": {
      "text/plain": [
       "0"
      ]
     },
     "execution_count": 7,
     "metadata": {},
     "output_type": "execute_result"
    }
   ],
   "source": [
    "file.seek(0)"
   ]
  },
  {
   "cell_type": "code",
   "execution_count": 8,
   "id": "ccf055a1-cb7a-4a0d-a9cf-375dd0cb2972",
   "metadata": {},
   "outputs": [
    {
     "name": "stdout",
     "output_type": "stream",
     "text": [
      "Hello\n",
      "This is a dummy file\n"
     ]
    }
   ],
   "source": [
    "print(file.read())"
   ]
  },
  {
   "cell_type": "code",
   "execution_count": 9,
   "id": "e6bdff4b-7b1c-42bb-8a06-14479990f3d6",
   "metadata": {},
   "outputs": [],
   "source": [
    "# file ko phir se read krne ke liye file pointer ko seek ke through zero \n",
    "# par krna hoga then use phir read krna hoga\n"
   ]
  },
  {
   "cell_type": "code",
   "execution_count": 10,
   "id": "acd25dde-df9b-446d-b681-182a2f74204d",
   "metadata": {},
   "outputs": [
    {
     "data": {
      "text/plain": [
       "0"
      ]
     },
     "execution_count": 10,
     "metadata": {},
     "output_type": "execute_result"
    }
   ],
   "source": [
    "file.seek(0)"
   ]
  },
  {
   "cell_type": "code",
   "execution_count": 11,
   "id": "f77e28e5-b52c-4e3c-80ba-8759c4fe8471",
   "metadata": {},
   "outputs": [
    {
     "name": "stdout",
     "output_type": "stream",
     "text": [
      "Hello\n",
      "This\n"
     ]
    }
   ],
   "source": [
    "print(file.read(10)) \n",
    "# isse 10 characters aayenge"
   ]
  },
  {
   "cell_type": "code",
   "execution_count": 12,
   "id": "1904904b-a224-43b9-b6fc-38aeac251208",
   "metadata": {},
   "outputs": [
    {
     "name": "stdout",
     "output_type": "stream",
     "text": [
      " is a dumm\n"
     ]
    }
   ],
   "source": [
    "print(file.read(10))"
   ]
  },
  {
   "cell_type": "code",
   "execution_count": 15,
   "id": "fc47f16d-8044-4821-8be6-d8eb29041006",
   "metadata": {},
   "outputs": [
    {
     "name": "stdout",
     "output_type": "stream",
     "text": [
      "['Hello\\n', 'This is a dummy file']\n"
     ]
    }
   ],
   "source": [
    "file.seek(0)\n",
    "print(file.readlines())"
   ]
  },
  {
   "cell_type": "code",
   "execution_count": 17,
   "id": "517d24e1-093d-4849-95d3-95962b76f88b",
   "metadata": {},
   "outputs": [
    {
     "name": "stdout",
     "output_type": "stream",
     "text": [
      "Hello\n",
      "This is a dummy file"
     ]
    }
   ],
   "source": [
    "file.seek(0)\n",
    "for line in file.readlines():\n",
    "    print(line,end='')"
   ]
  },
  {
   "cell_type": "code",
   "execution_count": 19,
   "id": "1e2a0d55-8a1a-400b-a75b-bcf5db03d76d",
   "metadata": {},
   "outputs": [
    {
     "name": "stdout",
     "output_type": "stream",
     "text": [
      "Hello\n",
      "\n"
     ]
    }
   ],
   "source": [
    "file.seek(0)\n",
    "s = file.readline()\n",
    "print(s)"
   ]
  },
  {
   "cell_type": "code",
   "execution_count": null,
   "id": "1539faed-0d0e-48a1-8869-73ce245a0377",
   "metadata": {},
   "outputs": [],
   "source": []
  },
  {
   "cell_type": "code",
   "execution_count": 21,
   "id": "0a91cb5d-dacf-4d20-9e75-a280187104a5",
   "metadata": {},
   "outputs": [
    {
     "name": "stdout",
     "output_type": "stream",
     "text": [
      "Hello\n",
      "This is a dummy file"
     ]
    }
   ],
   "source": [
    "file.seek(0)\n",
    "s = file.readline()\n",
    "while s != '':\n",
    "    print (s,end='')\n",
    "    s = file.readline()"
   ]
  },
  {
   "cell_type": "code",
   "execution_count": 22,
   "id": "5bfb969a-fd27-4039-9739-bb40566930f2",
   "metadata": {},
   "outputs": [],
   "source": [
    "file.close()"
   ]
  },
  {
   "cell_type": "code",
   "execution_count": 27,
   "id": "cc61912c-6b67-4136-b454-b8dbf2962c1a",
   "metadata": {},
   "outputs": [],
   "source": [
    "file = open('FileDemo.txt','r+')\n"
   ]
  },
  {
   "cell_type": "code",
   "execution_count": 28,
   "id": "6166f013-a4c4-4661-8e3c-120dd590d207",
   "metadata": {},
   "outputs": [
    {
     "data": {
      "text/plain": [
       "74"
      ]
     },
     "execution_count": 28,
     "metadata": {},
     "output_type": "execute_result"
    }
   ],
   "source": [
    "file.write(\"\"\"This is stmt1.\n",
    "This is stmt2.\n",
    "This is stmt3.\n",
    "This is stmt4.\n",
    "This is stmt5.\"\"\")\n",
    "# file.seek(0)\n",
    "# print(file.read())\n",
    "# file.write(\"Hello World\")\n"
   ]
  },
  {
   "cell_type": "code",
   "execution_count": 29,
   "id": "6f1fb811-8124-40d1-b163-43b8a3bb3973",
   "metadata": {},
   "outputs": [
    {
     "name": "stdout",
     "output_type": "stream",
     "text": [
      "This is stmt1.\n",
      "This is stmt2.\n",
      "This is stmt3.\n",
      "This is stmt4.\n",
      "This is stmt5.\n"
     ]
    }
   ],
   "source": [
    "file.seek(0)\n",
    "print(file.read())"
   ]
  },
  {
   "cell_type": "code",
   "execution_count": 31,
   "id": "ef6e1238-8d24-43f3-b706-1fbdd5f0704a",
   "metadata": {},
   "outputs": [
    {
     "name": "stdout",
     "output_type": "stream",
     "text": [
      "This is stmt1.\n",
      "This is stmt2.\n",
      "This is stmt3.\n",
      "This is stmt4.\n",
      "This is stmt5.\n"
     ]
    }
   ],
   "source": [
    "with open('FileDemo.txt','r') as file:\n",
    "    print(file.read())\n",
    "    "
   ]
  },
  {
   "cell_type": "code",
   "execution_count": 16,
   "id": "a88399a1-d857-4480-9c92-f3325500d872",
   "metadata": {},
   "outputs": [],
   "source": [
    "l = ['s1','s2','s3','s4']\n",
    "with open ('Question.txt','w') as file:\n",
    "    for line in l :\n",
    "        file.write(line+'\\n')"
   ]
  },
  {
   "cell_type": "code",
   "execution_count": 18,
   "id": "45570ce4-89e1-495a-a736-e6e2bbb51a90",
   "metadata": {},
   "outputs": [
    {
     "data": {
      "text/plain": [
       "['s10', 's20', 's30', 's40']"
      ]
     },
     "execution_count": 18,
     "metadata": {},
     "output_type": "execute_result"
    }
   ],
   "source": [
    "ans = []\n",
    "with open('Question.txt' ,'r') as file:\n",
    "    for line in file:\n",
    "        ans.append(line.strip()+'0')\n",
    "ans"
   ]
  },
  {
   "cell_type": "code",
   "execution_count": null,
   "id": "ce2dd948-daa1-41eb-851f-59d65506bb89",
   "metadata": {},
   "outputs": [],
   "source": []
  },
  {
   "cell_type": "code",
   "execution_count": null,
   "id": "d4dcbd3f-8d0c-4612-82f8-48084bca6f09",
   "metadata": {},
   "outputs": [],
   "source": []
  },
  {
   "cell_type": "code",
   "execution_count": 19,
   "id": "d6961492-adbb-4fcc-9705-b6f36caa9982",
   "metadata": {},
   "outputs": [],
   "source": [
    "js = {\n",
    "    'India' : 1000,\n",
    "    'USA' : 100\n",
    "}"
   ]
  },
  {
   "cell_type": "code",
   "execution_count": 20,
   "id": "5aa558cb-1e56-4b07-b3c6-012940a6d24e",
   "metadata": {},
   "outputs": [],
   "source": [
    "import json"
   ]
  },
  {
   "cell_type": "code",
   "execution_count": 21,
   "id": "f53818a6-6ae4-4f08-b085-a00f1185e767",
   "metadata": {},
   "outputs": [],
   "source": [
    "with open('Country.json' ,'w') as file:\n",
    "    json.dump(js,file)"
   ]
  },
  {
   "cell_type": "code",
   "execution_count": 22,
   "id": "e8f1322a-f392-41e9-9970-f998f62b0fe6",
   "metadata": {},
   "outputs": [
    {
     "name": "stdout",
     "output_type": "stream",
     "text": [
      "{'India': 1000, 'USA': 100} <class 'dict'>\n"
     ]
    }
   ],
   "source": [
    "with open('Country.json','r') as file:\n",
    "    j = json.load(file)\n",
    "    print(j,type(j))"
   ]
  },
  {
   "cell_type": "code",
   "execution_count": 27,
   "id": "39489490-2507-4fca-8a56-dbc46dd0cd9f",
   "metadata": {},
   "outputs": [
    {
     "data": {
      "text/plain": [
       "'{\"India\": 1000, \"USA\": 100}'"
      ]
     },
     "execution_count": 27,
     "metadata": {},
     "output_type": "execute_result"
    }
   ],
   "source": [
    "s = json.dumps(js)\n",
    "s"
   ]
  },
  {
   "cell_type": "code",
   "execution_count": 28,
   "id": "d467aced-e984-444b-86c4-a2bbea516929",
   "metadata": {},
   "outputs": [
    {
     "data": {
      "text/plain": [
       "{'India': 1000, 'USA': 100}"
      ]
     },
     "execution_count": 28,
     "metadata": {},
     "output_type": "execute_result"
    }
   ],
   "source": [
    "json.loads(s)"
   ]
  },
  {
   "cell_type": "code",
   "execution_count": null,
   "id": "536318aa-4479-4d11-807e-b94f82467f2f",
   "metadata": {},
   "outputs": [],
   "source": []
  }
 ],
 "metadata": {
  "kernelspec": {
   "display_name": "Python 3 (ipykernel)",
   "language": "python",
   "name": "python3"
  },
  "language_info": {
   "codemirror_mode": {
    "name": "ipython",
    "version": 3
   },
   "file_extension": ".py",
   "mimetype": "text/x-python",
   "name": "python",
   "nbconvert_exporter": "python",
   "pygments_lexer": "ipython3",
   "version": "3.13.4"
  }
 },
 "nbformat": 4,
 "nbformat_minor": 5
}
