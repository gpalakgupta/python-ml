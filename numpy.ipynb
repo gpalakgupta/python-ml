{
 "cells": [
  {
   "cell_type": "code",
   "execution_count": 1,
   "id": "6f50897a-aebb-4ee1-a2fe-bcd4b3f13519",
   "metadata": {},
   "outputs": [
    {
     "name": "stdout",
     "output_type": "stream",
     "text": [
      "2.3.1\n"
     ]
    }
   ],
   "source": [
    "import numpy as np\n",
    "print(np.__version__)"
   ]
  },
  {
   "cell_type": "code",
   "execution_count": 2,
   "id": "472b085f-e444-48e4-9b42-c454f62a62c4",
   "metadata": {},
   "outputs": [],
   "source": [
    "l1 = [1,2,3,4,5]\n",
    "l2 = [[1,2,3],[4,5,6]]\n",
    "l3 = [[[1,2,3],[4,5,6]],[[10,20,30],[40,50,60]],[[100,200,300],[400,500,600]]]"
   ]
  },
  {
   "cell_type": "code",
   "execution_count": 3,
   "id": "a16377e4-95aa-42d7-8c42-5bace315cee8",
   "metadata": {},
   "outputs": [
    {
     "data": {
      "text/plain": [
       "[[[1, 2, 3], [4, 5, 6]],\n",
       " [[10, 20, 30], [40, 50, 60]],\n",
       " [[100, 200, 300], [400, 500, 600]]]"
      ]
     },
     "execution_count": 3,
     "metadata": {},
     "output_type": "execute_result"
    }
   ],
   "source": [
    "l3"
   ]
  },
  {
   "cell_type": "code",
   "execution_count": 11,
   "id": "545a45a1-1ad6-4853-a00e-4976367ddb5a",
   "metadata": {},
   "outputs": [],
   "source": [
    "n1 = np.array(l1)\n",
    "n2 = np.array(l2)\n",
    "n3 = np.array(l3)"
   ]
  },
  {
   "cell_type": "code",
   "execution_count": 12,
   "id": "1f734f65-87b0-497b-99df-81eb2caccb26",
   "metadata": {},
   "outputs": [
    {
     "name": "stdout",
     "output_type": "stream",
     "text": [
      "[1 2 3 4 5] <class 'numpy.ndarray'>\n"
     ]
    }
   ],
   "source": [
    "print(n1,type(n1))"
   ]
  },
  {
   "cell_type": "code",
   "execution_count": 13,
   "id": "c91a46d4-c4a1-41fd-a00b-0c3232f746e6",
   "metadata": {},
   "outputs": [],
   "source": [
    "# numpy mei hum number of elements change nhi kr skte hai bss yhi diff hai\n",
    "# numpy aur list mei  aur numpy fast hoti hai list ke comparision mei"
   ]
  },
  {
   "cell_type": "code",
   "execution_count": 14,
   "id": "b286de5a-060a-4387-a19a-c8f6103b2e14",
   "metadata": {},
   "outputs": [
    {
     "data": {
      "text/plain": [
       "6"
      ]
     },
     "execution_count": 14,
     "metadata": {},
     "output_type": "execute_result"
    }
   ],
   "source": [
    "l3[0][1][2]"
   ]
  },
  {
   "cell_type": "code",
   "execution_count": 15,
   "id": "5ac02f6f-dc9c-43f1-abd2-61a14d96967d",
   "metadata": {},
   "outputs": [
    {
     "data": {
      "text/plain": [
       "np.int64(6)"
      ]
     },
     "execution_count": 15,
     "metadata": {},
     "output_type": "execute_result"
    }
   ],
   "source": [
    "n3[0][1][2]"
   ]
  },
  {
   "cell_type": "code",
   "execution_count": 16,
   "id": "9495db77-dec3-42da-b75d-562a6f0b03ce",
   "metadata": {},
   "outputs": [
    {
     "data": {
      "text/plain": [
       "np.int64(6)"
      ]
     },
     "execution_count": 16,
     "metadata": {},
     "output_type": "execute_result"
    }
   ],
   "source": [
    "n3[0,1,2]"
   ]
  },
  {
   "cell_type": "code",
   "execution_count": 10,
   "id": "b0bcd585-8c83-400b-80ff-2e393fb2e486",
   "metadata": {},
   "outputs": [
    {
     "data": {
      "text/plain": [
       "(5,)"
      ]
     },
     "execution_count": 10,
     "metadata": {},
     "output_type": "execute_result"
    }
   ],
   "source": [
    "n1.shape"
   ]
  },
  {
   "cell_type": "code",
   "execution_count": 18,
   "id": "40adf3bf-968e-4978-82b8-2513af7d7c6b",
   "metadata": {},
   "outputs": [
    {
     "data": {
      "text/plain": [
       "(2, 3)"
      ]
     },
     "execution_count": 18,
     "metadata": {},
     "output_type": "execute_result"
    }
   ],
   "source": [
    "n2.shape"
   ]
  },
  {
   "cell_type": "code",
   "execution_count": 19,
   "id": "9c0e5f61-150f-4ed8-ac45-b05be473c64e",
   "metadata": {},
   "outputs": [
    {
     "data": {
      "text/plain": [
       "(3, 2, 3)"
      ]
     },
     "execution_count": 19,
     "metadata": {},
     "output_type": "execute_result"
    }
   ],
   "source": [
    "n3.shape"
   ]
  },
  {
   "cell_type": "code",
   "execution_count": 20,
   "id": "bf5fc826-7ff6-449a-891d-ab0132569bb4",
   "metadata": {},
   "outputs": [],
   "source": [
    "# shape basically hame dimension batata hai \n",
    "# ndim , it basically tells num of dimensions i have"
   ]
  },
  {
   "cell_type": "code",
   "execution_count": 21,
   "id": "1b9ff94e-ac5d-40ef-83b3-2d624db43d12",
   "metadata": {},
   "outputs": [
    {
     "data": {
      "text/plain": [
       "3"
      ]
     },
     "execution_count": 21,
     "metadata": {},
     "output_type": "execute_result"
    }
   ],
   "source": [
    "n3.ndim"
   ]
  },
  {
   "cell_type": "code",
   "execution_count": 22,
   "id": "01bfb149-4b99-44bd-8f11-44115247c64a",
   "metadata": {},
   "outputs": [
    {
     "data": {
      "text/plain": [
       "np.int64(600)"
      ]
     },
     "execution_count": 22,
     "metadata": {},
     "output_type": "execute_result"
    }
   ],
   "source": [
    "# negative indexing is also allowed\n",
    "n3[-1,1,-1]"
   ]
  },
  {
   "cell_type": "code",
   "execution_count": 23,
   "id": "fe2d2c60-d9f3-4a79-9706-2276d62a58bd",
   "metadata": {},
   "outputs": [
    {
     "data": {
      "text/plain": [
       "dtype('int64')"
      ]
     },
     "execution_count": 23,
     "metadata": {},
     "output_type": "execute_result"
    }
   ],
   "source": [
    "# dtype means numpy ka datatype\n",
    "n3.dtype"
   ]
  },
  {
   "cell_type": "code",
   "execution_count": 24,
   "id": "960c33be-853f-487f-aeda-d9ebe14b9fd4",
   "metadata": {},
   "outputs": [],
   "source": [
    "n3 = np.array(l3,dtype='float32')"
   ]
  },
  {
   "cell_type": "code",
   "execution_count": 25,
   "id": "ce8160c9-f347-4788-af5a-6b1ce0df514a",
   "metadata": {},
   "outputs": [
    {
     "data": {
      "text/plain": [
       "array([[[  1.,   2.,   3.],\n",
       "        [  4.,   5.,   6.]],\n",
       "\n",
       "       [[ 10.,  20.,  30.],\n",
       "        [ 40.,  50.,  60.]],\n",
       "\n",
       "       [[100., 200., 300.],\n",
       "        [400., 500., 600.]]], dtype=float32)"
      ]
     },
     "execution_count": 25,
     "metadata": {},
     "output_type": "execute_result"
    }
   ],
   "source": [
    "n3"
   ]
  },
  {
   "cell_type": "code",
   "execution_count": 30,
   "id": "35002459-af46-47c2-a394-46644ecc013c",
   "metadata": {},
   "outputs": [
    {
     "data": {
      "text/plain": [
       "(array([[[  1.,   2.,   3.],\n",
       "         [  4.,   5.,   6.]],\n",
       " \n",
       "        [[ 10.,  20.,  30.],\n",
       "         [ 40.,  50.,  60.]],\n",
       " \n",
       "        [[100., 200., 300.],\n",
       "         [400., 500., 600.]]]),\n",
       " dtype('float64'))"
      ]
     },
     "execution_count": 30,
     "metadata": {},
     "output_type": "execute_result"
    }
   ],
   "source": [
    "n3 = np.array(l3,dtype='f8')\n",
    "n3,n3.dtype"
   ]
  },
  {
   "cell_type": "code",
   "execution_count": 29,
   "id": "9fbbb7fb-d75f-4af2-8de7-361682b53489",
   "metadata": {},
   "outputs": [
    {
     "data": {
      "text/plain": [
       "np.float64(6.0)"
      ]
     },
     "execution_count": 29,
     "metadata": {},
     "output_type": "execute_result"
    }
   ],
   "source": [
    "n3[0,1,2]"
   ]
  },
  {
   "cell_type": "code",
   "execution_count": 32,
   "id": "9f2081ed-8ef6-41b6-92c7-ad67da0bf3bb",
   "metadata": {},
   "outputs": [
    {
     "name": "stdout",
     "output_type": "stream",
     "text": [
      "[[1. 2. 3.]\n",
      " [4. 5. 6.]] <class 'numpy.float64'>\n"
     ]
    }
   ],
   "source": [
    "print(n3[0],type(n3[0,0,0]))"
   ]
  },
  {
   "cell_type": "code",
   "execution_count": 2,
   "id": "48856721-4cd8-499e-8cfd-132ca3ccde6b",
   "metadata": {},
   "outputs": [
    {
     "ename": "ValueError",
     "evalue": "setting an array element with a sequence. The requested array has an inhomogeneous shape after 1 dimensions. The detected shape was (2,) + inhomogeneous part.",
     "output_type": "error",
     "traceback": [
      "\u001b[31m---------------------------------------------------------------------------\u001b[39m",
      "\u001b[31mValueError\u001b[39m                                Traceback (most recent call last)",
      "\u001b[36mCell\u001b[39m\u001b[36m \u001b[39m\u001b[32mIn[2]\u001b[39m\u001b[32m, line 2\u001b[39m\n\u001b[32m      1\u001b[39m l = [[\u001b[32m1\u001b[39m,\u001b[32m2\u001b[39m,\u001b[32m3\u001b[39m],[\u001b[32m4\u001b[39m,\u001b[32m5\u001b[39m]]\n\u001b[32m----> \u001b[39m\u001b[32m2\u001b[39m a = \u001b[43mnp\u001b[49m\u001b[43m.\u001b[49m\u001b[43marray\u001b[49m\u001b[43m(\u001b[49m\u001b[43ml\u001b[49m\u001b[43m)\u001b[49m\n\u001b[32m      3\u001b[39m a\n",
      "\u001b[31mValueError\u001b[39m: setting an array element with a sequence. The requested array has an inhomogeneous shape after 1 dimensions. The detected shape was (2,) + inhomogeneous part."
     ]
    }
   ],
   "source": [
    "l = [[1,2,3],[4,5]]\n",
    "a = np.array(l)\n",
    "a"
   ]
  },
  {
   "cell_type": "code",
   "execution_count": 36,
   "id": "e970e7f4-0058-4807-87ca-9a5aefc9fd27",
   "metadata": {},
   "outputs": [
    {
     "data": {
      "text/plain": [
       "array([[1, 2, 3],\n",
       "       [4, 5, 6]])"
      ]
     },
     "execution_count": 36,
     "metadata": {},
     "output_type": "execute_result"
    }
   ],
   "source": [
    "l = [[1,2,3],[4,5,6]]\n",
    "a = np.array(l)\n",
    "a"
   ]
  },
  {
   "cell_type": "code",
   "execution_count": 37,
   "id": "212ebf98-0a01-4629-8fe5-4f73617c1046",
   "metadata": {},
   "outputs": [],
   "source": [
    "# numpy mei homogenous values jati hai aur zig zag nhi ho skti\n"
   ]
  },
  {
   "cell_type": "code",
   "execution_count": 38,
   "id": "58d11a29-e5fb-4af4-807e-75d9144d5429",
   "metadata": {},
   "outputs": [
    {
     "data": {
      "text/plain": [
       "array([list([1, 2, 3]), list([4, 5])], dtype=object)"
      ]
     },
     "execution_count": 38,
     "metadata": {},
     "output_type": "execute_result"
    }
   ],
   "source": [
    "l = [[1,2,3],[4,5]]\n",
    "a = np.array(l,dtype='O')\n",
    "a"
   ]
  },
  {
   "cell_type": "code",
   "execution_count": 39,
   "id": "320fd6f1-6bd0-4ca8-b71b-35256dfc3af4",
   "metadata": {},
   "outputs": [],
   "source": [
    "# more creation methods: arange, linspace, ones, zeros, eye, diag"
   ]
  },
  {
   "cell_type": "code",
   "execution_count": 48,
   "id": "db5c7c80-8886-4aa3-8e48-52e93afb605a",
   "metadata": {},
   "outputs": [],
   "source": [
    "n1 = np.arange(1,101,4,dtype='f4')\n",
    "# start stop and step"
   ]
  },
  {
   "cell_type": "code",
   "execution_count": 49,
   "id": "66d4a97b-2c59-40cc-bd39-de715c34d262",
   "metadata": {},
   "outputs": [
    {
     "data": {
      "text/plain": [
       "array([ 1.,  5.,  9., 13., 17., 21., 25., 29., 33., 37., 41., 45., 49.,\n",
       "       53., 57., 61., 65., 69., 73., 77., 81., 85., 89., 93., 97.],\n",
       "      dtype=float32)"
      ]
     },
     "execution_count": 49,
     "metadata": {},
     "output_type": "execute_result"
    }
   ],
   "source": [
    "n1"
   ]
  },
  {
   "cell_type": "code",
   "execution_count": 50,
   "id": "d6232b73-98d0-4cac-a1d1-f1e041f5f10d",
   "metadata": {},
   "outputs": [],
   "source": [
    "# linspace \n",
    "# starting value stop thrid one is no. of argument"
   ]
  },
  {
   "cell_type": "code",
   "execution_count": 53,
   "id": "c750734e-17e9-4d5e-97b0-fd01643777b2",
   "metadata": {},
   "outputs": [
    {
     "data": {
      "text/plain": [
       "array([1.  , 1.25, 1.5 , 1.75, 2.  ])"
      ]
     },
     "execution_count": 53,
     "metadata": {},
     "output_type": "execute_result"
    }
   ],
   "source": [
    "np.linspace(1,2,5)"
   ]
  },
  {
   "cell_type": "code",
   "execution_count": 55,
   "id": "6aba6fa3-4b6c-49e7-aa83-4cf53124e54c",
   "metadata": {},
   "outputs": [
    {
     "data": {
      "text/plain": [
       "array([[[1., 1., 1.],\n",
       "        [1., 1., 1.],\n",
       "        [1., 1., 1.]],\n",
       "\n",
       "       [[1., 1., 1.],\n",
       "        [1., 1., 1.],\n",
       "        [1., 1., 1.]]])"
      ]
     },
     "execution_count": 55,
     "metadata": {},
     "output_type": "execute_result"
    }
   ],
   "source": [
    "# ones\n",
    "shape = [2,3,3]\n",
    "np.ones(shape)"
   ]
  },
  {
   "cell_type": "code",
   "execution_count": 56,
   "id": "509831b8-4820-4687-bd8f-18762c916091",
   "metadata": {},
   "outputs": [
    {
     "data": {
      "text/plain": [
       "array([[1., 1., 1.],\n",
       "       [1., 1., 1.]])"
      ]
     },
     "execution_count": 56,
     "metadata": {},
     "output_type": "execute_result"
    }
   ],
   "source": [
    "shape = [2,3]\n",
    "np.ones(shape)"
   ]
  },
  {
   "cell_type": "code",
   "execution_count": 57,
   "id": "bd7fb1e6-f3ba-47a0-96ce-cae2ab3b72dc",
   "metadata": {},
   "outputs": [
    {
     "data": {
      "text/plain": [
       "array([[[0., 0., 0.],\n",
       "        [0., 0., 0.],\n",
       "        [0., 0., 0.]],\n",
       "\n",
       "       [[0., 0., 0.],\n",
       "        [0., 0., 0.],\n",
       "        [0., 0., 0.]]])"
      ]
     },
     "execution_count": 57,
     "metadata": {},
     "output_type": "execute_result"
    }
   ],
   "source": [
    "# zeros\n",
    "shape = [2,3,3]\n",
    "np.zeros(shape)"
   ]
  },
  {
   "cell_type": "code",
   "execution_count": 58,
   "id": "bb59c6fe-5296-4554-b38a-ff5fab9bf5d8",
   "metadata": {},
   "outputs": [],
   "source": [
    "# eye\n",
    "# it basically gives an identity matrix"
   ]
  },
  {
   "cell_type": "code",
   "execution_count": 59,
   "id": "58145079-207f-4e35-936f-a2e674cfdb4b",
   "metadata": {},
   "outputs": [
    {
     "data": {
      "text/plain": [
       "array([[1., 0., 0., 0.],\n",
       "       [0., 1., 0., 0.],\n",
       "       [0., 0., 1., 0.],\n",
       "       [0., 0., 0., 1.]])"
      ]
     },
     "execution_count": 59,
     "metadata": {},
     "output_type": "execute_result"
    }
   ],
   "source": [
    "np.eye(4)"
   ]
  },
  {
   "cell_type": "code",
   "execution_count": 60,
   "id": "7ebf7bac-8bd9-42e6-bb17-7ae8fe4551c5",
   "metadata": {},
   "outputs": [
    {
     "data": {
      "text/plain": [
       "array([[1., 0., 0.],\n",
       "       [0., 1., 0.],\n",
       "       [0., 0., 1.],\n",
       "       [0., 0., 0.],\n",
       "       [0., 0., 0.]])"
      ]
     },
     "execution_count": 60,
     "metadata": {},
     "output_type": "execute_result"
    }
   ],
   "source": [
    "np.eye(5,3)"
   ]
  },
  {
   "cell_type": "code",
   "execution_count": 63,
   "id": "84d17a46-f30d-4512-bef4-5658dc9663e3",
   "metadata": {},
   "outputs": [
    {
     "data": {
      "text/plain": [
       "array([[1, 0, 0, 0],\n",
       "       [0, 2, 0, 0],\n",
       "       [0, 0, 3, 0],\n",
       "       [0, 0, 0, 4]])"
      ]
     },
     "execution_count": 63,
     "metadata": {},
     "output_type": "execute_result"
    }
   ],
   "source": [
    "# diag\n",
    "np.diag([1,2,3,4])"
   ]
  },
  {
   "cell_type": "code",
   "execution_count": null,
   "id": "7b10f2c3-c0aa-4592-98e5-0c4628432c1a",
   "metadata": {},
   "outputs": [],
   "source": []
  },
  {
   "cell_type": "code",
   "execution_count": null,
   "id": "7dd04d65-4e6e-402d-bbe6-1083e2592b3e",
   "metadata": {},
   "outputs": [],
   "source": []
  },
  {
   "cell_type": "code",
   "execution_count": 65,
   "id": "c8036333-b5c8-49a0-afb7-f26d17abce64",
   "metadata": {},
   "outputs": [
    {
     "data": {
      "text/plain": [
       "array([[0.31369612, 0.034076  , 0.77501426],\n",
       "       [0.97615035, 0.6756106 , 0.67999341]])"
      ]
     },
     "execution_count": 65,
     "metadata": {},
     "output_type": "execute_result"
    }
   ],
   "source": [
    "# numpy random module\n",
    "np.random.rand(2,3)"
   ]
  },
  {
   "cell_type": "code",
   "execution_count": 67,
   "id": "68e397db-1b30-4e7e-b935-1191bbae1154",
   "metadata": {},
   "outputs": [
    {
     "data": {
      "text/plain": [
       "array([[0.92207883, 0.49237005, 0.38585596],\n",
       "       [0.70433116, 0.17868389, 0.18532896]])"
      ]
     },
     "execution_count": 67,
     "metadata": {},
     "output_type": "execute_result"
    }
   ],
   "source": [
    "np.random.random(size=(2,3))\n",
    "# both are same bss syntax mei diff hai bss"
   ]
  },
  {
   "cell_type": "code",
   "execution_count": 74,
   "id": "ed165962-7203-4ac2-9493-6079a81698ed",
   "metadata": {},
   "outputs": [
    {
     "data": {
      "text/plain": [
       "array([[ 1.03336113, -0.3695513 ,  1.7168424 ],\n",
       "       [ 1.04890372, -0.18090016,  0.56949941]])"
      ]
     },
     "execution_count": 74,
     "metadata": {},
     "output_type": "execute_result"
    }
   ],
   "source": [
    "np.random.randn(2,3)\n",
    "# iski range -infinity to + infinity"
   ]
  },
  {
   "cell_type": "code",
   "execution_count": 75,
   "id": "252e5d3b-b0bf-49fa-923b-4393e918ab90",
   "metadata": {},
   "outputs": [
    {
     "data": {
      "text/plain": [
       "array([[11, 13, 10],\n",
       "       [18, 10, 12]], dtype=int32)"
      ]
     },
     "execution_count": 75,
     "metadata": {},
     "output_type": "execute_result"
    }
   ],
   "source": [
    "np.random.randint(10,20,size=(2,3))"
   ]
  },
  {
   "cell_type": "code",
   "execution_count": null,
   "id": "5c5bb8e1-759d-4ef6-af26-b5531bda7af2",
   "metadata": {},
   "outputs": [],
   "source": []
  },
  {
   "cell_type": "code",
   "execution_count": 11,
   "id": "0221b8a0-ac77-4d93-bf0b-71be0823ecd3",
   "metadata": {},
   "outputs": [
    {
     "data": {
      "text/plain": [
       "array([[11, 10],\n",
       "       [16, 15],\n",
       "       [10, 15]])"
      ]
     },
     "execution_count": 11,
     "metadata": {},
     "output_type": "execute_result"
    }
   ],
   "source": [
    "np.random.choice(np.arange(10,21),size=(3,2),p=[0.5,0.1,0,0,0,0.2,0.2,0,0,0,0])"
   ]
  },
  {
   "cell_type": "code",
   "execution_count": 12,
   "id": "94a3ad40-b924-4363-91c7-43f8789e61cf",
   "metadata": {},
   "outputs": [],
   "source": [
    "# yha p mei jo array hai vo ek probablity parameter hai jiske hum \n",
    "# yeh decide  krte hai ki  konsa element sbse jyada aayega"
   ]
  },
  {
   "cell_type": "code",
   "execution_count": 14,
   "id": "11e8ab22-b3d0-498b-ab9a-173808b85502",
   "metadata": {},
   "outputs": [
    {
     "data": {
      "text/plain": [
       "array([10, 11, 12, 13, 14, 15, 16, 17, 18, 19, 20])"
      ]
     },
     "execution_count": 14,
     "metadata": {},
     "output_type": "execute_result"
    }
   ],
   "source": [
    "a = np.arange(10,21)\n",
    "a"
   ]
  },
  {
   "cell_type": "code",
   "execution_count": 17,
   "id": "3fce5327-dd5d-432b-b239-21c782cde287",
   "metadata": {},
   "outputs": [
    {
     "data": {
      "text/plain": [
       "array([12, 13, 14, 19, 11, 16, 10, 17, 20, 18, 15])"
      ]
     },
     "execution_count": 17,
     "metadata": {},
     "output_type": "execute_result"
    }
   ],
   "source": [
    "np.random.seed(1)\n",
    "np.random.shuffle(a)\n",
    "a"
   ]
  },
  {
   "cell_type": "code",
   "execution_count": 18,
   "id": "421bc228-0e47-4c55-a218-73ea335432ea",
   "metadata": {},
   "outputs": [
    {
     "data": {
      "text/plain": [
       "array([12, 13, 14, 19, 11, 16, 10, 17, 20, 18, 15])"
      ]
     },
     "execution_count": 18,
     "metadata": {},
     "output_type": "execute_result"
    }
   ],
   "source": [
    "# /Fixes random output\n",
    "np.random.seed(1)\n",
    "a"
   ]
  },
  {
   "cell_type": "code",
   "execution_count": 19,
   "id": "216e13cd-d9f6-4cba-8be0-018006c541bd",
   "metadata": {},
   "outputs": [
    {
     "data": {
      "text/plain": [
       "array([12, 13, 14, 19, 11, 16, 10, 17, 20, 18, 15])"
      ]
     },
     "execution_count": 19,
     "metadata": {},
     "output_type": "execute_result"
    }
   ],
   "source": [
    "np.random.seed(1)\n",
    "a"
   ]
  },
  {
   "cell_type": "code",
   "execution_count": 25,
   "id": "9b6206a5-5504-480e-9fe5-4d26adbcf6b5",
   "metadata": {},
   "outputs": [],
   "source": [
    "a  = np.arange(10,22)"
   ]
  },
  {
   "cell_type": "code",
   "execution_count": 26,
   "id": "d4a1af2c-16a4-47fd-86f5-ba3988efe34b",
   "metadata": {},
   "outputs": [
    {
     "data": {
      "text/plain": [
       "(12,)"
      ]
     },
     "execution_count": 26,
     "metadata": {},
     "output_type": "execute_result"
    }
   ],
   "source": [
    "a.shape"
   ]
  },
  {
   "cell_type": "code",
   "execution_count": 27,
   "id": "c9ea884d-24e6-4545-b295-7d3b6fe21e84",
   "metadata": {},
   "outputs": [
    {
     "data": {
      "text/plain": [
       "array([10, 11, 12, 13, 14, 15, 16, 17, 18, 19, 20, 21])"
      ]
     },
     "execution_count": 27,
     "metadata": {},
     "output_type": "execute_result"
    }
   ],
   "source": [
    "a"
   ]
  },
  {
   "cell_type": "code",
   "execution_count": 28,
   "id": "211cb299-9f1a-4dea-8be2-fae8e40ade0e",
   "metadata": {},
   "outputs": [],
   "source": [
    "b = a.reshape((2,-1,2))\n"
   ]
  },
  {
   "cell_type": "code",
   "execution_count": 29,
   "id": "3fceccb1-1a7d-4211-8d64-dc0689e4c01d",
   "metadata": {},
   "outputs": [
    {
     "data": {
      "text/plain": [
       "array([[[10, 11],\n",
       "        [12, 13],\n",
       "        [14, 15]],\n",
       "\n",
       "       [[16, 17],\n",
       "        [18, 19],\n",
       "        [20, 21]]])"
      ]
     },
     "execution_count": 29,
     "metadata": {},
     "output_type": "execute_result"
    }
   ],
   "source": [
    "b"
   ]
  },
  {
   "cell_type": "code",
   "execution_count": 30,
   "id": "ec1eb365-5882-4889-aa63-4854106f4019",
   "metadata": {},
   "outputs": [
    {
     "data": {
      "text/plain": [
       "array([10, 11, 12, 13, 14, 15, 16, 17, 18, 19, 20, 21])"
      ]
     },
     "execution_count": 30,
     "metadata": {},
     "output_type": "execute_result"
    }
   ],
   "source": [
    "b.reshape(-1)\n",
    "# 1d mei convert kr dena"
   ]
  },
  {
   "cell_type": "code",
   "execution_count": 31,
   "id": "42ee1bc9-e2c5-47b6-a5e8-8e28cbd0d4e9",
   "metadata": {},
   "outputs": [],
   "source": [
    "a = np.arange(100).reshape(10,10)"
   ]
  },
  {
   "cell_type": "code",
   "execution_count": 32,
   "id": "ad354691-e854-4bde-9e75-33671d92a551",
   "metadata": {},
   "outputs": [
    {
     "data": {
      "text/plain": [
       "array([[ 0,  1,  2,  3,  4,  5,  6,  7,  8,  9],\n",
       "       [10, 11, 12, 13, 14, 15, 16, 17, 18, 19],\n",
       "       [20, 21, 22, 23, 24, 25, 26, 27, 28, 29],\n",
       "       [30, 31, 32, 33, 34, 35, 36, 37, 38, 39],\n",
       "       [40, 41, 42, 43, 44, 45, 46, 47, 48, 49],\n",
       "       [50, 51, 52, 53, 54, 55, 56, 57, 58, 59],\n",
       "       [60, 61, 62, 63, 64, 65, 66, 67, 68, 69],\n",
       "       [70, 71, 72, 73, 74, 75, 76, 77, 78, 79],\n",
       "       [80, 81, 82, 83, 84, 85, 86, 87, 88, 89],\n",
       "       [90, 91, 92, 93, 94, 95, 96, 97, 98, 99]])"
      ]
     },
     "execution_count": 32,
     "metadata": {},
     "output_type": "execute_result"
    }
   ],
   "source": [
    "a"
   ]
  },
  {
   "cell_type": "code",
   "execution_count": 33,
   "id": "51c57495-cab4-448e-b7ca-17530a22890f",
   "metadata": {},
   "outputs": [
    {
     "data": {
      "text/plain": [
       "array([[23, 24, 25, 26],\n",
       "       [33, 34, 35, 36],\n",
       "       [43, 44, 45, 46],\n",
       "       [53, 54, 55, 56],\n",
       "       [63, 64, 65, 66]])"
      ]
     },
     "execution_count": 33,
     "metadata": {},
     "output_type": "execute_result"
    }
   ],
   "source": [
    "a[2:7,3:7]\n",
    "# a[row_start:row_end, column_start:column_end]\n"
   ]
  },
  {
   "cell_type": "code",
   "execution_count": 34,
   "id": "8f303a36-bcca-4e18-8a37-f48e12759a22",
   "metadata": {},
   "outputs": [
    {
     "data": {
      "text/plain": [
       "array([[59, 58, 57, 56, 55, 54, 53, 52, 51, 50],\n",
       "       [69, 68, 67, 66, 65, 64, 63, 62, 61, 60],\n",
       "       [79, 78, 77, 76, 75, 74, 73, 72, 71, 70]])"
      ]
     },
     "execution_count": 34,
     "metadata": {},
     "output_type": "execute_result"
    }
   ],
   "source": [
    "a[5:8,::-1]"
   ]
  },
  {
   "cell_type": "code",
   "execution_count": 36,
   "id": "8ed83e35-abec-4e0d-9122-fbafa4cb61da",
   "metadata": {},
   "outputs": [],
   "source": [
    "b = a[3:7]"
   ]
  },
  {
   "cell_type": "code",
   "execution_count": 37,
   "id": "f7c91efd-4a51-4d0b-a817-1a692adc0083",
   "metadata": {},
   "outputs": [
    {
     "data": {
      "text/plain": [
       "array([[30, 31, 32, 33, 34, 35, 36, 37, 38, 39],\n",
       "       [40, 41, 42, 43, 44, 45, 46, 47, 48, 49],\n",
       "       [50, 51, 52, 53, 54, 55, 56, 57, 58, 59],\n",
       "       [60, 61, 62, 63, 64, 65, 66, 67, 68, 69]])"
      ]
     },
     "execution_count": 37,
     "metadata": {},
     "output_type": "execute_result"
    }
   ],
   "source": [
    "b"
   ]
  },
  {
   "cell_type": "code",
   "execution_count": 38,
   "id": "7d0c1c33-b2e6-42c2-836e-e51c31960e15",
   "metadata": {},
   "outputs": [],
   "source": [
    "b[0] = np.arange(1000,1010)"
   ]
  },
  {
   "cell_type": "code",
   "execution_count": 39,
   "id": "775a3939-9d7a-494f-be73-a5b34c2a7359",
   "metadata": {},
   "outputs": [
    {
     "data": {
      "text/plain": [
       "array([[1000, 1001, 1002, 1003, 1004, 1005, 1006, 1007, 1008, 1009],\n",
       "       [  40,   41,   42,   43,   44,   45,   46,   47,   48,   49],\n",
       "       [  50,   51,   52,   53,   54,   55,   56,   57,   58,   59],\n",
       "       [  60,   61,   62,   63,   64,   65,   66,   67,   68,   69]])"
      ]
     },
     "execution_count": 39,
     "metadata": {},
     "output_type": "execute_result"
    }
   ],
   "source": [
    "b"
   ]
  },
  {
   "cell_type": "code",
   "execution_count": 40,
   "id": "339cdb60-8b43-4b5e-9f66-e58254cf0d28",
   "metadata": {},
   "outputs": [
    {
     "data": {
      "text/plain": [
       "array([[   0,    1,    2,    3,    4,    5,    6,    7,    8,    9],\n",
       "       [  10,   11,   12,   13,   14,   15,   16,   17,   18,   19],\n",
       "       [  20,   21,   22,   23,   24,   25,   26,   27,   28,   29],\n",
       "       [1000, 1001, 1002, 1003, 1004, 1005, 1006, 1007, 1008, 1009],\n",
       "       [  40,   41,   42,   43,   44,   45,   46,   47,   48,   49],\n",
       "       [  50,   51,   52,   53,   54,   55,   56,   57,   58,   59],\n",
       "       [  60,   61,   62,   63,   64,   65,   66,   67,   68,   69],\n",
       "       [  70,   71,   72,   73,   74,   75,   76,   77,   78,   79],\n",
       "       [  80,   81,   82,   83,   84,   85,   86,   87,   88,   89],\n",
       "       [  90,   91,   92,   93,   94,   95,   96,   97,   98,   99]])"
      ]
     },
     "execution_count": 40,
     "metadata": {},
     "output_type": "execute_result"
    }
   ],
   "source": [
    "a"
   ]
  },
  {
   "cell_type": "code",
   "execution_count": 41,
   "id": "88b67676-66c3-40ec-89c0-05f448bef11e",
   "metadata": {},
   "outputs": [
    {
     "data": {
      "text/plain": [
       "True"
      ]
     },
     "execution_count": 41,
     "metadata": {},
     "output_type": "execute_result"
    }
   ],
   "source": [
    "np.shares_memory(a,b)\n",
    "# is used to check whether two NumPy arrays share the same memory \n",
    "# (i.e., whether they view the same data in memory)."
   ]
  },
  {
   "cell_type": "code",
   "execution_count": 42,
   "id": "495dd131-2da3-4e30-acb2-ddeec9d768f6",
   "metadata": {},
   "outputs": [],
   "source": [
    "c = a[3:7].copy()"
   ]
  },
  {
   "cell_type": "code",
   "execution_count": 43,
   "id": "19c35633-9817-4fcb-a59e-5d8ce1a8602b",
   "metadata": {},
   "outputs": [
    {
     "data": {
      "text/plain": [
       "array([[1000, 1001, 1002, 1003, 1004, 1005, 1006, 1007, 1008, 1009],\n",
       "       [  40,   41,   42,   43,   44,   45,   46,   47,   48,   49],\n",
       "       [  50,   51,   52,   53,   54,   55,   56,   57,   58,   59],\n",
       "       [  60,   61,   62,   63,   64,   65,   66,   67,   68,   69]])"
      ]
     },
     "execution_count": 43,
     "metadata": {},
     "output_type": "execute_result"
    }
   ],
   "source": [
    "c"
   ]
  },
  {
   "cell_type": "code",
   "execution_count": 45,
   "id": "98f7e3a4-9b75-4575-a76b-92b076cfacb1",
   "metadata": {},
   "outputs": [],
   "source": [
    "c[0] = np.arange(100,110)"
   ]
  },
  {
   "cell_type": "code",
   "execution_count": 46,
   "id": "6d5dc6ad-0091-4a79-bf3c-03c27d59bc51",
   "metadata": {},
   "outputs": [
    {
     "data": {
      "text/plain": [
       "array([[100, 101, 102, 103, 104, 105, 106, 107, 108, 109],\n",
       "       [ 40,  41,  42,  43,  44,  45,  46,  47,  48,  49],\n",
       "       [ 50,  51,  52,  53,  54,  55,  56,  57,  58,  59],\n",
       "       [ 60,  61,  62,  63,  64,  65,  66,  67,  68,  69]])"
      ]
     },
     "execution_count": 46,
     "metadata": {},
     "output_type": "execute_result"
    }
   ],
   "source": [
    "c"
   ]
  },
  {
   "cell_type": "code",
   "execution_count": 47,
   "id": "86c846b2-fcfd-4bed-bd19-2fd503411d6b",
   "metadata": {},
   "outputs": [
    {
     "data": {
      "text/plain": [
       "array([[ 100,  101,  102,  103,  104,  105,  106,  107,  108,  109],\n",
       "       [  10,   11,   12,   13,   14,   15,   16,   17,   18,   19],\n",
       "       [  20,   21,   22,   23,   24,   25,   26,   27,   28,   29],\n",
       "       [1000, 1001, 1002, 1003, 1004, 1005, 1006, 1007, 1008, 1009],\n",
       "       [  40,   41,   42,   43,   44,   45,   46,   47,   48,   49],\n",
       "       [  50,   51,   52,   53,   54,   55,   56,   57,   58,   59],\n",
       "       [  60,   61,   62,   63,   64,   65,   66,   67,   68,   69],\n",
       "       [  70,   71,   72,   73,   74,   75,   76,   77,   78,   79],\n",
       "       [  80,   81,   82,   83,   84,   85,   86,   87,   88,   89],\n",
       "       [  90,   91,   92,   93,   94,   95,   96,   97,   98,   99]])"
      ]
     },
     "execution_count": 47,
     "metadata": {},
     "output_type": "execute_result"
    }
   ],
   "source": [
    "a"
   ]
  },
  {
   "cell_type": "code",
   "execution_count": 48,
   "id": "6f46f911-12e1-4900-889e-f3438c9f70a1",
   "metadata": {},
   "outputs": [
    {
     "data": {
      "text/plain": [
       "False"
      ]
     },
     "execution_count": 48,
     "metadata": {},
     "output_type": "execute_result"
    }
   ],
   "source": [
    "np.shares_memory(a,c)"
   ]
  },
  {
   "cell_type": "code",
   "execution_count": 49,
   "id": "7e3c5b25-8249-46bc-a450-eea6f34ed61c",
   "metadata": {},
   "outputs": [],
   "source": [
    "a[3:6,2:4] = np.arange(200,206).reshape((3,2))"
   ]
  },
  {
   "cell_type": "code",
   "execution_count": 50,
   "id": "8c2a416b-d5bc-4bff-a5f2-a16d10a5e137",
   "metadata": {},
   "outputs": [
    {
     "data": {
      "text/plain": [
       "array([[ 100,  101,  102,  103,  104,  105,  106,  107,  108,  109],\n",
       "       [  10,   11,   12,   13,   14,   15,   16,   17,   18,   19],\n",
       "       [  20,   21,   22,   23,   24,   25,   26,   27,   28,   29],\n",
       "       [1000, 1001,  200,  201, 1004, 1005, 1006, 1007, 1008, 1009],\n",
       "       [  40,   41,  202,  203,   44,   45,   46,   47,   48,   49],\n",
       "       [  50,   51,  204,  205,   54,   55,   56,   57,   58,   59],\n",
       "       [  60,   61,   62,   63,   64,   65,   66,   67,   68,   69],\n",
       "       [  70,   71,   72,   73,   74,   75,   76,   77,   78,   79],\n",
       "       [  80,   81,   82,   83,   84,   85,   86,   87,   88,   89],\n",
       "       [  90,   91,   92,   93,   94,   95,   96,   97,   98,   99]])"
      ]
     },
     "execution_count": 50,
     "metadata": {},
     "output_type": "execute_result"
    }
   ],
   "source": [
    "a"
   ]
  },
  {
   "cell_type": "code",
   "execution_count": 60,
   "id": "874f6e4d-64f2-4498-bf07-d05066e890c2",
   "metadata": {},
   "outputs": [
    {
     "data": {
      "text/plain": [
       "array([ 0,  1,  2,  3,  4,  5,  6,  7,  8,  9, 10])"
      ]
     },
     "execution_count": 60,
     "metadata": {},
     "output_type": "execute_result"
    }
   ],
   "source": [
    "a = np.arange(0,11)\n",
    "a"
   ]
  },
  {
   "cell_type": "code",
   "execution_count": 61,
   "id": "b249c05e-9c61-459b-8aaa-59a242545cf9",
   "metadata": {},
   "outputs": [
    {
     "data": {
      "text/plain": [
       "array([ 5,  6,  7,  8,  9, 10, 11, 12, 13, 14, 15])"
      ]
     },
     "execution_count": 61,
     "metadata": {},
     "output_type": "execute_result"
    }
   ],
   "source": [
    "# /operators\n",
    "a+5"
   ]
  },
  {
   "cell_type": "code",
   "execution_count": 62,
   "id": "1412b999-bd4d-4877-8047-593508f8645e",
   "metadata": {},
   "outputs": [
    {
     "data": {
      "text/plain": [
       "array([-5, -4, -3, -2, -1,  0,  1,  2,  3,  4,  5])"
      ]
     },
     "execution_count": 62,
     "metadata": {},
     "output_type": "execute_result"
    }
   ],
   "source": [
    "a-5\n"
   ]
  },
  {
   "cell_type": "code",
   "execution_count": 63,
   "id": "7865044d-0f91-4509-84f3-30939ad9fda4",
   "metadata": {},
   "outputs": [
    {
     "data": {
      "text/plain": [
       "array([ 0,  5, 10, 15, 20, 25, 30, 35, 40, 45, 50])"
      ]
     },
     "execution_count": 63,
     "metadata": {},
     "output_type": "execute_result"
    }
   ],
   "source": [
    "a*5"
   ]
  },
  {
   "cell_type": "code",
   "execution_count": 64,
   "id": "4b1c0570-41b9-475e-bc18-6870ed08976c",
   "metadata": {},
   "outputs": [
    {
     "data": {
      "text/plain": [
       "array([0. , 0.2, 0.4, 0.6, 0.8, 1. , 1.2, 1.4, 1.6, 1.8, 2. ])"
      ]
     },
     "execution_count": 64,
     "metadata": {},
     "output_type": "execute_result"
    }
   ],
   "source": [
    "a/5"
   ]
  },
  {
   "cell_type": "code",
   "execution_count": 65,
   "id": "c82107cb-0768-463e-84c5-5c6e1736fd0d",
   "metadata": {},
   "outputs": [
    {
     "data": {
      "text/plain": [
       "array([0, 0, 0, 0, 0, 1, 1, 1, 1, 1, 2])"
      ]
     },
     "execution_count": 65,
     "metadata": {},
     "output_type": "execute_result"
    }
   ],
   "source": [
    "a//5"
   ]
  },
  {
   "cell_type": "code",
   "execution_count": 66,
   "id": "fce24009-e317-46a0-9529-2d33f168577b",
   "metadata": {},
   "outputs": [
    {
     "data": {
      "text/plain": [
       "array([0, 1, 2, 3, 4, 0, 1, 2, 3, 4, 0])"
      ]
     },
     "execution_count": 66,
     "metadata": {},
     "output_type": "execute_result"
    }
   ],
   "source": [
    "a%5"
   ]
  },
  {
   "cell_type": "code",
   "execution_count": 67,
   "id": "604c7cf5-410a-4508-8870-f28caba6fb3b",
   "metadata": {},
   "outputs": [
    {
     "data": {
      "text/plain": [
       "array([     0,      1,     32,    243,   1024,   3125,   7776,  16807,\n",
       "        32768,  59049, 100000])"
      ]
     },
     "execution_count": 67,
     "metadata": {},
     "output_type": "execute_result"
    }
   ],
   "source": [
    "a**5"
   ]
  },
  {
   "cell_type": "code",
   "execution_count": 68,
   "id": "2d953043-0618-4be7-b0f8-90eb7f6e1ecc",
   "metadata": {},
   "outputs": [
    {
     "data": {
      "text/plain": [
       "array([False, False, False, False, False,  True,  True,  True,  True,\n",
       "        True,  True])"
      ]
     },
     "execution_count": 68,
     "metadata": {},
     "output_type": "execute_result"
    }
   ],
   "source": [
    "a>=5"
   ]
  },
  {
   "cell_type": "code",
   "execution_count": 69,
   "id": "7f126ef7-f1de-45f2-b777-2648439b97ff",
   "metadata": {},
   "outputs": [],
   "source": [
    "a+=5"
   ]
  },
  {
   "cell_type": "code",
   "execution_count": 70,
   "id": "d03cd610-6427-400f-8870-f1faa24c9201",
   "metadata": {},
   "outputs": [
    {
     "data": {
      "text/plain": [
       "array([ 5,  6,  7,  8,  9, 10, 11, 12, 13, 14, 15])"
      ]
     },
     "execution_count": 70,
     "metadata": {},
     "output_type": "execute_result"
    }
   ],
   "source": [
    "a"
   ]
  },
  {
   "cell_type": "code",
   "execution_count": 72,
   "id": "2e19eddd-7941-488d-9743-1305e626794b",
   "metadata": {},
   "outputs": [],
   "source": [
    "a = np.arange(10)\n",
    "b = np.arange(10,20)\n",
    "c = np.arange(20,40)"
   ]
  },
  {
   "cell_type": "code",
   "execution_count": 73,
   "id": "af08e481-19ac-4081-8197-d86d9f134a94",
   "metadata": {},
   "outputs": [
    {
     "data": {
      "text/plain": [
       "array([0, 1, 2, 3, 4, 5, 6, 7, 8, 9])"
      ]
     },
     "execution_count": 73,
     "metadata": {},
     "output_type": "execute_result"
    }
   ],
   "source": [
    "a"
   ]
  },
  {
   "cell_type": "code",
   "execution_count": null,
   "id": "736bcebf-f870-4480-b509-2af71971d7fc",
   "metadata": {},
   "outputs": [],
   "source": []
  },
  {
   "cell_type": "code",
   "execution_count": 74,
   "id": "1054c759-a52c-417f-934b-54aaeda0b2e9",
   "metadata": {},
   "outputs": [
    {
     "data": {
      "text/plain": [
       "array([10, 11, 12, 13, 14, 15, 16, 17, 18, 19])"
      ]
     },
     "execution_count": 74,
     "metadata": {},
     "output_type": "execute_result"
    }
   ],
   "source": [
    "b"
   ]
  },
  {
   "cell_type": "code",
   "execution_count": 79,
   "id": "6b7c5b91-1c7d-4091-a1a3-f519d07e5cb3",
   "metadata": {},
   "outputs": [
    {
     "ename": "ValueError",
     "evalue": "operands could not be broadcast together with shapes (10,) (20,) ",
     "output_type": "error",
     "traceback": [
      "\u001b[31m---------------------------------------------------------------------------\u001b[39m",
      "\u001b[31mValueError\u001b[39m                                Traceback (most recent call last)",
      "\u001b[36mCell\u001b[39m\u001b[36m \u001b[39m\u001b[32mIn[79]\u001b[39m\u001b[32m, line 1\u001b[39m\n\u001b[32m----> \u001b[39m\u001b[32m1\u001b[39m \u001b[43ma\u001b[49m\u001b[43m+\u001b[49m\u001b[43mc\u001b[49m\n\u001b[32m      2\u001b[39m \u001b[38;5;66;03m# a mei 10 the aur c mei 20 that'why we can't add it\u001b[39;00m\n",
      "\u001b[31mValueError\u001b[39m: operands could not be broadcast together with shapes (10,) (20,) "
     ]
    }
   ],
   "source": [
    "a+c\n",
    "# a mei 10 the aur c mei 20 that'why we can't add it"
   ]
  },
  {
   "cell_type": "code",
   "execution_count": 80,
   "id": "b2347149-f642-422e-b743-5e94f04c5844",
   "metadata": {},
   "outputs": [
    {
     "data": {
      "text/plain": [
       "array([0.        , 0.09090909, 0.16666667, 0.23076923, 0.28571429,\n",
       "       0.33333333, 0.375     , 0.41176471, 0.44444444, 0.47368421])"
      ]
     },
     "execution_count": 80,
     "metadata": {},
     "output_type": "execute_result"
    }
   ],
   "source": [
    "a/b"
   ]
  },
  {
   "cell_type": "code",
   "execution_count": 81,
   "id": "53531820-7bcc-444a-9738-04a44ce87980",
   "metadata": {},
   "outputs": [
    {
     "data": {
      "text/plain": [
       "array([ True,  True,  True,  True,  True,  True,  True,  True,  True,\n",
       "        True])"
      ]
     },
     "execution_count": 81,
     "metadata": {},
     "output_type": "execute_result"
    }
   ],
   "source": [
    "a<=b"
   ]
  },
  {
   "cell_type": "code",
   "execution_count": 82,
   "id": "84d576ae-7125-4960-9a40-85538a0548ef",
   "metadata": {},
   "outputs": [
    {
     "data": {
      "text/plain": [
       "array([10, 12, 14, 16, 18, 20, 22, 24, 26, 28])"
      ]
     },
     "execution_count": 82,
     "metadata": {},
     "output_type": "execute_result"
    }
   ],
   "source": [
    "a+b"
   ]
  },
  {
   "cell_type": "code",
   "execution_count": 83,
   "id": "b7a2c451-7279-4760-9d9b-77cbc98691f8",
   "metadata": {},
   "outputs": [],
   "source": [
    "a = np.arange(0,10).reshape((5,2))\n",
    "b = np.arange(0,10).reshape((5,2))"
   ]
  },
  {
   "cell_type": "code",
   "execution_count": 84,
   "id": "d787c584-b3b9-4504-9780-ae060259392f",
   "metadata": {},
   "outputs": [
    {
     "data": {
      "text/plain": [
       "array([[0, 1],\n",
       "       [2, 3],\n",
       "       [4, 5],\n",
       "       [6, 7],\n",
       "       [8, 9]])"
      ]
     },
     "execution_count": 84,
     "metadata": {},
     "output_type": "execute_result"
    }
   ],
   "source": [
    "a"
   ]
  },
  {
   "cell_type": "code",
   "execution_count": 85,
   "id": "590cf82d-18d3-4958-9c17-a0a2ace8f06a",
   "metadata": {},
   "outputs": [
    {
     "data": {
      "text/plain": [
       "array([[0, 1],\n",
       "       [2, 3],\n",
       "       [4, 5],\n",
       "       [6, 7],\n",
       "       [8, 9]])"
      ]
     },
     "execution_count": 85,
     "metadata": {},
     "output_type": "execute_result"
    }
   ],
   "source": [
    "b"
   ]
  },
  {
   "cell_type": "code",
   "execution_count": 86,
   "id": "2e2fbaca-8e15-470b-ba78-a027ca2648ba",
   "metadata": {},
   "outputs": [
    {
     "data": {
      "text/plain": [
       "array([[ 0,  2],\n",
       "       [ 4,  6],\n",
       "       [ 8, 10],\n",
       "       [12, 14],\n",
       "       [16, 18]])"
      ]
     },
     "execution_count": 86,
     "metadata": {},
     "output_type": "execute_result"
    }
   ],
   "source": [
    "a+b"
   ]
  },
  {
   "cell_type": "code",
   "execution_count": 87,
   "id": "1800a7d1-41bc-4d6e-97c9-16dcc5e9f30a",
   "metadata": {},
   "outputs": [
    {
     "data": {
      "text/plain": [
       "array([[False,  True],\n",
       "       [ True,  True],\n",
       "       [ True,  True],\n",
       "       [ True,  True],\n",
       "       [ True,  True]])"
      ]
     },
     "execution_count": 87,
     "metadata": {},
     "output_type": "execute_result"
    }
   ],
   "source": [
    "np.logical_and(a,b)"
   ]
  },
  {
   "cell_type": "code",
   "execution_count": 88,
   "id": "9c6b588f-c8b3-45c3-8891-c31ac68787c6",
   "metadata": {},
   "outputs": [
    {
     "data": {
      "text/plain": [
       "array([[ True,  True],\n",
       "       [ True,  True],\n",
       "       [ True,  True],\n",
       "       [ True,  True],\n",
       "       [ True,  True]])"
      ]
     },
     "execution_count": 88,
     "metadata": {},
     "output_type": "execute_result"
    }
   ],
   "source": [
    "(a>=b) | (b>5)"
   ]
  },
  {
   "cell_type": "code",
   "execution_count": 101,
   "id": "7219b5cb-0bb4-4f20-8748-0e2534772e99",
   "metadata": {},
   "outputs": [
    {
     "data": {
      "text/plain": [
       "array([[ 0,  2],\n",
       "       [ 4,  6],\n",
       "       [ 8, 10],\n",
       "       [12, 14],\n",
       "       [16, 18]])"
      ]
     },
     "execution_count": 101,
     "metadata": {},
     "output_type": "execute_result"
    }
   ],
   "source": [
    "np.add(a,b)"
   ]
  },
  {
   "cell_type": "code",
   "execution_count": 106,
   "id": "09afd3d3-4df9-461a-bdea-bafdaae4148a",
   "metadata": {},
   "outputs": [
    {
     "data": {
      "text/plain": [
       "array([[0, 0],\n",
       "       [0, 0],\n",
       "       [0, 0],\n",
       "       [0, 0],\n",
       "       [0, 0]])"
      ]
     },
     "execution_count": 106,
     "metadata": {},
     "output_type": "execute_result"
    }
   ],
   "source": [
    "np.subtract(a,b)"
   ]
  },
  {
   "cell_type": "code",
   "execution_count": null,
   "id": "f32592c9-06b6-4974-a15f-3077567dae53",
   "metadata": {},
   "outputs": [],
   "source": []
  },
  {
   "cell_type": "code",
   "execution_count": 108,
   "id": "d9334a2a-51fc-46bb-a874-d460c463fa45",
   "metadata": {},
   "outputs": [],
   "source": [
    "c = np.multiply(a,b)"
   ]
  },
  {
   "cell_type": "code",
   "execution_count": 109,
   "id": "be9d24bc-de6d-47a6-94f7-37031f429d0b",
   "metadata": {},
   "outputs": [
    {
     "data": {
      "text/plain": [
       "array([[ 0,  1],\n",
       "       [ 4,  9],\n",
       "       [16, 25],\n",
       "       [36, 49],\n",
       "       [64, 81]])"
      ]
     },
     "execution_count": 109,
     "metadata": {},
     "output_type": "execute_result"
    }
   ],
   "source": [
    "c"
   ]
  },
  {
   "cell_type": "code",
   "execution_count": 110,
   "id": "728e4686-ed5f-4ea9-b15d-b074ce9b13c3",
   "metadata": {},
   "outputs": [
    {
     "name": "stderr",
     "output_type": "stream",
     "text": [
      "C:\\Users\\Asus\\AppData\\Local\\Temp\\ipykernel_3324\\2626738034.py:1: RuntimeWarning: invalid value encountered in divide\n",
      "  np.divide(a,b)\n"
     ]
    },
    {
     "data": {
      "text/plain": [
       "array([[nan,  1.],\n",
       "       [ 1.,  1.],\n",
       "       [ 1.,  1.],\n",
       "       [ 1.,  1.],\n",
       "       [ 1.,  1.]])"
      ]
     },
     "execution_count": 110,
     "metadata": {},
     "output_type": "execute_result"
    }
   ],
   "source": [
    "np.divide(a,b)"
   ]
  },
  {
   "cell_type": "code",
   "execution_count": 111,
   "id": "f90dd0c1-94ba-4033-a875-5300de2c8f3e",
   "metadata": {},
   "outputs": [
    {
     "name": "stderr",
     "output_type": "stream",
     "text": [
      "C:\\Users\\Asus\\AppData\\Local\\Temp\\ipykernel_3324\\3434828917.py:1: RuntimeWarning: divide by zero encountered in divmod\n",
      "  np.divmod(a,b)\n"
     ]
    },
    {
     "data": {
      "text/plain": [
       "(array([[0, 1],\n",
       "        [1, 1],\n",
       "        [1, 1],\n",
       "        [1, 1],\n",
       "        [1, 1]]),\n",
       " array([[0, 0],\n",
       "        [0, 0],\n",
       "        [0, 0],\n",
       "        [0, 0],\n",
       "        [0, 0]]))"
      ]
     },
     "execution_count": 111,
     "metadata": {},
     "output_type": "execute_result"
    }
   ],
   "source": [
    "np.divmod(a,b)"
   ]
  },
  {
   "cell_type": "code",
   "execution_count": 112,
   "id": "f16f6243-36a3-4256-b58a-afd9f84427c8",
   "metadata": {},
   "outputs": [],
   "source": [
    "# first array is quotients and second array is remender"
   ]
  },
  {
   "cell_type": "code",
   "execution_count": 113,
   "id": "834668ba-79e6-44cd-bef3-d6cdae49f7da",
   "metadata": {},
   "outputs": [
    {
     "name": "stdout",
     "output_type": "stream",
     "text": [
      "[ 5  7  9 11 13 15 17]\n"
     ]
    }
   ],
   "source": [
    "x = np.array([1,2,3,4,5,6,7])\n",
    "m = 2\n",
    "c = 3\n",
    "y = m*x+c\n",
    "print(y)"
   ]
  },
  {
   "cell_type": "code",
   "execution_count": 114,
   "id": "2639b80d-6f5e-4153-a075-5bc851bcd870",
   "metadata": {},
   "outputs": [],
   "source": [
    "a = np.arange(10,20)\n",
    "b = np.arange(10,21)"
   ]
  },
  {
   "cell_type": "code",
   "execution_count": 115,
   "id": "a5de67ff-af42-4fa7-a77e-07e6d814387b",
   "metadata": {},
   "outputs": [
    {
     "data": {
      "text/plain": [
       "array([10, 11, 12, 13, 14, 15, 16, 17, 18, 19])"
      ]
     },
     "execution_count": 115,
     "metadata": {},
     "output_type": "execute_result"
    }
   ],
   "source": [
    "a"
   ]
  },
  {
   "cell_type": "code",
   "execution_count": 117,
   "id": "97255221-a7fb-4be2-885b-284685d0a580",
   "metadata": {},
   "outputs": [
    {
     "data": {
      "text/plain": [
       "array([10, 13, 19, 19])"
      ]
     },
     "execution_count": 117,
     "metadata": {},
     "output_type": "execute_result"
    }
   ],
   "source": [
    "a[[0,3,9,9]]"
   ]
  },
  {
   "cell_type": "code",
   "execution_count": 118,
   "id": "604cac04-ec3b-4c9c-af54-1f26613a9509",
   "metadata": {},
   "outputs": [],
   "source": [
    "a = np.arange(100).reshape((10,10))"
   ]
  },
  {
   "cell_type": "code",
   "execution_count": 119,
   "id": "cfd2095b-daec-4885-9f1a-e88273ac14b1",
   "metadata": {},
   "outputs": [
    {
     "data": {
      "text/plain": [
       "array([[ 0,  1,  2,  3,  4,  5,  6,  7,  8,  9],\n",
       "       [10, 11, 12, 13, 14, 15, 16, 17, 18, 19],\n",
       "       [20, 21, 22, 23, 24, 25, 26, 27, 28, 29],\n",
       "       [30, 31, 32, 33, 34, 35, 36, 37, 38, 39],\n",
       "       [40, 41, 42, 43, 44, 45, 46, 47, 48, 49],\n",
       "       [50, 51, 52, 53, 54, 55, 56, 57, 58, 59],\n",
       "       [60, 61, 62, 63, 64, 65, 66, 67, 68, 69],\n",
       "       [70, 71, 72, 73, 74, 75, 76, 77, 78, 79],\n",
       "       [80, 81, 82, 83, 84, 85, 86, 87, 88, 89],\n",
       "       [90, 91, 92, 93, 94, 95, 96, 97, 98, 99]])"
      ]
     },
     "execution_count": 119,
     "metadata": {},
     "output_type": "execute_result"
    }
   ],
   "source": [
    "a"
   ]
  },
  {
   "cell_type": "code",
   "execution_count": 120,
   "id": "6943c2f1-3a81-4e06-884a-73ce0883f29d",
   "metadata": {},
   "outputs": [
    {
     "data": {
      "text/plain": [
       "array([[60, 61, 62, 63, 64, 65, 66, 67, 68, 69],\n",
       "       [30, 31, 32, 33, 34, 35, 36, 37, 38, 39],\n",
       "       [80, 81, 82, 83, 84, 85, 86, 87, 88, 89],\n",
       "       [20, 21, 22, 23, 24, 25, 26, 27, 28, 29]])"
      ]
     },
     "execution_count": 120,
     "metadata": {},
     "output_type": "execute_result"
    }
   ],
   "source": [
    "a[[6,3,8,2]]"
   ]
  },
  {
   "cell_type": "code",
   "execution_count": 122,
   "id": "7e2b003b-3672-4704-a170-e7d06020f347",
   "metadata": {},
   "outputs": [
    {
     "data": {
      "text/plain": [
       "array([60, 52, 24, 86])"
      ]
     },
     "execution_count": 122,
     "metadata": {},
     "output_type": "execute_result"
    }
   ],
   "source": [
    "a[[6,5,2,8],[0,2,4,6]]\n",
    "# here 1st mei row and second mei col hai"
   ]
  },
  {
   "cell_type": "code",
   "execution_count": 123,
   "id": "8b9fb7fe-1553-4edc-9494-2813d8483c1a",
   "metadata": {},
   "outputs": [
    {
     "data": {
      "text/plain": [
       "array([[ 5,  3,  8,  7],\n",
       "       [15, 13, 18, 17],\n",
       "       [25, 23, 28, 27],\n",
       "       [35, 33, 38, 37],\n",
       "       [45, 43, 48, 47],\n",
       "       [55, 53, 58, 57],\n",
       "       [65, 63, 68, 67],\n",
       "       [75, 73, 78, 77],\n",
       "       [85, 83, 88, 87],\n",
       "       [95, 93, 98, 97]])"
      ]
     },
     "execution_count": 123,
     "metadata": {},
     "output_type": "execute_result"
    }
   ],
   "source": [
    "\n",
    "a[:,[5,3,8,7]]"
   ]
  },
  {
   "cell_type": "code",
   "execution_count": 135,
   "id": "273261a0-77e9-48ca-9fea-7ee5911774ed",
   "metadata": {},
   "outputs": [
    {
     "data": {
      "text/plain": [
       "array([[62, 64, 67, 69],\n",
       "       [32, 34, 37, 39],\n",
       "       [82, 84, 87, 89],\n",
       "       [22, 24, 27, 29]])"
      ]
     },
     "execution_count": 135,
     "metadata": {},
     "output_type": "execute_result"
    }
   ],
   "source": [
    "a[[6,3,8,2]][:,[2,4,7,9]]"
   ]
  },
  {
   "cell_type": "code",
   "execution_count": 141,
   "id": "a522375f-90e4-4eac-be52-cf6e97e0db49",
   "metadata": {},
   "outputs": [
    {
     "data": {
      "text/plain": [
       "array([10, 23, 31, 40, 50])"
      ]
     },
     "execution_count": 141,
     "metadata": {},
     "output_type": "execute_result"
    }
   ],
   "source": [
    "a"
   ]
  },
  {
   "cell_type": "code",
   "execution_count": 137,
   "id": "4a449a76-2c61-4c4f-b963-ea62931728ab",
   "metadata": {},
   "outputs": [],
   "source": [
    "a = np.array([10,23,31,40,50])"
   ]
  },
  {
   "cell_type": "code",
   "execution_count": 138,
   "id": "7043f91c-5e53-40df-8ad7-b2ebcafbabf0",
   "metadata": {},
   "outputs": [
    {
     "data": {
      "text/plain": [
       "array([10, 23, 31, 40, 50])"
      ]
     },
     "execution_count": 138,
     "metadata": {},
     "output_type": "execute_result"
    }
   ],
   "source": [
    "a"
   ]
  },
  {
   "cell_type": "code",
   "execution_count": 139,
   "id": "95aaa99e-c1a8-4c6f-9c1c-e5a6d370270a",
   "metadata": {},
   "outputs": [
    {
     "data": {
      "text/plain": [
       "array([10, 31, 40])"
      ]
     },
     "execution_count": 139,
     "metadata": {},
     "output_type": "execute_result"
    }
   ],
   "source": [
    "a[[True,False,True,True,False]]"
   ]
  },
  {
   "cell_type": "code",
   "execution_count": 140,
   "id": "16b3f894-90a5-4bfb-afda-3ee5ddaa706f",
   "metadata": {},
   "outputs": [
    {
     "data": {
      "text/plain": [
       "array([10, 23, 31, 40, 50])"
      ]
     },
     "execution_count": 140,
     "metadata": {},
     "output_type": "execute_result"
    }
   ],
   "source": [
    "a"
   ]
  },
  {
   "cell_type": "code",
   "execution_count": 144,
   "id": "2236b0e5-a987-4f74-bbb9-38da51a005b9",
   "metadata": {},
   "outputs": [],
   "source": [
    "a = np.arange(100).reshape(10,10)"
   ]
  },
  {
   "cell_type": "code",
   "execution_count": 145,
   "id": "8a916686-1685-4dcc-a42e-2d4f0121b0f7",
   "metadata": {},
   "outputs": [
    {
     "data": {
      "text/plain": [
       "array([[ 0,  1,  2,  3,  4,  5,  6,  7,  8,  9],\n",
       "       [10, 11, 12, 13, 14, 15, 16, 17, 18, 19],\n",
       "       [20, 21, 22, 23, 24, 25, 26, 27, 28, 29],\n",
       "       [30, 31, 32, 33, 34, 35, 36, 37, 38, 39],\n",
       "       [40, 41, 42, 43, 44, 45, 46, 47, 48, 49],\n",
       "       [50, 51, 52, 53, 54, 55, 56, 57, 58, 59],\n",
       "       [60, 61, 62, 63, 64, 65, 66, 67, 68, 69],\n",
       "       [70, 71, 72, 73, 74, 75, 76, 77, 78, 79],\n",
       "       [80, 81, 82, 83, 84, 85, 86, 87, 88, 89],\n",
       "       [90, 91, 92, 93, 94, 95, 96, 97, 98, 99]])"
      ]
     },
     "execution_count": 145,
     "metadata": {},
     "output_type": "execute_result"
    }
   ],
   "source": [
    "a"
   ]
  },
  {
   "cell_type": "code",
   "execution_count": 148,
   "id": "8350c0a7-4f34-4d12-b42e-286ad5ba6ee4",
   "metadata": {},
   "outputs": [
    {
     "data": {
      "text/plain": [
       "array([[ 0,  1,  2,  3,  4,  5,  6,  7,  8,  9],\n",
       "       [20, 21, 22, 23, 24, 25, 26, 27, 28, 29],\n",
       "       [40, 41, 42, 43, 44, 45, 46, 47, 48, 49],\n",
       "       [70, 71, 72, 73, 74, 75, 76, 77, 78, 79],\n",
       "       [80, 81, 82, 83, 84, 85, 86, 87, 88, 89]])"
      ]
     },
     "execution_count": 148,
     "metadata": {},
     "output_type": "execute_result"
    }
   ],
   "source": [
    "a[[True,False,True,False,True,False,False,True,True,False]]"
   ]
  },
  {
   "cell_type": "code",
   "execution_count": 149,
   "id": "8a7b3fcf-d840-4526-a1b2-68d044aeb8ea",
   "metadata": {},
   "outputs": [],
   "source": [
    "# hame minimum utne to dalne hi hai jitne "
   ]
  },
  {
   "cell_type": "code",
   "execution_count": 151,
   "id": "78c4b798-3b8f-484d-9cc3-17a328f95b8a",
   "metadata": {},
   "outputs": [
    {
     "data": {
      "text/plain": [
       "array([[ 0,  2,  5,  7],\n",
       "       [10, 12, 15, 17],\n",
       "       [20, 22, 25, 27],\n",
       "       [30, 32, 35, 37],\n",
       "       [40, 42, 45, 47],\n",
       "       [50, 52, 55, 57],\n",
       "       [60, 62, 65, 67],\n",
       "       [70, 72, 75, 77],\n",
       "       [80, 82, 85, 87],\n",
       "       [90, 92, 95, 97]])"
      ]
     },
     "execution_count": 151,
     "metadata": {},
     "output_type": "execute_result"
    }
   ],
   "source": [
    "a[:,[True,False,True,False,False,True,False,True,False,False]]"
   ]
  },
  {
   "cell_type": "code",
   "execution_count": 152,
   "id": "19382ce4-7c05-4688-9a0b-4b74edb7e036",
   "metadata": {},
   "outputs": [
    {
     "data": {
      "text/plain": [
       "array([ 0,  3,  6,  9, 12, 15, 18, 21, 24, 27, 30, 33, 36, 39, 42, 45, 48,\n",
       "       51, 54, 57, 60, 63, 66, 69, 72, 75, 78, 81, 84, 87, 90, 93, 96, 99])"
      ]
     },
     "execution_count": 152,
     "metadata": {},
     "output_type": "execute_result"
    }
   ],
   "source": [
    "a[a%3 == 0]"
   ]
  },
  {
   "cell_type": "code",
   "execution_count": 153,
   "id": "ee9f4d23-ed73-43f9-8ff7-a1fb866e444e",
   "metadata": {},
   "outputs": [
    {
     "data": {
      "text/plain": [
       "array([[ 0,  1,  2,  3,  4,  5,  6,  7,  8,  9],\n",
       "       [20, 21, 22, 23, 24, 25, 26, 27, 28, 29],\n",
       "       [40, 41, 42, 43, 44, 45, 46, 47, 48, 49],\n",
       "       [60, 61, 62, 63, 64, 65, 66, 67, 68, 69],\n",
       "       [80, 81, 82, 83, 84, 85, 86, 87, 88, 89]])"
      ]
     },
     "execution_count": 153,
     "metadata": {},
     "output_type": "execute_result"
    }
   ],
   "source": [
    "a[a[:,0]%4 == 0]"
   ]
  },
  {
   "cell_type": "code",
   "execution_count": 154,
   "id": "412746b3-6211-4613-be17-7d4aa3403dbd",
   "metadata": {},
   "outputs": [
    {
     "data": {
      "text/plain": [
       "array([ 0,  4,  8, 12, 16, 20, 24, 28, 32, 36, 40, 44, 48, 52, 56, 60, 64,\n",
       "       68, 72, 76, 80, 84, 88, 92, 96])"
      ]
     },
     "execution_count": 154,
     "metadata": {},
     "output_type": "execute_result"
    }
   ],
   "source": [
    "a[a%4 == 0]"
   ]
  },
  {
   "cell_type": "code",
   "execution_count": 157,
   "id": "6a0468ca-6518-412c-a901-1bc731c6be73",
   "metadata": {},
   "outputs": [
    {
     "data": {
      "text/plain": [
       "array([[ 0,  4,  8],\n",
       "       [10, 14, 18],\n",
       "       [20, 24, 28],\n",
       "       [30, 34, 38],\n",
       "       [40, 44, 48],\n",
       "       [50, 54, 58],\n",
       "       [60, 64, 68],\n",
       "       [70, 74, 78],\n",
       "       [80, 84, 88],\n",
       "       [90, 94, 98]])"
      ]
     },
     "execution_count": 157,
     "metadata": {},
     "output_type": "execute_result"
    }
   ],
   "source": [
    "a[:,a[0] % 4 == 0]"
   ]
  },
  {
   "cell_type": "code",
   "execution_count": 158,
   "id": "a507ec81-d84b-4cea-be05-2c80676aa114",
   "metadata": {},
   "outputs": [
    {
     "data": {
      "text/plain": [
       "array([[ 0,  1,  2,  3,  4,  5,  6,  7,  8,  9],\n",
       "       [10, 11, 12, 13, 14, 15, 16, 17, 18, 19],\n",
       "       [20, 21, 22, 23, 24, 25, 26, 27, 28, 29],\n",
       "       [30, 31, 32, 33, 34, 35, 36, 37, 38, 39],\n",
       "       [40, 41, 42, 43, 44, 45, 46, 47, 48, 49],\n",
       "       [50, 51, 52, 53, 54, 55, 56, 57, 58, 59],\n",
       "       [60, 61, 62, 63, 64, 65, 66, 67, 68, 69],\n",
       "       [70, 71, 72, 73, 74, 75, 76, 77, 78, 79],\n",
       "       [80, 81, 82, 83, 84, 85, 86, 87, 88, 89],\n",
       "       [90, 91, 92, 93, 94, 95, 96, 97, 98, 99]])"
      ]
     },
     "execution_count": 158,
     "metadata": {},
     "output_type": "execute_result"
    }
   ],
   "source": [
    "a"
   ]
  },
  {
   "cell_type": "code",
   "execution_count": 159,
   "id": "e2466edb-6163-4f8f-a09c-7e4062c60806",
   "metadata": {},
   "outputs": [],
   "source": [
    "a = np.arange(60).reshape((12,5))"
   ]
  },
  {
   "cell_type": "code",
   "execution_count": 160,
   "id": "3ab66997-c741-4c75-a911-3914ffe085e0",
   "metadata": {},
   "outputs": [
    {
     "data": {
      "text/plain": [
       "array([[ 0,  1,  2,  3,  4],\n",
       "       [ 5,  6,  7,  8,  9],\n",
       "       [10, 11, 12, 13, 14],\n",
       "       [15, 16, 17, 18, 19],\n",
       "       [20, 21, 22, 23, 24],\n",
       "       [25, 26, 27, 28, 29],\n",
       "       [30, 31, 32, 33, 34],\n",
       "       [35, 36, 37, 38, 39],\n",
       "       [40, 41, 42, 43, 44],\n",
       "       [45, 46, 47, 48, 49],\n",
       "       [50, 51, 52, 53, 54],\n",
       "       [55, 56, 57, 58, 59]])"
      ]
     },
     "execution_count": 160,
     "metadata": {},
     "output_type": "execute_result"
    }
   ],
   "source": [
    "a"
   ]
  },
  {
   "cell_type": "code",
   "execution_count": 161,
   "id": "f0726e68-546b-4745-ab9d-ba03e1dca28b",
   "metadata": {},
   "outputs": [
    {
     "data": {
      "text/plain": [
       "array([ 2.,  7., 12., 17., 22., 27., 32., 37., 42., 47., 52., 57.])"
      ]
     },
     "execution_count": 161,
     "metadata": {},
     "output_type": "execute_result"
    }
   ],
   "source": [
    "# axis = 0 means mean of column\n",
    "# asix = 1 means mean of row\n",
    "np.mean(a,axis = 1)"
   ]
  },
  {
   "cell_type": "code",
   "execution_count": 162,
   "id": "309dedd9-88a3-4de6-8229-6e3ac6b8d6ab",
   "metadata": {},
   "outputs": [
    {
     "data": {
      "text/plain": [
       "array([ 10,  35,  60,  85, 110, 135, 160, 185, 210, 235, 260, 285])"
      ]
     },
     "execution_count": 162,
     "metadata": {},
     "output_type": "execute_result"
    }
   ],
   "source": [
    "np.sum(a,axis = 1)"
   ]
  },
  {
   "cell_type": "code",
   "execution_count": null,
   "id": "7ebad5e7-a8de-4c03-bced-8e942642940f",
   "metadata": {},
   "outputs": [],
   "source": []
  },
  {
   "cell_type": "code",
   "execution_count": 163,
   "id": "78938fcf-5c3a-4d85-8bf4-6ad843a3ff88",
   "metadata": {},
   "outputs": [
    {
     "data": {
      "text/plain": [
       "np.int64(59)"
      ]
     },
     "execution_count": 163,
     "metadata": {},
     "output_type": "execute_result"
    }
   ],
   "source": [
    "np.max(a)"
   ]
  },
  {
   "cell_type": "code",
   "execution_count": 164,
   "id": "66f9fcac-d4b1-4983-90a5-59faf58a4f0d",
   "metadata": {},
   "outputs": [],
   "source": [
    "a = np.array([1,2,3])\n",
    "b = np.array([[10,20,30],[40,50,60],[70,80,90]])"
   ]
  },
  {
   "cell_type": "code",
   "execution_count": 165,
   "id": "6f9bb1b7-bdfe-4463-a5b5-8a9378f57efa",
   "metadata": {},
   "outputs": [
    {
     "data": {
      "text/plain": [
       "array([[11, 22, 33],\n",
       "       [41, 52, 63],\n",
       "       [71, 82, 93]])"
      ]
     },
     "execution_count": 165,
     "metadata": {},
     "output_type": "execute_result"
    }
   ],
   "source": [
    "a+b"
   ]
  },
  {
   "cell_type": "code",
   "execution_count": 166,
   "id": "e6b572bc-77fc-452c-9eb3-ff29b0d5e61c",
   "metadata": {},
   "outputs": [],
   "source": [
    "a = np.array([[1],[2],[3]])\n",
    "b = np.array([[10,20,30],[40,50,60],[70,80,90]])"
   ]
  },
  {
   "cell_type": "code",
   "execution_count": 167,
   "id": "c11f2d4c-5fab-4b2e-87f7-533fdca0d6c5",
   "metadata": {},
   "outputs": [
    {
     "data": {
      "text/plain": [
       "array([[1],\n",
       "       [2],\n",
       "       [3]])"
      ]
     },
     "execution_count": 167,
     "metadata": {},
     "output_type": "execute_result"
    }
   ],
   "source": [
    "a"
   ]
  },
  {
   "cell_type": "code",
   "execution_count": 168,
   "id": "6385ad70-a72c-463a-b771-b027a6acbc0b",
   "metadata": {},
   "outputs": [
    {
     "data": {
      "text/plain": [
       "array([[10, 20, 30],\n",
       "       [40, 50, 60],\n",
       "       [70, 80, 90]])"
      ]
     },
     "execution_count": 168,
     "metadata": {},
     "output_type": "execute_result"
    }
   ],
   "source": [
    "b"
   ]
  },
  {
   "cell_type": "code",
   "execution_count": 170,
   "id": "5720c17d-c8b1-4280-806a-6649fdfea19b",
   "metadata": {},
   "outputs": [
    {
     "data": {
      "text/plain": [
       "np.int64(2)"
      ]
     },
     "execution_count": 170,
     "metadata": {},
     "output_type": "execute_result"
    }
   ],
   "source": [
    "np.argmax(a)\n",
    "# Index of the maximum value in array a"
   ]
  },
  {
   "cell_type": "code",
   "execution_count": 172,
   "id": "0680a6c1-ba1c-4f8a-8473-ebd4cad5e77e",
   "metadata": {},
   "outputs": [],
   "source": [
    "a = np.array([[1,2],[3,4]])\n",
    "b = np.array([[5,6],[7,8]])"
   ]
  },
  {
   "cell_type": "code",
   "execution_count": 173,
   "id": "234cbdb2-cf6a-4171-953c-84c3c58b7b2b",
   "metadata": {},
   "outputs": [
    {
     "data": {
      "text/plain": [
       "array([[19, 22],\n",
       "       [43, 50]])"
      ]
     },
     "execution_count": 173,
     "metadata": {},
     "output_type": "execute_result"
    }
   ],
   "source": [
    "a.dot(b)"
   ]
  },
  {
   "cell_type": "code",
   "execution_count": 174,
   "id": "6e5e96b1-ed84-433b-81e1-529a1baae907",
   "metadata": {},
   "outputs": [],
   "source": [
    "# (1×5 + 2×7) = 5 + 14 = 19\n",
    "\n",
    "# (1×6 + 2×8) = 6 + 16 = 22\n",
    "\n",
    "# → First row of result = [19, 22]\n",
    "\n",
    "# Step 2: Second row of a with columns of b:\n",
    "# (3×5 + 4×7) = 15 + 28 = 43\n",
    "\n",
    "# (3×6 + 4×8) = 18 + 32 = 50\n",
    "\n",
    "# → Second row of result = [43, 50]"
   ]
  },
  {
   "cell_type": "code",
   "execution_count": 176,
   "id": "434f946c-9818-4202-86cb-42d97b6ffb4a",
   "metadata": {},
   "outputs": [
    {
     "data": {
      "text/plain": [
       "array([[19, 22],\n",
       "       [43, 50]])"
      ]
     },
     "execution_count": 176,
     "metadata": {},
     "output_type": "execute_result"
    }
   ],
   "source": [
    "a@b\n",
    "# same as a.dot(b)"
   ]
  },
  {
   "cell_type": "code",
   "execution_count": 177,
   "id": "bbc26188-ef0a-4067-8147-80a64bc650e2",
   "metadata": {},
   "outputs": [
    {
     "data": {
      "text/plain": [
       "array([[ 1,  2],\n",
       "       [-3,  4],\n",
       "       [ 5,  6]])"
      ]
     },
     "execution_count": 177,
     "metadata": {},
     "output_type": "execute_result"
    }
   ],
   "source": [
    "arr = np.array([[1,2],[-3,4],[5,6]])\n",
    "arr"
   ]
  },
  {
   "cell_type": "code",
   "execution_count": 180,
   "id": "9ef45a47-9676-471e-8cf6-a12032a6d87e",
   "metadata": {},
   "outputs": [
    {
     "data": {
      "text/plain": [
       "array([[1, 2],\n",
       "       [5, 6]])"
      ]
     },
     "execution_count": 180,
     "metadata": {},
     "output_type": "execute_result"
    }
   ],
   "source": [
    "arr[arr[:,0] >= 0]"
   ]
  },
  {
   "cell_type": "code",
   "execution_count": null,
   "id": "84d549b6-4d7d-4595-84e1-b01973b6e265",
   "metadata": {},
   "outputs": [],
   "source": []
  },
  {
   "cell_type": "code",
   "execution_count": null,
   "id": "ce4f29b2-f369-4159-ae81-c01ecf41f8fc",
   "metadata": {},
   "outputs": [],
   "source": []
  }
 ],
 "metadata": {
  "kernelspec": {
   "display_name": "Python 3 (ipykernel)",
   "language": "python",
   "name": "python3"
  },
  "language_info": {
   "codemirror_mode": {
    "name": "ipython",
    "version": 3
   },
   "file_extension": ".py",
   "mimetype": "text/x-python",
   "name": "python",
   "nbconvert_exporter": "python",
   "pygments_lexer": "ipython3",
   "version": "3.13.4"
  }
 },
 "nbformat": 4,
 "nbformat_minor": 5
}
