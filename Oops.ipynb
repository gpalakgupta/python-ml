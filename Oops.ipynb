{
 "cells": [
  {
   "cell_type": "code",
   "execution_count": 19,
   "id": "dda00c54-2d3b-43fd-9026-dd11a4863c3e",
   "metadata": {},
   "outputs": [],
   "source": [
    "class Person:\n",
    "    def __init__(self,name='xyz',age='-1'):\n",
    "        # init acts like a constructor\n",
    "        self.name = name\n",
    "        self.age = age\n",
    "    def introduce(self):\n",
    "        self.y = 'y';\n",
    "        print(f\"hii, i am {self.name}. My age is {self.age}\")"
   ]
  },
  {
   "cell_type": "code",
   "execution_count": 20,
   "id": "1c01a940-68ad-400d-b83f-0f11df0de86c",
   "metadata": {},
   "outputs": [],
   "source": [
    "p1 = Person('palak',19)"
   ]
  },
  {
   "cell_type": "code",
   "execution_count": 21,
   "id": "7faa99e4-6716-4720-947b-e529e0ed1d8d",
   "metadata": {},
   "outputs": [
    {
     "name": "stdout",
     "output_type": "stream",
     "text": [
      "<__main__.Person object at 0x00000208B944A660>\n"
     ]
    }
   ],
   "source": [
    "print(p1)"
   ]
  },
  {
   "cell_type": "code",
   "execution_count": 22,
   "id": "15c00143-a79f-4b58-9e7f-5c4ad7090831",
   "metadata": {},
   "outputs": [],
   "source": [
    "\n",
    "p1.name = 'palak'\n",
    "p1.age = 18"
   ]
  },
  {
   "cell_type": "code",
   "execution_count": 23,
   "id": "b740f862-ef47-4037-a6a2-93f7f2e1e1a9",
   "metadata": {},
   "outputs": [
    {
     "name": "stdout",
     "output_type": "stream",
     "text": [
      "palak 18\n"
     ]
    }
   ],
   "source": [
    "print(p1.name,p1.age)"
   ]
  },
  {
   "cell_type": "code",
   "execution_count": 24,
   "id": "1d3cb3c0-ed6d-46bc-96bc-c0814abab116",
   "metadata": {},
   "outputs": [
    {
     "name": "stdout",
     "output_type": "stream",
     "text": [
      "hii, i am palak. My age is 18\n"
     ]
    }
   ],
   "source": [
    "p1.introduce()"
   ]
  },
  {
   "cell_type": "code",
   "execution_count": 25,
   "id": "8652beac-68ca-4ff6-a94a-8fa95483fe10",
   "metadata": {},
   "outputs": [
    {
     "name": "stdout",
     "output_type": "stream",
     "text": [
      "hii, i am ruchi. My age is -1\n"
     ]
    }
   ],
   "source": [
    "p2 = Person()\n",
    "p2.name = 'ruchi'\n",
    "p2.introduce()"
   ]
  },
  {
   "cell_type": "code",
   "execution_count": 26,
   "id": "b70bac87-f5d9-4ab4-adf6-6d2d9d5560af",
   "metadata": {},
   "outputs": [
    {
     "name": "stdout",
     "output_type": "stream",
     "text": [
      "hii, i am ruchi. My age is -1\n"
     ]
    }
   ],
   "source": [
    "p2 = Person()\n",
    "p2.name = 'ruchi'\n",
    " \n",
    "p2.introduce()"
   ]
  },
  {
   "cell_type": "code",
   "execution_count": null,
   "id": "807c0f7a-5638-49c5-8dc9-8693257468e8",
   "metadata": {},
   "outputs": [],
   "source": []
  },
  {
   "cell_type": "code",
   "execution_count": 59,
   "id": "ef050e98-7a3b-4e21-96f4-1111bae5aba7",
   "metadata": {},
   "outputs": [],
   "source": [
    "class Dog:\n",
    "    tail = 1;\n",
    "    tricks=[]\n",
    "    def __init__(self, name, breed):\n",
    "        self.name = name\n",
    "        self.breed = breed\n",
    "    def bark(self):\n",
    "        print(f\"{self.name} says Woof\")"
   ]
  },
  {
   "cell_type": "code",
   "execution_count": null,
   "id": "67a24470-3b18-44cf-b306-b85b951d1fdf",
   "metadata": {},
   "outputs": [],
   "source": []
  },
  {
   "cell_type": "code",
   "execution_count": 60,
   "id": "71e711bc-aa46-4d8e-aafe-b90af80ede18",
   "metadata": {},
   "outputs": [],
   "source": [
    "d1 = Dog(\"buddy\",\"German\")\n",
    "d2 = Dog(\"Sheru\",\"Labra\")"
   ]
  },
  {
   "cell_type": "code",
   "execution_count": 61,
   "id": "ec4d20cd-9dfd-40c6-917d-adb0110f2b5d",
   "metadata": {},
   "outputs": [
    {
     "name": "stdout",
     "output_type": "stream",
     "text": [
      "buddy says Woof\n"
     ]
    }
   ],
   "source": [
    "d1.bark()"
   ]
  },
  {
   "cell_type": "code",
   "execution_count": 62,
   "id": "93f5cc96-3793-436c-9976-3c34fa1fb0bf",
   "metadata": {},
   "outputs": [
    {
     "name": "stdout",
     "output_type": "stream",
     "text": [
      "Sheru says Woof\n"
     ]
    }
   ],
   "source": [
    "d2.bark()"
   ]
  },
  {
   "cell_type": "code",
   "execution_count": 63,
   "id": "fbe390b9-d10c-4f34-bc11-b9f24651ba98",
   "metadata": {},
   "outputs": [
    {
     "data": {
      "text/plain": [
       "'y'"
      ]
     },
     "execution_count": 63,
     "metadata": {},
     "output_type": "execute_result"
    }
   ],
   "source": [
    "p1.y"
   ]
  },
  {
   "cell_type": "code",
   "execution_count": 64,
   "id": "21dff664-5239-4fa0-ad33-8f693d32eaba",
   "metadata": {},
   "outputs": [
    {
     "data": {
      "text/plain": [
       "'y'"
      ]
     },
     "execution_count": 64,
     "metadata": {},
     "output_type": "execute_result"
    }
   ],
   "source": [
    "p2.y "
   ]
  },
  {
   "cell_type": "code",
   "execution_count": 65,
   "id": "c396dc36-8f1b-4932-a4bf-a911ed96e950",
   "metadata": {},
   "outputs": [
    {
     "data": {
      "text/plain": [
       "'y'"
      ]
     },
     "execution_count": 65,
     "metadata": {},
     "output_type": "execute_result"
    }
   ],
   "source": [
    "p2.y"
   ]
  },
  {
   "cell_type": "code",
   "execution_count": null,
   "id": "bce93e64-a03c-4c45-9fcb-385d4ad362d3",
   "metadata": {},
   "outputs": [],
   "source": []
  },
  {
   "cell_type": "code",
   "execution_count": null,
   "id": "7a33e200-bf4e-4f61-a5ca-5bb3714fe12c",
   "metadata": {},
   "outputs": [],
   "source": []
  },
  {
   "cell_type": "code",
   "execution_count": 66,
   "id": "dd2b9083-4c67-4195-a0aa-8177e9dc9da4",
   "metadata": {},
   "outputs": [
    {
     "data": {
      "text/plain": [
       "True"
      ]
     },
     "execution_count": 66,
     "metadata": {},
     "output_type": "execute_result"
    }
   ],
   "source": [
    "a = 10\n",
    "isinstance(a,int)"
   ]
  },
  {
   "cell_type": "code",
   "execution_count": 67,
   "id": "a63211ae-e61f-46e1-9be9-655170def9f7",
   "metadata": {},
   "outputs": [
    {
     "data": {
      "text/plain": [
       "1"
      ]
     },
     "execution_count": 67,
     "metadata": {},
     "output_type": "execute_result"
    }
   ],
   "source": [
    "d1.tail"
   ]
  },
  {
   "cell_type": "code",
   "execution_count": 68,
   "id": "b611e9dc-589d-4aed-aaec-d8044a73fd34",
   "metadata": {},
   "outputs": [
    {
     "data": {
      "text/plain": [
       "[]"
      ]
     },
     "execution_count": 68,
     "metadata": {},
     "output_type": "execute_result"
    }
   ],
   "source": [
    "d1.tricks"
   ]
  },
  {
   "cell_type": "code",
   "execution_count": 69,
   "id": "6d069880-166e-4d1f-bb78-4a494bc3d3aa",
   "metadata": {},
   "outputs": [],
   "source": [
    "d1.tricks = []\n",
    "d1.tricks.append('Sit')\n",
    "d2.tricks.append('Stand')\n",
    "Dog.tricks.append('HandShake')"
   ]
  },
  {
   "cell_type": "code",
   "execution_count": 70,
   "id": "5c68e4fb-363a-4698-b8f4-dfe49d697ea3",
   "metadata": {},
   "outputs": [
    {
     "name": "stdout",
     "output_type": "stream",
     "text": [
      "['Sit']\n"
     ]
    }
   ],
   "source": [
    "print(d1.tricks)"
   ]
  },
  {
   "cell_type": "raw",
   "id": "da5eeb2e-2fb6-486f-8019-7dc092e9ae93",
   "metadata": {},
   "source": []
  },
  {
   "cell_type": "code",
   "execution_count": 71,
   "id": "9b51ce3a-d64c-479b-8c15-bbd931e058da",
   "metadata": {},
   "outputs": [
    {
     "name": "stdout",
     "output_type": "stream",
     "text": [
      "['Stand', 'HandShake']\n"
     ]
    }
   ],
   "source": [
    "print(d2.tricks)\n"
   ]
  },
  {
   "cell_type": "code",
   "execution_count": null,
   "id": "6f134928-b92c-40fd-a359-3a0e158fd196",
   "metadata": {},
   "outputs": [],
   "source": [
    "# interitance"
   ]
  },
  {
   "cell_type": "code",
   "execution_count": 78,
   "id": "9fbdacc3-8e06-483a-bc7c-8eb6a2a4feb9",
   "metadata": {},
   "outputs": [],
   "source": [
    "class Person:\n",
    "    def __init__(self,name='xyz',age='-1'):\n",
    "        self.name = name\n",
    "        self.age = age\n",
    "\n",
    "    def introduce(s):\n",
    "        print(f\"Hi! I am {s.name}. My age is {s.age}.\")"
   ]
  },
  {
   "cell_type": "code",
   "execution_count": 181,
   "id": "289f0cad-d765-4bc3-bcb5-bc11c17ff25f",
   "metadata": {},
   "outputs": [],
   "source": [
    "class Student(Person):\n",
    "    def __init__(self,name,age,rollno):\n",
    "        # self.name = name\n",
    "        # self.age = age\n",
    "        # super().__init__(name,age)\n",
    "        Person.__init__(self,name,age)\n",
    "        # both work same\n",
    "        self.rollno = rollno\n",
    "    def introduce(self):\n",
    "        super().introduce()\n",
    "        print(f\"Hi i am student {self.name}. My rollno is {self.rollno}\")\n",
    "    "
   ]
  },
  {
   "cell_type": "code",
   "execution_count": 182,
   "id": "fc8c7ffc-f4bb-4f0f-93a5-2d466c105ed3",
   "metadata": {},
   "outputs": [],
   "source": [
    "s1 = Student(\"arnav\" ,2,100)"
   ]
  },
  {
   "cell_type": "code",
   "execution_count": 183,
   "id": "3ab0b80c-5a82-4a29-ab53-28b74763ae07",
   "metadata": {},
   "outputs": [
    {
     "name": "stdout",
     "output_type": "stream",
     "text": [
      "Hi! I am arnav. My age is 2.\n",
      "Hi i am student arnav. My rollno is 100\n"
     ]
    }
   ],
   "source": [
    "s1.introduce()"
   ]
  },
  {
   "cell_type": "raw",
   "id": "17a9bd1e-42cc-4221-a727-ce65207772ba",
   "metadata": {},
   "source": [
    "# "
   ]
  },
  {
   "cell_type": "code",
   "execution_count": 184,
   "id": "6c5b8b66-96fb-4ef1-8c7b-6744acc28cf2",
   "metadata": {},
   "outputs": [
    {
     "data": {
      "text/plain": [
       "100"
      ]
     },
     "execution_count": 184,
     "metadata": {},
     "output_type": "execute_result"
    }
   ],
   "source": [
    "s1.rollno"
   ]
  },
  {
   "cell_type": "code",
   "execution_count": 185,
   "id": "7900dce9-c648-4a13-ba19-bffac533e3ca",
   "metadata": {},
   "outputs": [],
   "source": [
    "# polimorphism"
   ]
  },
  {
   "cell_type": "code",
   "execution_count": 186,
   "id": "aa81850b-5222-4813-aa1a-82b708cf58ee",
   "metadata": {},
   "outputs": [],
   "source": [
    "def fn(p):\n",
    "    p.introduce()"
   ]
  },
  {
   "cell_type": "code",
   "execution_count": 187,
   "id": "7c7350a4-f650-4de0-8128-f8eb395faab7",
   "metadata": {},
   "outputs": [],
   "source": [
    "p1 = Person(\"Shubham\", 20)"
   ]
  },
  {
   "cell_type": "code",
   "execution_count": 188,
   "id": "5dd3e28f-a55c-40a9-b004-10e2a1a3023c",
   "metadata": {},
   "outputs": [],
   "source": [
    "s1 = Student(\"Aranav\",18,89)"
   ]
  },
  {
   "cell_type": "code",
   "execution_count": 189,
   "id": "341ecec3-6127-48c1-a0c1-3ba175a8158f",
   "metadata": {},
   "outputs": [
    {
     "name": "stdout",
     "output_type": "stream",
     "text": [
      "Hi! I am Shubham. My age is 20.\n"
     ]
    }
   ],
   "source": [
    "fn(p1)"
   ]
  },
  {
   "cell_type": "code",
   "execution_count": 190,
   "id": "dd14f497-d0b0-42b5-adaa-60e52f402100",
   "metadata": {},
   "outputs": [
    {
     "name": "stdout",
     "output_type": "stream",
     "text": [
      "Hi! I am Aranav. My age is 18.\n",
      "Hi i am student Aranav. My rollno is 89\n"
     ]
    }
   ],
   "source": [
    "fn(s1)"
   ]
  },
  {
   "cell_type": "code",
   "execution_count": null,
   "id": "d9efb4dd-2826-4be8-8996-4066463943e9",
   "metadata": {},
   "outputs": [],
   "source": []
  },
  {
   "cell_type": "code",
   "execution_count": 203,
   "id": "3e07c0bd-f0b2-43b5-a64a-5a2d03bde204",
   "metadata": {},
   "outputs": [],
   "source": [
    "class Car:\n",
    "    def __init__(self,model,speed,milage):\n",
    "        self.model = model\n",
    "        self.speed = speed\n",
    "        self.milage = milage\n",
    "    def __len__(self):\n",
    "        print(\"In length dunder\")\n",
    "        return self.milage\n",
    "    def __add__(self,oth):\n",
    "        return Car(self.model,oth.speed,self.milage)\n",
    "    def __str__(self):\n",
    "        return f\"model:{self.model},Speed:{self.speed},Milage:{self.milage}\"\n",
    "    def __gt__(self,oth):\n",
    "        return self.speed > oth.speed"
   ]
  },
  {
   "cell_type": "code",
   "execution_count": 204,
   "id": "75bde78c-781f-4dfd-a728-81e7d5a4776a",
   "metadata": {},
   "outputs": [],
   "source": [
    "c1 = Car('Roles Royce', 200,30)\n",
    "c2 = Car('Defender', 180,40)\n",
    "c3 = Car('Porche', 250,20)"
   ]
  },
  {
   "cell_type": "code",
   "execution_count": 193,
   "id": "d3c068f1-5262-4587-9434-cb3d3677a4c6",
   "metadata": {},
   "outputs": [],
   "source": [
    "l = [1,2,3,4,5]"
   ]
  },
  {
   "cell_type": "code",
   "execution_count": 194,
   "id": "9646cef4-cbf5-4f71-bd4c-ef7f3115c46a",
   "metadata": {},
   "outputs": [
    {
     "data": {
      "text/plain": [
       "5"
      ]
     },
     "execution_count": 194,
     "metadata": {},
     "output_type": "execute_result"
    }
   ],
   "source": [
    "len(l)\n"
   ]
  },
  {
   "cell_type": "code",
   "execution_count": 195,
   "id": "39257679-56c2-48fb-aaf5-54a4a926cba8",
   "metadata": {},
   "outputs": [
    {
     "name": "stdout",
     "output_type": "stream",
     "text": [
      "In length dunder\n"
     ]
    },
    {
     "data": {
      "text/plain": [
       "30"
      ]
     },
     "execution_count": 195,
     "metadata": {},
     "output_type": "execute_result"
    }
   ],
   "source": [
    "len(c1)"
   ]
  },
  {
   "cell_type": "code",
   "execution_count": 196,
   "id": "c64f8986-9925-4d20-8182-bfddda98b26d",
   "metadata": {},
   "outputs": [],
   "source": [
    "l1 = [1,2,3,4]\n",
    "l2 = [5,6,7,8]\n",
    "l3 = l1+l2"
   ]
  },
  {
   "cell_type": "code",
   "execution_count": 197,
   "id": "77656150-7889-44f7-9520-25b2d5a8b9bc",
   "metadata": {},
   "outputs": [
    {
     "data": {
      "text/plain": [
       "[1, 2, 3, 4, 5, 6, 7, 8]"
      ]
     },
     "execution_count": 197,
     "metadata": {},
     "output_type": "execute_result"
    }
   ],
   "source": [
    "l3"
   ]
  },
  {
   "cell_type": "code",
   "execution_count": null,
   "id": "1b32ade7-dc8d-4101-b927-70ec521dcfd0",
   "metadata": {},
   "outputs": [],
   "source": []
  },
  {
   "cell_type": "code",
   "execution_count": 198,
   "id": "b39fef20-1858-4124-bd7e-2747c9fd8bc7",
   "metadata": {},
   "outputs": [
    {
     "data": {
      "text/plain": [
       "<__main__.Car at 0x208b942eb10>"
      ]
     },
     "execution_count": 198,
     "metadata": {},
     "output_type": "execute_result"
    }
   ],
   "source": [
    "c1+c2"
   ]
  },
  {
   "cell_type": "code",
   "execution_count": 199,
   "id": "578449ff-6b12-457c-b36d-05c5279237b5",
   "metadata": {},
   "outputs": [],
   "source": [
    "c3 = c1+c2"
   ]
  },
  {
   "cell_type": "code",
   "execution_count": 200,
   "id": "df05f0fb-e183-44fc-bc07-e9751df12ff8",
   "metadata": {},
   "outputs": [
    {
     "name": "stdout",
     "output_type": "stream",
     "text": [
      "Roles Royce 180 30\n"
     ]
    }
   ],
   "source": [
    "print(c3.model,c3.speed,c3.milage)"
   ]
  },
  {
   "cell_type": "code",
   "execution_count": 201,
   "id": "bc67150c-d3cc-4e64-a46b-04856c8d71b6",
   "metadata": {},
   "outputs": [
    {
     "name": "stdout",
     "output_type": "stream",
     "text": [
      "model:Roles Royce,Speed:180,Milage:30\n"
     ]
    }
   ],
   "source": [
    "print(c3)"
   ]
  },
  {
   "cell_type": "code",
   "execution_count": 205,
   "id": "a0c1f810-812f-48a3-a50c-5678901f5ceb",
   "metadata": {},
   "outputs": [
    {
     "data": {
      "text/plain": [
       "True"
      ]
     },
     "execution_count": 205,
     "metadata": {},
     "output_type": "execute_result"
    }
   ],
   "source": [
    "c1 > c2"
   ]
  },
  {
   "cell_type": "code",
   "execution_count": 206,
   "id": "7854a309-afe8-4487-99cb-b702b07ec8ad",
   "metadata": {},
   "outputs": [
    {
     "data": {
      "text/plain": [
       "['__abs__',\n",
       " '__add__',\n",
       " '__and__',\n",
       " '__bool__',\n",
       " '__ceil__',\n",
       " '__class__',\n",
       " '__delattr__',\n",
       " '__dir__',\n",
       " '__divmod__',\n",
       " '__doc__',\n",
       " '__eq__',\n",
       " '__float__',\n",
       " '__floor__',\n",
       " '__floordiv__',\n",
       " '__format__',\n",
       " '__ge__',\n",
       " '__getattribute__',\n",
       " '__getnewargs__',\n",
       " '__getstate__',\n",
       " '__gt__',\n",
       " '__hash__',\n",
       " '__index__',\n",
       " '__init__',\n",
       " '__init_subclass__',\n",
       " '__int__',\n",
       " '__invert__',\n",
       " '__le__',\n",
       " '__lshift__',\n",
       " '__lt__',\n",
       " '__mod__',\n",
       " '__mul__',\n",
       " '__ne__',\n",
       " '__neg__',\n",
       " '__new__',\n",
       " '__or__',\n",
       " '__pos__',\n",
       " '__pow__',\n",
       " '__radd__',\n",
       " '__rand__',\n",
       " '__rdivmod__',\n",
       " '__reduce__',\n",
       " '__reduce_ex__',\n",
       " '__repr__',\n",
       " '__rfloordiv__',\n",
       " '__rlshift__',\n",
       " '__rmod__',\n",
       " '__rmul__',\n",
       " '__ror__',\n",
       " '__round__',\n",
       " '__rpow__',\n",
       " '__rrshift__',\n",
       " '__rshift__',\n",
       " '__rsub__',\n",
       " '__rtruediv__',\n",
       " '__rxor__',\n",
       " '__setattr__',\n",
       " '__sizeof__',\n",
       " '__str__',\n",
       " '__sub__',\n",
       " '__subclasshook__',\n",
       " '__truediv__',\n",
       " '__trunc__',\n",
       " '__xor__',\n",
       " 'as_integer_ratio',\n",
       " 'bit_count',\n",
       " 'bit_length',\n",
       " 'conjugate',\n",
       " 'denominator',\n",
       " 'from_bytes',\n",
       " 'imag',\n",
       " 'is_integer',\n",
       " 'numerator',\n",
       " 'real',\n",
       " 'to_bytes']"
      ]
     },
     "execution_count": 206,
     "metadata": {},
     "output_type": "execute_result"
    }
   ],
   "source": [
    "dir(int)"
   ]
  },
  {
   "cell_type": "code",
   "execution_count": null,
   "id": "09cfe639-455e-4d5d-9ee0-fd548699c62f",
   "metadata": {},
   "outputs": [],
   "source": []
  },
  {
   "cell_type": "code",
   "execution_count": 208,
   "id": "32feb4ee-46cf-4f38-933d-47bf9868ae8c",
   "metadata": {},
   "outputs": [],
   "source": [
    "class A:\n",
    "    pass\n",
    "class B(A):\n",
    "    pass\n",
    "class C(B):\n",
    "    pass\n",
    "class D(C):\n",
    "    pass"
   ]
  },
  {
   "cell_type": "code",
   "execution_count": 209,
   "id": "45f34ec9-5c71-4e30-855d-5cff12eea9bf",
   "metadata": {},
   "outputs": [],
   "source": [
    "class A:\n",
    "    pass\n",
    "class B(A):\n",
    "    pass\n",
    "class C(A):\n",
    "    pass\n",
    "class D:\n",
    "    pass"
   ]
  },
  {
   "cell_type": "code",
   "execution_count": 210,
   "id": "c541c136-5a06-418f-af9c-1bdadd368602",
   "metadata": {},
   "outputs": [],
   "source": [
    "class A:\n",
    "    pass\n",
    "class B:\n",
    "    pass\n",
    "class C(A,B):\n",
    "    pass\n",
    "class D:\n",
    "    pass"
   ]
  },
  {
   "cell_type": "code",
   "execution_count": 212,
   "id": "3275e070-ae9e-4627-9e63-9e73aa5ddac0",
   "metadata": {},
   "outputs": [
    {
     "data": {
      "text/plain": [
       "[__main__.C, __main__.A, __main__.B, object]"
      ]
     },
     "execution_count": 212,
     "metadata": {},
     "output_type": "execute_result"
    }
   ],
   "source": [
    "C.mro()"
   ]
  },
  {
   "cell_type": "code",
   "execution_count": 213,
   "id": "5c23f0c6-d1f1-49bf-8d9b-dc0d10ba4a54",
   "metadata": {},
   "outputs": [
    {
     "data": {
      "text/plain": [
       "[__main__.D, object]"
      ]
     },
     "execution_count": 213,
     "metadata": {},
     "output_type": "execute_result"
    }
   ],
   "source": [
    "D.mro()"
   ]
  },
  {
   "cell_type": "code",
   "execution_count": null,
   "id": "4df6c3b7-37f8-4740-9813-9fe708fbe1eb",
   "metadata": {},
   "outputs": [],
   "source": []
  }
 ],
 "metadata": {
  "kernelspec": {
   "display_name": "Python 3 (ipykernel)",
   "language": "python",
   "name": "python3"
  },
  "language_info": {
   "codemirror_mode": {
    "name": "ipython",
    "version": 3
   },
   "file_extension": ".py",
   "mimetype": "text/x-python",
   "name": "python",
   "nbconvert_exporter": "python",
   "pygments_lexer": "ipython3",
   "version": "3.13.4"
  }
 },
 "nbformat": 4,
 "nbformat_minor": 5
}
