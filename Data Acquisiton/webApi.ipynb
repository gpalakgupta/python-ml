{
 "cells": [
  {
   "cell_type": "code",
   "execution_count": 8,
   "id": "72a4bfb2-067e-4ba6-8ac8-29c75d10e04d",
   "metadata": {},
   "outputs": [],
   "source": [
    "import requests"
   ]
  },
  {
   "cell_type": "code",
   "execution_count": 9,
   "id": "da0859c3-56ee-428c-b12b-c0ae7b84f45d",
   "metadata": {},
   "outputs": [],
   "source": [
    "url = 'https://catfact.ninja/'\n",
    "res = requests.get(url)"
   ]
  },
  {
   "cell_type": "code",
   "execution_count": 10,
   "id": "88d1abda-7599-471b-b838-390475daf05f",
   "metadata": {},
   "outputs": [
    {
     "data": {
      "text/plain": [
       "<Response [200]>"
      ]
     },
     "execution_count": 10,
     "metadata": {},
     "output_type": "execute_result"
    }
   ],
   "source": [
    "res"
   ]
  },
  {
   "cell_type": "code",
   "execution_count": 11,
   "id": "ad2aeb44-67f3-432c-99a8-ea2bf8234651",
   "metadata": {},
   "outputs": [
    {
     "name": "stdout",
     "output_type": "stream",
     "text": [
      "<!DOCTYPE html>\n",
      "<html lang=\"en\">\n",
      "<head>\n",
      "    <meta charset=\"UTF-8\">\n",
      "    <title>Cat Facts API</title>\n",
      "    <link rel=\"stylesheet\" type=\"text/css\" href=\"https://catfact.ninja/docs/asset/swagger-ui.css?v=994a2f7cde1088d30c09c74c0488c9e3\">\n",
      "    <link rel=\"icon\" type=\"image/png\" href=\"https://catfact.ninja/docs/asset/favicon-32x32.png?v=40d4f2c38d1cd854ad463f16373cbcb6\" sizes=\"32x32\"/>\n",
      "    <link rel=\"icon\" type=\"image/png\" href=\"https://catfact.ninja/docs/asset/favicon-16x16.png?v=f0ae831196d55d8f4115b6c5e8ec5384\" sizes=\"16x16\"/>\n",
      "    <style>\n",
      "        html\n",
      "        {\n",
      "            box-sizing: border-box;\n",
      "            overflow: -moz-scrollbars-vertical;\n",
      "            overflow-y: scroll;\n",
      "        }\n",
      "        *,\n",
      "        *:before,\n",
      "        *:after\n",
      "        {\n",
      "            box-sizing: inherit;\n",
      "        }\n",
      "\n",
      "        body {\n",
      "            margin:0;\n",
      "            background: #fafafa;\n",
      "        }\n",
      "    </style>\n",
      "</head>\n",
      "\n",
      "<body>\n",
      "<div id=\"swagger-ui\"></div>\n",
      "\n",
      "<script src=\"https://catfact.ninja/docs/asset/swagger-ui-bundle.js?v=6eff6606413cd6815b65e9c4982d4d3d\"></script>\n",
      "<script src=\"https://catfact.ninja/docs/asset/swagger-ui-standalone-preset.js?v=c52d69e3948ac5fdffc432e95fc737a3\"></script>\n",
      "<script>\n",
      "    window.onload = function() {\n",
      "        // Build a system\n",
      "        const ui = SwaggerUIBundle({\n",
      "            dom_id: '#swagger-ui',\n",
      "            url: \"https://catfact.ninja/docs?api-docs.json\",\n",
      "            operationsSorter: null,\n",
      "            configUrl: null,\n",
      "            validatorUrl: null,\n",
      "            oauth2RedirectUrl: \"https://catfact.ninja/api/oauth2-callback\",\n",
      "\n",
      "            requestInterceptor: function(request) {\n",
      "                request.headers['X-CSRF-TOKEN'] = 'MSmjwcRv1aYd8XSo1OoMVQ4spHxBBDQBvxPS17AL';\n",
      "                return request;\n",
      "            },\n",
      "\n",
      "            presets: [\n",
      "                SwaggerUIBundle.presets.apis,\n",
      "                SwaggerUIStandalonePreset\n",
      "            ],\n",
      "\n",
      "            plugins: [\n",
      "                SwaggerUIBundle.plugins.DownloadUrl\n",
      "            ],\n",
      "\n",
      "            layout: \"StandaloneLayout\",\n",
      "            docExpansion : \"none\",\n",
      "            deepLinking: true,\n",
      "            filter: true,\n",
      "            persistAuthorization: \"false\",\n",
      "\n",
      "        })\n",
      "\n",
      "        window.ui = ui\n",
      "\n",
      "            }\n",
      "</script>\n",
      "</body>\n",
      "</html>\n",
      " <class 'str'>\n"
     ]
    }
   ],
   "source": [
    "print(res.text,type(res.text))"
   ]
  },
  {
   "cell_type": "code",
   "execution_count": 22,
   "id": "09905fa4-7e62-4a0b-952f-9ff317a8d8f9",
   "metadata": {},
   "outputs": [],
   "source": [
    "url = 'https://catfact.ninja/'\n",
    "res = requests.get(url+'fact')\n",
    "# fact ek end point hai"
   ]
  },
  {
   "cell_type": "code",
   "execution_count": 23,
   "id": "3e86acbb-17a8-4d2b-88c7-539144065297",
   "metadata": {},
   "outputs": [
    {
     "data": {
      "text/plain": [
       "<Response [200]>"
      ]
     },
     "execution_count": 23,
     "metadata": {},
     "output_type": "execute_result"
    }
   ],
   "source": [
    "res"
   ]
  },
  {
   "cell_type": "code",
   "execution_count": 24,
   "id": "1d639bee-d6e9-46a9-b606-39c550afe37a",
   "metadata": {},
   "outputs": [
    {
     "name": "stdout",
     "output_type": "stream",
     "text": [
      "{\"fact\":\"Cats take between 20-40 breaths per minute.\",\"length\":43} <class 'str'>\n"
     ]
    }
   ],
   "source": [
    "print(res.text,type(res.text))"
   ]
  },
  {
   "cell_type": "code",
   "execution_count": null,
   "id": "8a2315e8-49b1-4a2e-bec4-69b1b7a50537",
   "metadata": {},
   "outputs": [],
   "source": []
  },
  {
   "cell_type": "code",
   "execution_count": 28,
   "id": "0e8cc66e-2d93-4467-9664-0959880a2648",
   "metadata": {},
   "outputs": [],
   "source": [
    "url = 'https://catfact.ninja/'\n",
    "res = requests.get(url+'fact',params={'max_length':50})\n",
    "# ab length 50  se km hi aayegi"
   ]
  },
  {
   "cell_type": "code",
   "execution_count": 29,
   "id": "9d211444-d2dc-4799-987b-9a6958e6b958",
   "metadata": {},
   "outputs": [
    {
     "data": {
      "text/plain": [
       "<Response [200]>"
      ]
     },
     "execution_count": 29,
     "metadata": {},
     "output_type": "execute_result"
    }
   ],
   "source": [
    "res"
   ]
  },
  {
   "cell_type": "code",
   "execution_count": 30,
   "id": "a8e052d7-f125-44ea-a1a3-9accc31e6d95",
   "metadata": {},
   "outputs": [
    {
     "name": "stdout",
     "output_type": "stream",
     "text": [
      "{\"fact\":\"A cats field of vision is about 185 degrees.\",\"length\":44} <class 'str'>\n"
     ]
    }
   ],
   "source": [
    "print(res.text,type(res.text))"
   ]
  },
  {
   "cell_type": "code",
   "execution_count": null,
   "id": "efd11770-211e-43c0-a683-b0033b8a50e5",
   "metadata": {},
   "outputs": [],
   "source": []
  },
  {
   "cell_type": "code",
   "execution_count": 32,
   "id": "67368322-130e-4271-ba16-72e2bee53594",
   "metadata": {},
   "outputs": [],
   "source": [
    "import json"
   ]
  },
  {
   "cell_type": "code",
   "execution_count": 33,
   "id": "d662750d-d0b4-4b3f-9a99-cd320c9094ca",
   "metadata": {},
   "outputs": [
    {
     "name": "stdout",
     "output_type": "stream",
     "text": [
      "{'fact': 'A cats field of vision is about 185 degrees.', 'length': 44} <class 'dict'>\n"
     ]
    }
   ],
   "source": [
    "print(json.loads(res.text),type(json.loads(res.text)))"
   ]
  },
  {
   "cell_type": "code",
   "execution_count": 34,
   "id": "d8023d46-da70-4527-a314-cdb4fa130f6d",
   "metadata": {},
   "outputs": [],
   "source": [
    "fact = res.json()"
   ]
  },
  {
   "cell_type": "code",
   "execution_count": 35,
   "id": "15213582-db00-487c-8ece-412dcfd4a190",
   "metadata": {},
   "outputs": [
    {
     "data": {
      "text/plain": [
       "('A cats field of vision is about 185 degrees.', 44)"
      ]
     },
     "execution_count": 35,
     "metadata": {},
     "output_type": "execute_result"
    }
   ],
   "source": [
    "fact['fact'],len(fact['fact'])"
   ]
  },
  {
   "cell_type": "code",
   "execution_count": 40,
   "id": "6bb1bd6b-18ef-4a23-b27d-29962ac37da6",
   "metadata": {},
   "outputs": [
    {
     "data": {
      "text/plain": [
       "<Response [200]>"
      ]
     },
     "execution_count": 40,
     "metadata": {},
     "output_type": "execute_result"
    }
   ],
   "source": [
    "url = 'https://catfact.ninja/'\n",
    "res = requests.get(url+'facts',params={'max_length':50,'limit':5})\n",
    "res"
   ]
  },
  {
   "cell_type": "code",
   "execution_count": 41,
   "id": "6d77fe4e-45c7-433a-9db4-5c37a22ffb09",
   "metadata": {},
   "outputs": [
    {
     "name": "stdout",
     "output_type": "stream",
     "text": [
      "{\"current_page\":1,\"data\":[{\"fact\":\"Cats have 3 eyelids.\",\"length\":20},{\"fact\":\"Cats walk on their toes.\",\"length\":24},{\"fact\":\"Most cats adore sardines.\",\"length\":25},{\"fact\":\"Cats dislike citrus scent.\",\"length\":26},{\"fact\":\"Cats have supersonic hearing\",\"length\":28}],\"first_page_url\":\"https:\\/\\/catfact.ninja\\/facts?page=1\",\"from\":1,\"last_page\":7,\"last_page_url\":\"https:\\/\\/catfact.ninja\\/facts?page=7\",\"links\":[{\"url\":null,\"label\":\"Previous\",\"active\":false},{\"url\":\"https:\\/\\/catfact.ninja\\/facts?page=1\",\"label\":\"1\",\"active\":true},{\"url\":\"https:\\/\\/catfact.ninja\\/facts?page=2\",\"label\":\"2\",\"active\":false},{\"url\":\"https:\\/\\/catfact.ninja\\/facts?page=3\",\"label\":\"3\",\"active\":false},{\"url\":\"https:\\/\\/catfact.ninja\\/facts?page=4\",\"label\":\"4\",\"active\":false},{\"url\":\"https:\\/\\/catfact.ninja\\/facts?page=5\",\"label\":\"5\",\"active\":false},{\"url\":\"https:\\/\\/catfact.ninja\\/facts?page=6\",\"label\":\"6\",\"active\":false},{\"url\":\"https:\\/\\/catfact.ninja\\/facts?page=7\",\"label\":\"7\",\"active\":false},{\"url\":\"https:\\/\\/catfact.ninja\\/facts?page=2\",\"label\":\"Next\",\"active\":false}],\"next_page_url\":\"https:\\/\\/catfact.ninja\\/facts?page=2\",\"path\":\"https:\\/\\/catfact.ninja\\/facts\",\"per_page\":5,\"prev_page_url\":null,\"to\":5,\"total\":33} <class 'str'>\n"
     ]
    }
   ],
   "source": [
    "print(res.text,type(res.text))"
   ]
  },
  {
   "cell_type": "code",
   "execution_count": 43,
   "id": "f244ea27-82a5-4cb3-a456-410021720df0",
   "metadata": {},
   "outputs": [],
   "source": [
    "facts = res.json()"
   ]
  },
  {
   "cell_type": "code",
   "execution_count": 44,
   "id": "04eb79e8-d1ab-41a7-8ff6-86bc30685047",
   "metadata": {},
   "outputs": [
    {
     "data": {
      "text/plain": [
       "{'current_page': 1,\n",
       " 'data': [{'fact': 'Cats have 3 eyelids.', 'length': 20},\n",
       "  {'fact': 'Cats walk on their toes.', 'length': 24},\n",
       "  {'fact': 'Most cats adore sardines.', 'length': 25},\n",
       "  {'fact': 'Cats dislike citrus scent.', 'length': 26},\n",
       "  {'fact': 'Cats have supersonic hearing', 'length': 28}],\n",
       " 'first_page_url': 'https://catfact.ninja/facts?page=1',\n",
       " 'from': 1,\n",
       " 'last_page': 7,\n",
       " 'last_page_url': 'https://catfact.ninja/facts?page=7',\n",
       " 'links': [{'url': None, 'label': 'Previous', 'active': False},\n",
       "  {'url': 'https://catfact.ninja/facts?page=1', 'label': '1', 'active': True},\n",
       "  {'url': 'https://catfact.ninja/facts?page=2', 'label': '2', 'active': False},\n",
       "  {'url': 'https://catfact.ninja/facts?page=3', 'label': '3', 'active': False},\n",
       "  {'url': 'https://catfact.ninja/facts?page=4', 'label': '4', 'active': False},\n",
       "  {'url': 'https://catfact.ninja/facts?page=5', 'label': '5', 'active': False},\n",
       "  {'url': 'https://catfact.ninja/facts?page=6', 'label': '6', 'active': False},\n",
       "  {'url': 'https://catfact.ninja/facts?page=7', 'label': '7', 'active': False},\n",
       "  {'url': 'https://catfact.ninja/facts?page=2',\n",
       "   'label': 'Next',\n",
       "   'active': False}],\n",
       " 'next_page_url': 'https://catfact.ninja/facts?page=2',\n",
       " 'path': 'https://catfact.ninja/facts',\n",
       " 'per_page': 5,\n",
       " 'prev_page_url': None,\n",
       " 'to': 5,\n",
       " 'total': 33}"
      ]
     },
     "execution_count": 44,
     "metadata": {},
     "output_type": "execute_result"
    }
   ],
   "source": [
    "facts"
   ]
  },
  {
   "cell_type": "code",
   "execution_count": 45,
   "id": "150d371c-f787-4f03-9bcb-ac3e906fdf46",
   "metadata": {},
   "outputs": [
    {
     "data": {
      "text/plain": [
       "5"
      ]
     },
     "execution_count": 45,
     "metadata": {},
     "output_type": "execute_result"
    }
   ],
   "source": [
    "len(facts['data'])"
   ]
  },
  {
   "cell_type": "code",
   "execution_count": 46,
   "id": "8e1af21e-2004-4a3a-ab8f-379eefd653fc",
   "metadata": {},
   "outputs": [
    {
     "data": {
      "text/plain": [
       "[{'fact': 'Cats have 3 eyelids.', 'length': 20},\n",
       " {'fact': 'Cats walk on their toes.', 'length': 24},\n",
       " {'fact': 'Most cats adore sardines.', 'length': 25},\n",
       " {'fact': 'Cats dislike citrus scent.', 'length': 26},\n",
       " {'fact': 'Cats have supersonic hearing', 'length': 28}]"
      ]
     },
     "execution_count": 46,
     "metadata": {},
     "output_type": "execute_result"
    }
   ],
   "source": [
    "facts['data']"
   ]
  },
  {
   "cell_type": "code",
   "execution_count": null,
   "id": "2f5f8dc4-846d-488b-976f-277fe3bce320",
   "metadata": {},
   "outputs": [],
   "source": []
  }
 ],
 "metadata": {
  "kernelspec": {
   "display_name": "Python 3 (ipykernel)",
   "language": "python",
   "name": "python3"
  },
  "language_info": {
   "codemirror_mode": {
    "name": "ipython",
    "version": 3
   },
   "file_extension": ".py",
   "mimetype": "text/x-python",
   "name": "python",
   "nbconvert_exporter": "python",
   "pygments_lexer": "ipython3",
   "version": "3.13.4"
  }
 },
 "nbformat": 4,
 "nbformat_minor": 5
}
